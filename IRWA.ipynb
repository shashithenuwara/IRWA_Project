{
  "nbformat": 4,
  "nbformat_minor": 0,
  "metadata": {
    "colab": {
      "provenance": [],
      "include_colab_link": true
    },
    "kernelspec": {
      "name": "python3",
      "display_name": "Python 3"
    },
    "language_info": {
      "name": "python"
    }
  },
  "cells": [
    {
      "cell_type": "markdown",
      "metadata": {
        "id": "view-in-github",
        "colab_type": "text"
      },
      "source": [
        "<a href=\"https://colab.research.google.com/github/shashithenuwara/IRWA_Project/blob/project/IRWA.ipynb\" target=\"_parent\"><img src=\"https://colab.research.google.com/assets/colab-badge.svg\" alt=\"Open In Colab\"/></a>"
      ]
    },
    {
      "cell_type": "markdown",
      "source": [
        "1. **Data Collection**"
      ],
      "metadata": {
        "id": "JWBKi5L6xMdQ"
      }
    },
    {
      "cell_type": "code",
      "source": [
        "from google.colab import drive\n",
        "drive.mount('/content/drive')"
      ],
      "metadata": {
        "id": "nW-3RzN3y3Bj"
      },
      "execution_count": null,
      "outputs": []
    },
    {
      "cell_type": "markdown",
      "source": [
        "2. **Data Preprocessing**"
      ],
      "metadata": {
        "id": "cE3hkLdMxi4W"
      }
    },
    {
      "cell_type": "markdown",
      "source": [
        "2.1 Text Extraction"
      ],
      "metadata": {
        "id": "4FdFYgj90Akc"
      }
    },
    {
      "cell_type": "code",
      "source": [
        "!pip install PyPDF2 pdfplumber spacy nltk\n",
        "!python"
      ],
      "metadata": {
        "id": "LMf7SYu-0bZS"
      },
      "execution_count": null,
      "outputs": []
    },
    {
      "cell_type": "code",
      "source": [
        "import os\n",
        "import pdfplumber\n",
        "\n",
        "pdf_directory = '/content/drive/My Drive/DataSets'\n",
        "\n",
        "def extract_text_from_pdf ()"
      ],
      "metadata": {
        "id": "nWNUYkMfxkj7"
      },
      "execution_count": null,
      "outputs": []
    }
  ]
}