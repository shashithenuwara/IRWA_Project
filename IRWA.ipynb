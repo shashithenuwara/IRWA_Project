{
  "nbformat": 4,
  "nbformat_minor": 0,
  "metadata": {
    "colab": {
      "provenance": [],
      "include_colab_link": true
    },
    "kernelspec": {
      "name": "python3",
      "display_name": "Python 3"
    },
    "language_info": {
      "name": "python"
    }
  },
  "cells": [
    {
      "cell_type": "markdown",
      "metadata": {
        "id": "view-in-github",
        "colab_type": "text"
      },
      "source": [
        "<a href=\"https://colab.research.google.com/github/shashithenuwara/IRWA_Project/blob/project/IRWA.ipynb\" target=\"_parent\"><img src=\"https://colab.research.google.com/assets/colab-badge.svg\" alt=\"Open In Colab\"/></a>"
      ]
    },
    {
      "cell_type": "markdown",
      "source": [
        "1. **Data Collection**"
      ],
      "metadata": {
        "id": "JWBKi5L6xMdQ"
      }
    },
    {
      "cell_type": "code",
      "source": [
        "#From Google drive\n",
        "from google.colab import drive\n",
        "drive.mount('/content/drive')"
      ],
      "metadata": {
        "id": "nW-3RzN3y3Bj"
      },
      "execution_count": null,
      "outputs": []
    },
    {
      "cell_type": "code",
      "source": [
        "#From local device\n",
        "from google.colab import files\n",
        "\n",
        "# Uploading the PDFs from local device\n",
        "uploaded = files.upload()"
      ],
      "metadata": {
        "id": "8TWBXLpuPssD"
      },
      "execution_count": null,
      "outputs": []
    },
    {
      "cell_type": "markdown",
      "source": [
        "2. **Data Preprocessing**"
      ],
      "metadata": {
        "id": "cE3hkLdMxi4W"
      }
    },
    {
      "cell_type": "markdown",
      "source": [
        "2.1 Text Extraction"
      ],
      "metadata": {
        "id": "4FdFYgj90Akc"
      }
    },
    {
      "cell_type": "code",
      "source": [
        "#Installing required libraries for PDF text extraction, tokenization, normalization, and other NLP tasks\n",
        "!pip install PyPDF2 pdfplumber spacy nltk\n",
        "!python -m spacy download en_core_web_sm"
      ],
      "metadata": {
        "id": "LMf7SYu-0bZS"
      },
      "execution_count": null,
      "outputs": []
    },
    {
      "cell_type": "code",
      "source": [
        "import os\n",
        "import pdfplumber\n",
        "\n",
        "#Path to the dataset\n",
        "pdf_directory = '/content/drive/My Drive/DataSets'\n",
        "\n",
        "#Extracting text from PDFs\n",
        "def extract_text_from_pdf (pdf_path):\n",
        "  text=\"\"\n",
        "  with pdfplumber.open(pdf_path) as pdf:\n",
        "    for page in pdf.pages:\n",
        "      text+= page.extract_text()\n",
        "  return text\n",
        "\n",
        "#Looping to extract text from all PDFs\n",
        "pdf_texts = []\n",
        "for filename in os.listdir(pdf_directory):\n",
        "  if filename.endswith(\".pdf\"):\n",
        "    pdf_path = os.path.join(pdf_directory, filename)\n",
        "    text = extract_text_from_pdf(pdf_path)\n",
        "    pdf_texts.append(text)"
      ],
      "metadata": {
        "id": "nWNUYkMfxkj7"
      },
      "execution_count": null,
      "outputs": []
    },
    {
      "cell_type": "markdown",
      "source": [
        "2.2 Data Cleaning"
      ],
      "metadata": {
        "id": "oBw9mqFi2GLP"
      }
    },
    {
      "cell_type": "code",
      "source": [
        "#To remove HTML tags\n",
        "!pip install beautifulsoup4"
      ],
      "metadata": {
        "id": "8qJkW2dM1r0x"
      },
      "execution_count": null,
      "outputs": []
    },
    {
      "cell_type": "code",
      "source": [
        "import re\n",
        "from bs4 import BeautifulSoup\n",
        "\n",
        "def clean_text(text):\n",
        "    #Removing HTML tags\n",
        "    soup = BeautifulSoup(text, \"html.parser\")\n",
        "    text = soup.get_text()\n",
        "\n",
        "    #Removing special characters and punctuation (except basic punctuation)\n",
        "    text = re.sub(r\"[^a-zA-Z0-9\\s,.!?'-]\", '', text)\n",
        "\n",
        "    #Removing extra whitespaces\n",
        "    text = re.sub(r'\\s+', ' ', text).strip()\n",
        "\n",
        "    #Removing duplicate lines/sentences\n",
        "    sentences = text.split('. ')\n",
        "    unique_sentences = list(dict.fromkeys(sentences))\n",
        "    cleaned_text = '. '.join(unique_sentences)\n",
        "\n",
        "    return cleaned_text"
      ],
      "metadata": {
        "id": "3kEvQqwfRJFx"
      },
      "execution_count": null,
      "outputs": []
    },
    {
      "cell_type": "code",
      "source": [
        "#Applying the cleaning function to all documents\n",
        "cleaned_texts = {filename: clean_text(text) for filename, text in pdf_texts.items()}"
      ],
      "metadata": {
        "id": "fQUNz_-ZRNjj"
      },
      "execution_count": null,
      "outputs": []
    },
    {
      "cell_type": "code",
      "source": [
        "#Print cleaned text from one file\n",
        "print(cleaned_texts['example.pdf'])"
      ],
      "metadata": {
        "id": "zxoQSng_Rdg5"
      },
      "execution_count": null,
      "outputs": []
    },
    {
      "cell_type": "markdown",
      "source": [
        "2.3 Normalization"
      ],
      "metadata": {
        "id": "BzMTyL7B2pmo"
      }
    },
    {
      "cell_type": "code",
      "source": [
        "import nltk\n",
        "from nltk.tokenize import word_tokenize\n",
        "from nltk.corpus import stopwords\n",
        "import string\n",
        "\n",
        "nltk.download('punkt')\n",
        "nltk.download('stopwords')\n",
        "\n",
        "#Tokenization and normalization function\n",
        "def preprocess_text(text):\n",
        "\n",
        "  #Converting to lowercase and tokenizing\n",
        "  tokens = word_tokenize(text.lower())\n",
        "\n",
        "  #Removing punctuation marks and stop words\n",
        "  tokens = [word for word in tokens if word.isalpha()]\n",
        "  stop_words = set(stopwords.words('english'))\n",
        "  tokens = [word for word in tokens if word not in stop_words]\n",
        "\n",
        "  return tokens\n",
        "\n",
        "  #Preprocessing each extracted text\n",
        "  preprocessed_texts = [preprocess_text(text) for text in pdf_texts]"
      ],
      "metadata": {
        "id": "tEMH-HPJ2LU7"
      },
      "execution_count": null,
      "outputs": []
    },
    {
      "cell_type": "markdown",
      "source": [
        "2.4 Entity Recognition"
      ],
      "metadata": {
        "id": "YFVKexuD_jpt"
      }
    },
    {
      "cell_type": "code",
      "source": [
        "import spacy\n",
        "\n",
        "#Loading spaCy's small English model\n",
        "nlp = spacy.load('en_core_web_sm')\n",
        "\n",
        "#Function for NER\n",
        "def perform_ner(text):\n",
        "  doc = nlp(text)\n",
        "  entities = [(ent.text, ent.label_) for ent in doc.ents]\n",
        "  return entities\n",
        "\n",
        "#Performing NER on each text\n",
        "entities_per_doc = [perform_ner(\" \".join(tokens)) for tokens in preprocessed_texts]"
      ],
      "metadata": {
        "id": "9ix7VcDV0pch"
      },
      "execution_count": null,
      "outputs": []
    },
    {
      "cell_type": "markdown",
      "source": [
        "2.5 Stemming/Lemmatization"
      ],
      "metadata": {
        "id": "WFhl1eEHA9-T"
      }
    },
    {
      "cell_type": "code",
      "source": [
        "#Using PorterStemmer\n",
        "from nltk.stem import PorterStemmer\n",
        "\n",
        "#Initializing stemmer\n",
        "stemmer = PorterStemmer()\n",
        "\n",
        "#Function to stem tokens\n",
        "def stem_tokens (tokens):\n",
        "  return [stemmer.stem(token) for token in tokens]\n",
        "\n",
        "#Applying stemming to each document\n",
        "stemmed_texts = [stem_tokens(tokens) for tokens in preprocessed_texts]"
      ],
      "metadata": {
        "id": "5gOp-dQvBEKd"
      },
      "execution_count": null,
      "outputs": []
    },
    {
      "cell_type": "code",
      "source": [
        "# Importing spacy for lemmatization\n",
        "import spacy\n",
        "\n",
        "# Loading the spacy model\n",
        "nlp = spacy.load('en_core_web_sm')\n",
        "\n",
        "# Function to lemmatize tokens\n",
        "def lemmatize_tokens(tokens):\n",
        "    return [token.lemma_ for token in nlp(\" \".join(tokens)) if token.is_alpha]\n",
        "\n",
        "# Applying lemmatization to each document\n",
        "lemmatized_texts = [lemmatize_tokens(tokens) for tokens in preprocessed_texts]"
      ],
      "metadata": {
        "id": "uU0d0tCXBEF-"
      },
      "execution_count": null,
      "outputs": []
    }
  ]
}