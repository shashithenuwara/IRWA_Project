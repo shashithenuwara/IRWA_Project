{
  "nbformat": 4,
  "nbformat_minor": 0,
  "metadata": {
    "colab": {
      "provenance": [],
      "include_colab_link": true
    },
    "kernelspec": {
      "name": "python3",
      "display_name": "Python 3"
    },
    "language_info": {
      "name": "python"
    }
  },
  "cells": [
    {
      "cell_type": "markdown",
      "metadata": {
        "id": "view-in-github",
        "colab_type": "text"
      },
      "source": [
        "<a href=\"https://colab.research.google.com/github/shashithenuwara/IRWA_Project/blob/project/IRWA.ipynb\" target=\"_parent\"><img src=\"https://colab.research.google.com/assets/colab-badge.svg\" alt=\"Open In Colab\"/></a>"
      ]
    },
    {
      "cell_type": "markdown",
      "source": [
        "1. **Data Collection**"
      ],
      "metadata": {
        "id": "JWBKi5L6xMdQ"
      }
    },
    {
      "cell_type": "code",
      "source": [
        "#From Google drive\n",
        "from google.colab import drive\n",
        "drive.mount('/content/drive')"
      ],
      "metadata": {
        "id": "nW-3RzN3y3Bj",
        "colab": {
          "base_uri": "https://localhost:8080/"
        },
        "outputId": "d2ffd5cc-b74b-4dea-a017-59eecd62e451"
      },
      "execution_count": 1,
      "outputs": [
        {
          "output_type": "stream",
          "name": "stdout",
          "text": [
            "Mounted at /content/drive\n"
          ]
        }
      ]
    },
    {
      "cell_type": "markdown",
      "source": [
        "2. **Data Preprocessing**"
      ],
      "metadata": {
        "id": "cE3hkLdMxi4W"
      }
    },
    {
      "cell_type": "markdown",
      "source": [
        "2.1 Text Extraction"
      ],
      "metadata": {
        "id": "4FdFYgj90Akc"
      }
    },
    {
      "cell_type": "code",
      "source": [
        "#Installing required libraries for PDF text extraction, tokenization, normalization, and other NLP tasks\n",
        "!pip install PyPDF2 pdfplumber spacy nltk\n",
        "!python -m spacy download en_core_web_sm"
      ],
      "metadata": {
        "id": "LMf7SYu-0bZS",
        "colab": {
          "base_uri": "https://localhost:8080/"
        },
        "outputId": "9da0f5ea-6210-4cf1-a788-db7b60a6c16f"
      },
      "execution_count": 2,
      "outputs": [
        {
          "output_type": "stream",
          "name": "stdout",
          "text": [
            "Collecting PyPDF2\n",
            "  Downloading pypdf2-3.0.1-py3-none-any.whl.metadata (6.8 kB)\n",
            "Collecting pdfplumber\n",
            "  Downloading pdfplumber-0.11.4-py3-none-any.whl.metadata (41 kB)\n",
            "\u001b[?25l     \u001b[90m━━━━━━━━━━━━━━━━━━━━━━━━━━━━━━━━━━━━━━━━\u001b[0m \u001b[32m0.0/42.0 kB\u001b[0m \u001b[31m?\u001b[0m eta \u001b[36m-:--:--\u001b[0m\r\u001b[2K     \u001b[90m━━━━━━━━━━━━━━━━━━━━━━━━━━━━━━━━━━━━━━━━\u001b[0m \u001b[32m42.0/42.0 kB\u001b[0m \u001b[31m1.7 MB/s\u001b[0m eta \u001b[36m0:00:00\u001b[0m\n",
            "\u001b[?25hRequirement already satisfied: spacy in /usr/local/lib/python3.10/dist-packages (3.7.6)\n",
            "Requirement already satisfied: nltk in /usr/local/lib/python3.10/dist-packages (3.8.1)\n",
            "Collecting pdfminer.six==20231228 (from pdfplumber)\n",
            "  Downloading pdfminer.six-20231228-py3-none-any.whl.metadata (4.2 kB)\n",
            "Requirement already satisfied: Pillow>=9.1 in /usr/local/lib/python3.10/dist-packages (from pdfplumber) (10.4.0)\n",
            "Collecting pypdfium2>=4.18.0 (from pdfplumber)\n",
            "  Downloading pypdfium2-4.30.0-py3-none-manylinux_2_17_x86_64.manylinux2014_x86_64.whl.metadata (48 kB)\n",
            "\u001b[2K     \u001b[90m━━━━━━━━━━━━━━━━━━━━━━━━━━━━━━━━━━━━━━━━\u001b[0m \u001b[32m48.5/48.5 kB\u001b[0m \u001b[31m2.0 MB/s\u001b[0m eta \u001b[36m0:00:00\u001b[0m\n",
            "\u001b[?25hRequirement already satisfied: charset-normalizer>=2.0.0 in /usr/local/lib/python3.10/dist-packages (from pdfminer.six==20231228->pdfplumber) (3.3.2)\n",
            "Requirement already satisfied: cryptography>=36.0.0 in /usr/local/lib/python3.10/dist-packages (from pdfminer.six==20231228->pdfplumber) (43.0.1)\n",
            "Requirement already satisfied: spacy-legacy<3.1.0,>=3.0.11 in /usr/local/lib/python3.10/dist-packages (from spacy) (3.0.12)\n",
            "Requirement already satisfied: spacy-loggers<2.0.0,>=1.0.0 in /usr/local/lib/python3.10/dist-packages (from spacy) (1.0.5)\n",
            "Requirement already satisfied: murmurhash<1.1.0,>=0.28.0 in /usr/local/lib/python3.10/dist-packages (from spacy) (1.0.10)\n",
            "Requirement already satisfied: cymem<2.1.0,>=2.0.2 in /usr/local/lib/python3.10/dist-packages (from spacy) (2.0.8)\n",
            "Requirement already satisfied: preshed<3.1.0,>=3.0.2 in /usr/local/lib/python3.10/dist-packages (from spacy) (3.0.9)\n",
            "Requirement already satisfied: thinc<8.3.0,>=8.2.2 in /usr/local/lib/python3.10/dist-packages (from spacy) (8.2.5)\n",
            "Requirement already satisfied: wasabi<1.2.0,>=0.9.1 in /usr/local/lib/python3.10/dist-packages (from spacy) (1.1.3)\n",
            "Requirement already satisfied: srsly<3.0.0,>=2.4.3 in /usr/local/lib/python3.10/dist-packages (from spacy) (2.4.8)\n",
            "Requirement already satisfied: catalogue<2.1.0,>=2.0.6 in /usr/local/lib/python3.10/dist-packages (from spacy) (2.0.10)\n",
            "Requirement already satisfied: weasel<0.5.0,>=0.1.0 in /usr/local/lib/python3.10/dist-packages (from spacy) (0.4.1)\n",
            "Requirement already satisfied: typer<1.0.0,>=0.3.0 in /usr/local/lib/python3.10/dist-packages (from spacy) (0.12.5)\n",
            "Requirement already satisfied: tqdm<5.0.0,>=4.38.0 in /usr/local/lib/python3.10/dist-packages (from spacy) (4.66.5)\n",
            "Requirement already satisfied: requests<3.0.0,>=2.13.0 in /usr/local/lib/python3.10/dist-packages (from spacy) (2.32.3)\n",
            "Requirement already satisfied: pydantic!=1.8,!=1.8.1,<3.0.0,>=1.7.4 in /usr/local/lib/python3.10/dist-packages (from spacy) (2.9.2)\n",
            "Requirement already satisfied: jinja2 in /usr/local/lib/python3.10/dist-packages (from spacy) (3.1.4)\n",
            "Requirement already satisfied: setuptools in /usr/local/lib/python3.10/dist-packages (from spacy) (71.0.4)\n",
            "Requirement already satisfied: packaging>=20.0 in /usr/local/lib/python3.10/dist-packages (from spacy) (24.1)\n",
            "Requirement already satisfied: langcodes<4.0.0,>=3.2.0 in /usr/local/lib/python3.10/dist-packages (from spacy) (3.4.0)\n",
            "Requirement already satisfied: numpy>=1.19.0 in /usr/local/lib/python3.10/dist-packages (from spacy) (1.26.4)\n",
            "Requirement already satisfied: click in /usr/local/lib/python3.10/dist-packages (from nltk) (8.1.7)\n",
            "Requirement already satisfied: joblib in /usr/local/lib/python3.10/dist-packages (from nltk) (1.4.2)\n",
            "Requirement already satisfied: regex>=2021.8.3 in /usr/local/lib/python3.10/dist-packages (from nltk) (2024.9.11)\n",
            "Requirement already satisfied: language-data>=1.2 in /usr/local/lib/python3.10/dist-packages (from langcodes<4.0.0,>=3.2.0->spacy) (1.2.0)\n",
            "Requirement already satisfied: annotated-types>=0.6.0 in /usr/local/lib/python3.10/dist-packages (from pydantic!=1.8,!=1.8.1,<3.0.0,>=1.7.4->spacy) (0.7.0)\n",
            "Requirement already satisfied: pydantic-core==2.23.4 in /usr/local/lib/python3.10/dist-packages (from pydantic!=1.8,!=1.8.1,<3.0.0,>=1.7.4->spacy) (2.23.4)\n",
            "Requirement already satisfied: typing-extensions>=4.6.1 in /usr/local/lib/python3.10/dist-packages (from pydantic!=1.8,!=1.8.1,<3.0.0,>=1.7.4->spacy) (4.12.2)\n",
            "Requirement already satisfied: idna<4,>=2.5 in /usr/local/lib/python3.10/dist-packages (from requests<3.0.0,>=2.13.0->spacy) (3.10)\n",
            "Requirement already satisfied: urllib3<3,>=1.21.1 in /usr/local/lib/python3.10/dist-packages (from requests<3.0.0,>=2.13.0->spacy) (2.2.3)\n",
            "Requirement already satisfied: certifi>=2017.4.17 in /usr/local/lib/python3.10/dist-packages (from requests<3.0.0,>=2.13.0->spacy) (2024.8.30)\n",
            "Requirement already satisfied: blis<0.8.0,>=0.7.8 in /usr/local/lib/python3.10/dist-packages (from thinc<8.3.0,>=8.2.2->spacy) (0.7.11)\n",
            "Requirement already satisfied: confection<1.0.0,>=0.0.1 in /usr/local/lib/python3.10/dist-packages (from thinc<8.3.0,>=8.2.2->spacy) (0.1.5)\n",
            "Requirement already satisfied: shellingham>=1.3.0 in /usr/local/lib/python3.10/dist-packages (from typer<1.0.0,>=0.3.0->spacy) (1.5.4)\n",
            "Requirement already satisfied: rich>=10.11.0 in /usr/local/lib/python3.10/dist-packages (from typer<1.0.0,>=0.3.0->spacy) (13.8.1)\n",
            "Requirement already satisfied: cloudpathlib<1.0.0,>=0.7.0 in /usr/local/lib/python3.10/dist-packages (from weasel<0.5.0,>=0.1.0->spacy) (0.19.0)\n",
            "Requirement already satisfied: smart-open<8.0.0,>=5.2.1 in /usr/local/lib/python3.10/dist-packages (from weasel<0.5.0,>=0.1.0->spacy) (7.0.4)\n",
            "Requirement already satisfied: MarkupSafe>=2.0 in /usr/local/lib/python3.10/dist-packages (from jinja2->spacy) (2.1.5)\n",
            "Requirement already satisfied: cffi>=1.12 in /usr/local/lib/python3.10/dist-packages (from cryptography>=36.0.0->pdfminer.six==20231228->pdfplumber) (1.17.1)\n",
            "Requirement already satisfied: marisa-trie>=0.7.7 in /usr/local/lib/python3.10/dist-packages (from language-data>=1.2->langcodes<4.0.0,>=3.2.0->spacy) (1.2.0)\n",
            "Requirement already satisfied: markdown-it-py>=2.2.0 in /usr/local/lib/python3.10/dist-packages (from rich>=10.11.0->typer<1.0.0,>=0.3.0->spacy) (3.0.0)\n",
            "Requirement already satisfied: pygments<3.0.0,>=2.13.0 in /usr/local/lib/python3.10/dist-packages (from rich>=10.11.0->typer<1.0.0,>=0.3.0->spacy) (2.18.0)\n",
            "Requirement already satisfied: wrapt in /usr/local/lib/python3.10/dist-packages (from smart-open<8.0.0,>=5.2.1->weasel<0.5.0,>=0.1.0->spacy) (1.16.0)\n",
            "Requirement already satisfied: pycparser in /usr/local/lib/python3.10/dist-packages (from cffi>=1.12->cryptography>=36.0.0->pdfminer.six==20231228->pdfplumber) (2.22)\n",
            "Requirement already satisfied: mdurl~=0.1 in /usr/local/lib/python3.10/dist-packages (from markdown-it-py>=2.2.0->rich>=10.11.0->typer<1.0.0,>=0.3.0->spacy) (0.1.2)\n",
            "Downloading pypdf2-3.0.1-py3-none-any.whl (232 kB)\n",
            "\u001b[2K   \u001b[90m━━━━━━━━━━━━━━━━━━━━━━━━━━━━━━━━━━━━━━━━\u001b[0m \u001b[32m232.6/232.6 kB\u001b[0m \u001b[31m9.2 MB/s\u001b[0m eta \u001b[36m0:00:00\u001b[0m\n",
            "\u001b[?25hDownloading pdfplumber-0.11.4-py3-none-any.whl (59 kB)\n",
            "\u001b[2K   \u001b[90m━━━━━━━━━━━━━━━━━━━━━━━━━━━━━━━━━━━━━━━━\u001b[0m \u001b[32m59.2/59.2 kB\u001b[0m \u001b[31m3.9 MB/s\u001b[0m eta \u001b[36m0:00:00\u001b[0m\n",
            "\u001b[?25hDownloading pdfminer.six-20231228-py3-none-any.whl (5.6 MB)\n",
            "\u001b[2K   \u001b[90m━━━━━━━━━━━━━━━━━━━━━━━━━━━━━━━━━━━━━━━━\u001b[0m \u001b[32m5.6/5.6 MB\u001b[0m \u001b[31m34.0 MB/s\u001b[0m eta \u001b[36m0:00:00\u001b[0m\n",
            "\u001b[?25hDownloading pypdfium2-4.30.0-py3-none-manylinux_2_17_x86_64.manylinux2014_x86_64.whl (2.8 MB)\n",
            "\u001b[2K   \u001b[90m━━━━━━━━━━━━━━━━━━━━━━━━━━━━━━━━━━━━━━━━\u001b[0m \u001b[32m2.8/2.8 MB\u001b[0m \u001b[31m51.7 MB/s\u001b[0m eta \u001b[36m0:00:00\u001b[0m\n",
            "\u001b[?25hInstalling collected packages: pypdfium2, PyPDF2, pdfminer.six, pdfplumber\n",
            "Successfully installed PyPDF2-3.0.1 pdfminer.six-20231228 pdfplumber-0.11.4 pypdfium2-4.30.0\n",
            "Collecting en-core-web-sm==3.7.1\n",
            "  Downloading https://github.com/explosion/spacy-models/releases/download/en_core_web_sm-3.7.1/en_core_web_sm-3.7.1-py3-none-any.whl (12.8 MB)\n",
            "\u001b[2K     \u001b[90m━━━━━━━━━━━━━━━━━━━━━━━━━━━━━━━━━━━━━━━━\u001b[0m \u001b[32m12.8/12.8 MB\u001b[0m \u001b[31m44.0 MB/s\u001b[0m eta \u001b[36m0:00:00\u001b[0m\n",
            "\u001b[?25hRequirement already satisfied: spacy<3.8.0,>=3.7.2 in /usr/local/lib/python3.10/dist-packages (from en-core-web-sm==3.7.1) (3.7.6)\n",
            "Requirement already satisfied: spacy-legacy<3.1.0,>=3.0.11 in /usr/local/lib/python3.10/dist-packages (from spacy<3.8.0,>=3.7.2->en-core-web-sm==3.7.1) (3.0.12)\n",
            "Requirement already satisfied: spacy-loggers<2.0.0,>=1.0.0 in /usr/local/lib/python3.10/dist-packages (from spacy<3.8.0,>=3.7.2->en-core-web-sm==3.7.1) (1.0.5)\n",
            "Requirement already satisfied: murmurhash<1.1.0,>=0.28.0 in /usr/local/lib/python3.10/dist-packages (from spacy<3.8.0,>=3.7.2->en-core-web-sm==3.7.1) (1.0.10)\n",
            "Requirement already satisfied: cymem<2.1.0,>=2.0.2 in /usr/local/lib/python3.10/dist-packages (from spacy<3.8.0,>=3.7.2->en-core-web-sm==3.7.1) (2.0.8)\n",
            "Requirement already satisfied: preshed<3.1.0,>=3.0.2 in /usr/local/lib/python3.10/dist-packages (from spacy<3.8.0,>=3.7.2->en-core-web-sm==3.7.1) (3.0.9)\n",
            "Requirement already satisfied: thinc<8.3.0,>=8.2.2 in /usr/local/lib/python3.10/dist-packages (from spacy<3.8.0,>=3.7.2->en-core-web-sm==3.7.1) (8.2.5)\n",
            "Requirement already satisfied: wasabi<1.2.0,>=0.9.1 in /usr/local/lib/python3.10/dist-packages (from spacy<3.8.0,>=3.7.2->en-core-web-sm==3.7.1) (1.1.3)\n",
            "Requirement already satisfied: srsly<3.0.0,>=2.4.3 in /usr/local/lib/python3.10/dist-packages (from spacy<3.8.0,>=3.7.2->en-core-web-sm==3.7.1) (2.4.8)\n",
            "Requirement already satisfied: catalogue<2.1.0,>=2.0.6 in /usr/local/lib/python3.10/dist-packages (from spacy<3.8.0,>=3.7.2->en-core-web-sm==3.7.1) (2.0.10)\n",
            "Requirement already satisfied: weasel<0.5.0,>=0.1.0 in /usr/local/lib/python3.10/dist-packages (from spacy<3.8.0,>=3.7.2->en-core-web-sm==3.7.1) (0.4.1)\n",
            "Requirement already satisfied: typer<1.0.0,>=0.3.0 in /usr/local/lib/python3.10/dist-packages (from spacy<3.8.0,>=3.7.2->en-core-web-sm==3.7.1) (0.12.5)\n",
            "Requirement already satisfied: tqdm<5.0.0,>=4.38.0 in /usr/local/lib/python3.10/dist-packages (from spacy<3.8.0,>=3.7.2->en-core-web-sm==3.7.1) (4.66.5)\n",
            "Requirement already satisfied: requests<3.0.0,>=2.13.0 in /usr/local/lib/python3.10/dist-packages (from spacy<3.8.0,>=3.7.2->en-core-web-sm==3.7.1) (2.32.3)\n",
            "Requirement already satisfied: pydantic!=1.8,!=1.8.1,<3.0.0,>=1.7.4 in /usr/local/lib/python3.10/dist-packages (from spacy<3.8.0,>=3.7.2->en-core-web-sm==3.7.1) (2.9.2)\n",
            "Requirement already satisfied: jinja2 in /usr/local/lib/python3.10/dist-packages (from spacy<3.8.0,>=3.7.2->en-core-web-sm==3.7.1) (3.1.4)\n",
            "Requirement already satisfied: setuptools in /usr/local/lib/python3.10/dist-packages (from spacy<3.8.0,>=3.7.2->en-core-web-sm==3.7.1) (71.0.4)\n",
            "Requirement already satisfied: packaging>=20.0 in /usr/local/lib/python3.10/dist-packages (from spacy<3.8.0,>=3.7.2->en-core-web-sm==3.7.1) (24.1)\n",
            "Requirement already satisfied: langcodes<4.0.0,>=3.2.0 in /usr/local/lib/python3.10/dist-packages (from spacy<3.8.0,>=3.7.2->en-core-web-sm==3.7.1) (3.4.0)\n",
            "Requirement already satisfied: numpy>=1.19.0 in /usr/local/lib/python3.10/dist-packages (from spacy<3.8.0,>=3.7.2->en-core-web-sm==3.7.1) (1.26.4)\n",
            "Requirement already satisfied: language-data>=1.2 in /usr/local/lib/python3.10/dist-packages (from langcodes<4.0.0,>=3.2.0->spacy<3.8.0,>=3.7.2->en-core-web-sm==3.7.1) (1.2.0)\n",
            "Requirement already satisfied: annotated-types>=0.6.0 in /usr/local/lib/python3.10/dist-packages (from pydantic!=1.8,!=1.8.1,<3.0.0,>=1.7.4->spacy<3.8.0,>=3.7.2->en-core-web-sm==3.7.1) (0.7.0)\n",
            "Requirement already satisfied: pydantic-core==2.23.4 in /usr/local/lib/python3.10/dist-packages (from pydantic!=1.8,!=1.8.1,<3.0.0,>=1.7.4->spacy<3.8.0,>=3.7.2->en-core-web-sm==3.7.1) (2.23.4)\n",
            "Requirement already satisfied: typing-extensions>=4.6.1 in /usr/local/lib/python3.10/dist-packages (from pydantic!=1.8,!=1.8.1,<3.0.0,>=1.7.4->spacy<3.8.0,>=3.7.2->en-core-web-sm==3.7.1) (4.12.2)\n",
            "Requirement already satisfied: charset-normalizer<4,>=2 in /usr/local/lib/python3.10/dist-packages (from requests<3.0.0,>=2.13.0->spacy<3.8.0,>=3.7.2->en-core-web-sm==3.7.1) (3.3.2)\n",
            "Requirement already satisfied: idna<4,>=2.5 in /usr/local/lib/python3.10/dist-packages (from requests<3.0.0,>=2.13.0->spacy<3.8.0,>=3.7.2->en-core-web-sm==3.7.1) (3.10)\n",
            "Requirement already satisfied: urllib3<3,>=1.21.1 in /usr/local/lib/python3.10/dist-packages (from requests<3.0.0,>=2.13.0->spacy<3.8.0,>=3.7.2->en-core-web-sm==3.7.1) (2.2.3)\n",
            "Requirement already satisfied: certifi>=2017.4.17 in /usr/local/lib/python3.10/dist-packages (from requests<3.0.0,>=2.13.0->spacy<3.8.0,>=3.7.2->en-core-web-sm==3.7.1) (2024.8.30)\n",
            "Requirement already satisfied: blis<0.8.0,>=0.7.8 in /usr/local/lib/python3.10/dist-packages (from thinc<8.3.0,>=8.2.2->spacy<3.8.0,>=3.7.2->en-core-web-sm==3.7.1) (0.7.11)\n",
            "Requirement already satisfied: confection<1.0.0,>=0.0.1 in /usr/local/lib/python3.10/dist-packages (from thinc<8.3.0,>=8.2.2->spacy<3.8.0,>=3.7.2->en-core-web-sm==3.7.1) (0.1.5)\n",
            "Requirement already satisfied: click>=8.0.0 in /usr/local/lib/python3.10/dist-packages (from typer<1.0.0,>=0.3.0->spacy<3.8.0,>=3.7.2->en-core-web-sm==3.7.1) (8.1.7)\n",
            "Requirement already satisfied: shellingham>=1.3.0 in /usr/local/lib/python3.10/dist-packages (from typer<1.0.0,>=0.3.0->spacy<3.8.0,>=3.7.2->en-core-web-sm==3.7.1) (1.5.4)\n",
            "Requirement already satisfied: rich>=10.11.0 in /usr/local/lib/python3.10/dist-packages (from typer<1.0.0,>=0.3.0->spacy<3.8.0,>=3.7.2->en-core-web-sm==3.7.1) (13.8.1)\n",
            "Requirement already satisfied: cloudpathlib<1.0.0,>=0.7.0 in /usr/local/lib/python3.10/dist-packages (from weasel<0.5.0,>=0.1.0->spacy<3.8.0,>=3.7.2->en-core-web-sm==3.7.1) (0.19.0)\n",
            "Requirement already satisfied: smart-open<8.0.0,>=5.2.1 in /usr/local/lib/python3.10/dist-packages (from weasel<0.5.0,>=0.1.0->spacy<3.8.0,>=3.7.2->en-core-web-sm==3.7.1) (7.0.4)\n",
            "Requirement already satisfied: MarkupSafe>=2.0 in /usr/local/lib/python3.10/dist-packages (from jinja2->spacy<3.8.0,>=3.7.2->en-core-web-sm==3.7.1) (2.1.5)\n",
            "Requirement already satisfied: marisa-trie>=0.7.7 in /usr/local/lib/python3.10/dist-packages (from language-data>=1.2->langcodes<4.0.0,>=3.2.0->spacy<3.8.0,>=3.7.2->en-core-web-sm==3.7.1) (1.2.0)\n",
            "Requirement already satisfied: markdown-it-py>=2.2.0 in /usr/local/lib/python3.10/dist-packages (from rich>=10.11.0->typer<1.0.0,>=0.3.0->spacy<3.8.0,>=3.7.2->en-core-web-sm==3.7.1) (3.0.0)\n",
            "Requirement already satisfied: pygments<3.0.0,>=2.13.0 in /usr/local/lib/python3.10/dist-packages (from rich>=10.11.0->typer<1.0.0,>=0.3.0->spacy<3.8.0,>=3.7.2->en-core-web-sm==3.7.1) (2.18.0)\n",
            "Requirement already satisfied: wrapt in /usr/local/lib/python3.10/dist-packages (from smart-open<8.0.0,>=5.2.1->weasel<0.5.0,>=0.1.0->spacy<3.8.0,>=3.7.2->en-core-web-sm==3.7.1) (1.16.0)\n",
            "Requirement already satisfied: mdurl~=0.1 in /usr/local/lib/python3.10/dist-packages (from markdown-it-py>=2.2.0->rich>=10.11.0->typer<1.0.0,>=0.3.0->spacy<3.8.0,>=3.7.2->en-core-web-sm==3.7.1) (0.1.2)\n",
            "\u001b[38;5;2m✔ Download and installation successful\u001b[0m\n",
            "You can now load the package via spacy.load('en_core_web_sm')\n",
            "\u001b[38;5;3m⚠ Restart to reload dependencies\u001b[0m\n",
            "If you are in a Jupyter or Colab notebook, you may need to restart Python in\n",
            "order to load all the package's dependencies. You can do this by selecting the\n",
            "'Restart kernel' or 'Restart runtime' option.\n"
          ]
        }
      ]
    },
    {
      "cell_type": "code",
      "source": [
        "import os\n",
        "import pdfplumber\n",
        "\n",
        "# Path to the dataset\n",
        "pdf_directory = '/content/drive/My Drive/Colab_Notebooks/DataSets'\n",
        "\n",
        "# Extracting text from PDFs\n",
        "def extract_text_from_pdf(pdf_path):\n",
        "    text = \"\"\n",
        "    with pdfplumber.open(pdf_path) as pdf:\n",
        "        for page in pdf.pages:\n",
        "            text += page.extract_text()\n",
        "    return text\n",
        "\n",
        "# Dictionary to store PDF filenames and their extracted text\n",
        "pdf_texts = {}\n",
        "\n",
        "# Extract text from each PDF and store it in pdf_texts with the filename as the key\n",
        "for filename in os.listdir(pdf_directory):\n",
        "    if filename.endswith(\".pdf\"):\n",
        "        pdf_path = os.path.join(pdf_directory, filename)\n",
        "        text = extract_text_from_pdf(pdf_path)\n",
        "        pdf_texts[filename] = text\n"
      ],
      "metadata": {
        "id": "nWNUYkMfxkj7"
      },
      "execution_count": 18,
      "outputs": []
    },
    {
      "cell_type": "markdown",
      "source": [
        "2.2 Data Cleaning"
      ],
      "metadata": {
        "id": "oBw9mqFi2GLP"
      }
    },
    {
      "cell_type": "code",
      "source": [
        "#To remove HTML tags\n",
        "!pip install beautifulsoup4"
      ],
      "metadata": {
        "id": "8qJkW2dM1r0x",
        "colab": {
          "base_uri": "https://localhost:8080/"
        },
        "outputId": "cdd4bce1-95f1-42b3-c753-c0941014e6b6"
      },
      "execution_count": 19,
      "outputs": [
        {
          "output_type": "stream",
          "name": "stdout",
          "text": [
            "Requirement already satisfied: beautifulsoup4 in /usr/local/lib/python3.10/dist-packages (4.12.3)\n",
            "Requirement already satisfied: soupsieve>1.2 in /usr/local/lib/python3.10/dist-packages (from beautifulsoup4) (2.6)\n"
          ]
        }
      ]
    },
    {
      "cell_type": "code",
      "source": [
        "import re\n",
        "from bs4 import BeautifulSoup\n",
        "\n",
        "def clean_text(text):\n",
        "    #Removing HTML tags\n",
        "    soup = BeautifulSoup(text, \"html.parser\")\n",
        "    text = soup.get_text()\n",
        "\n",
        "    #Removing special characters and punctuation (except basic punctuation)\n",
        "    text = re.sub(r\"[^a-zA-Z0-9\\s,.!?'-]\", '', text)\n",
        "\n",
        "    #Removing extra whitespaces\n",
        "    text = re.sub(r'\\s+', ' ', text).strip()\n",
        "\n",
        "    #Removing duplicate lines/sentences\n",
        "    sentences = text.split('. ')\n",
        "    unique_sentences = list(dict.fromkeys(sentences))\n",
        "    cleaned_text = '. '.join(unique_sentences)\n",
        "\n",
        "    return cleaned_text"
      ],
      "metadata": {
        "id": "3kEvQqwfRJFx"
      },
      "execution_count": 20,
      "outputs": []
    },
    {
      "cell_type": "code",
      "source": [
        "# Applying the cleaning function to all documents\n",
        "cleaned_texts = {filename: clean_text(text) for filename, text in pdf_texts.items()}"
      ],
      "metadata": {
        "id": "fQUNz_-ZRNjj"
      },
      "execution_count": 21,
      "outputs": []
    },
    {
      "cell_type": "code",
      "source": [
        "#Print the keys from cleaned_texts directory\n",
        "print(cleaned_texts.keys())"
      ],
      "metadata": {
        "colab": {
          "base_uri": "https://localhost:8080/"
        },
        "id": "FY4HyWHXTl2B",
        "outputId": "4e9aa122-5533-4071-9c4c-0a26200fb813"
      },
      "execution_count": 26,
      "outputs": [
        {
          "output_type": "stream",
          "name": "stdout",
          "text": [
            "dict_keys(['The-Proteomic-Landscape-of-Triple-Negative-Breast-.pdf', 'The-role-of-nutrition-based-index-in-predicting-su.pdf', 'The-impact-of-coding-germline-variants-on-contrala.pdf', 'The-migration-of-metastatic-breast-cancer-cells-is.pdf', 'The-Inositol-Polyphosphate-5-Phosphatase-PIPP-Regu.pdf', 'The-bone-microenvironment-increases-phenotypic-pla.pdf', 'The-Genomic-and-Immune-Landscapes-of-Lethal-Metast.pdf', 'The-Expression-of-ZNF268-and-Its-Role-in-The-Cispl.pdf', 'The-UPR-Transducer-IRE1-Promotes-Breast-Cancer-Mal.pdf', 'Timeless-Stimulated-miR-5188-FOXO1-&#x3b2;-Catenin.pdf', 'Therapeutic-Implications-of-Cellular-Heterogeneity.pdf', 'Therapy-induced-normal-tissue-damage-promotes-brea.pdf', 'Tumor-suppressor-KEAP1-promotes-HSPA9-degradation,.pdf', 'Transcriptional-Factor-Yin-Yang-1-Promotes-the-Ste.pdf', 'Translational-adaptation-in-breast-cancer-metastas.pdf', 'TRPS1-Is-a-Lineage-Specific-Transcriptional-Depend.pdf', 'Transcriptional-Signature-Derived-from-Murine-Tumo.pdf', 'ZEB1-Mediated-Transcriptional-Upregulation-of-circ.pdf', 'Variants-in--em-ATRIP--em--are-associated-with-bre.pdf', 'UXT,-a-novel-DNMT3b-binding-protein,-promotes-brea.pdf', 'ZNF281-miR-543-Feedback-Loop-Regulates-Transformin.pdf', '-em-Comprehensive-Analysis-of-the-Expressionand-Pr.pdf', '-em-ATM--em--Heterozygous-Germline-Mutations-Contr.pdf', '-em-AKTIP--em--loss-is-enriched-in-ER&#x3b1;-posit.pdf', 'A-new-key-in-breast-cancer-metastasis_ccell.pdf', 'A-prognostic-nomogram-for-predicting-breast-cancer.pdf', '-em-JARID1B--em--Is-a-Luminal-Lineage-Driving-Onco.pdf', '27-Hydroxycholesterol-Promotes-Cell-Autonomous,-ER.pdf', 'A-joint-transcriptome-wide-association-study-acros.pdf', '-em-N--em--acetylcysteine-overcomes--em-NF1--em--l.pdf', 'A-Comprehensive-Nuclear-Receptor-Network-for-Breas.pdf', 'A-bioinformatic-analysis-found-low-expression-and-.pdf', 'A-bibliometric-study-of-the-intellectual-base-and-.pdf', 'A-Pin1-Mutant-p53-Axis-Promotes-Aggressiveness-in&.pdf', 'A-collection-of-breast-cancer-cell-lines-for-the-s.pdf', 'A-comparison-between-clinical-decision-support-sys.pdf', '-em-NEAT1--em--is-essential-for-metabolic-changes-.pdf', 'A-novel-oncogenic-enhancer-of-estrogen-receptor-po.pdf', 'A-multigenic-program-mediating-breast-cancer-metas.pdf', 'Awareness,-attitudes-and-practices-of-women-in-rel.pdf', 'Autophagy-Suppresses-Breast-Cancer-Metastasis_devc.pdf', 'Acetyl-CoA-Carboxylase-1-Dependent-Protein-Acetyla.pdf', 'Artificial-intelligence-in-breast-cancer-diagnosti.pdf', 'ALYREF-enhances-breast-cancer-progression-by-regul.pdf', 'APOBEC3B-Mediated-Cytidine-Deamination-Is-Required.pdf', 'Acyl-CoA-synthetase-4-modulates-mitochondrial-func.pdf', 'Antibody-activation-of-connexin-hemichannels-in-bo.pdf', 'Aurora-kinase-A-regulates-cancer-associated-RNA-ab.pdf', 'Annexin-2-protein-expression-is-associated-with-br.pdf', 'BikDD-Eliminates-Breast-Cancer-Initiating-Cells-an.pdf', 'Assessment-of-the-albumin-bilirubin-score-in-breas.pdf', 'Asiaticoside-inhibits-breast-cancer-progression-an.pdf', 'Breast-Cancer-Src-Activity--Bad-to-the-Bone_ccell.pdf', 'Breast-Cancer-Classification-Based-on-Proteotypes-.pdf', 'Breast-Cancer-Stem-Cells--Eradication-by-Different.pdf', 'Breast-Cancer-Derived-Lung-Metastases-Show-Increas.pdf', 'Bufalin-reverses-ABCB1-mediated-resistance-to-doce.pdf', 'Catalytic-Double-Cyclization-Process-for-Antitumor.pdf', 'Cathepsin-C-promotes-breast-cancer-lung-metastasis.pdf', 'Breast-Cancer-Bone-Metastases--It&#x2019;s-All-abo.pdf', 'CARMA--CARM1-Methylation-of-SWI-SNF-in-Breast-Canc.pdf', 'Breast-Cancer-Polygenic-Risk-Score-and-Contralater.pdf', 'Breast-cancer-susceptibility&#x2014;A-new-look-at-.pdf', 'Bioinformatics-and-network-biology-approach-to-ide.pdf', 'Biological-differences-between-normal-and-cancer-a.pdf', 'Characterization-of-the-tumor-microenvironment-in-.pdf', 'Causal-relationship-between-dietary-factors-and-br.pdf', 'CDK7-Dependent-Transcriptional-Addiction-in-Triple.pdf', 'CDK-4-6-Inhibitors-Sensitize--em-PIK3CA--em--Mutan.pdf', 'CDK14-inhibition-reduces-mammary-stem-cell-activit.pdf', 'Chemoresistance-Evolution-in-Triple-Negative-Breas.pdf', 'CHEK2-1100delC-and-Susceptibility-to-Breast-Cancer.pdf', 'CD133-mRNA-transfected-dendritic-cells-induce-coor.pdf', 'CCL18-from-Tumor-Associated-Macrophages-Promotes-B.pdf', 'CDYL2-Epigenetically-Regulates--em-MIR124--em--to-.pdf', 'Chronically-Alternating-Light-Cycles-Increase-Brea.pdf', 'Combating-breast-cancer-progression-through-combin.pdf', 'Conserved-role-of-FOXC1-in-TNBC-is-parallel-to-FOX.pdf', 'circHMCU-Promotes-Proliferation-and-Metastasis-of-.pdf', 'Comparing-blood-versus-tissue-based-biomarkers-exp.pdf', 'circ-NOL10-regulated-by-MTDH-CASC3-inhibits-breast.pdf', 'Context-dependent-roles-for-ubiquitous-mitochondri.pdf', 'Clinical-perspective--Antibody-drug-conjugates-for.pdf', 'Comprehensive-Molecular-Portraits-of-Invasive-Lobu.pdf', 'Collective-Invasion-in-Breast-Cancer-Requires-a-Co.pdf', 'Common-Breast-Cancer-Predisposition-Alleles-Are-As.pdf', 'Chemotherapy-Induced-Ca-sup-2+--sup--Release-Stimu.pdf', 'Deciphering-breast-cancer--from-biology-to-the-cli.pdf', 'Creatine-mediated-crosstalk-between-adipocytes-and.pdf', 'Detection-of-breast-cancer-cells-by-a-near-infrare.pdf', 'Cross-platform-gene-expression-profiling-of-breast.pdf', 'Copy-number-alterations--a-catastrophic-orchestrat.pdf', 'CXCR4-Antagonist-AMD3100-Reverses-the-Resistance-t.pdf', 'Datopotamab-deruxtecan--A-novel-antibody-drug-conj.pdf', 'DAB2IP-suppresses-invadopodia-formation-through-de.pdf', 'Correlation-between-breast-cancer-and-human-papill.pdf', 'Cytokines-and-cell-adhesion-molecules-exhibit-dist.pdf', 'Cordycepin-enhances-anti-tumor-immunity-in-breast-.pdf', 'Deciphering-the-signaling-network-of-breast-cancer.pdf', 'E-selectin-Targeting-PEGylated-thioaptamer-Prevent.pdf', 'Dissecting-the-emerging-role-of-cancer-associated-.pdf', 'Emerging-treatments-in-HER2-positive-advanced-brea.pdf', 'Determining-Carrier-Probabilities-for-Breast-Cance.pdf', 'Direct-Transcriptional-Consequences-of-Somatic-Mut.pdf', 'Differential-Functions-of-Splicing-Factors-in-Mamm.pdf', 'Enhanced-Gene-Expression-in-Breast-Cancer-Cells--e.pdf', 'Dual-Mechanisms-of-LYN-Kinase-Dysregulation-Drive-.pdf', 'eQTL-Colocalization-Analyses-Identify--em-NTN4--em.pdf', 'Downregulation-of-miRNA-200c-Links-Breast-Cancer-S.pdf', 'Epigenetic-Reprogramming-of-Cancer-Associated-Fibr.pdf', 'Endogenous-tRNA-Derived-Fragments-Suppress-Breast-.pdf', 'Endophytic-fungi--A-future-prospect-for-breast-can.pdf', 'Emotional-Intelligence-and-Breast-Cancer--A-System.pdf', 'Expanding-the-Role-for-Immunotherapy-in-Triple-Neg.pdf', 'Exosomal-microRNAs-synergistically-trigger-stromal.pdf', 'Evolution-of-chromosome-arm-aberrations-in-breast-.pdf', 'Exploring-the-impact-of-breast-cancer-on-colonizat.pdf', 'Exosome-Transfer-from-Stromal-to-Breast-Cancer-Cel.pdf', 'Evaluation-PD-L1,-CD8-and-CD20-as-early-predictor-.pdf', 'Estrogens-and-the-risk-of-breast-cancer--A-narrati.pdf', 'Ferroptosis-heterogeneity-in-triple-negative-breas.pdf', 'FER-regulates-endosomal-recycling-and-is-a-predict.pdf', 'ESR1-and-p53-interactome-alteration-defines-mechan.pdf', 'Expression-of--em-NORAD--em--correlates-with-breas.pdf', 'EV-miRNAs-from-breast-cancer-patients-of-plasma-as.pdf', 'Expression-of-immune-checkpoints-(PD-L1-and-IDO)-a.pdf', 'FOXM1-Deubiquitination-by-USP21-Regulates-Cell-Cyc.pdf', 'Functional-Annotation-of--em-ESR1--em--Gene-Fusion.pdf', 'Genetic-Heterogeneity-and-Penetrance-Analysis-of-t.pdf', 'Genetically-Engineered-Cell-Derived-Nanoparticles-.pdf', 'Fibroblast-Heterogeneity-and-Immunosuppressive-Env.pdf', 'Functional-Genomic-Landscape-of-Human-Breast-Cance.pdf', 'Genome-wide-Linkage-Scan-Reveals-Three-Putative-Br.pdf', 'FOXK2-Elicits-Massive-Transcription-Repression-and.pdf', 'Genomic-Antagonism-between-Retinoic-Acid-and-Estro.pdf', 'Fine-Scale-Mapping-of-the-5q11.2-Breast-Cancer-Loc.pdf', 'Generalizability-of-PGS-sub-313--sub--for-breast-c.pdf', 'GABA-baclofen-stabilizes-PD-L1-and-enhances-immuno.pdf', 'Genetic-Predisposition-Directs-Breast-Cancer-Pheno.pdf', 'Focus-on-breast-cancer_ccell.pdf', 'Genomic-Evolution-of-Breast-Cancer-Metastasis-and-.pdf', 'gp78-regulated-KAP1-phosphorylation-induces-radior.pdf', 'GLS-and-GOT2-as-prognostic-biomarkers-associated-w.pdf', 'Heterochromatin-Encoded-Satellite-RNAs-Induce-Brea.pdf', 'Heterogeneity-and-transcriptional-drivers-of-tripl.pdf', 'Hypoxia-stimulates-CTC-platelet-cluster-formation-.pdf', 'Histone-Demethylase-RBP2-Is-Critical-for-Breast-Ca.pdf', 'HIF-1&#x3b1;-Knockdown-Suppresses-Breast-Cancer-Me.pdf', 'Higher-dietary-soy-intake-appears-inversely-relate.pdf', 'Hypoxia-induced-CTCF-promotes-EMT-in-breast-cancer.pdf', 'High-Expression-of-Pseudogene-PTTG3P-Indicates-a-P.pdf', 'Identification-of-actionable-targets-for-breast-ca.pdf', 'Inhibition-of-YTHDF2-triggers-proteotoxic-cell-dea.pdf', 'Integrative-eQTL-Based-Analyses-Reveal-the-Biology.pdf', 'Integrated-breast-cancer-genomics_ccell.pdf', 'IL6-STAT3-Signaling-Hijacks-Estrogen-Receptor-&#x3.pdf', 'Integrated-Pharmacodynamic-Analysis-Identifies-Two.pdf', 'Integrating-metabolic-reprogramming-and-metabolic-.pdf', 'Iodine-131-labeled-genistein-as-a-potential-radiot.pdf', 'Integrative-Genomic-Approaches-Identify--em-IKBKE-.pdf', 'Immature-Low-Density-Neutrophils-Exhibit-Metabolic.pdf', 'Increasing-the-effect-of-annonacin-using-nanodiamo.pdf', 'Identification-of-new-subtypes-of-breast-cancer-ba.pdf', 'Integrin-Mediated-Macrophage-Adhesion-Promotes-Lym.pdf', 'Impacts-of-designed-vanillic-acid-polymer-magnetic.pdf', 'lncRNA-and-breast-cancer--Progress-from-identifyin.pdf', 'LINC01189-miR-586-ZEB1-feedback-loop-regulates-bre.pdf', 'lncRNA-LCPAT1&#xa0;Upregulation-Promotes-Breast-Ca.pdf', 'Magnetic-layered-double-hydroxides-with-carbamazep.pdf', 'Melatonin-Regulates-Breast-Cancer-Progression-by-t.pdf', 'LncRNA-TYMSOS-facilitates-breast-cancer-metastasis.pdf', 'Mechanisms-of-drug-resistance-in-breast-cancer-liv.pdf', 'Liver-Type-Glutaminase-GLS2-Is-a-Druggable-Metabol.pdf', 'LncRNA-LINC00963-Promotes-Tumorigenesis-and-Radior.pdf', 'Membrane-Macrophage-Colony-Stimulating-Factor-on-M.pdf', 'Lactylation-related-gene-signature-for-prognostic-.pdf', 'Latent-Bone-Metastasis-in-Breast-Cancer-Tied-to-Sr.pdf', 'Long-Non-coding-RNA-LOXL1-AS1-Drives-Breast-Cancer.pdf', 'Mitotic-Spindle-Assembly-and-Genomic-Stability-in-.pdf', 'MiR-338&#x2013;5p,-a-novel-metastasis-related-miRN.pdf', 'Molecular-Features-of-Subtype-Specific-Progression.pdf', 'Molecular-analysis-of-TCGA-breast-cancer-histologi.pdf', 'Mesenchymal-Stem-Cell-Induced-DDR2-Mediates-Stroma.pdf', 'Metabolic-Imaging-Detects-Resistance-to-PI3K&#x3b1.pdf', 'Molecular-profiling-of-nucleocytoplasmic-transport.pdf', 'Modeling-breast-cancer-proliferation,-drug-synergi.pdf', 'Metabolic-Profiling-Reveals-PAFAH1B3-as-a-Critical.pdf', 'miR-301-regulates-the-SIRT1-SOX2-pathway-via-CPEB1.pdf', 'Mesenchymal-Stem-Stromal-Cell-Engulfment-Reveals-M.pdf', 'Olfactory-receptor-5B21-drives-breast-cancer-metas.pdf', 'ncRNAs-mediated-overexpression-of--em-TET3--em--pr.pdf', 'Par(&#x2212;4)oxysm-in-Breast-Cancer_ccell.pdf', 'New-Views-into-the-Genetic-Landscape-of-Metastatic.pdf', 'Overcoming-Endocrine-Resistance-in-Breast-Cancer_c.pdf', 'Molecular-subtype-identification-and-prognosis-str.pdf', 'Oncolytic-Adenoviruses-Kill-Breast-Cancer-Initiati.pdf', 'Oncolytic-Reovirus-Effectively-Targets-Breast-Canc.pdf', 'MSC-Regulated-MicroRNAs-Converge-on-the-Transcript.pdf', 'Neurofibromin-Is-an-Estrogen-Receptor-&#x3b1;-Tran.pdf', 'Opposing-Functions-of-BRD4-Isoforms-in-Breast-Canc.pdf', 'More-reliable-breast-cancer-risk-assessment-for-ev.pdf', 'Novel-miR-5088-5p-promotes-malignancy-of-breast-ca.pdf', 'Par-4-Downregulation-Promotes-Breast-Cancer-Recurr.pdf', 'Predictive-gene-expression-profile-for-adjuvant-ta.pdf', 'Photo-sono-activated-BNT@MoS-sub-2--sub--composite.pdf', 'PI3K-AKT-Signaling-Regulates-H3K4-Methylation-in-B.pdf', 'PGC-1&#x3b1;-Promotes-Breast-Cancer-Metastasis-and.pdf', 'Parthenolide-Covalently-Targets-and-Inhibits-Focal.pdf', 'Podoplanin-Expressing-Macrophages-Promote-Lymphang.pdf', 'Paracrine-Induction-of-HIF-by-Glutamate-in-Breast-.pdf', 'Pregnancy-and-Breast-Cancer--Pathways-to&#xa0;Unde.pdf', 'Performance-of--em-survivin--em--mRNA-as-a-biomark.pdf', 'PDK1-Dependent-Metabolic-Reprogramming-Dictates-Me.pdf', 'Periostin-binding-DNA-Aptamer-Inhibits-Breast-Canc.pdf', 'Polygenic-Risk-Scores-for-Prediction-of-Breast-Can.pdf', 'Prognostic-model-construction-and-target-identific.pdf', 'Radiomics-in-breast-cancer--Current-advances-and-f.pdf', 'Recruitment-of-Circulating-Breast-Cancer-Cells-Is-.pdf', 'PRMT5-regulates-RNA-m6A-demethylation-for-doxorubi.pdf', 'Radiogenomic-analysis-reveals-tumor-heterogeneity-.pdf', 'Pregnancy-and-breast-cancer--The-other-side-of-the.pdf', 'Regulation-of-Breast-Cancer-Induced-Osteoclastogen.pdf', 'Rare,-Evolutionarily-Unlikely-Missense-Substitutio.pdf', 'Rare-Mutations-in--em-XRCC2--em--Increase-the-Risk.pdf', 'Reduction-of-breast-cancer-extravasation-via-vibra.pdf', 'Proteogenomic-Landscape-of-Breast-Cancer-Tumorigen.pdf', 'Review--Predictive-approaches-to-breast-cancer-ris.pdf', 'Structural-analysis-of-genomic-and-proteomic-signa.pdf', 'Single-Cell-Transcriptome-Analysis-Reveals-Estroge.pdf', 'SnapShot--Breast-Cancer_ccell.pdf', 'Requirement-for-CDK4-kinase-function-in-breast-can.pdf', 'Role-of-hypoxia-inducible-factor-1&#x3b1;-and-surv.pdf', 'Regulatory-T-Cells-Exhibit-Distinct-Features-in-Hu.pdf', 'SMC1A-regulated-by-KIAA1429-in-m6A-independent-man.pdf', 'SNHG5-Promotes-Breast-Cancer-Proliferation-by-Spon.pdf', 'SRSF1-Regulated-Alternative-Splicing-in-Breast-Can.pdf', 'Survival-analysis-of-recurrent-breast-cancer-patie.pdf', 'SGK3-Mediates-INPP4B-Dependent-PI3K-Signaling-in-B.pdf', 'SOX2-Promotes-Brain-Metastasis-of-Breast-Cancer-by.pdf', 'Response-based-molecular-subtyping&#x2014;emergenc.pdf', 'Targeting-Androgen-Receptor-in-Estrogen-Receptor-N.pdf', 'Terminal-Differentiation-of-Human-Breast-Cancer-th.pdf', 'Targeted-Expression-of-miR-34a-Using-the-T-VISA-Sy.pdf', 'Systemically-Injected-Exosomes-Targeted-to-EGFR-De.pdf', 'Ten-Genes-for-Inherited-Breast-Cancer_ccell.pdf', 'Targeting-the-circBMPR2-miR-553-USP4-Axis-as-a-Pot.pdf', 'Targeting-the-mRNA-endonuclease-CPSF73-inhibits-br.pdf', 'The-lung-fibroblast-as-&#x201c;soil-fertilizer&#x2.pdf', 'Toward-defining-the-clinically-actionable-genome-o.pdf', 'Variants-in--em-CHEK2--em--Other-than-1100delC-Do-.pdf', 'Unwanted-passengers--Microbes-hitchiking-in-breast.pdf', 'Up-regulation-of--em-FOXN3-AS1--em--in-invasive-du.pdf', 'Unfavorable-Drug-Interactions-in-Targeted-Breast-C.pdf'])\n"
          ]
        }
      ]
    },
    {
      "cell_type": "code",
      "source": [
        "#Print cleaned text from one specific file\n",
        "print(cleaned_texts['27-Hydroxycholesterol-Promotes-Cell-Autonomous,-ER.pdf'])"
      ],
      "metadata": {
        "id": "zxoQSng_Rdg5",
        "colab": {
          "base_uri": "https://localhost:8080/"
        },
        "outputId": "0bdf0987-bdc5-412b-9324-45d893af19a1"
      },
      "execution_count": 24,
      "outputs": [
        {
          "output_type": "stream",
          "name": "stdout",
          "text": [
            "Cell Reports Report 27-Hydroxycholesterol Promotes Cell-Autonomous, ER-Positive Breast Cancer Growth QianWu,1,6TomonoriIshikawa,1,6RosaSirianni,1,6HaoTang,2JeffreyG.McDonald,3IvanS.Yuhanna,1 BonneThompson,3LucGirard,4ChiekoMineo,1RolfA.Brekken,4,5MichihisaUmetani,1,4DavidM.Euhus,5YangXie,2 andPhilipW.Shaul1, 1DepartmentofPediatrics,DivisionofPulmonaryandVascularBiology,UniversityofTexasSouthwesternMedicalCenter,Dallas, TX75390,USA 2DepartmentofClinicalSciences,UniversityofTexasSouthwesternMedicalCenter,Dallas,TX75390,USA 3DepartmentofMolecularGenetics,UniversityofTexasSouthwesternMedicalCenter,Dallas,TX75390,USA 4DepartmentofPharmacology,UniversityofTexasSouthwesternMedicalCenter,Dallas,TX75390,USA 5DepartmentofSurgery,UniversityofTexasSouthwesternMedicalCenter,Dallas,TX75390,USA 6Theseauthorscontributedequallytothiswork Correspondencephilip.shaulutsouthwestern.edu httpdx.doi.org10.1016j.celrep.2013.10.006 Thisisanopen-accessarticledistributedunderthetermsoftheCreativeCommonsAttribution-NonCommercial-NoDerivativeWorks License,whichpermitsnon-commercialuse,distribution,andreproductioninanymedium,providedtheoriginalauthorandsourceare credited. SUMMARY aromatase inhibition is frequent, with early response rates of only2050,andthereisalsoacquiredresistance.Assuch, To date, estrogen is the only known endogenous there may be important estrogen-independent, ER-mediated estrogen receptor ER ligand that promotes ER processes promoting ER tumor growth that are unhindered breast tumor growth. We report that the cholesterol byaromataseinhibitionChenetal.,2006. metabolite 27-hydroxycholesterol 27HC stimulates Wepreviouslyidentifiedthecholesterolmetabolite27-hydrox- MCF-7 cell xenograft growth in mice. More impor- ycholesterol 27HC as an endogenous SERM DuSell et al., 2008Umetanietal.,2007.Inthepresentwork,wedetermined tantly, in ER breast cancer patients, 27HC content how27HCimpactsERbreastcancerinvivoinmiceandER in normal breast tissue is increased compared to breast cancer risk in women. In addition, we addressed the thatincancer-freecontrols,andtumor27HCcontent followingquestions1Whatinvivomechanismsgovern27HC is further elevated. Increased tumor 27HC is corre- levels in breast tumors? 2 What are the roles of sterol lated with diminished expression of CYP7B1, the 27-hydroxylase CYP27A1 and oxysterol 7a-hydroxylase 27HCmetabolizingenzyme,andreducedexpression CYP7B1,whichsynthesizeandmetabolize27HC,respectively of CYP7B1 in tumors is associated with poorer Russell,2003?and3Howdoes27HCstimulateERbreast patient survival. Moreover, 27HC is produced by cancercellgrowth? MCF-7 cells, and it stimulates cell-autonomous, ER-dependent, and GDNF-RET-dependent cell pro- RESULTS liferation. Thus, 27HC is a locally modulated, non- aromatized ER ligand that promotes ER breast 27HCPromotesERBreastTumorGrowth tumorgrowth. Thecapacityof27HCtostimulateERbreastcancercellprolif- erationwasevaluatedinMCF-7cellsbyquantifyingbromodeox- yuridine BrdU or 3H-thymidine incorporation. With an effect INTRODUCTION comparable to E , 27HC promoted MCF-7 cell growth Fig- 2 ure 1A. In healthy humans, plasma 27HC concentration is Breast cancer is second most common malignancy in women 0.220.60 mM and 5090 of 27HC is esterified Dzeletovic behindskincancer,with1millionnewcasesdiagnosedworld- et al., 1995 Li-Hawkins et al., 2000 Umetani et al., 2007 wide each year McPherson et al., 2000. Estrogen receptor thus, unesterified plasma levels approximate 10cid18M, and ER a-induced signal transduction controls the growth of a 10cid18MwasthethresholdconcentrationforactivationofMCF-7 majorityofbreastcancersJensenandJordan,2003,andthe cell proliferation Figure 1B. The impact of other oxysterols riskofERbreastcancerisgreatestinpostmenopausalwomen was also evaluated Figure S1, and MCF-7 cell proliferation Patel et al., 2007. Endocrine-based therapies against ER wasmodestlystimulatedby25-hydroxycholesterol,whichalters breast cancers antagonize ER function e.g., with synthetic ER function but not as potently as 27HC and was previously selective estrogen receptor modulators SERMs including shown to activate ERa-mediated signaling in cancer cells tamoxifenorinhibitestrogenbiosynthesise.g.,witharomatase Umetanietal.,2007Lappanoetal.,2011.22R-hydroxycholes- inhibitors Patel et al., 2007. However, initial resistance to terol, which inhibits E activation of either ERa or ERb, and 2 CellReports5,637645,November14,20132013TheAuthors 637A B Figure 1. 27HC Promotes MCF-7 Cell and Ishikawa Cell Proliferation, and In Vivo 27HC Stimulates MCF-7 Cell Xenograft GrowthandanUterotrophicResponse ADCellproliferationwasevaluatedbyquanti- fyingBrdUAor3H-thymidineincorporationBD, n48.AGrowthresponsesofMCF-7cellstoE2 10cid18M or 27HC treatment 10cid18 to 10cid16M for 24hrwerecompared.BThedoseresponseof MCF-7cellsto27HC10cid19to10cid16M,for24hrwas determined. C The requirement for ERa in the growthresponseofMCF-7cellstoE210cid18Mor C D 27HC10cid16Mwasevaluatedincellstreatedwith methyl-piperidino-pyrazoleMPP,10mMfor24hr. D Growth responses of Ishikawa cells to E2 10cid18M or 27HC treatment 10cid18 to 10cid16M for 24hrwerecompared. EMCF-7cellxenograftgrowthwascomparedin SCIDmicetreatedwithvehicle,27HC,orE for 2 28days.Representativetumorsareshown. FTumorweightsatendofstudyn910. G Uterine weightbody weight ratio in mice treatedfor28dayswithvehicle,E,or27HCn6. 2 p0.05versusvehicle,yp0.05versusnoMPP. All values shown are mean SEM. See also E G FiguresS1,S2,andS3. the operative receptor orgrowth-related responses to less than 10cid16 M 27HC DuSell et al., 2008 it is now apparent F that at physiologic levels the oxysterol stimulatesMCF-7cellgrowthviaERa. In addition to MCF-7 and other ER breast cancer cell lines, studies were performed with the human endometrial Ishikawa cell line that provides a cell- culture model of endometrial cancer Vollmer, 2003. With an effect equal to thatofE ,27HCstimulatedIshikawacell 2 growthFigure1D.Thus,theproliferative 7-ketocholesterol, which does not bind to ER Umetani et al., responseto27HCisnotuniquetobreastcancer,andthegrowth 2007,didnotpromoteMCF-7cellproliferation.27HCalsostim- ofanothersex-steroid-responsivemalignancyisalsoenhanced ulated proliferation in threeother ER breastcancer cell lines, bytheoxysterol. HCC1428,T47D,andZR75,indicatingthattheresponseisnot To determine how 27HC impacts ER breast tumor growth unique to MCF-7 cells Figure S2. MCF-7 cells express both in vivo, MCF-7 cell xenografts were studied in ovariectomized ERa and liver X receptors LXR DuSell et al., 2008 El Roz female SCID mice. Following tumor establishment with E , 2 etal.,2012,and27HCisaligandforbothreceptorsJanowski mice received vehicle, 27HC, or E for 4 weeks, and tumors 2 etal.,1999Umetanietal.,2007.ToevaluatewhetherLXRacti- wereharvestedFigure1E.Tumorweightwasincreased73 vation stimulates MCF-7 cell growth, the impact of the LXR by 27HC and 173 by E Figure 1F. Thus, 27HC stimulates 2 agonist T1317 was determined. In contrast to 27HC Figures ERbreasttumorgrowthinvivo. 1Aand1B,theLXRagonistT1317causedadeclineinMCF-7 Toevaluateanadditionalestrogen-sensitivetissue,theeffects cellproliferationFigureS3.Thisfindingmirrorspriorobserva- of27HContheuterusweredeterminedinovariectomizedmice tionsthat,whereasERactivationstimulatesERabreastcancer Figure 1G. E and 27HC caused equivalent 2.4- and 2.6-fold 2 cellgrowth,LXRactivationisinhibitoryElRozetal.,2012Vedin increases in uterine weight, providing further evidence that et al., 2009. Arequirement for ERain 27HC action on MCF-7 27HCisagrowth-promotingERligandinvivo. cells was then demonstrated by the finding that both E - and 2 27HC-inducedcellproliferationwaspreventedbytheselective 27HCIsAbundantinNormalBreastTissueandinER ERa antagonist methyl-piperidino-pyrazole MPP, 10 mM Fig- TumorsfromCancerPatients ure1CSunetal.,2002.Theseresultsexpanduponourprior Thepotentialimpactof27HConERbreastcancerinwomen workon27HCandMCF-7cellproliferation,whichdidnotreveal was then investigated. Women with ERa breast cancer and 638 CellReports5,637645,November14,20132013TheAuthorsA B Figure 2. 27HC Content Is Increased in Normal Breast Tissue and Tumors from ER Breast Cancer Patients, and It Is LocallyModulated AandBSerum27HC Aandtotalcholesterol concentration B in control and breast cancer patientsn17and58,respectively.Valuesfor tencancerpatientswithserum27HCgreaterthan 2SDabovethemeanvalueforcontrolsareshown inred. CandDRelationshipofserum27HCtoserum C D cholesterolconcentrationincontrolsC,n17 andcancerpatientsD,n58. E 27HC content in normal breast tissue from controlsn17andcancerpatientsn48andin tumorsn32.p0.05versuscontrol,yp0.05 versuscancerpatientnormalbreast. F and G Relationship of normal breast 27HC contenttoserum27HCincontrolsF,n17and cancerpatientsG,n40. HandIRelationshipoftumor27HCcontentto serum27HCHornormalbreast27HCcontentI E incancerpatientsn27. SeealsoFigureS4. mean for controls red values in Figures 2Aand2B.Meantotalserumcholesterol levels were also similar in the two study groups Figure 2B. Notably, of the ten cancerpatientswithelevatedcirculating F G 27HC compared to controls, only one had hypercholesterolemia. Because 27HC is a cholesterol metabolite trans- ported in the same lipoprotein particles as cholesterol, there was a predictable positive association between serum 27HC and cholesterol in both controls and cancer patients Figures 2C and 2D. However, whereas the amount of variabilityinserum27HCthatwasrelated H I tocholesterolincontrolswas40,itwas only18incancerpatients.Thesefind- ings suggest that processes governing 27HC synthesis from cholesterol or 27HC metabolism may be altered in a subsetofwomenwithERbreastcancer. 27HC was then quantified in normal breast tissue and in tumors Figure 2E. There were insufficient amounts of samples to also measure estrogen con- tent. Compared to controls, there was 3-fold greater 27HC in normal breast age- and race-matched cancer-free subjects were recruited tissue from cancer patients, and tumor content was further fromthe UTSouthwestern CenterforBreastCare n66and elevated by 2.3-fold. Possible relationships between breast 18, respectively. Clinical parameters for the two groups are tissue 27HC content and either serum 27HC Figures 2F and shown in Table S1. At presentation, mean serum 27HC levels 2G or serum cholesterol were assessed Figures S4A and were comparable in the two groups Figure 2A. Interestingly, S4B, and none was found. In addition, in cancer patients no there was a broader range of serum 27HC in cancer patients, relationshipswereobservedbetweentumor27HCcontentand with ten subjects having levels greater than 2SD above the either serum 27HC or normal breast tissue 27HC Figures 2H CellReports5,637645,November14,20132013TheAuthors 639A B C D E F G legendonnextpage 640 CellReports5,637645,November14,20132013TheAuthorsand 2I. These findings indicate that 27HC abundance in the CYP27A1abundanceFigure3F,survivalwasmarkedlypoorer breast and in ER tumors is not governed by circulating forpatientswithlowversushightumorCYP7B1expressionFig- levels of the oxysterol or its substrate, but instead by local ure3G.Multivariate Coxregressionmodeling furtherrevealed mechanisms. that low CYP7B1 expression continues to be associated with poor overall survival outcome HR 7.28 and p 0.00178 CYP7B1ExpressionIsDiminishedinERTumorsand even after adjusting for the effects of age, tumor size, nodal PredictiveofOverallSurvival status,andperioperativetherapyTableS2.Thus,theprognosis To determine if breast cancer cells possess the molecular forERbreastcancerispredictedbyprocessesinthetumorthat machinery required to regulate 27HC abundance, CYP27A1 govern27HCmetabolism. and CYP7B1 expression were evaluated in 31 breast cancer cell lines Figure 3A. CYP27A1 and CYP7B1 transcripts were 27HCTargetGenesPromoteERBreastCancerGrowth detectedinthemajorityofthecelllines,atvaryinglevels.Having Now knowing that diminished CYP7B1 expression enhances determinedthatneithercirculatingconcentrationsof27HCnor ER breast cancer cell proliferation, and that in parallel it itsprecursor influence27HC levelsin ER breasttumors Fig- adverselyimpactsclinicaloutcome,potentiallyoperativetarget ure 2, we next compared CYP27A1 and CYP7B1 expression genes of 27HC were identified by comparing gene expression in 406 ER tumors versus 63 normal breast tissue samples in inCYP7B1-lowversusCYP7B1-hightumorsinTCGA.Usinga TheCancerGenomeAtlasTCGA2012.CYP27A1expression falsediscoveryrateof0.001,3,233genesweredownregulated was similar in normal breast and ER tumors Figure 3B. In inCYP7B1-lowversusCYP7B1-hightumors,and1,026genes contrast, CYP7B1 expression was decreased by 50 in ER were upregulated Figure 4A. Considering only probes with tumors compared with normal breast tissue Figure 3C. As high expression level variance fold change 2 or 12, there such,theelevationin27HCfoundinERtumorsisnotrelated were 569 downregulated genes and 14 upregulated genes in toanincreaseinthesynthesizingenzymeCYP27A1butinstead CYP7B1-low versus CYP7B1-high tumors Figure 4B. Gene toalossof27HCmetabolismbyCYP7B1. setenrichmentanalysisfurtherrevealedthatgenesassociated Wenextdeterminedhowadeclineintheabilitytometabolize withbreastcancerandothermalignanciesarehighlyenriched 27HCimpactsERbreastcancercellgrowthFigure3D.Inthe inCYP7B1-lowbreasttumorsTableS3. absence of exogenous 27HC, small interfering RNA siRNA The 14 upregulated genes in CYP7B1-low versus CYP7B1- knockdown of CYP7B1 caused a 78 increase in MCF-7 cell hightumorsTableS4,whicharethereforeupregulatedunder proliferation. Furthermore, whereas 27HC treatment of control conditionsinwhich27HCiselevated,includegenesimplicated cells stimulated growth to levels observed with CYP7B1 dele- in ER-driven cancers and ERa itself. 27HC modulation of four tion, there was no additional proliferation with 27HC in cells ofthesegeneswastestedinMCF-7cells.C6orf211isanopen deficient in CYP7B1. These findings indicate that ER breast reading frame immediately upstream of the ERa gene whose cancercellssynthesize27HC,whichpromotesreplication ina silencing in MCF-7 blunts proliferation Dunbier et al., 2011. cell-autonomousmanner,andthatsuchreplicationisenhanced PARD6Bpar-6partitioningdefective6homolog-bisaSRC-3 if CYP7B1 is deficient. Further evidence of 27HC-induced and ER target gene implicated in cell transformation Labhart cell-autonomous growth is provided by the finding that the etal.,2005Qiuetal.,2000.ThereceptortyrosinekinaseRET increase in MCF-7 cell proliferation with CYP7B1 knockdown anditscoreceptorGFRa1GDNFfamilya-receptor-1areupre- ispreventedbyERaantagonismwithMPPFigure3E.Inintact gulated in a subset of ER breast cancers, and GDNF-RET tumors,stromalcellsmaybeanadditionallocalsourceof27HC, signalingisamajordeterminantoftheresponsetoanddevelop- becausemacrophagesexpressthe27HC-synthesizingenzyme mentofresistancetoaromataseinhibitionMorandietal.,2011. CYP27A1andgenerate27HCHanssonetal.,2003. Mirroring E action, 27HC caused 1.9- to2.3-fold increases in 2 HavingfoundthatrelativeCYP7B1expressioninfluencesER C6orf211, PARD6B, GFRa1, and RET expression Figures breast cancer cell replication, how tumor CYP7B1 expression 4C4F. The impact of 27HC on GDNF expression was also impacts overall patient outcome was queried using the TCGA determined, and it increased expression of the ligand by data set. Kaplan-Meier curves were generated for cancer 2.4-foldFigure4G.Incontrastto27HCandconsistentwitha patients in the lowest versus highest quartiles for tumor lack of stimulation of MCF-7 cell proliferation, LXR activation CYP7B1 or CYP27A1 expression. Whereas overall survival by T1317 did not upregulate GFRa1 or RET expression in curves were similar for patients with low versus high tumor MCF-7 cells, and GDNF expression was increased by only Figure3. BreastCancerCellsExpressCYP27A1andCYP7B1andDisplayCell-Autonomous27HC-Driven,ERa-DependentGrowth,and CYP7B1ExpressionIsDiminishedinERTumorsandPredictiveofOverallSurvival ACYP27A1andCYP7B1transcriptabundancewasevaluatedin31breastcancercelllines.Heatmapshowsabsoluteexpression,andlowversushigh expressionisdefinedrelativetothemedianexpressionlevelofallgenesonthearray. BandCExpressionofCYP27A1andCYP7B1werecomparedin63normalbreastsamplesand406ERbreasttumorsinTheCancerGenomeAtlasTCGA.In thebeanplotsshown,eachshortblacklineisasample,thelongblacklineisthemean,andtheshapeofthebeanrevealsthedistributionofthesamples. DandECellproliferationwascomparedincontrolsiRNA-transfectedMCF-7cellsandincellstransfectedwithsiRNAtargetingCYP7B1,intheabsenceor presenceof27HC10cid18to10cid16Mfor24hrD,orintheabsenceorpresenceofMPP10mMfor24hrE.InDandE,valuesaremeanSEM,n4,p0.05 versuscontrolsiRNA,yp0.05versusno27HCornoMPP. FandGKaplan-MeiercurvesforTCGAERbreastcancerpatientsinthehighestversuslowestquartilesfortumorCYP27A1ForCYP7B1G. SeealsoFigureS6A. CellReports5,637645,November14,20132013TheAuthors 641A B C D E F G H legendonnextpage 642 CellReports5,637645,November14,20132013TheAuthors20FiguresS5AS5C.ParticipationofGDNF-RETsignalingin 2010Guetal.,2011Nunezetal.,2008.Althoughthebasisby 27HC-inducedcellproliferationwasthenevaluatedbysilencing which menopause, hypercholesterolemia and obesity promote RET Figure 4H. Whereas 27HC stimulated proliferation in ER breast cancer is multifaceted Cleary et al., 2010 Gu control cells, it had no impact on RET-depleted cells. Thus, et al., 2011, 27HC should now be considered as a potentially numerousgenesaremodulatedby27HCinERbreastcancer, criticalpathogeneticfactor. theseincludecomponentsofGDNF-RETsignaling,andthelatter Ourdiscoveryof27HCasthesecondendogenousERligand arecriticallyinvolvedin27HC-inducedcancercellproliferation. that promotes ER breast tumor growthhas important clinical implications. Because estrogen upregulates CYP7B1 Tang DISCUSSION etal.,2008Yamamotoetal.,2006andlowers27HCasnoted above,eithertamoxifen treatmentoraromataseinhibitionmay TodateestrogenhasbeentheonlyknownendogenousERligand increasetheabundanceofthesecondoncogenicERligand.In thatpromotesERbreasttumorgrowth.Becauseresistanceto addition, 27HC is a nonaromatized molecule whose synthesis aromataseinhibitioniscommonandoftenevidentattreatment isunaffectedbyaromataseinhibition.Assuch,assessmentsof initiation Chen et al., 2006, other ER-mediated mechanisms tumor CYP7B1 expression or 27HC content may provide a maybeoperativeindiseasepathogenesis.Wehavediscovered potentially critical means to personalize hormone-based thatthecholesterolmetabolite27HCstimulatesMCF-7cellxeno- therapy.Furthermore,lowering27HCabundancemayrepresent graftgrowthinmice.Inparallel,wehaveshownthat,inERbreast a key strategy for combating a subset of ER breast cancers. cancer patients, 27HC content in normal breast tissue is JustasimportantisthefindingthatlowtumorCYP7B1isasso- increased compared to cancer-free controls, and that tumor ciatedwithpoorerERbreastcancerpatientsurvival,suchthat 27HCabundanceisfurtherelevated.Wehavealsodetermined theevaluationoftumorCYP7B1or27HCabundancemayalso in women that neither normal breast nor tumor 27HC content haveprognosticvalue. areinfluencedbycirculatinglevelsof27HCoritsprecursor,and Now knowing that CYP7B1 influences ER breast cancer thatincreasesintumor27HCareinsteadrelatedtodiminished pathogenesisandprognosis,studiesofpotentialsomaticmuta- expression of the 27HC metabolizing enzyme CYP7B1. These tions of the gene are warranted. At the same time, because collectivefindingsrevealthat27HCisalocallymodulated,nonar- endometrialcancercellgrowthisalsopromotedby27HC,the omatizedERligandthatpromotesERbreastcancergrowth. oxysterol and its regulatory enzymes deserve interrogation in Therearethreeclinicalconditionsinwhich27HCabundanceis othersteroidhormone-responsivecancers.Throughsuchefforts elevated.Thefirstisduringthepostmenopausalperiod.Serum the cancer-promoting capacity of 27HC will be better under- 27HC levels increase in women after menopause Burkard stood,andthismayleadtofurtheroptimizationoftheprevention et al., 2007, and this may be related to estrogen deprivation andtreatmentofER-dependentcancers. becauseinmiceE upregulateshepaticCYP7B1expressionin 2 anERa-dependentmannerwithoutimpactingCYP27A1Yama- EXPERIMENTALPROCEDURES moto et al., 2006, and it lowers serum 27HC T.I. and M.U., unpublisheddata.27HCabundanceisalsopredictablyelevated Detailed experimental information is provided in the Supplemental Experi- inthesettingofhypercholesterolemiaBrownandJessup,1999 mentalProcedures. Umetani et al., 2007, and with obesity, which is frequently a CellCulture,GeneSilencing,andAssessmentsofGeneExpression comorbidity with hypercholesterolemia Lerman et al., 2005 StudieswereperformedinMCF-7,HCC1428,T47D,ZR75-1,andIshikawa Reaven, 2005. In mice, a high-fat, high-cholesterol western cells.InMCF-7,CYP7B1orRETweredeletedusingsiRNA-basedstrategies. dietelevatesserum27HCby2-to3-foldT.I.andM.U.,unpub- Potential27HCorLXRtargetgeneswereevaluatedbyquantitativeRT-PCR. lished data. In women, both dyslipidemia and obesity raise In all cell-culture studies, findings were confirmed in three independent breastcancerriskandseverity,withobesityparticularlyhaving experiments. anadverseimpactinpostmenopausalwomenBianchinietal., 2002 Calle et al., 2003 Furberg et al., 2004 Michalaki et al., CellProliferation 2005, and breast cancer promotion by hypercholesterolemia Cellproliferationwasassessedbyquantifying3H-thymidineorBrdUincorpo- ration. The role of ERa in cell proliferation was queried using the highly orobesityhas been demonstrated inanimal models Llaverias selectiveantagonistMPPSunetal.,2002. etal.,2011Nunezetal.,2008.Notably,epidemiologicstudies indicatethatinwomenobesityaffectsonlyERbreastcancers OrthotopicBreastTumorXenograftModel Althuisetal.,2004,andsimilarlyinmiceonlyERbreastcancer ExperimentsapprovedbytheInstitutionalAnimalCareandUseCommitteeat modelsdisplaygreatertumorgrowthwithobesityClearyetal., UT Southwestern were performed in female SCID mice as previously Figure4. 27HCModulatesGeneExpressioninERBreastCancerandTherebyPromotesCancerCellGrowth AandBGeneexpressionwascomparedinTCGAERbreasttumorsinthehighestversuslowestquartilesfortumorCYP7B1expressionn102group.A UsingSAMRanalysisandafalsediscoveryrateof0.001,3,233genesweredownregulatedinCYP7B1-lowversusCYP7B1-hightumors,and1,026geneswere upregulated.BHeatmapofthe583differentiallyexpressedDEgeneswithhighexpressionlevelvariancebetweenthetwoCYP7B1expressiongroups. CYP7B1lowandhighgroupsarenotedabovetheheatmapinblackandred,respectively. CGEffectofE 10cid19Mversus27HC10cid16MonMCF-7cellexpressionofC6orf211C,PARD6BD,GFRa1E,RETF,andGDNFG. 2 HTheeffectof27HC10cid18to10cid16Mfor24hronMCF-7cellproliferationwascomparedincellstransfectedwithcontrolsiRNAversussiRNAtargetingRET. InCH,valuesshownaremeanSEM,n8,p0.05versusvehicle.SeealsoFiguresS5AS5CandS6B. CellReports5,637645,November14,20132013TheAuthors 643describedChamblissetal.,2010.FollowingMCF-7xenograftestablishment Calle, E.E., Rodriguez, C., Walker-Thurmond, K., and Thun, M.J. 2003. withE2,micereceivedevery-other-dayinjectionsofvehicle,27HC100mg,or Overweight, obesity, and mortality from cancer in a prospectively studied E26mgfor28days,andtumorswereharvestedandweighed. cohortofU.S.adults.N.Engl.J.Med.348,16251638. Chambliss,K.L.,Wu,Q.,Oltmann,S.,Konaniah,E.S.,Umetani,M.,Korach, ControlandBreastCancerPatientEnrollment K.S.,Thomas,G.D.,Mineo,C.,Yuhanna,I.S.,Kim,S.H.,etal.2010.Non- Humanbenignbreasttissueandprimarybreasttumorswereobtainedfrom nuclearestrogenreceptoralphasignalingpromotescardiovascularprotection the UT Southwestern Tissue Repository under institutional-review-board- butnotuterineorbreastcancergrowthinmice.J.Clin.Invest.120,2319 approvedstudies. 2330. Chen,S.,Masri,S.,Wang,X.,Phung,S.,Yuan,Y.C.,andWu,X.2006.What 27HCandCholesterolQuantification do we know about the mechanisms of aromatase inhibitor resistance? 27HCwasquantifiedinserumandtissuesamplesusinghigh-pressureliquid J.SteroidBiochem.Mol.Biol.102,232240. chromatography-massspectrometryMcDonaldetal.,2012,andtotalserum Cleary,M.P.,Grossmann,M.E.,andRay,A.2010.Effectofobesityonbreast cholesterolwasmeasuredaspreviouslydescribedZhangetal.,2012. cancerdevelopment.Vet.Pathol.47,202213. Dunbier,A.K.,Anderson,H.,Ghazoui,Z.,Lopez-Knowles,E.,Pancholi,S., BreastCancerCellLineGeneExpression Ribas, R., Drury, S., Sidhu, K., Leary, A., Martin, L.A., and Dowsett, M. CYP27A1andCYP7B1expressionwereevaluatedinbreastcancercelllines 2011.ESR1isco-expressedwithcloselyadjacentuncharacterisedgenes usingAffymetrixGeneChipshttpwww.affymetrix.com. spanning a breast cancer susceptibility locus at 6q25.1. PLoS Genet. 7, e1001382. TumorGeneExpressionandPrognosis DuSell,C.D.,Umetani,M.,Shaul,P.W.,Mangelsdorf,D.J.,andMcDonnell, UsingTheCancerGenomeAtlasTCGAhttpwww.cancergenome.nih.gov, D.P. 2008. 27-hydroxycholesterol is an endogenous selective estrogen expressionlevelsofCYP27A1,andCYP7B1werecomparedinnormalbreast receptormodulator.Mol.Endocrinol.22,6577. samples and ER breast tumors. In tumor samples, differences in gene expressionandinoverallpatientoutcomewerethencomparedinthehighest Dzeletovic,S.,Breuer,O.,Lund,E.,andDiczfalusy,U.1995.Determinationof versuslowestCYP27A1orCYP7B1expressionquartiles. cholesterol oxidation products in human plasma by isotope dilution-mass spectrometry.Anal.Biochem.225,7380. StatisticalAnalysis ElRoz,A.,Bard,J.M.,Huvelin,J.M.,andNazih,H.2012.LXRagonistsand Comparisonsweremadebetweenmultiplegroupsbyanalysisofvariance ABCG1-dependentcholesteroleffluxinMCF-7breastcancercellsrelation ANOVAwithNeuman-Keulsposthoctesting.Whenindicated,nonparametric toproliferationandapoptosis.AnticancerRes.32,30073013. ANOVAKruskal-WallaceandposthocDunntestingwasperformed.Signifi- Furberg,A.S.,Veierd,M.B.,Wilsgaard,T.,Bernstein,L.,andThune,I.2004. cancewasdefinedasp0.05.AllvaluesshownaremeanSEM. Serum high-density lipoprotein cholesterol, metabolic profile, and breast cancerrisk.J.Natl.CancerInst.96,11521160. SUPPLEMENTALINFORMATION Gu, J.W., Young, E., Patterson, S.G., Makey, K.L., Wells, J., Huang, M., Tucker,K.B.,andMiele,L.2011.Postmenopausalobesitypromotestumor SupplementalInformationincludesSupplementalExperimentalProcedures, angiogenesisandbreastcancerprogressioninmice.CancerBiol.Ther.11, sixfigures,andfourtablesandcanbefoundwiththisarticleonlineathttp 910917. dx.doi.org10.1016j.celrep.2013.10.006. Hansson,M.,Ellis,E.,Hunt,M.C.,Schmitz,G.,andBabiker,A.2003.Marked inductionofsterol27-hydroxylaseactivityandmRNAlevelsduringdifferenti- ACKNOWLEDGMENTS ation of human cultured monocytes into macrophages. Biochim. Biophys. Acta1593,283289. ThisworkwassupportedbyDepartmentofDefenseIdeaAwardW81XWH-09- Janowski,B.A.,Grogan,M.J.,Jones,S.A.,Wisely,G.B.,Kliewer,S.A.,Corey, 1-0263,agrantfromtheMaryKayFoundation,andR01HL087564P.W.S., E.J.,andMangelsdorf,D.J.1999.Structuralrequirementsofligandsforthe CPRIT RP101251 H.T., L.G., and Y.X., U54-GM0-069338, R01HL020948 oxysterol liver X receptors LXRalpha and LXRbeta. Proc. Natl. Acad. Sci. and Robert A. Welch Foundation Grant I-0971 J.G.M. and B.T., USA96,266271. R01CA152301 H.T. and Y.X., an Effie Marie Cain Research Scholarship Jensen,E.V.,andJordan,V.C.2003.Theestrogenreceptoramodelfor R.A.B.,andtheSimmonsComprehensiveCancerCenterTissueRepository molecularmedicine.Clin.CancerRes.9,19801989. D.M.E.. Labhart,P.,Karmakar,S.,Salicru,E.M.,Egan,B.S.,Alexiadis,V.,OMalley, B.W.,andSmith,C.L.2005.Identificationoftargetgenesinbreastcancer ReceivedJuly1,2013 cells directly regulated by the SRC-3AIB1 coactivator. RevisedSeptember11,2013 Sci.USA102,13391344. AcceptedOctober2,2013 PublishedNovember7,2013 Lappano,R.,Recchia,A.G.,DeFrancesco,E.M.,Angelone,T.,Cerra,M.C., Picard,D.,andMaggiolini,M.2011.Thecholesterolmetabolite25-hydroxy- REFERENCES cholesterolactivatesestrogenreceptora-mediatedsignalingincancercells andincardiomyocytes.PLoSONE6,e16631. Althuis,M.D.,Fergenbaum,J.H.,Garcia-Closas,M.,Brinton,L.A.,Madigan, Lerman,L.O.,Chade,A.R.,Sica,V.,andNapoli,C.2005.Animalmodelsof M.P.,andSherman,M.E.2004.Etiologyofhormonereceptor-definedbreast hypertensionanoverview.J.Lab.Clin.Med.146,160173. cancerasystematicreviewoftheliterature.CancerEpidemiol.Biomarkers Li-Hawkins,J.,Lund,E.G.,Turley,S.D.,andRussell,D.W.2000.Disruptionof Prev.13,15581568. theoxysterol7alpha-hydroxylasegeneinmice.J.Biol.Chem.275,16536 Bianchini,F.,Kaaks,R.,andVainio,H.2002.Overweight,obesity,andcancer 16542. risk.LancetOncol.3,565574. Llaverias,G.,Danilo,C.,Mercier,I.,Daumer,K.,Capozza,F.,Williams,T.M., Brown, A.J., and Jessup, W. 1999. Oxysterols and atherosclerosis. Sotgia,F.,Lisanti,M.P.,andFrank,P.G.2011.Roleofcholesterolinthe Atherosclerosis142,128. developmentandprogressionofbreastcancer.Am.J.Pathol.178,402412. Burkard,I.,vonEckardstein,A.,Waeber,G.,Vollenweider,P.,andRentsch, McDonald,J.G.,Smith,D.D.,Stiles,A.R.,andRussell,D.W.2012.Acompre- K.M. 2007. Lipoprotein distribution and biological variation of 24S- and hensivemethodforextractionandquantitativeanalysisofsterolsandsecos- 27-hydroxycholesterolinhealthyvolunteers.Atherosclerosis194,7178. teroidsfromhumanplasma.J.LipidRes.53,13991409. 644 CellReports5,637645,November14,20132013TheAuthorsMcPherson,K.,Steel,C.M.,andDixon,J.M.2000.ABCofbreastdiseases. Tang,W.,Pettersson,H.,andNorlin,M.2008.InvolvementofthePI3KAkt Breastcancer-epidemiology,riskfactors,andgenetics.BMJ321,624628. pathway in estrogen-mediated regulation of human CYP7B1 identification Michalaki,V.,Koutroulis,G.,Syrigos,K.,Piperi,C.,andKalofoutis,A.2005. ofCYP7B1asanoveltargetforPI3KAktandMAPKsignalling.J.Steroid Evaluationofserumlipidsandhigh-densitylipoproteinsubfractionsHDL2, Biochem.Mol.Biol.112,6373. HDL3inpostmenopausalpatientswithbreastcancer.Mol.Cell.Biochem. Umetani,M.,Domoto,H.,Gormley,A.K.,Yuhanna,I.S.,Cummins,C.L.,Javitt, 268,1924. N.B.,Korach,K.S.,Shaul,P.W.,andMangelsdorf,D.J.2007.27-Hydroxy- Morandi,A.,Plaza-Menacho,I.,andIsacke,C.M.2011.RETinbreastcancer cholesterolisanendogenousSERMthatinhibitsthecardiovasculareffects functionalandtherapeuticimplications.TrendsMol.Med.17,149157. ofestrogen.Nat.Med.13,11851192. Nunez, N.P., Perkins, S.N., Smith, N.C., Berrigan, D., Berendes, D.M., Varticovski,L.,Barrett,J.C.,andHursting,S.D.2008.Obesityaccelerates Vedin,L.L.,Lewandowski,S.A.,Parini,P.,Gustafsson,J.A.,andSteffensen, mousemammarytumorgrowthintheabsenceofovarianhormones.Nutr. K.R.2009.TheoxysterolreceptorLXRinhibitsproliferationofhumanbreast Cancer60,534541. cancercells.Carcinogenesis30,575579. Patel,R.R.,Sharma,C.G.,andJordan,V.C.2007.Optimizingtheantihor- Vollmer,G.2003.Endometrialcancerexperimentalmodelsusefulforstudies monaltreatmentandpreventionofbreastcancer.BreastCancer14,113122. on molecular aspects of endometrial cancer and carcinogenesis. Endocr. Qiu,R.G.,Abo,A.,andStevenMartin,G.2000.AhumanhomologoftheC. Relat.Cancer10,2342. eleganspolaritydeterminantPar-6linksRacandCdc42toPKCzetasignaling andcelltransformation.Curr.Biol.10,697707. Yamamoto,Y.,Moore,R.,Hess,H.A.,Guo,G.L.,Gonzalez,F.J.,Korach,K.S., Reaven,G.M.2005.WhySyndromeX?FromHaroldHimsworthtotheinsulin Maronpot,R.R.,andNegishi,M.2006.Estrogenreceptoralphamediates resistancesyndrome.CellMetab.1,914. 17alpha-ethynylestradiolcausinghepatotoxicity.J.Biol.Chem.281,16625 16631. Russell, D.W. The enzymes, regulation, and genetics of bile acid synthesis.Annu.Rev.Biochem.72,137174. Zhang,Y.,Breevoort,S.R.,Angdisen,J.,Fu,M.,Schmidt,D.R.,Holmstrom, Sun,J.,Huang,Y.R.,Harrington,W.R.,Sheng,S.,Katzenellenbogen,J.A.,and S.R., Kliewer, S.A., Mangelsdorf, D.J., and Schulman, I.G. 2012. Liver Katzenellenbogen,B.S.2002.Antagonistsselectiveforestrogenreceptor LXRa expression is crucial for whole body cholesterol homeostasis and alpha.Endocrinology143,941947. reversecholesteroltransportinmice.J.Clin.Invest.122,16881699. CellReports5,637645,November14,20132013TheAuthors 645\n"
          ]
        }
      ]
    },
    {
      "cell_type": "markdown",
      "source": [
        "2.3 Normalization"
      ],
      "metadata": {
        "id": "BzMTyL7B2pmo"
      }
    },
    {
      "cell_type": "code",
      "source": [
        "import nltk\n",
        "from nltk.tokenize import word_tokenize\n",
        "from nltk.corpus import stopwords\n",
        "\n",
        "# Download NLTK packages\n",
        "nltk.download('punkt')\n",
        "nltk.download('stopwords')\n",
        "\n",
        "# Tokenization and normalization function\n",
        "def preprocess_text(text):\n",
        "    # Convert to lowercase and tokenize\n",
        "    tokens = word_tokenize(text.lower())\n",
        "\n",
        "    # Remove punctuation marks and stop words\n",
        "    tokens = [word for word in tokens if word.isalpha()]  # Keep only alphabetic words\n",
        "    stop_words = set(stopwords.words('english'))\n",
        "    tokens = [word for word in tokens if word not in stop_words]\n",
        "\n",
        "    return tokens\n",
        "\n",
        "# Preprocess each extracted text\n",
        "preprocessed_texts = [preprocess_text(text) for text in pdf_texts]"
      ],
      "metadata": {
        "id": "tEMH-HPJ2LU7",
        "colab": {
          "base_uri": "https://localhost:8080/"
        },
        "outputId": "d0a02419-8033-4537-cf3a-ea9562c6cac8"
      },
      "execution_count": 32,
      "outputs": [
        {
          "output_type": "stream",
          "name": "stderr",
          "text": [
            "[nltk_data] Downloading package punkt to /root/nltk_data...\n",
            "[nltk_data]   Package punkt is already up-to-date!\n",
            "[nltk_data] Downloading package stopwords to /root/nltk_data...\n",
            "[nltk_data]   Package stopwords is already up-to-date!\n"
          ]
        }
      ]
    },
    {
      "cell_type": "markdown",
      "source": [
        "2.4 Entity Recognition"
      ],
      "metadata": {
        "id": "YFVKexuD_jpt"
      }
    },
    {
      "cell_type": "code",
      "source": [
        "import spacy\n",
        "\n",
        "#Loading spaCy's small English model\n",
        "nlp = spacy.load('en_core_web_sm')\n",
        "\n",
        "#Function for NER\n",
        "def perform_ner(text):\n",
        "  doc = nlp(text)\n",
        "  entities = [(ent.text, ent.label_) for ent in doc.ents]\n",
        "  return entities\n",
        "\n",
        "#Performing NER on each text\n",
        "entities_per_doc = [perform_ner(\" \".join(tokens)) for tokens in preprocessed_texts]"
      ],
      "metadata": {
        "id": "9ix7VcDV0pch"
      },
      "execution_count": 33,
      "outputs": []
    },
    {
      "cell_type": "markdown",
      "source": [
        "2.5 Stemming/Lemmatization"
      ],
      "metadata": {
        "id": "WFhl1eEHA9-T"
      }
    },
    {
      "cell_type": "code",
      "source": [
        "#Using PorterStemmer\n",
        "from nltk.stem import PorterStemmer\n",
        "\n",
        "#Initializing stemmer\n",
        "stemmer = PorterStemmer()\n",
        "\n",
        "#Function to stem tokens\n",
        "def stem_tokens (tokens):\n",
        "  return [stemmer.stem(token) for token in tokens]\n",
        "\n",
        "#Applying stemming to each document\n",
        "stemmed_texts = [stem_tokens(tokens) for tokens in preprocessed_texts]"
      ],
      "metadata": {
        "id": "5gOp-dQvBEKd"
      },
      "execution_count": 34,
      "outputs": []
    },
    {
      "cell_type": "code",
      "source": [
        "# Importing spacy for lemmatization\n",
        "import spacy\n",
        "\n",
        "# Loading the spacy model\n",
        "nlp = spacy.load('en_core_web_sm')\n",
        "\n",
        "# Function to lemmatize tokens\n",
        "def lemmatize_tokens(tokens):\n",
        "    return [token.lemma_ for token in nlp(\" \".join(tokens)) if token.is_alpha]\n",
        "\n",
        "# Applying lemmatization to each document\n",
        "lemmatized_texts = [lemmatize_tokens(tokens) for tokens in preprocessed_texts]"
      ],
      "metadata": {
        "id": "uU0d0tCXBEF-"
      },
      "execution_count": 35,
      "outputs": []
    },
    {
      "cell_type": "markdown",
      "source": [
        "3. **Indexing with Search Features**"
      ],
      "metadata": {
        "id": "5hn3U1llXzmU"
      }
    },
    {
      "cell_type": "markdown",
      "source": [
        "3.1 Integrating Elasticsearch"
      ],
      "metadata": {
        "id": "EIxBnH7kYy1N"
      }
    },
    {
      "cell_type": "code",
      "source": [
        "# Install Elasticsearch\n",
        "!pip install elasticsearch"
      ],
      "metadata": {
        "colab": {
          "base_uri": "https://localhost:8080/"
        },
        "id": "HWiBcPssXw8j",
        "outputId": "3897a9af-4d9a-4b75-9d41-09c565434003"
      },
      "execution_count": 38,
      "outputs": [
        {
          "output_type": "stream",
          "name": "stdout",
          "text": [
            "Requirement already satisfied: elasticsearch in /usr/local/lib/python3.10/dist-packages (8.15.1)\n",
            "Requirement already satisfied: elastic-transport<9,>=8.13 in /usr/local/lib/python3.10/dist-packages (from elasticsearch) (8.15.0)\n",
            "Requirement already satisfied: urllib3<3,>=1.26.2 in /usr/local/lib/python3.10/dist-packages (from elastic-transport<9,>=8.13->elasticsearch) (2.2.3)\n",
            "Requirement already satisfied: certifi in /usr/local/lib/python3.10/dist-packages (from elastic-transport<9,>=8.13->elasticsearch) (2024.8.30)\n"
          ]
        }
      ]
    },
    {
      "cell_type": "code",
      "source": [
        "# set up elasticsearch connection\n",
        "\n",
        "from elasticsearch import Elasticsearch\n",
        "\n",
        "# Connect to the local Elasticsearch instance\n",
        "es = Elasticsearch([{'host': 'localhost', 'port': 9200, 'scheme': 'http'}])\n",
        "\n",
        "# Check if the connection is successful\n",
        "if es.ping():\n",
        "    print(\"Connected to Elasticsearch!\")\n",
        "else:\n",
        "    print(\"Could not connect to Elasticsearch.\")\n",
        "\n"
      ],
      "metadata": {
        "colab": {
          "base_uri": "https://localhost:8080/"
        },
        "id": "DIc4A51TZG1X",
        "outputId": "d5c361d2-2641-4996-9f96-4897a07c233b"
      },
      "execution_count": 45,
      "outputs": [
        {
          "output_type": "stream",
          "name": "stderr",
          "text": [
            "WARNING:elastic_transport.node_pool:Node <Urllib3HttpNode(http://localhost:9200)> has failed for 1 times in a row, putting on 1 second timeout\n",
            "WARNING:elastic_transport.transport:Retrying request after failure (attempt 0 of 3)\n",
            "Traceback (most recent call last):\n",
            "  File \"/usr/local/lib/python3.10/dist-packages/elastic_transport/_transport.py\", line 342, in perform_request\n",
            "    resp = node.perform_request(\n",
            "  File \"/usr/local/lib/python3.10/dist-packages/elastic_transport/_node/_http_urllib3.py\", line 202, in perform_request\n",
            "    raise err from None\n",
            "elastic_transport.ConnectionError: Connection error caused by: NewConnectionError(<urllib3.connection.HTTPConnection object at 0x7fa6ab89c760>: Failed to establish a new connection: [Errno 111] Connection refused)\n",
            "WARNING:elastic_transport.node_pool:Node <Urllib3HttpNode(http://localhost:9200)> has failed for 2 times in a row, putting on 2 second timeout\n",
            "WARNING:elastic_transport.transport:Retrying request after failure (attempt 1 of 3)\n",
            "Traceback (most recent call last):\n",
            "  File \"/usr/local/lib/python3.10/dist-packages/elastic_transport/_transport.py\", line 342, in perform_request\n",
            "    resp = node.perform_request(\n",
            "  File \"/usr/local/lib/python3.10/dist-packages/elastic_transport/_node/_http_urllib3.py\", line 202, in perform_request\n",
            "    raise err from None\n",
            "elastic_transport.ConnectionError: Connection error caused by: NewConnectionError(<urllib3.connection.HTTPConnection object at 0x7fa6ab89dc60>: Failed to establish a new connection: [Errno 111] Connection refused)\n",
            "WARNING:elastic_transport.node_pool:Node <Urllib3HttpNode(http://localhost:9200)> has failed for 3 times in a row, putting on 4 second timeout\n",
            "WARNING:elastic_transport.transport:Retrying request after failure (attempt 2 of 3)\n",
            "Traceback (most recent call last):\n",
            "  File \"/usr/local/lib/python3.10/dist-packages/elastic_transport/_transport.py\", line 342, in perform_request\n",
            "    resp = node.perform_request(\n",
            "  File \"/usr/local/lib/python3.10/dist-packages/elastic_transport/_node/_http_urllib3.py\", line 202, in perform_request\n",
            "    raise err from None\n",
            "elastic_transport.ConnectionError: Connection error caused by: NewConnectionError(<urllib3.connection.HTTPConnection object at 0x7fa6ab89da80>: Failed to establish a new connection: [Errno 111] Connection refused)\n",
            "WARNING:elastic_transport.node_pool:Node <Urllib3HttpNode(http://localhost:9200)> has failed for 4 times in a row, putting on 8 second timeout\n"
          ]
        },
        {
          "output_type": "stream",
          "name": "stdout",
          "text": [
            "Could not connect to Elasticsearch.\n"
          ]
        }
      ]
    },
    {
      "cell_type": "code",
      "source": [
        "# create elasticsearch index\n",
        "\n",
        "# Define the index name\n",
        "index_name = 'cancer_research_docs'\n",
        "\n",
        "# Define index settings and mappings for field-based indexing\n",
        "index_settings = {\n",
        "    \"settings\": {\n",
        "        \"number_of_shards\": 1,\n",
        "        \"number_of_replicas\": 1\n",
        "    },\n",
        "    \"mappings\": {\n",
        "        \"properties\": {\n",
        "            \"title\": {\"type\": \"text\"},  # Document title\n",
        "            \"content\": {\"type\": \"text\"},  # Raw content\n",
        "            \"stemmed_text\": {\"type\": \"text\"},  # Stemmed content\n",
        "            \"lemmatized_text\": {\"type\": \"text\"},  # Lemmatized content\n",
        "            \"entities\": {  # Entities recognized from NER\n",
        "                \"type\": \"nested\",\n",
        "                \"properties\": {\n",
        "                    \"text\": {\"type\": \"text\"},\n",
        "                    \"label\": {\"type\": \"keyword\"}\n",
        "                }\n",
        "            }\n",
        "        }\n",
        "    }\n",
        "}\n",
        "\n",
        "# Create the index\n",
        "if not es.indices.exists(index=index_name):\n",
        "    es.indices.create(index=index_name, body=index_settings)\n",
        "    print(f\"Index '{index_name}' created successfully\")\n"
      ],
      "metadata": {
        "id": "1oYLIm1TZeHV"
      },
      "execution_count": null,
      "outputs": []
    },
    {
      "cell_type": "markdown",
      "source": [
        "4.2 Indexing Documents"
      ],
      "metadata": {
        "id": "wzyCMXe3oxdO"
      }
    },
    {
      "cell_type": "code",
      "source": [
        "# Index each document into Elasticsearch\n",
        "for i, (filename, original_text, stemmed, lemmatized, entities) in enumerate(zip(pdf_texts.keys(), pdf_texts.values(), stemmed_texts, lemmatized_texts, entities_per_doc)):\n",
        "    doc = {\n",
        "        \"title\": filename,\n",
        "        \"content\": original_text,\n",
        "        \"stemmed_text\": \" \".join(stemmed),\n",
        "        \"lemmatized_text\": \" \".join(lemmatized),\n",
        "        \"entities\": [{\"text\": ent[0], \"label\": ent[1]} for ent in entities]\n",
        "    }\n",
        "\n",
        "    # Index the document\n",
        "    res = es.index(index=index_name, id=i, body=doc)\n",
        "    print(f\"Document {i + 1} indexed. Status: {res['result']}\")\n"
      ],
      "metadata": {
        "id": "m7BVZ00jot72"
      },
      "execution_count": null,
      "outputs": []
    },
    {
      "cell_type": "markdown",
      "source": [
        "4.3 Search using Inverted Index"
      ],
      "metadata": {
        "id": "Dzy3y6mdo5Mc"
      }
    },
    {
      "cell_type": "code",
      "source": [
        "# Search by keyword in the original content\n",
        "query = {\n",
        "    \"query\": {\n",
        "        \"match\": {\n",
        "            \"content\": \"cancer treatment\"\n",
        "        }\n",
        "    }\n",
        "}\n",
        "\n",
        "res = es.search(index=index_name, body=query)\n",
        "print(f\"Total hits: {res['hits']['total']['value']}\")\n",
        "\n",
        "# Print search results\n",
        "for hit in res['hits']['hits']:\n",
        "    print(f\"Document ID: {hit['_id']}, Title: {hit['_source']['title']}\")\n"
      ],
      "metadata": {
        "id": "MhiYopt-o2hV"
      },
      "execution_count": null,
      "outputs": []
    },
    {
      "cell_type": "code",
      "source": [
        "# Search by keyword in the stemmed text\n",
        "query = {\n",
        "    \"query\": {\n",
        "        \"match\": {\n",
        "            \"stemmed_text\": \"treat cancer\"\n",
        "        }\n",
        "    }\n",
        "}\n",
        "\n",
        "res = es.search(index=index_name, body=query)\n",
        "print(f\"Total hits: {res['hits']['total']['value']}\")\n",
        "\n",
        "# Print search results\n",
        "for hit in res['hits']['hits']:\n",
        "    print(f\"Document ID: {hit['_id']}, Title: {hit['_source']['title']}\")\n"
      ],
      "metadata": {
        "id": "7sk5mFD8pCR3"
      },
      "execution_count": null,
      "outputs": []
    },
    {
      "cell_type": "markdown",
      "source": [
        "4.4 Field based search"
      ],
      "metadata": {
        "id": "Cqm2N4L9pVJu"
      }
    },
    {
      "cell_type": "code",
      "source": [
        "# Search by keywords in the lemmatized text\n",
        "query = {\n",
        "    \"query\": {\n",
        "        \"match\": {\n",
        "            \"lemmatized_text\": \"treatment cancer\"\n",
        "        }\n",
        "    }\n",
        "}\n",
        "\n",
        "res = es.search(index=index_name, body=query)\n",
        "print(f\"Total hits: {res['hits']['total']['value']}\")\n",
        "\n",
        "# Print search results\n",
        "for hit in res['hits']['hits']:\n",
        "    print(f\"Document ID: {hit['_id']}, Title: {hit['_source']['title']}\")\n"
      ],
      "metadata": {
        "id": "TWfsQTWkpSj9"
      },
      "execution_count": null,
      "outputs": []
    },
    {
      "cell_type": "markdown",
      "source": [
        "5. **NLP Techniques**"
      ],
      "metadata": {
        "id": "VlidGKyCp-Ow"
      }
    },
    {
      "cell_type": "markdown",
      "source": [
        "5.1 Fuzzy Search"
      ],
      "metadata": {
        "id": "2osTf_pgpjye"
      }
    },
    {
      "cell_type": "code",
      "source": [
        "# Fuzzy search for words close to 'cancer'\n",
        "query = {\n",
        "    \"query\": {\n",
        "        \"match\": {\n",
        "            \"content\": {\n",
        "                \"query\": \"cancr\",  # Intentional misspelling to trigger fuzzy matching\n",
        "                \"fuzziness\": \"AUTO\"\n",
        "            }\n",
        "        }\n",
        "    }\n",
        "}\n",
        "\n",
        "res = es.search(index=index_name, body=query)\n",
        "print(f\"Total hits: {res['hits']['total']['value']}\")\n",
        "\n",
        "for hit in res['hits']['hits']:\n",
        "    print(f\"Document ID: {hit['_id']}, Title: {hit['_source']['title']}\")\n"
      ],
      "metadata": {
        "id": "OcE4wJs5ppl2"
      },
      "execution_count": null,
      "outputs": []
    },
    {
      "cell_type": "markdown",
      "source": [
        "5.2 Entity Recognition - NER Using transformers"
      ],
      "metadata": {
        "id": "LengNJknqjnf"
      }
    },
    {
      "cell_type": "code",
      "source": [
        "# Install transformers library\n",
        "!pip install transformers\n",
        "\n",
        "from transformers import pipeline\n",
        "\n",
        "# Load NER pipeline with a pretrained model\n",
        "ner_pipeline = pipeline(\"ner\", model=\"dbmdz/bert-large-cased-finetuned-conll03-english\", aggregation_strategy=\"simple\")\n",
        "\n",
        "def perform_ner_huggingface(text):\n",
        "    entities = ner_pipeline(text)\n",
        "    return [(ent['word'], ent['entity_group']) for ent in entities]\n",
        "\n",
        "# Perform NER using the Hugging Face model\n",
        "entities_per_doc_hf = [perform_ner_huggingface(\" \".join(tokens)) for tokens in preprocessed_texts]\n"
      ],
      "metadata": {
        "id": "WycQQjQ9qwlf"
      },
      "execution_count": null,
      "outputs": []
    },
    {
      "cell_type": "markdown",
      "source": [
        "5.3 Query Expansion - WordNet"
      ],
      "metadata": {
        "id": "V1R3gdsvqy7e"
      }
    },
    {
      "cell_type": "code",
      "source": [
        "# Install WordNet\n",
        "!pip install nltk\n",
        "\n",
        "from nltk.corpus import wordnet\n",
        "\n",
        "# Download WordNet\n",
        "nltk.download('wordnet')\n",
        "\n",
        "def expand_query(query):\n",
        "    synonyms = set()\n",
        "    for syn in wordnet.synsets(query):\n",
        "        for lemma in syn.lemmas():\n",
        "            synonyms.add(lemma.name())  # Add synonym to set\n",
        "    return list(synonyms)\n",
        "\n",
        "# Example usage\n",
        "query_expansion = expand_query(\"cancer\")\n",
        "print(query_expansion)\n"
      ],
      "metadata": {
        "id": "nDbjVlL8q7qc"
      },
      "execution_count": null,
      "outputs": []
    },
    {
      "cell_type": "markdown",
      "source": [
        "5.4 Semantic Search - BERT"
      ],
      "metadata": {
        "id": "_s6aCaYTq8dV"
      }
    },
    {
      "cell_type": "code",
      "source": [
        "# Install the required libraries for embeddings\n",
        "!pip install torch torchvision torchaudio transformers\n",
        "\n",
        "from transformers import BertTokenizer, BertModel\n",
        "import torch\n",
        "\n",
        "# Load pre-trained BioBERT model and tokenizer\n",
        "tokenizer = BertTokenizer.from_pretrained(\"dmis-lab/biobert-v1.1\")\n",
        "model = BertModel.from_pretrained(\"dmis-lab/biobert-v1.1\")\n",
        "\n",
        "def get_embedding(text):\n",
        "    inputs = tokenizer(text, return_tensors='pt', truncation=True, padding=True, max_length=512)\n",
        "    with torch.no_grad():\n",
        "        outputs = model(**inputs)\n",
        "    return outputs.last_hidden_state.mean(dim=1)  # Average pooling to get a single vector\n",
        "\n",
        "# Example of getting an embedding for a document title\n",
        "embedding = get_embedding(\"Some cancer research title\")\n",
        "print(embedding)\n"
      ],
      "metadata": {
        "id": "Ws3_ow9NrGUI"
      },
      "execution_count": null,
      "outputs": []
    }
  ]
}