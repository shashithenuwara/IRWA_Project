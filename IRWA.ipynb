{
  "nbformat": 4,
  "nbformat_minor": 0,
  "metadata": {
    "colab": {
      "provenance": [],
      "include_colab_link": true
    },
    "kernelspec": {
      "name": "python3",
      "display_name": "Python 3"
    },
    "language_info": {
      "name": "python"
    }
  },
  "cells": [
    {
      "cell_type": "markdown",
      "metadata": {
        "id": "view-in-github",
        "colab_type": "text"
      },
      "source": [
        "<a href=\"https://colab.research.google.com/github/shashithenuwara/IRWA_Project/blob/project/IRWA.ipynb\" target=\"_parent\"><img src=\"https://colab.research.google.com/assets/colab-badge.svg\" alt=\"Open In Colab\"/></a>"
      ]
    },
    {
      "cell_type": "markdown",
      "source": [
        "1. **Data Collection**"
      ],
      "metadata": {
        "id": "JWBKi5L6xMdQ"
      }
    },
    {
      "cell_type": "code",
      "source": [
        "from google.colab import drive\n",
        "drive.mount('/content/drive')"
      ],
      "metadata": {
        "id": "nW-3RzN3y3Bj"
      },
      "execution_count": null,
      "outputs": []
    },
    {
      "cell_type": "markdown",
      "source": [
        "2. **Data Preprocessing**"
      ],
      "metadata": {
        "id": "cE3hkLdMxi4W"
      }
    },
    {
      "cell_type": "markdown",
      "source": [
        "2.1 Text Extraction"
      ],
      "metadata": {
        "id": "4FdFYgj90Akc"
      }
    },
    {
      "cell_type": "code",
      "source": [
        "!pip install PyPDF2 pdfplumber spacy nltk\n",
        "!python -m spacy download en_core_web_sm"
      ],
      "metadata": {
        "id": "LMf7SYu-0bZS"
      },
      "execution_count": null,
      "outputs": []
    },
    {
      "cell_type": "code",
      "source": [
        "import os\n",
        "import pdfplumber\n",
        "\n",
        "#Path to the dataset\n",
        "pdf_directory = '/content/drive/My Drive/DataSets'\n",
        "\n",
        "#Extracting text from PDFs\n",
        "def extract_text_from_pdf (pdf_path):\n",
        "  text=\"\"\n",
        "  with pdfplumber.open(pdf_path) as pdf:\n",
        "    for page in pdf.pages:\n",
        "      text+= page.extract_text()\n",
        "  return text\n",
        "\n",
        "#Looping to extract text from all PDFs\n",
        "pdf_texts = []\n",
        "for filename in os.listdir(pdf_directory):\n",
        "  if filename.endswith(\".pdf\"):\n",
        "    pdf_path = os.path.join(pdf_directory, filename)\n",
        "    text = extract_text_from_pdf(pdf_path)\n",
        "    pdf_texts.append(text)"
      ],
      "metadata": {
        "id": "nWNUYkMfxkj7"
      },
      "execution_count": null,
      "outputs": []
    },
    {
      "cell_type": "markdown",
      "source": [
        "2.2 Data Cleaning"
      ],
      "metadata": {
        "id": "oBw9mqFi2GLP"
      }
    },
    {
      "cell_type": "code",
      "source": [],
      "metadata": {
        "id": "8qJkW2dM1r0x"
      },
      "execution_count": null,
      "outputs": []
    },
    {
      "cell_type": "markdown",
      "source": [
        "2.3 Normalization"
      ],
      "metadata": {
        "id": "BzMTyL7B2pmo"
      }
    },
    {
      "cell_type": "code",
      "source": [
        "import nltk\n",
        "from nltk.tokenize import word_tokenize\n",
        "from nltk.corpus import stopwords\n",
        "import string\n",
        "\n",
        "nltk.download('punkt')\n",
        "nltk.download('stopwords')\n",
        "\n"
      ],
      "metadata": {
        "id": "tEMH-HPJ2LU7"
      },
      "execution_count": null,
      "outputs": []
    },
    {
      "cell_type": "code",
      "source": [],
      "metadata": {
        "id": "9ix7VcDV0pch"
      },
      "execution_count": null,
      "outputs": []
    }
  ]
}