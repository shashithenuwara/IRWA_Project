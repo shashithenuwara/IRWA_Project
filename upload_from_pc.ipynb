{
  "nbformat": 4,
  "nbformat_minor": 0,
  "metadata": {
    "colab": {
      "provenance": [],
      "authorship_tag": "ABX9TyOeAJhe/drmvZfJ3R08ny4n",
      "include_colab_link": true
    },
    "kernelspec": {
      "name": "python3",
      "display_name": "Python 3"
    },
    "language_info": {
      "name": "python"
    }
  },
  "cells": [
    {
      "cell_type": "markdown",
      "metadata": {
        "id": "view-in-github",
        "colab_type": "text"
      },
      "source": [
        "<a href=\"https://colab.research.google.com/github/shashithenuwara/IRWA_Project/blob/project/upload_from_pc.ipynb\" target=\"_parent\"><img src=\"https://colab.research.google.com/assets/colab-badge.svg\" alt=\"Open In Colab\"/></a>"
      ]
    },
    {
      "cell_type": "markdown",
      "source": [
        "**1.Data Collection**"
      ],
      "metadata": {
        "id": "Gwp94d6jYwQR"
      }
    },
    {
      "cell_type": "code",
      "execution_count": 24,
      "metadata": {
        "id": "GAuMpAKRYa9g",
        "colab": {
          "base_uri": "https://localhost:8080/",
          "height": 107
        },
        "outputId": "5cbb2960-fbaa-4056-e366-cdc6bb25ac29"
      },
      "outputs": [
        {
          "output_type": "display_data",
          "data": {
            "text/plain": [
              "<IPython.core.display.HTML object>"
            ],
            "text/html": [
              "\n",
              "     <input type=\"file\" id=\"files-fda2ae24-ef70-43b8-a9a2-bb9d7e53935b\" name=\"files[]\" multiple disabled\n",
              "        style=\"border:none\" />\n",
              "     <output id=\"result-fda2ae24-ef70-43b8-a9a2-bb9d7e53935b\">\n",
              "      Upload widget is only available when the cell has been executed in the\n",
              "      current browser session. Please rerun this cell to enable.\n",
              "      </output>\n",
              "      <script>// Copyright 2017 Google LLC\n",
              "//\n",
              "// Licensed under the Apache License, Version 2.0 (the \"License\");\n",
              "// you may not use this file except in compliance with the License.\n",
              "// You may obtain a copy of the License at\n",
              "//\n",
              "//      http://www.apache.org/licenses/LICENSE-2.0\n",
              "//\n",
              "// Unless required by applicable law or agreed to in writing, software\n",
              "// distributed under the License is distributed on an \"AS IS\" BASIS,\n",
              "// WITHOUT WARRANTIES OR CONDITIONS OF ANY KIND, either express or implied.\n",
              "// See the License for the specific language governing permissions and\n",
              "// limitations under the License.\n",
              "\n",
              "/**\n",
              " * @fileoverview Helpers for google.colab Python module.\n",
              " */\n",
              "(function(scope) {\n",
              "function span(text, styleAttributes = {}) {\n",
              "  const element = document.createElement('span');\n",
              "  element.textContent = text;\n",
              "  for (const key of Object.keys(styleAttributes)) {\n",
              "    element.style[key] = styleAttributes[key];\n",
              "  }\n",
              "  return element;\n",
              "}\n",
              "\n",
              "// Max number of bytes which will be uploaded at a time.\n",
              "const MAX_PAYLOAD_SIZE = 100 * 1024;\n",
              "\n",
              "function _uploadFiles(inputId, outputId) {\n",
              "  const steps = uploadFilesStep(inputId, outputId);\n",
              "  const outputElement = document.getElementById(outputId);\n",
              "  // Cache steps on the outputElement to make it available for the next call\n",
              "  // to uploadFilesContinue from Python.\n",
              "  outputElement.steps = steps;\n",
              "\n",
              "  return _uploadFilesContinue(outputId);\n",
              "}\n",
              "\n",
              "// This is roughly an async generator (not supported in the browser yet),\n",
              "// where there are multiple asynchronous steps and the Python side is going\n",
              "// to poll for completion of each step.\n",
              "// This uses a Promise to block the python side on completion of each step,\n",
              "// then passes the result of the previous step as the input to the next step.\n",
              "function _uploadFilesContinue(outputId) {\n",
              "  const outputElement = document.getElementById(outputId);\n",
              "  const steps = outputElement.steps;\n",
              "\n",
              "  const next = steps.next(outputElement.lastPromiseValue);\n",
              "  return Promise.resolve(next.value.promise).then((value) => {\n",
              "    // Cache the last promise value to make it available to the next\n",
              "    // step of the generator.\n",
              "    outputElement.lastPromiseValue = value;\n",
              "    return next.value.response;\n",
              "  });\n",
              "}\n",
              "\n",
              "/**\n",
              " * Generator function which is called between each async step of the upload\n",
              " * process.\n",
              " * @param {string} inputId Element ID of the input file picker element.\n",
              " * @param {string} outputId Element ID of the output display.\n",
              " * @return {!Iterable<!Object>} Iterable of next steps.\n",
              " */\n",
              "function* uploadFilesStep(inputId, outputId) {\n",
              "  const inputElement = document.getElementById(inputId);\n",
              "  inputElement.disabled = false;\n",
              "\n",
              "  const outputElement = document.getElementById(outputId);\n",
              "  outputElement.innerHTML = '';\n",
              "\n",
              "  const pickedPromise = new Promise((resolve) => {\n",
              "    inputElement.addEventListener('change', (e) => {\n",
              "      resolve(e.target.files);\n",
              "    });\n",
              "  });\n",
              "\n",
              "  const cancel = document.createElement('button');\n",
              "  inputElement.parentElement.appendChild(cancel);\n",
              "  cancel.textContent = 'Cancel upload';\n",
              "  const cancelPromise = new Promise((resolve) => {\n",
              "    cancel.onclick = () => {\n",
              "      resolve(null);\n",
              "    };\n",
              "  });\n",
              "\n",
              "  // Wait for the user to pick the files.\n",
              "  const files = yield {\n",
              "    promise: Promise.race([pickedPromise, cancelPromise]),\n",
              "    response: {\n",
              "      action: 'starting',\n",
              "    }\n",
              "  };\n",
              "\n",
              "  cancel.remove();\n",
              "\n",
              "  // Disable the input element since further picks are not allowed.\n",
              "  inputElement.disabled = true;\n",
              "\n",
              "  if (!files) {\n",
              "    return {\n",
              "      response: {\n",
              "        action: 'complete',\n",
              "      }\n",
              "    };\n",
              "  }\n",
              "\n",
              "  for (const file of files) {\n",
              "    const li = document.createElement('li');\n",
              "    li.append(span(file.name, {fontWeight: 'bold'}));\n",
              "    li.append(span(\n",
              "        `(${file.type || 'n/a'}) - ${file.size} bytes, ` +\n",
              "        `last modified: ${\n",
              "            file.lastModifiedDate ? file.lastModifiedDate.toLocaleDateString() :\n",
              "                                    'n/a'} - `));\n",
              "    const percent = span('0% done');\n",
              "    li.appendChild(percent);\n",
              "\n",
              "    outputElement.appendChild(li);\n",
              "\n",
              "    const fileDataPromise = new Promise((resolve) => {\n",
              "      const reader = new FileReader();\n",
              "      reader.onload = (e) => {\n",
              "        resolve(e.target.result);\n",
              "      };\n",
              "      reader.readAsArrayBuffer(file);\n",
              "    });\n",
              "    // Wait for the data to be ready.\n",
              "    let fileData = yield {\n",
              "      promise: fileDataPromise,\n",
              "      response: {\n",
              "        action: 'continue',\n",
              "      }\n",
              "    };\n",
              "\n",
              "    // Use a chunked sending to avoid message size limits. See b/62115660.\n",
              "    let position = 0;\n",
              "    do {\n",
              "      const length = Math.min(fileData.byteLength - position, MAX_PAYLOAD_SIZE);\n",
              "      const chunk = new Uint8Array(fileData, position, length);\n",
              "      position += length;\n",
              "\n",
              "      const base64 = btoa(String.fromCharCode.apply(null, chunk));\n",
              "      yield {\n",
              "        response: {\n",
              "          action: 'append',\n",
              "          file: file.name,\n",
              "          data: base64,\n",
              "        },\n",
              "      };\n",
              "\n",
              "      let percentDone = fileData.byteLength === 0 ?\n",
              "          100 :\n",
              "          Math.round((position / fileData.byteLength) * 100);\n",
              "      percent.textContent = `${percentDone}% done`;\n",
              "\n",
              "    } while (position < fileData.byteLength);\n",
              "  }\n",
              "\n",
              "  // All done.\n",
              "  yield {\n",
              "    response: {\n",
              "      action: 'complete',\n",
              "    }\n",
              "  };\n",
              "}\n",
              "\n",
              "scope.google = scope.google || {};\n",
              "scope.google.colab = scope.google.colab || {};\n",
              "scope.google.colab._files = {\n",
              "  _uploadFiles,\n",
              "  _uploadFilesContinue,\n",
              "};\n",
              "})(self);\n",
              "</script> "
            ]
          },
          "metadata": {}
        },
        {
          "output_type": "stream",
          "name": "stdout",
          "text": [
            "Saving Breast-cancer-susceptibility&#x2014;A-new-look-at-.pdf to Breast-cancer-susceptibility&#x2014;A-new-look-at- (1).pdf\n",
            "Saving Integrated-breast-cancer-genomics_ccell.pdf to Integrated-breast-cancer-genomics_ccell (1).pdf\n"
          ]
        }
      ],
      "source": [
        "#From local device\n",
        "from google.colab import files\n",
        "\n",
        "# Uploading the PDFs from local device\n",
        "uploaded = files.upload()\n",
        "\n",
        "# Saving the names of uploaded files\n",
        "pdf_files = uploaded.keys()"
      ]
    },
    {
      "cell_type": "markdown",
      "source": [
        "**2. Data Preprocessing**"
      ],
      "metadata": {
        "id": "_5R4KcsuY_6F"
      }
    },
    {
      "cell_type": "markdown",
      "source": [
        "2.1 Text Extraction"
      ],
      "metadata": {
        "id": "cDS8WJmwZFvp"
      }
    },
    {
      "cell_type": "code",
      "source": [
        "#Installing required libraries for PDF text extraction, tokenization, normalization, and other NLP tasks\n",
        "!pip install PyPDF2 pdfplumber spacy nltk\n",
        "!python -m spacy download en_core_web_sm"
      ],
      "metadata": {
        "id": "LMf7SYu-0bZS",
        "colab": {
          "base_uri": "https://localhost:8080/"
        },
        "outputId": "a8c2b2b8-26ff-4496-cf72-91fa06ce038d"
      },
      "execution_count": 3,
      "outputs": [
        {
          "output_type": "stream",
          "name": "stdout",
          "text": [
            "Collecting PyPDF2\n",
            "  Downloading pypdf2-3.0.1-py3-none-any.whl.metadata (6.8 kB)\n",
            "Collecting pdfplumber\n",
            "  Downloading pdfplumber-0.11.4-py3-none-any.whl.metadata (41 kB)\n",
            "\u001b[2K     \u001b[90m━━━━━━━━━━━━━━━━━━━━━━━━━━━━━━━━━━━━━━━━\u001b[0m \u001b[32m42.0/42.0 kB\u001b[0m \u001b[31m1.5 MB/s\u001b[0m eta \u001b[36m0:00:00\u001b[0m\n",
            "\u001b[?25hRequirement already satisfied: spacy in /usr/local/lib/python3.10/dist-packages (3.7.6)\n",
            "Requirement already satisfied: nltk in /usr/local/lib/python3.10/dist-packages (3.8.1)\n",
            "Collecting pdfminer.six==20231228 (from pdfplumber)\n",
            "  Downloading pdfminer.six-20231228-py3-none-any.whl.metadata (4.2 kB)\n",
            "Requirement already satisfied: Pillow>=9.1 in /usr/local/lib/python3.10/dist-packages (from pdfplumber) (10.4.0)\n",
            "Collecting pypdfium2>=4.18.0 (from pdfplumber)\n",
            "  Downloading pypdfium2-4.30.0-py3-none-manylinux_2_17_x86_64.manylinux2014_x86_64.whl.metadata (48 kB)\n",
            "\u001b[2K     \u001b[90m━━━━━━━━━━━━━━━━━━━━━━━━━━━━━━━━━━━━━━━━\u001b[0m \u001b[32m48.5/48.5 kB\u001b[0m \u001b[31m1.8 MB/s\u001b[0m eta \u001b[36m0:00:00\u001b[0m\n",
            "\u001b[?25hRequirement already satisfied: charset-normalizer>=2.0.0 in /usr/local/lib/python3.10/dist-packages (from pdfminer.six==20231228->pdfplumber) (3.3.2)\n",
            "Requirement already satisfied: cryptography>=36.0.0 in /usr/local/lib/python3.10/dist-packages (from pdfminer.six==20231228->pdfplumber) (43.0.1)\n",
            "Requirement already satisfied: spacy-legacy<3.1.0,>=3.0.11 in /usr/local/lib/python3.10/dist-packages (from spacy) (3.0.12)\n",
            "Requirement already satisfied: spacy-loggers<2.0.0,>=1.0.0 in /usr/local/lib/python3.10/dist-packages (from spacy) (1.0.5)\n",
            "Requirement already satisfied: murmurhash<1.1.0,>=0.28.0 in /usr/local/lib/python3.10/dist-packages (from spacy) (1.0.10)\n",
            "Requirement already satisfied: cymem<2.1.0,>=2.0.2 in /usr/local/lib/python3.10/dist-packages (from spacy) (2.0.8)\n",
            "Requirement already satisfied: preshed<3.1.0,>=3.0.2 in /usr/local/lib/python3.10/dist-packages (from spacy) (3.0.9)\n",
            "Requirement already satisfied: thinc<8.3.0,>=8.2.2 in /usr/local/lib/python3.10/dist-packages (from spacy) (8.2.5)\n",
            "Requirement already satisfied: wasabi<1.2.0,>=0.9.1 in /usr/local/lib/python3.10/dist-packages (from spacy) (1.1.3)\n",
            "Requirement already satisfied: srsly<3.0.0,>=2.4.3 in /usr/local/lib/python3.10/dist-packages (from spacy) (2.4.8)\n",
            "Requirement already satisfied: catalogue<2.1.0,>=2.0.6 in /usr/local/lib/python3.10/dist-packages (from spacy) (2.0.10)\n",
            "Requirement already satisfied: weasel<0.5.0,>=0.1.0 in /usr/local/lib/python3.10/dist-packages (from spacy) (0.4.1)\n",
            "Requirement already satisfied: typer<1.0.0,>=0.3.0 in /usr/local/lib/python3.10/dist-packages (from spacy) (0.12.5)\n",
            "Requirement already satisfied: tqdm<5.0.0,>=4.38.0 in /usr/local/lib/python3.10/dist-packages (from spacy) (4.66.5)\n",
            "Requirement already satisfied: requests<3.0.0,>=2.13.0 in /usr/local/lib/python3.10/dist-packages (from spacy) (2.32.3)\n",
            "Requirement already satisfied: pydantic!=1.8,!=1.8.1,<3.0.0,>=1.7.4 in /usr/local/lib/python3.10/dist-packages (from spacy) (2.9.2)\n",
            "Requirement already satisfied: jinja2 in /usr/local/lib/python3.10/dist-packages (from spacy) (3.1.4)\n",
            "Requirement already satisfied: setuptools in /usr/local/lib/python3.10/dist-packages (from spacy) (71.0.4)\n",
            "Requirement already satisfied: packaging>=20.0 in /usr/local/lib/python3.10/dist-packages (from spacy) (24.1)\n",
            "Requirement already satisfied: langcodes<4.0.0,>=3.2.0 in /usr/local/lib/python3.10/dist-packages (from spacy) (3.4.0)\n",
            "Requirement already satisfied: numpy>=1.19.0 in /usr/local/lib/python3.10/dist-packages (from spacy) (1.26.4)\n",
            "Requirement already satisfied: click in /usr/local/lib/python3.10/dist-packages (from nltk) (8.1.7)\n",
            "Requirement already satisfied: joblib in /usr/local/lib/python3.10/dist-packages (from nltk) (1.4.2)\n",
            "Requirement already satisfied: regex>=2021.8.3 in /usr/local/lib/python3.10/dist-packages (from nltk) (2024.9.11)\n",
            "Requirement already satisfied: language-data>=1.2 in /usr/local/lib/python3.10/dist-packages (from langcodes<4.0.0,>=3.2.0->spacy) (1.2.0)\n",
            "Requirement already satisfied: annotated-types>=0.6.0 in /usr/local/lib/python3.10/dist-packages (from pydantic!=1.8,!=1.8.1,<3.0.0,>=1.7.4->spacy) (0.7.0)\n",
            "Requirement already satisfied: pydantic-core==2.23.4 in /usr/local/lib/python3.10/dist-packages (from pydantic!=1.8,!=1.8.1,<3.0.0,>=1.7.4->spacy) (2.23.4)\n",
            "Requirement already satisfied: typing-extensions>=4.6.1 in /usr/local/lib/python3.10/dist-packages (from pydantic!=1.8,!=1.8.1,<3.0.0,>=1.7.4->spacy) (4.12.2)\n",
            "Requirement already satisfied: idna<4,>=2.5 in /usr/local/lib/python3.10/dist-packages (from requests<3.0.0,>=2.13.0->spacy) (3.10)\n",
            "Requirement already satisfied: urllib3<3,>=1.21.1 in /usr/local/lib/python3.10/dist-packages (from requests<3.0.0,>=2.13.0->spacy) (2.0.7)\n",
            "Requirement already satisfied: certifi>=2017.4.17 in /usr/local/lib/python3.10/dist-packages (from requests<3.0.0,>=2.13.0->spacy) (2024.8.30)\n",
            "Requirement already satisfied: blis<0.8.0,>=0.7.8 in /usr/local/lib/python3.10/dist-packages (from thinc<8.3.0,>=8.2.2->spacy) (0.7.11)\n",
            "Requirement already satisfied: confection<1.0.0,>=0.0.1 in /usr/local/lib/python3.10/dist-packages (from thinc<8.3.0,>=8.2.2->spacy) (0.1.5)\n",
            "Requirement already satisfied: shellingham>=1.3.0 in /usr/local/lib/python3.10/dist-packages (from typer<1.0.0,>=0.3.0->spacy) (1.5.4)\n",
            "Requirement already satisfied: rich>=10.11.0 in /usr/local/lib/python3.10/dist-packages (from typer<1.0.0,>=0.3.0->spacy) (13.8.1)\n",
            "Requirement already satisfied: cloudpathlib<1.0.0,>=0.7.0 in /usr/local/lib/python3.10/dist-packages (from weasel<0.5.0,>=0.1.0->spacy) (0.19.0)\n",
            "Requirement already satisfied: smart-open<8.0.0,>=5.2.1 in /usr/local/lib/python3.10/dist-packages (from weasel<0.5.0,>=0.1.0->spacy) (7.0.4)\n",
            "Requirement already satisfied: MarkupSafe>=2.0 in /usr/local/lib/python3.10/dist-packages (from jinja2->spacy) (2.1.5)\n",
            "Requirement already satisfied: cffi>=1.12 in /usr/local/lib/python3.10/dist-packages (from cryptography>=36.0.0->pdfminer.six==20231228->pdfplumber) (1.17.1)\n",
            "Requirement already satisfied: marisa-trie>=0.7.7 in /usr/local/lib/python3.10/dist-packages (from language-data>=1.2->langcodes<4.0.0,>=3.2.0->spacy) (1.2.0)\n",
            "Requirement already satisfied: markdown-it-py>=2.2.0 in /usr/local/lib/python3.10/dist-packages (from rich>=10.11.0->typer<1.0.0,>=0.3.0->spacy) (3.0.0)\n",
            "Requirement already satisfied: pygments<3.0.0,>=2.13.0 in /usr/local/lib/python3.10/dist-packages (from rich>=10.11.0->typer<1.0.0,>=0.3.0->spacy) (2.18.0)\n",
            "Requirement already satisfied: wrapt in /usr/local/lib/python3.10/dist-packages (from smart-open<8.0.0,>=5.2.1->weasel<0.5.0,>=0.1.0->spacy) (1.16.0)\n",
            "Requirement already satisfied: pycparser in /usr/local/lib/python3.10/dist-packages (from cffi>=1.12->cryptography>=36.0.0->pdfminer.six==20231228->pdfplumber) (2.22)\n",
            "Requirement already satisfied: mdurl~=0.1 in /usr/local/lib/python3.10/dist-packages (from markdown-it-py>=2.2.0->rich>=10.11.0->typer<1.0.0,>=0.3.0->spacy) (0.1.2)\n",
            "Downloading pypdf2-3.0.1-py3-none-any.whl (232 kB)\n",
            "\u001b[2K   \u001b[90m━━━━━━━━━━━━━━━━━━━━━━━━━━━━━━━━━━━━━━━━\u001b[0m \u001b[32m232.6/232.6 kB\u001b[0m \u001b[31m7.8 MB/s\u001b[0m eta \u001b[36m0:00:00\u001b[0m\n",
            "\u001b[?25hDownloading pdfplumber-0.11.4-py3-none-any.whl (59 kB)\n",
            "\u001b[2K   \u001b[90m━━━━━━━━━━━━━━━━━━━━━━━━━━━━━━━━━━━━━━━━\u001b[0m \u001b[32m59.2/59.2 kB\u001b[0m \u001b[31m3.3 MB/s\u001b[0m eta \u001b[36m0:00:00\u001b[0m\n",
            "\u001b[?25hDownloading pdfminer.six-20231228-py3-none-any.whl (5.6 MB)\n",
            "\u001b[2K   \u001b[90m━━━━━━━━━━━━━━━━━━━━━━━━━━━━━━━━━━━━━━━━\u001b[0m \u001b[32m5.6/5.6 MB\u001b[0m \u001b[31m62.5 MB/s\u001b[0m eta \u001b[36m0:00:00\u001b[0m\n",
            "\u001b[?25hDownloading pypdfium2-4.30.0-py3-none-manylinux_2_17_x86_64.manylinux2014_x86_64.whl (2.8 MB)\n",
            "\u001b[2K   \u001b[90m━━━━━━━━━━━━━━━━━━━━━━━━━━━━━━━━━━━━━━━━\u001b[0m \u001b[32m2.8/2.8 MB\u001b[0m \u001b[31m71.7 MB/s\u001b[0m eta \u001b[36m0:00:00\u001b[0m\n",
            "\u001b[?25hInstalling collected packages: pypdfium2, PyPDF2, pdfminer.six, pdfplumber\n",
            "Successfully installed PyPDF2-3.0.1 pdfminer.six-20231228 pdfplumber-0.11.4 pypdfium2-4.30.0\n",
            "Collecting en-core-web-sm==3.7.1\n",
            "  Downloading https://github.com/explosion/spacy-models/releases/download/en_core_web_sm-3.7.1/en_core_web_sm-3.7.1-py3-none-any.whl (12.8 MB)\n",
            "\u001b[2K     \u001b[90m━━━━━━━━━━━━━━━━━━━━━━━━━━━━━━━━━━━━━━━━\u001b[0m \u001b[32m12.8/12.8 MB\u001b[0m \u001b[31m62.5 MB/s\u001b[0m eta \u001b[36m0:00:00\u001b[0m\n",
            "\u001b[?25hRequirement already satisfied: spacy<3.8.0,>=3.7.2 in /usr/local/lib/python3.10/dist-packages (from en-core-web-sm==3.7.1) (3.7.6)\n",
            "Requirement already satisfied: spacy-legacy<3.1.0,>=3.0.11 in /usr/local/lib/python3.10/dist-packages (from spacy<3.8.0,>=3.7.2->en-core-web-sm==3.7.1) (3.0.12)\n",
            "Requirement already satisfied: spacy-loggers<2.0.0,>=1.0.0 in /usr/local/lib/python3.10/dist-packages (from spacy<3.8.0,>=3.7.2->en-core-web-sm==3.7.1) (1.0.5)\n",
            "Requirement already satisfied: murmurhash<1.1.0,>=0.28.0 in /usr/local/lib/python3.10/dist-packages (from spacy<3.8.0,>=3.7.2->en-core-web-sm==3.7.1) (1.0.10)\n",
            "Requirement already satisfied: cymem<2.1.0,>=2.0.2 in /usr/local/lib/python3.10/dist-packages (from spacy<3.8.0,>=3.7.2->en-core-web-sm==3.7.1) (2.0.8)\n",
            "Requirement already satisfied: preshed<3.1.0,>=3.0.2 in /usr/local/lib/python3.10/dist-packages (from spacy<3.8.0,>=3.7.2->en-core-web-sm==3.7.1) (3.0.9)\n",
            "Requirement already satisfied: thinc<8.3.0,>=8.2.2 in /usr/local/lib/python3.10/dist-packages (from spacy<3.8.0,>=3.7.2->en-core-web-sm==3.7.1) (8.2.5)\n",
            "Requirement already satisfied: wasabi<1.2.0,>=0.9.1 in /usr/local/lib/python3.10/dist-packages (from spacy<3.8.0,>=3.7.2->en-core-web-sm==3.7.1) (1.1.3)\n",
            "Requirement already satisfied: srsly<3.0.0,>=2.4.3 in /usr/local/lib/python3.10/dist-packages (from spacy<3.8.0,>=3.7.2->en-core-web-sm==3.7.1) (2.4.8)\n",
            "Requirement already satisfied: catalogue<2.1.0,>=2.0.6 in /usr/local/lib/python3.10/dist-packages (from spacy<3.8.0,>=3.7.2->en-core-web-sm==3.7.1) (2.0.10)\n",
            "Requirement already satisfied: weasel<0.5.0,>=0.1.0 in /usr/local/lib/python3.10/dist-packages (from spacy<3.8.0,>=3.7.2->en-core-web-sm==3.7.1) (0.4.1)\n",
            "Requirement already satisfied: typer<1.0.0,>=0.3.0 in /usr/local/lib/python3.10/dist-packages (from spacy<3.8.0,>=3.7.2->en-core-web-sm==3.7.1) (0.12.5)\n",
            "Requirement already satisfied: tqdm<5.0.0,>=4.38.0 in /usr/local/lib/python3.10/dist-packages (from spacy<3.8.0,>=3.7.2->en-core-web-sm==3.7.1) (4.66.5)\n",
            "Requirement already satisfied: requests<3.0.0,>=2.13.0 in /usr/local/lib/python3.10/dist-packages (from spacy<3.8.0,>=3.7.2->en-core-web-sm==3.7.1) (2.32.3)\n",
            "Requirement already satisfied: pydantic!=1.8,!=1.8.1,<3.0.0,>=1.7.4 in /usr/local/lib/python3.10/dist-packages (from spacy<3.8.0,>=3.7.2->en-core-web-sm==3.7.1) (2.9.2)\n",
            "Requirement already satisfied: jinja2 in /usr/local/lib/python3.10/dist-packages (from spacy<3.8.0,>=3.7.2->en-core-web-sm==3.7.1) (3.1.4)\n",
            "Requirement already satisfied: setuptools in /usr/local/lib/python3.10/dist-packages (from spacy<3.8.0,>=3.7.2->en-core-web-sm==3.7.1) (71.0.4)\n",
            "Requirement already satisfied: packaging>=20.0 in /usr/local/lib/python3.10/dist-packages (from spacy<3.8.0,>=3.7.2->en-core-web-sm==3.7.1) (24.1)\n",
            "Requirement already satisfied: langcodes<4.0.0,>=3.2.0 in /usr/local/lib/python3.10/dist-packages (from spacy<3.8.0,>=3.7.2->en-core-web-sm==3.7.1) (3.4.0)\n",
            "Requirement already satisfied: numpy>=1.19.0 in /usr/local/lib/python3.10/dist-packages (from spacy<3.8.0,>=3.7.2->en-core-web-sm==3.7.1) (1.26.4)\n",
            "Requirement already satisfied: language-data>=1.2 in /usr/local/lib/python3.10/dist-packages (from langcodes<4.0.0,>=3.2.0->spacy<3.8.0,>=3.7.2->en-core-web-sm==3.7.1) (1.2.0)\n",
            "Requirement already satisfied: annotated-types>=0.6.0 in /usr/local/lib/python3.10/dist-packages (from pydantic!=1.8,!=1.8.1,<3.0.0,>=1.7.4->spacy<3.8.0,>=3.7.2->en-core-web-sm==3.7.1) (0.7.0)\n",
            "Requirement already satisfied: pydantic-core==2.23.4 in /usr/local/lib/python3.10/dist-packages (from pydantic!=1.8,!=1.8.1,<3.0.0,>=1.7.4->spacy<3.8.0,>=3.7.2->en-core-web-sm==3.7.1) (2.23.4)\n",
            "Requirement already satisfied: typing-extensions>=4.6.1 in /usr/local/lib/python3.10/dist-packages (from pydantic!=1.8,!=1.8.1,<3.0.0,>=1.7.4->spacy<3.8.0,>=3.7.2->en-core-web-sm==3.7.1) (4.12.2)\n",
            "Requirement already satisfied: charset-normalizer<4,>=2 in /usr/local/lib/python3.10/dist-packages (from requests<3.0.0,>=2.13.0->spacy<3.8.0,>=3.7.2->en-core-web-sm==3.7.1) (3.3.2)\n",
            "Requirement already satisfied: idna<4,>=2.5 in /usr/local/lib/python3.10/dist-packages (from requests<3.0.0,>=2.13.0->spacy<3.8.0,>=3.7.2->en-core-web-sm==3.7.1) (3.10)\n",
            "Requirement already satisfied: urllib3<3,>=1.21.1 in /usr/local/lib/python3.10/dist-packages (from requests<3.0.0,>=2.13.0->spacy<3.8.0,>=3.7.2->en-core-web-sm==3.7.1) (2.0.7)\n",
            "Requirement already satisfied: certifi>=2017.4.17 in /usr/local/lib/python3.10/dist-packages (from requests<3.0.0,>=2.13.0->spacy<3.8.0,>=3.7.2->en-core-web-sm==3.7.1) (2024.8.30)\n",
            "Requirement already satisfied: blis<0.8.0,>=0.7.8 in /usr/local/lib/python3.10/dist-packages (from thinc<8.3.0,>=8.2.2->spacy<3.8.0,>=3.7.2->en-core-web-sm==3.7.1) (0.7.11)\n",
            "Requirement already satisfied: confection<1.0.0,>=0.0.1 in /usr/local/lib/python3.10/dist-packages (from thinc<8.3.0,>=8.2.2->spacy<3.8.0,>=3.7.2->en-core-web-sm==3.7.1) (0.1.5)\n",
            "Requirement already satisfied: click>=8.0.0 in /usr/local/lib/python3.10/dist-packages (from typer<1.0.0,>=0.3.0->spacy<3.8.0,>=3.7.2->en-core-web-sm==3.7.1) (8.1.7)\n",
            "Requirement already satisfied: shellingham>=1.3.0 in /usr/local/lib/python3.10/dist-packages (from typer<1.0.0,>=0.3.0->spacy<3.8.0,>=3.7.2->en-core-web-sm==3.7.1) (1.5.4)\n",
            "Requirement already satisfied: rich>=10.11.0 in /usr/local/lib/python3.10/dist-packages (from typer<1.0.0,>=0.3.0->spacy<3.8.0,>=3.7.2->en-core-web-sm==3.7.1) (13.8.1)\n",
            "Requirement already satisfied: cloudpathlib<1.0.0,>=0.7.0 in /usr/local/lib/python3.10/dist-packages (from weasel<0.5.0,>=0.1.0->spacy<3.8.0,>=3.7.2->en-core-web-sm==3.7.1) (0.19.0)\n",
            "Requirement already satisfied: smart-open<8.0.0,>=5.2.1 in /usr/local/lib/python3.10/dist-packages (from weasel<0.5.0,>=0.1.0->spacy<3.8.0,>=3.7.2->en-core-web-sm==3.7.1) (7.0.4)\n",
            "Requirement already satisfied: MarkupSafe>=2.0 in /usr/local/lib/python3.10/dist-packages (from jinja2->spacy<3.8.0,>=3.7.2->en-core-web-sm==3.7.1) (2.1.5)\n",
            "Requirement already satisfied: marisa-trie>=0.7.7 in /usr/local/lib/python3.10/dist-packages (from language-data>=1.2->langcodes<4.0.0,>=3.2.0->spacy<3.8.0,>=3.7.2->en-core-web-sm==3.7.1) (1.2.0)\n",
            "Requirement already satisfied: markdown-it-py>=2.2.0 in /usr/local/lib/python3.10/dist-packages (from rich>=10.11.0->typer<1.0.0,>=0.3.0->spacy<3.8.0,>=3.7.2->en-core-web-sm==3.7.1) (3.0.0)\n",
            "Requirement already satisfied: pygments<3.0.0,>=2.13.0 in /usr/local/lib/python3.10/dist-packages (from rich>=10.11.0->typer<1.0.0,>=0.3.0->spacy<3.8.0,>=3.7.2->en-core-web-sm==3.7.1) (2.18.0)\n",
            "Requirement already satisfied: wrapt in /usr/local/lib/python3.10/dist-packages (from smart-open<8.0.0,>=5.2.1->weasel<0.5.0,>=0.1.0->spacy<3.8.0,>=3.7.2->en-core-web-sm==3.7.1) (1.16.0)\n",
            "Requirement already satisfied: mdurl~=0.1 in /usr/local/lib/python3.10/dist-packages (from markdown-it-py>=2.2.0->rich>=10.11.0->typer<1.0.0,>=0.3.0->spacy<3.8.0,>=3.7.2->en-core-web-sm==3.7.1) (0.1.2)\n",
            "\u001b[38;5;2m✔ Download and installation successful\u001b[0m\n",
            "You can now load the package via spacy.load('en_core_web_sm')\n",
            "\u001b[38;5;3m⚠ Restart to reload dependencies\u001b[0m\n",
            "If you are in a Jupyter or Colab notebook, you may need to restart Python in\n",
            "order to load all the package's dependencies. You can do this by selecting the\n",
            "'Restart kernel' or 'Restart runtime' option.\n"
          ]
        }
      ]
    },
    {
      "cell_type": "code",
      "source": [
        "import pdfplumber\n",
        "\n",
        "def extract_text_from_pdf(pdf_path):\n",
        "    text = \"\"\n",
        "    with pdfplumber.open(pdf_path) as pdf:\n",
        "        for page in pdf.pages:\n",
        "            text += page.extract_text()\n",
        "    return text\n",
        "\n",
        "# Loop through each uploaded PDF\n",
        "extracted_texts = {}\n",
        "for pdf_file in pdf_files:\n",
        "    # Save the extracted text for each PDF file\n",
        "    extracted_texts[pdf_file] = extract_text_from_pdf(pdf_file)\n",
        "\n",
        "# Convert the dict_keys to a list first\n",
        "first_file = list(extracted_texts.keys())[0]  # Get the first file name\n",
        "\n",
        "# Access the extracted text of the first file\n",
        "print(extracted_texts[first_file])"
      ],
      "metadata": {
        "colab": {
          "base_uri": "https://localhost:8080/"
        },
        "id": "jKJH49x6ZuIi",
        "outputId": "97864743-cc89-4702-fd11-a008152cc772"
      },
      "execution_count": 5,
      "outputs": [
        {
          "output_type": "stream",
          "name": "stdout",
          "text": [
            "P R E V I E W S\n",
            "Breast cancer susceptibility—A new look at an old model\n",
            "A polygenic model in which many individually weak genes combine multiplicately to cause a 50-fold range of risk in the\n",
            "population explains several puzzling aspects of familial breast cancer epidemiology,including the very high risk in some\n",
            "families and the failure to identify important new genes since the discovery of BRCA1and BRCA2.\n",
            "Germline mutations in BRCA1or BRCA2 model was developed by segregation several quite different genetic models\n",
            "account for most large multiple-case analysis in a population-based series of provide a statistically satisfactory fit to\n",
            "breast cancer families but only a few per- families and in a collection of multiple such family data. The original CASH\n",
            "cent of unselected cases. It has been case families in which breast cancer model involved a rare highly penetrant\n",
            "recognized since BRCA2 was cloned patients had been screened for BRCA1 dominant gene (Claus et al., 1991), and\n",
            "that these and a few other known genes and BRCA2mutations (Antoniou et al., models that combine the BRCAgenes\n",
            "account for less than a quarter of the 2002).The assumption that the hypothet- with a single less-penetrant recessive or\n",
            "observed excess risk in relatives of ical “polygenes”multiply the effects of all dominant gene appear to fit virtually as\n",
            "breast cancer patients (Ponder, 2001), other genes including BRCA1 and well as the polygenic model (Antoniou et\n",
            "yet no important new breast cancer gene BRCA2 accounts for the higher pene- al., 2002).(The marginally higher risk in\n",
            "has been discovered in the intervening trance seen in BRCAcarriers from multi- patients’ sisters than in their daughters\n",
            "six years despite extensive linkage and ple-case families than in those identified probably reflects shared nongenetic fac-\n",
            "candidate gene studies. Systematic by screening unselected cases. The tors.) Such genes might also interact\n",
            "sequencing in patients and controls has analysis also supports the suggestion with BRCA1and BRCA2to account for\n",
            "identified a few candidate polymor- that most breast cancers arise in a sus- their higher penetrance in multiple-case\n",
            "phisms that may confer risk families.This resurrection of\n",
            "ratios of the order of 1.5 or 2 the classical polygenic model\n",
            "(Dunning et al., 1999), but is timely and important\n",
            "most are of marginal statisti- because the hunt for more\n",
            "cal significance, and even in penetrant genes has proved\n",
            "combination they cannot fruitless and it is time to\n",
            "make a substantial contribu- rethink our strategy, not\n",
            "tion to the overall familial because the details are likely\n",
            "effect. Ponder and his col- to be biologically correct.The\n",
            "leagues, writing in Nature statement that “the validity of\n",
            "Genetics (Pharoah et al., our results depends on the\n",
            "2002), discuss the possibility validity of the segregation\n",
            "that there may be few, if any, analysis, a detailed critique\n",
            "major breast cancer genes of which is beyond the scope\n",
            "still to be discovered. They of this paper” gives the mis-\n",
            "propose a polygenic basis for leading impression that such\n",
            "the wide observed variation model-fitting can provide reli-\n",
            "in familial risk whereby the able evidence on underlying\n",
            "individually small effects of mechanisms.The suggestion\n",
            "many genes combine multi- that because the relative risk\n",
            "plicatively to produce a log- Figure 1.Polygenic model for breast cancer risk in patients’ relatives is also\n",
            "normal distribution of lifetime Distribution of lifetime breast cancer risk in the general population and about 2 for many other com-\n",
            "risk in the general population, in women who will develop breast cancer (figure based on Pharoah mon cancers their distribu-\n",
            "et al., 2002).\n",
            "as shown by the blue curve in tion of risk is likely to exhibit\n",
            "Figure 1.Lifetime risk varies similar variation (Pharoah et\n",
            "more than 50-fold, from less al., 2002) is also question-\n",
            "than 1 in 200 for women below the 3rd ceptible minority of women (Peto and able.The relative risk in people with two\n",
            "percentile to more than 20% above the Mack, 2000). Half of all breast cancers affected relatives is less than 3 for breast\n",
            "97thpercentile.The genetic distribution of are predicted to occur in the most sus- cancer, but for most other cancers it is\n",
            "risk among breast cancer patients also ceptible 12% of the population. between 10 and 30 (Dong and\n",
            "spans a 50-fold range, but their average This classical polygenic model is Hemminki, 2001), suggesting that a\n",
            "risk is 4-fold greater than in the general uniquely defined by the relative risk in smaller proportion of cases occur in\n",
            "population (red curve).If each gene con- patients’relatives.The predicted relative highly susceptible individuals. But their\n",
            "ferred a 1.5-fold risk, the number of such risk of 4 in patients (and in their identical central thesis, that important advances\n",
            "genes that would be needed to account twins) is the square of the observed rela- in breast cancer genetics will depend on\n",
            "for the doubling of risk observed in tive risk in their sisters, which is about 2. the discovery of large numbers of genes\n",
            "patients’ relatives ranges from several Its predictions, particularly the distribu- with weak effects, is likely to be correct,\n",
            "hundred if their individual frequencies tion of multiple cases in families, should and gene hunters will ignore it at their\n",
            "were 0.01 to a few dozen with a popula- therefore provide a critical test of the peril.\n",
            "tion frequency of 0.1 (Ponder, 2001).The model’s plausibility.In practice, however, These authors had already reported\n",
            "CANCER CELL :JUNE 2002 411P R E V I E W S\n",
            "the fit of this polygenic model to their ther genes will probably be restricted to terns have been cloned and character-\n",
            "breast cancer families (Antoniou et al., candidates for the next year or two. ized.The polygenic model is an extremely\n",
            "2002), and this article is concerned When rapid genome-wide sequencing useful conceptual simplification, but the\n",
            "mainly with the implications of a genetic becomes available, however, any genetic interest will lie in the complexity.\n",
            "test that might in the future identify indi- variant with a frequency of 1% or more\n",
            "viduals at very high risk as well as those that confers a risk of 1.5–2 should be\n",
            "at such low risk that they would not want detectable by this approach. Julian Peto\n",
            "to be screened at all.The eventual iden- The recent overview of risks in\n",
            "Institute of Cancer Research\n",
            "tification and functional characterization patients’ relatives based on 58,209\n",
            "Sutton, Surrey SM2 5NG\n",
            "of a large number of such genes would women with breast cancer (Collaborative and London School of Hygiene and\n",
            "certainly have a major impact on many Group on Hormonal Factors in Breast Tropical Medicine\n",
            "aspects of breast cancer prevention and Cancer, 2001) provides the most precise London WC1E 7HT\n",
            "treatment, but the more immediate published estimates of familial risks.The United Kingdom\n",
            "E-mail: j.peto@icr.ac.uk\n",
            "question is how they can be found. incidence in a patient’s relatives is further\n",
            "Coincidentally, the same issue of increased almost 2-fold if another relative\n",
            "Nature Geneticsincludes a report that a is also affected, confirming that there is Selected reading\n",
            "single truncating mutation in CHEK2 considerable heterogeneity in underlying\n",
            "found in 1.1% of the general population incidence among women who develop Antoniou, A.C., Pharoah, P.D.P., McMullan, G.,\n",
            "and only 1.4% of unselected breast breast cancer.The polygenic model pro- Day, N.E., Stratton, M.R., Peto, J., Ponder, B.J.,\n",
            "cancers is carried by 5% of patients vides a plausible explanation of this varia- and Easton, D.F.(2002).Br.J.Cancer 86, 76–83.\n",
            "from multiple-case families unlinked tion in lifetime risk.But it does not explain CHEK2-Breast Cancer Consortium (2002).Nat.\n",
            "to BRCA1 or BRCA2 (CHEK2-Breast why the risk in patients’relatives at ages Genet.31, 55–59.\n",
            "Cancer Consortium, 2002).The contribu- older than the index case’s age at diagno-\n",
            "Claus, E.B., Risch, N., and Thompson, W.D.\n",
            "tion of mutant CHEK2to overall breast sis is independent of the index case’s age (1991).Am.J.Hum.Genet.48, 232–242.\n",
            "cancer incidence is trivial, but the (Collaborative Group on Hormonal\n",
            "Collaborative Group on Hormonal Factors in\n",
            "demonstration that rare low-penetrance Factors in Breast Cancer, 2001), or why\n",
            "Breast Cancer (2001).Lancet 358, 1389–1399.\n",
            "genes can be found by simply comparing contralateral rates are roughly constant at\n",
            "their prevalence in patients with affected all ages.The high rate at young ages in Dong, C., and Hemminki, K.(2001).Int.J.Cancer\n",
            "92, 144–150.\n",
            "relatives against controls is an important their relatives shows that young patients\n",
            "methodological advance.(CHEK2fails to are genetically different from older Dunning, A.M., Healey, C.S., Pharoah, P.D.P.,\n",
            "exhibit the hypothesized interaction with patients, yet their relatives and those of Teare, M.D., Ponder, B.A.J., and Easton, D.F.\n",
            "(1999). Cancer Epidemiol. Biomarkers Prev.8,\n",
            "BRCA1or BRCA2, probably because it older patients eventually suffer virtually\n",
            "843–854.\n",
            "lies in the same functional pathway.) identical age-specific rates.Different com-\n",
            "Such genes may be almost impossible to binations of genes may determine a Peto, J., and Mack, T.M.(2000).Nat.Genet.26,\n",
            "411–414.\n",
            "detect by traditional approaches, includ- woman’s eventual level of risk and the age\n",
            "ing linkage in families or prevalence in at which that risk is reached (Peto and Pharoah, P.D.P., Antoniou, A., Bobrow, M.,\n",
            "unselected cases. Most susceptibility Mack, 2000), but such speculative Zimmern, R.L., Easton, D.F., and Ponder, B.A.J.\n",
            "genes will not carry such a common hypotheses cannot be tested until the (2002).Nat.Genet.31, 33–36.\n",
            "mutant haplotype, and the search for fur- genes that underlie these surprising pat- Ponder, B.A.J.(2001).Nature 411, 336–341.\n",
            "412 CANCER CELL :JUNE 2002\n"
          ]
        }
      ]
    },
    {
      "cell_type": "code",
      "source": [
        "for pdf_file, text in extracted_texts.items():\n",
        "    # Save the extracted text to a .txt file with the same name as the PDF\n",
        "    with open(pdf_file.replace('.pdf', '.txt'), 'w') as txt_file:\n",
        "        txt_file.write(text)"
      ],
      "metadata": {
        "id": "RfoO8sa0Zzlf"
      },
      "execution_count": 6,
      "outputs": []
    },
    {
      "cell_type": "markdown",
      "source": [
        "2.2 Data Cleaning"
      ],
      "metadata": {
        "id": "oBw9mqFi2GLP"
      }
    },
    {
      "cell_type": "code",
      "source": [
        "#To remove HTML tags\n",
        "!pip install beautifulsoup4"
      ],
      "metadata": {
        "id": "8qJkW2dM1r0x",
        "colab": {
          "base_uri": "https://localhost:8080/"
        },
        "outputId": "0dd5be01-4e29-449d-8179-455622edf2a3"
      },
      "execution_count": 7,
      "outputs": [
        {
          "output_type": "stream",
          "name": "stdout",
          "text": [
            "Requirement already satisfied: beautifulsoup4 in /usr/local/lib/python3.10/dist-packages (4.12.3)\n",
            "Requirement already satisfied: soupsieve>1.2 in /usr/local/lib/python3.10/dist-packages (from beautifulsoup4) (2.6)\n"
          ]
        }
      ]
    },
    {
      "cell_type": "code",
      "source": [
        "import re\n",
        "from bs4 import BeautifulSoup\n",
        "from google.colab import files\n",
        "import pdfplumber\n",
        "\n",
        "# Step 3: Cleaning function to process text\n",
        "def clean_text(text):\n",
        "    # Removing HTML tags\n",
        "    soup = BeautifulSoup(text, \"html.parser\")\n",
        "    text = soup.get_text()\n",
        "\n",
        "    # Removing special characters and punctuation (except basic punctuation)\n",
        "    text = re.sub(r\"[^a-zA-Z0-9\\s,.!?'-]\", '', text)\n",
        "\n",
        "    # Removing extra whitespaces\n",
        "    text = re.sub(r'\\s+', ' ', text).strip()\n",
        "\n",
        "    # Removing duplicate lines/sentences\n",
        "    sentences = text.split('. ')\n",
        "    unique_sentences = list(dict.fromkeys(sentences))\n",
        "    cleaned_text = '. '.join(unique_sentences)\n",
        "\n",
        "    return cleaned_text"
      ],
      "metadata": {
        "id": "vBj944dYbL92"
      },
      "execution_count": 8,
      "outputs": []
    },
    {
      "cell_type": "code",
      "source": [
        "# Step 4: Apply the cleaning function to the extracted text\n",
        "cleaned_texts = {filename: clean_text(text) for filename, text in extracted_texts.items()}\n",
        "\n",
        "# Step 5: Print cleaned text from one file (e.g., the first uploaded file)\n",
        "first_file = list(cleaned_texts.keys())[0]  # Get the name of the first file\n",
        "print(cleaned_texts[first_file])"
      ],
      "metadata": {
        "colab": {
          "base_uri": "https://localhost:8080/"
        },
        "id": "10a_a6TQbaC4",
        "outputId": "767fd014-048b-4d45-a474-707bd2aac238"
      },
      "execution_count": 12,
      "outputs": [
        {
          "output_type": "stream",
          "name": "stdout",
          "text": [
            "P R E V I E W S Breast cancer susceptibilityA new look at an old model A polygenic model in which many individually weak genes combine multiplicately to cause a 50-fold range of risk in the population explains several puzzling aspects of familial breast cancer epidemiology,including the very high risk in some families and the failure to identify important new genes since the discovery of BRCA1and BRCA2. Germline mutations in BRCA1or BRCA2 model was developed by segregation several quite different genetic models account for most large multiple-case analysis in a population-based series of provide a statistically satisfactory fit to breast cancer families but only a few per- families and in a collection of multiple such family data. The original CASH cent of unselected cases. It has been case families in which breast cancer model involved a rare highly penetrant recognized since BRCA2 was cloned patients had been screened for BRCA1 dominant gene Claus et al., 1991, and that these and a few other known genes and BRCA2mutations Antoniou et al., models that combine the BRCAgenes account for less than a quarter of the 2002.The assumption that the hypothet- with a single less-penetrant recessive or observed excess risk in relatives of ical polygenesmultiply the effects of all dominant gene appear to fit virtually as breast cancer patients Ponder, 2001, other genes including BRCA1 and well as the polygenic model Antoniou et yet no important new breast cancer gene BRCA2 accounts for the higher pene- al., 2002.The marginally higher risk in has been discovered in the intervening trance seen in BRCAcarriers from multi- patients sisters than in their daughters six years despite extensive linkage and ple-case families than in those identified probably reflects shared nongenetic fac- candidate gene studies. Systematic by screening unselected cases. The tors. Such genes might also interact sequencing in patients and controls has analysis also supports the suggestion with BRCA1and BRCA2to account for identified a few candidate polymor- that most breast cancers arise in a sus- their higher penetrance in multiple-case phisms that may confer risk families.This resurrection of ratios of the order of 1.5 or 2 the classical polygenic model Dunning et al., 1999, but is timely and important most are of marginal statisti- because the hunt for more cal significance, and even in penetrant genes has proved combination they cannot fruitless and it is time to make a substantial contribu- rethink our strategy, not tion to the overall familial because the details are likely effect. Ponder and his col- to be biologically correct.The leagues, writing in Nature statement that the validity of Genetics Pharoah et al., our results depends on the 2002, discuss the possibility validity of the segregation that there may be few, if any, analysis, a detailed critique major breast cancer genes of which is beyond the scope still to be discovered. They of this paper gives the mis- propose a polygenic basis for leading impression that such the wide observed variation model-fitting can provide reli- in familial risk whereby the able evidence on underlying individually small effects of mechanisms.The suggestion many genes combine multi- that because the relative risk plicatively to produce a log- Figure 1.Polygenic model for breast cancer risk in patients relatives is also normal distribution of lifetime Distribution of lifetime breast cancer risk in the general population and about 2 for many other com- risk in the general population, in women who will develop breast cancer figure based on Pharoah mon cancers their distribu- et al., 2002. as shown by the blue curve in tion of risk is likely to exhibit Figure 1.Lifetime risk varies similar variation Pharoah et more than 50-fold, from less al., 2002 is also question- than 1 in 200 for women below the 3rd ceptible minority of women Peto and able.The relative risk in people with two percentile to more than 20 above the Mack, 2000. Half of all breast cancers affected relatives is less than 3 for breast 97thpercentile.The genetic distribution of are predicted to occur in the most sus- cancer, but for most other cancers it is risk among breast cancer patients also ceptible 12 of the population. between 10 and 30 Dong and spans a 50-fold range, but their average This classical polygenic model is Hemminki, 2001, suggesting that a risk is 4-fold greater than in the general uniquely defined by the relative risk in smaller proportion of cases occur in population red curve.If each gene con- patientsrelatives.The predicted relative highly susceptible individuals. But their ferred a 1.5-fold risk, the number of such risk of 4 in patients and in their identical central thesis, that important advances genes that would be needed to account twins is the square of the observed rela- in breast cancer genetics will depend on for the doubling of risk observed in tive risk in their sisters, which is about 2. the discovery of large numbers of genes patients relatives ranges from several Its predictions, particularly the distribu- with weak effects, is likely to be correct, hundred if their individual frequencies tion of multiple cases in families, should and gene hunters will ignore it at their were 0.01 to a few dozen with a popula- therefore provide a critical test of the peril. tion frequency of 0.1 Ponder, 2001.The models plausibility.In practice, however, These authors had already reported CANCER CELL JUNE 2002 411P R E V I E W S the fit of this polygenic model to their ther genes will probably be restricted to terns have been cloned and character- breast cancer families Antoniou et al., candidates for the next year or two. ized.The polygenic model is an extremely 2002, and this article is concerned When rapid genome-wide sequencing useful conceptual simplification, but the mainly with the implications of a genetic becomes available, however, any genetic interest will lie in the complexity. test that might in the future identify indi- variant with a frequency of 1 or more viduals at very high risk as well as those that confers a risk of 1.52 should be at such low risk that they would not want detectable by this approach. Julian Peto to be screened at all.The eventual iden- The recent overview of risks in Institute of Cancer Research tification and functional characterization patients relatives based on 58,209 Sutton, Surrey SM2 5NG of a large number of such genes would women with breast cancer Collaborative and London School of Hygiene and certainly have a major impact on many Group on Hormonal Factors in Breast Tropical Medicine aspects of breast cancer prevention and Cancer, 2001 provides the most precise London WC1E 7HT treatment, but the more immediate published estimates of familial risks.The United Kingdom E-mail j.petoicr.ac.uk question is how they can be found. incidence in a patients relatives is further Coincidentally, the same issue of increased almost 2-fold if another relative Nature Geneticsincludes a report that a is also affected, confirming that there is Selected reading single truncating mutation in CHEK2 considerable heterogeneity in underlying found in 1.1 of the general population incidence among women who develop Antoniou, A.C., Pharoah, P.D.P., McMullan, G., and only 1.4 of unselected breast breast cancer.The polygenic model pro- Day, N.E., Stratton, M.R., Peto, J., Ponder, B.J., cancers is carried by 5 of patients vides a plausible explanation of this varia- and Easton, D.F.2002.Br.J.Cancer 86, 7683. from multiple-case families unlinked tion in lifetime risk.But it does not explain CHEK2-Breast Cancer Consortium 2002.Nat. to BRCA1 or BRCA2 CHEK2-Breast why the risk in patientsrelatives at ages Genet.31, 5559. Cancer Consortium, 2002.The contribu- older than the index cases age at diagno- Claus, E.B., Risch, N., and Thompson, W.D. tion of mutant CHEK2to overall breast sis is independent of the index cases age 1991.Am.J.Hum.Genet.48, 232242. cancer incidence is trivial, but the Collaborative Group on Hormonal Collaborative Group on Hormonal Factors in demonstration that rare low-penetrance Factors in Breast Cancer, 2001, or why Breast Cancer 2001.Lancet 358, 13891399. genes can be found by simply comparing contralateral rates are roughly constant at their prevalence in patients with affected all ages.The high rate at young ages in Dong, C., and Hemminki, K.2001.Int.J.Cancer 92, 144150. relatives against controls is an important their relatives shows that young patients methodological advance.CHEK2fails to are genetically different from older Dunning, A.M., Healey, C.S., Pharoah, P.D.P., exhibit the hypothesized interaction with patients, yet their relatives and those of Teare, M.D., Ponder, B.A.J., and Easton, D.F. 1999. Cancer Epidemiol. Biomarkers Prev.8, BRCA1or BRCA2, probably because it older patients eventually suffer virtually 843854. lies in the same functional pathway. identical age-specific rates.Different com- Such genes may be almost impossible to binations of genes may determine a Peto, J., and Mack, T.M.2000.Nat.Genet.26, 411414. detect by traditional approaches, includ- womans eventual level of risk and the age ing linkage in families or prevalence in at which that risk is reached Peto and Pharoah, P.D.P., Antoniou, A., Bobrow, M., unselected cases. Most susceptibility Mack, 2000, but such speculative Zimmern, R.L., Easton, D.F., and Ponder, B.A.J. genes will not carry such a common hypotheses cannot be tested until the 2002.Nat.Genet.31, 3336. mutant haplotype, and the search for fur- genes that underlie these surprising pat- Ponder, B.A.J.2001.Nature 411, 336341. 412 CANCER CELL JUNE 2002\n"
          ]
        }
      ]
    },
    {
      "cell_type": "markdown",
      "source": [
        "2.3 Normalization"
      ],
      "metadata": {
        "id": "BzMTyL7B2pmo"
      }
    },
    {
      "cell_type": "code",
      "source": [
        "import nltk\n",
        "from nltk.tokenize import word_tokenize\n",
        "from nltk.corpus import stopwords\n",
        "import string\n",
        "\n",
        "# Download required NLTK packages\n",
        "nltk.download('punkt')\n",
        "nltk.download('stopwords')\n",
        "\n",
        "# Tokenization and normalization function\n",
        "def preprocess_text(text):\n",
        "    # Converting to lowercase and tokenizing\n",
        "    tokens = word_tokenize(text.lower())\n",
        "\n",
        "    # Removing punctuation marks and stop words\n",
        "    tokens = [word for word in tokens if word.isalpha()]  # Keep only alphabetic tokens\n",
        "    stop_words = set(stopwords.words('english'))  # Get English stop words\n",
        "    tokens = [word for word in tokens if word not in stop_words]  # Remove stop words\n",
        "\n",
        "    return tokens\n",
        "\n",
        "# Assuming `pdf_texts` is a dictionary from the earlier text extraction step\n",
        "# Preprocess each extracted text and store in a new dictionary\n",
        "preprocessed_texts = {filename: preprocess_text(text) for filename, text in extracted_texts.items()}\n",
        "\n",
        "# Print preprocessed tokens from the first file for verification\n",
        "first_file = list(preprocessed_texts.keys())[0]  # Get the name of the first file\n",
        "print(f\"Preprocessed tokens for {first_file}:\")\n",
        "print(preprocessed_texts[first_file])"
      ],
      "metadata": {
        "colab": {
          "base_uri": "https://localhost:8080/"
        },
        "id": "pRLdw1lxb_T_",
        "outputId": "b7a32413-681a-4218-ba21-d17c079a4668"
      },
      "execution_count": 14,
      "outputs": [
        {
          "output_type": "stream",
          "name": "stderr",
          "text": [
            "[nltk_data] Downloading package punkt to /root/nltk_data...\n",
            "[nltk_data]   Package punkt is already up-to-date!\n",
            "[nltk_data] Downloading package stopwords to /root/nltk_data...\n",
            "[nltk_data]   Package stopwords is already up-to-date!\n"
          ]
        },
        {
          "output_type": "stream",
          "name": "stdout",
          "text": [
            "Preprocessed tokens for Breast-cancer-susceptibility&#x2014;A-new-look-at-.pdf:\n",
            "['p', 'r', 'e', 'v', 'e', 'w', 'breast', 'cancer', 'new', 'look', 'old', 'model', 'polygenic', 'model', 'many', 'individually', 'weak', 'genes', 'combine', 'multiplicately', 'cause', 'range', 'risk', 'population', 'explains', 'several', 'puzzling', 'aspects', 'familial', 'breast', 'cancer', 'epidemiology', 'including', 'high', 'risk', 'families', 'failure', 'identify', 'important', 'new', 'genes', 'since', 'discovery', 'germline', 'mutations', 'model', 'developed', 'segregation', 'several', 'quite', 'different', 'genetic', 'models', 'account', 'large', 'analysis', 'series', 'provide', 'statistically', 'satisfactory', 'fit', 'breast', 'cancer', 'families', 'families', 'collection', 'multiple', 'family', 'data', 'original', 'cash', 'cent', 'unselected', 'cases', 'case', 'families', 'breast', 'cancer', 'model', 'involved', 'rare', 'highly', 'penetrant', 'recognized', 'since', 'cloned', 'patients', 'screened', 'dominant', 'gene', 'claus', 'et', 'known', 'genes', 'antoniou', 'et', 'models', 'combine', 'brcagenes', 'account', 'less', 'quarter', 'assumption', 'single', 'recessive', 'observed', 'excess', 'risk', 'relatives', 'ical', 'polygenes', 'multiply', 'effects', 'dominant', 'gene', 'appear', 'fit', 'virtually', 'breast', 'cancer', 'patients', 'ponder', 'genes', 'including', 'well', 'polygenic', 'model', 'antoniou', 'et', 'yet', 'important', 'new', 'breast', 'cancer', 'gene', 'accounts', 'higher', 'marginally', 'higher', 'risk', 'discovered', 'intervening', 'trance', 'seen', 'brcacarriers', 'patients', 'sisters', 'daughters', 'six', 'years', 'despite', 'extensive', 'linkage', 'families', 'identified', 'probably', 'reflects', 'shared', 'nongenetic', 'candidate', 'gene', 'studies', 'systematic', 'screening', 'unselected', 'cases', 'tors', 'genes', 'might', 'also', 'interact', 'sequencing', 'patients', 'controls', 'analysis', 'also', 'supports', 'suggestion', 'account', 'identified', 'candidate', 'breast', 'cancers', 'arise', 'higher', 'penetrance', 'phisms', 'may', 'confer', 'risk', 'resurrection', 'ratios', 'order', 'classical', 'polygenic', 'model', 'dunning', 'et', 'timely', 'important', 'marginal', 'hunt', 'cal', 'significance', 'even', 'penetrant', 'genes', 'proved', 'combination', 'fruitless', 'time', 'make', 'substantial', 'rethink', 'strategy', 'tion', 'overall', 'familial', 'details', 'likely', 'effect', 'ponder', 'biologically', 'leagues', 'writing', 'nature', 'statement', 'validity', 'genetics', 'pharoah', 'et', 'results', 'depends', 'discuss', 'possibility', 'validity', 'segregation', 'may', 'analysis', 'detailed', 'critique', 'major', 'breast', 'cancer', 'genes', 'beyond', 'scope', 'still', 'discovered', 'paper', 'gives', 'propose', 'polygenic', 'basis', 'leading', 'impression', 'wide', 'observed', 'variation', 'provide', 'familial', 'risk', 'whereby', 'able', 'evidence', 'underlying', 'individually', 'small', 'effects', 'suggestion', 'many', 'genes', 'combine', 'relative', 'risk', 'plicatively', 'produce', 'figure', 'model', 'breast', 'cancer', 'risk', 'patients', 'relatives', 'also', 'normal', 'distribution', 'lifetime', 'distribution', 'lifetime', 'breast', 'cancer', 'risk', 'general', 'population', 'many', 'risk', 'general', 'population', 'women', 'develop', 'breast', 'cancer', 'figure', 'based', 'pharoah', 'mon', 'cancers', 'et', 'shown', 'blue', 'curve', 'tion', 'risk', 'likely', 'exhibit', 'figure', 'risk', 'varies', 'similar', 'variation', 'pharoah', 'et', 'less', 'also', 'women', 'ceptible', 'minority', 'women', 'peto', 'relative', 'risk', 'people', 'two', 'percentile', 'mack', 'half', 'breast', 'cancers', 'affected', 'relatives', 'less', 'breast', 'genetic', 'distribution', 'predicted', 'occur', 'cancer', 'cancers', 'risk', 'among', 'breast', 'cancer', 'patients', 'also', 'ceptible', 'population', 'dong', 'spans', 'range', 'average', 'classical', 'polygenic', 'model', 'hemminki', 'suggesting', 'risk', 'greater', 'general', 'uniquely', 'defined', 'relative', 'risk', 'smaller', 'proportion', 'cases', 'occur', 'population', 'red', 'curve', 'gene', 'patients', 'predicted', 'relative', 'highly', 'susceptible', 'individuals', 'ferred', 'risk', 'number', 'risk', 'patients', 'identical', 'central', 'thesis', 'important', 'advances', 'genes', 'would', 'needed', 'account', 'twins', 'square', 'observed', 'breast', 'cancer', 'genetics', 'depend', 'doubling', 'risk', 'observed', 'tive', 'risk', 'sisters', 'discovery', 'large', 'numbers', 'genes', 'patients', 'relatives', 'ranges', 'several', 'predictions', 'particularly', 'weak', 'effects', 'likely', 'correct', 'hundred', 'individual', 'frequencies', 'tion', 'multiple', 'cases', 'families', 'gene', 'hunters', 'ignore', 'dozen', 'therefore', 'provide', 'critical', 'test', 'peril', 'tion', 'frequency', 'ponder', 'model', 'practice', 'however', 'authors', 'already', 'reported', 'cancer', 'cell', 'june', 'r', 'e', 'v', 'e', 'w', 'fit', 'polygenic', 'model', 'ther', 'genes', 'probably', 'restricted', 'terns', 'cloned', 'breast', 'cancer', 'families', 'antoniou', 'et', 'candidates', 'next', 'year', 'two', 'polygenic', 'model', 'extremely', 'article', 'concerned', 'rapid', 'sequencing', 'useful', 'conceptual', 'simplification', 'mainly', 'implications', 'genetic', 'becomes', 'available', 'however', 'genetic', 'interest', 'lie', 'complexity', 'test', 'might', 'future', 'identify', 'variant', 'frequency', 'viduals', 'high', 'risk', 'well', 'confers', 'risk', 'low', 'risk', 'would', 'want', 'detectable', 'approach', 'julian', 'peto', 'screened', 'eventual', 'recent', 'overview', 'risks', 'institute', 'cancer', 'research', 'tification', 'functional', 'characterization', 'patients', 'relatives', 'based', 'sutton', 'surrey', 'large', 'number', 'genes', 'would', 'women', 'breast', 'cancer', 'collaborative', 'london', 'school', 'hygiene', 'certainly', 'major', 'impact', 'many', 'group', 'hormonal', 'factors', 'breast', 'tropical', 'medicine', 'aspects', 'breast', 'cancer', 'prevention', 'cancer', 'provides', 'precise', 'london', 'treatment', 'immediate', 'published', 'estimates', 'familial', 'united', 'kingdom', 'question', 'found', 'incidence', 'patient', 'relatives', 'coincidentally', 'issue', 'increased', 'almost', 'another', 'relative', 'nature', 'geneticsincludes', 'report', 'also', 'affected', 'confirming', 'selected', 'reading', 'single', 'truncating', 'mutation', 'considerable', 'heterogeneity', 'underlying', 'found', 'general', 'population', 'incidence', 'among', 'women', 'develop', 'antoniou', 'pharoah', 'mcmullan', 'unselected', 'breast', 'breast', 'polygenic', 'model', 'day', 'stratton', 'peto', 'ponder', 'cancers', 'carried', 'patients', 'vides', 'plausible', 'explanation', 'easton', 'families', 'unlinked', 'tion', 'lifetime', 'explain', 'cancer', 'consortium', 'risk', 'patients', 'relatives', 'ages', 'cancer', 'consortium', 'older', 'index', 'case', 'age', 'claus', 'risch', 'thompson', 'tion', 'mutant', 'overall', 'breast', 'sis', 'independent', 'index', 'case', 'age', 'cancer', 'incidence', 'trivial', 'collaborative', 'group', 'hormonal', 'collaborative', 'group', 'hormonal', 'factors', 'demonstration', 'rare', 'factors', 'breast', 'cancer', 'breast', 'cancer', 'genes', 'found', 'simply', 'comparing', 'contralateral', 'rates', 'roughly', 'constant', 'prevalence', 'patients', 'affected', 'high', 'rate', 'young', 'ages', 'dong', 'hemminki', 'relatives', 'controls', 'important', 'relatives', 'shows', 'young', 'patients', 'methodological', 'advance', 'genetically', 'different', 'older', 'dunning', 'healey', 'pharoah', 'exhibit', 'hypothesized', 'interaction', 'patients', 'yet', 'relatives', 'teare', 'ponder', 'easton', 'cancer', 'epidemiol', 'biomarkers', 'probably', 'older', 'patients', 'eventually', 'suffer', 'virtually', 'lies', 'functional', 'pathway', 'identical', 'genes', 'may', 'almost', 'impossible', 'binations', 'genes', 'may', 'determine', 'peto', 'mack', 'detect', 'traditional', 'approaches', 'woman', 'eventual', 'level', 'risk', 'age', 'ing', 'linkage', 'families', 'prevalence', 'risk', 'reached', 'peto', 'pharoah', 'antoniou', 'bobrow', 'unselected', 'cases', 'susceptibility', 'mack', 'speculative', 'zimmern', 'easton', 'ponder', 'genes', 'carry', 'common', 'hypotheses', 'tested', 'mutant', 'haplotype', 'search', 'genes', 'underlie', 'surprising', 'ponder', 'cancer', 'cell', 'june']\n"
          ]
        }
      ]
    },
    {
      "cell_type": "markdown",
      "source": [
        "2.4 Entity Recognition"
      ],
      "metadata": {
        "id": "YFVKexuD_jpt"
      }
    },
    {
      "cell_type": "code",
      "source": [
        "import spacy\n",
        "\n",
        "# Load spaCy's small English model\n",
        "nlp = spacy.load('en_core_web_sm')\n",
        "\n",
        "# Function for Named Entity Recognition (NER)\n",
        "def perform_ner(text):\n",
        "    doc = nlp(text)\n",
        "    entities = [(ent.text, ent.label_) for ent in doc.ents]\n",
        "    return entities\n",
        "\n",
        "# Perform NER on each preprocessed text\n",
        "# Here, we're joining the preprocessed tokens back into a single string\n",
        "entities_per_doc = {filename: perform_ner(\" \".join(tokens)) for filename, tokens in preprocessed_texts.items()}\n",
        "\n",
        "# Print the named entities from the first file as an example\n",
        "first_file = list(entities_per_doc.keys())[0]  # Get the name of the first file\n",
        "print(f\"Named entities for {first_file}:\")\n",
        "print(entities_per_doc[first_file])"
      ],
      "metadata": {
        "colab": {
          "base_uri": "https://localhost:8080/"
        },
        "id": "IeCbcIGfcI_o",
        "outputId": "6931c4a4-6965-4cd7-84c9-99290bedca4c"
      },
      "execution_count": 15,
      "outputs": [
        {
          "output_type": "stream",
          "name": "stdout",
          "text": [
            "Named entities for Breast-cancer-susceptibility&#x2014;A-new-look-at-.pdf:\n",
            "[('p r e v e w', 'ORG'), ('quarter', 'DATE'), ('six years', 'DATE'), ('two', 'CARDINAL'), ('half', 'CARDINAL'), ('dong spans', 'PERSON'), ('hemminki', 'GPE'), ('hundred', 'CARDINAL'), ('dozen', 'CARDINAL'), ('june', 'DATE'), ('next year', 'DATE'), ('two', 'CARDINAL'), ('sutton', 'ORG'), ('london', 'GPE'), ('precise london', 'ORG'), ('united kingdom', 'GPE'), ('dong hemminki', 'PERSON'), ('zimmern easton', 'PERSON'), ('june', 'DATE')]\n"
          ]
        }
      ]
    },
    {
      "cell_type": "markdown",
      "source": [
        "2.5 Stemming/Lemmatization"
      ],
      "metadata": {
        "id": "WFhl1eEHA9-T"
      }
    },
    {
      "cell_type": "code",
      "source": [
        "# Using PorterStemmer for Stemming\n",
        "from nltk.stem import PorterStemmer\n",
        "import spacy\n",
        "\n",
        "# Initializing the PorterStemmer\n",
        "stemmer = PorterStemmer()\n",
        "\n",
        "# Function to stem tokens\n",
        "def stem_tokens(tokens):\n",
        "    return [stemmer.stem(token) for token in tokens]\n",
        "\n",
        "# Applying stemming to each document in preprocessed_texts\n",
        "# Storing the stemmed tokens in a dictionary with filenames as keys\n",
        "stemmed_texts = {filename: stem_tokens(tokens) for filename, tokens in preprocessed_texts.items()}\n",
        "\n",
        "# Example output for stemming\n",
        "first_file = list(preprocessed_texts.keys())[0]  # Get the first file name\n",
        "print(f\"Stemmed tokens for {first_file}:\")\n",
        "print(stemmed_texts[first_file])"
      ],
      "metadata": {
        "colab": {
          "base_uri": "https://localhost:8080/"
        },
        "id": "TARf4jGccT3u",
        "outputId": "cebfa541-a23b-472f-d6de-8232bfaa7186"
      },
      "execution_count": 16,
      "outputs": [
        {
          "output_type": "stream",
          "name": "stdout",
          "text": [
            "Stemmed tokens for Breast-cancer-susceptibility&#x2014;A-new-look-at-.pdf:\n",
            "['p', 'r', 'e', 'v', 'e', 'w', 'breast', 'cancer', 'new', 'look', 'old', 'model', 'polygen', 'model', 'mani', 'individu', 'weak', 'gene', 'combin', 'multipl', 'caus', 'rang', 'risk', 'popul', 'explain', 'sever', 'puzzl', 'aspect', 'famili', 'breast', 'cancer', 'epidemiolog', 'includ', 'high', 'risk', 'famili', 'failur', 'identifi', 'import', 'new', 'gene', 'sinc', 'discoveri', 'germlin', 'mutat', 'model', 'develop', 'segreg', 'sever', 'quit', 'differ', 'genet', 'model', 'account', 'larg', 'analysi', 'seri', 'provid', 'statist', 'satisfactori', 'fit', 'breast', 'cancer', 'famili', 'famili', 'collect', 'multipl', 'famili', 'data', 'origin', 'cash', 'cent', 'unselect', 'case', 'case', 'famili', 'breast', 'cancer', 'model', 'involv', 'rare', 'highli', 'penetr', 'recogn', 'sinc', 'clone', 'patient', 'screen', 'domin', 'gene', 'clau', 'et', 'known', 'gene', 'antoni', 'et', 'model', 'combin', 'brcagen', 'account', 'less', 'quarter', 'assumpt', 'singl', 'recess', 'observ', 'excess', 'risk', 'rel', 'ical', 'polygen', 'multipli', 'effect', 'domin', 'gene', 'appear', 'fit', 'virtual', 'breast', 'cancer', 'patient', 'ponder', 'gene', 'includ', 'well', 'polygen', 'model', 'antoni', 'et', 'yet', 'import', 'new', 'breast', 'cancer', 'gene', 'account', 'higher', 'margin', 'higher', 'risk', 'discov', 'interven', 'tranc', 'seen', 'brcacarri', 'patient', 'sister', 'daughter', 'six', 'year', 'despit', 'extens', 'linkag', 'famili', 'identifi', 'probabl', 'reflect', 'share', 'nongenet', 'candid', 'gene', 'studi', 'systemat', 'screen', 'unselect', 'case', 'tor', 'gene', 'might', 'also', 'interact', 'sequenc', 'patient', 'control', 'analysi', 'also', 'support', 'suggest', 'account', 'identifi', 'candid', 'breast', 'cancer', 'aris', 'higher', 'penetr', 'phism', 'may', 'confer', 'risk', 'resurrect', 'ratio', 'order', 'classic', 'polygen', 'model', 'dun', 'et', 'time', 'import', 'margin', 'hunt', 'cal', 'signific', 'even', 'penetr', 'gene', 'prove', 'combin', 'fruitless', 'time', 'make', 'substanti', 'rethink', 'strategi', 'tion', 'overal', 'famili', 'detail', 'like', 'effect', 'ponder', 'biolog', 'leagu', 'write', 'natur', 'statement', 'valid', 'genet', 'pharoah', 'et', 'result', 'depend', 'discuss', 'possibl', 'valid', 'segreg', 'may', 'analysi', 'detail', 'critiqu', 'major', 'breast', 'cancer', 'gene', 'beyond', 'scope', 'still', 'discov', 'paper', 'give', 'propos', 'polygen', 'basi', 'lead', 'impress', 'wide', 'observ', 'variat', 'provid', 'famili', 'risk', 'wherebi', 'abl', 'evid', 'underli', 'individu', 'small', 'effect', 'suggest', 'mani', 'gene', 'combin', 'rel', 'risk', 'plic', 'produc', 'figur', 'model', 'breast', 'cancer', 'risk', 'patient', 'rel', 'also', 'normal', 'distribut', 'lifetim', 'distribut', 'lifetim', 'breast', 'cancer', 'risk', 'gener', 'popul', 'mani', 'risk', 'gener', 'popul', 'women', 'develop', 'breast', 'cancer', 'figur', 'base', 'pharoah', 'mon', 'cancer', 'et', 'shown', 'blue', 'curv', 'tion', 'risk', 'like', 'exhibit', 'figur', 'risk', 'vari', 'similar', 'variat', 'pharoah', 'et', 'less', 'also', 'women', 'ceptibl', 'minor', 'women', 'peto', 'rel', 'risk', 'peopl', 'two', 'percentil', 'mack', 'half', 'breast', 'cancer', 'affect', 'rel', 'less', 'breast', 'genet', 'distribut', 'predict', 'occur', 'cancer', 'cancer', 'risk', 'among', 'breast', 'cancer', 'patient', 'also', 'ceptibl', 'popul', 'dong', 'span', 'rang', 'averag', 'classic', 'polygen', 'model', 'hemminki', 'suggest', 'risk', 'greater', 'gener', 'uniqu', 'defin', 'rel', 'risk', 'smaller', 'proport', 'case', 'occur', 'popul', 'red', 'curv', 'gene', 'patient', 'predict', 'rel', 'highli', 'suscept', 'individu', 'fer', 'risk', 'number', 'risk', 'patient', 'ident', 'central', 'thesi', 'import', 'advanc', 'gene', 'would', 'need', 'account', 'twin', 'squar', 'observ', 'breast', 'cancer', 'genet', 'depend', 'doubl', 'risk', 'observ', 'tive', 'risk', 'sister', 'discoveri', 'larg', 'number', 'gene', 'patient', 'rel', 'rang', 'sever', 'predict', 'particularli', 'weak', 'effect', 'like', 'correct', 'hundr', 'individu', 'frequenc', 'tion', 'multipl', 'case', 'famili', 'gene', 'hunter', 'ignor', 'dozen', 'therefor', 'provid', 'critic', 'test', 'peril', 'tion', 'frequenc', 'ponder', 'model', 'practic', 'howev', 'author', 'alreadi', 'report', 'cancer', 'cell', 'june', 'r', 'e', 'v', 'e', 'w', 'fit', 'polygen', 'model', 'ther', 'gene', 'probabl', 'restrict', 'tern', 'clone', 'breast', 'cancer', 'famili', 'antoni', 'et', 'candid', 'next', 'year', 'two', 'polygen', 'model', 'extrem', 'articl', 'concern', 'rapid', 'sequenc', 'use', 'conceptu', 'simplif', 'mainli', 'implic', 'genet', 'becom', 'avail', 'howev', 'genet', 'interest', 'lie', 'complex', 'test', 'might', 'futur', 'identifi', 'variant', 'frequenc', 'vidual', 'high', 'risk', 'well', 'confer', 'risk', 'low', 'risk', 'would', 'want', 'detect', 'approach', 'julian', 'peto', 'screen', 'eventu', 'recent', 'overview', 'risk', 'institut', 'cancer', 'research', 'tific', 'function', 'character', 'patient', 'rel', 'base', 'sutton', 'surrey', 'larg', 'number', 'gene', 'would', 'women', 'breast', 'cancer', 'collabor', 'london', 'school', 'hygien', 'certainli', 'major', 'impact', 'mani', 'group', 'hormon', 'factor', 'breast', 'tropic', 'medicin', 'aspect', 'breast', 'cancer', 'prevent', 'cancer', 'provid', 'precis', 'london', 'treatment', 'immedi', 'publish', 'estim', 'famili', 'unit', 'kingdom', 'question', 'found', 'incid', 'patient', 'rel', 'coincident', 'issu', 'increas', 'almost', 'anoth', 'rel', 'natur', 'geneticsinclud', 'report', 'also', 'affect', 'confirm', 'select', 'read', 'singl', 'truncat', 'mutat', 'consider', 'heterogen', 'underli', 'found', 'gener', 'popul', 'incid', 'among', 'women', 'develop', 'antoni', 'pharoah', 'mcmullan', 'unselect', 'breast', 'breast', 'polygen', 'model', 'day', 'stratton', 'peto', 'ponder', 'cancer', 'carri', 'patient', 'vide', 'plausibl', 'explan', 'easton', 'famili', 'unlink', 'tion', 'lifetim', 'explain', 'cancer', 'consortium', 'risk', 'patient', 'rel', 'age', 'cancer', 'consortium', 'older', 'index', 'case', 'age', 'clau', 'risch', 'thompson', 'tion', 'mutant', 'overal', 'breast', 'si', 'independ', 'index', 'case', 'age', 'cancer', 'incid', 'trivial', 'collabor', 'group', 'hormon', 'collabor', 'group', 'hormon', 'factor', 'demonstr', 'rare', 'factor', 'breast', 'cancer', 'breast', 'cancer', 'gene', 'found', 'simpli', 'compar', 'contralater', 'rate', 'roughli', 'constant', 'preval', 'patient', 'affect', 'high', 'rate', 'young', 'age', 'dong', 'hemminki', 'rel', 'control', 'import', 'rel', 'show', 'young', 'patient', 'methodolog', 'advanc', 'genet', 'differ', 'older', 'dun', 'healey', 'pharoah', 'exhibit', 'hypothes', 'interact', 'patient', 'yet', 'rel', 'tear', 'ponder', 'easton', 'cancer', 'epidemiol', 'biomark', 'probabl', 'older', 'patient', 'eventu', 'suffer', 'virtual', 'lie', 'function', 'pathway', 'ident', 'gene', 'may', 'almost', 'imposs', 'binat', 'gene', 'may', 'determin', 'peto', 'mack', 'detect', 'tradit', 'approach', 'woman', 'eventu', 'level', 'risk', 'age', 'ing', 'linkag', 'famili', 'preval', 'risk', 'reach', 'peto', 'pharoah', 'antoni', 'bobrow', 'unselect', 'case', 'suscept', 'mack', 'specul', 'zimmern', 'easton', 'ponder', 'gene', 'carri', 'common', 'hypothes', 'test', 'mutant', 'haplotyp', 'search', 'gene', 'underli', 'surpris', 'ponder', 'cancer', 'cell', 'june']\n"
          ]
        }
      ]
    },
    {
      "cell_type": "code",
      "source": [
        "# Importing spaCy for Lemmatization\n",
        "# Loading the spaCy model\n",
        "nlp = spacy.load('en_core_web_sm')\n",
        "\n",
        "# Function to lemmatize tokens\n",
        "def lemmatize_tokens(tokens):\n",
        "    return [token.lemma_ for token in nlp(\" \".join(tokens)) if token.is_alpha]\n",
        "\n",
        "# Applying lemmatization to each document in preprocessed_texts\n",
        "# Storing the lemmatized tokens in a dictionary with filenames as keys\n",
        "lemmatized_texts = {filename: lemmatize_tokens(tokens) for filename, tokens in preprocessed_texts.items()}\n",
        "\n",
        "# Example output for lemmatization\n",
        "print(f\"Lemmatized tokens for {first_file}:\")\n",
        "print(lemmatized_texts[first_file])"
      ],
      "metadata": {
        "colab": {
          "base_uri": "https://localhost:8080/"
        },
        "id": "lSrj3BEccTyy",
        "outputId": "923c8c6e-4a16-4334-8b55-d88692a0159d"
      },
      "execution_count": 17,
      "outputs": [
        {
          "output_type": "stream",
          "name": "stdout",
          "text": [
            "Lemmatized tokens for Breast-cancer-susceptibility&#x2014;A-new-look-at-.pdf:\n",
            "['p', 'r', 'e', 'v', 'e', 'w', 'breast', 'cancer', 'new', 'look', 'old', 'model', 'polygenic', 'model', 'many', 'individually', 'weak', 'gene', 'combine', 'multiplicately', 'cause', 'range', 'risk', 'population', 'explain', 'several', 'puzzle', 'aspect', 'familial', 'breast', 'cancer', 'epidemiology', 'include', 'high', 'risk', 'family', 'failure', 'identify', 'important', 'new', 'gene', 'since', 'discovery', 'germline', 'mutation', 'model', 'develop', 'segregation', 'several', 'quite', 'different', 'genetic', 'model', 'account', 'large', 'analysis', 'series', 'provide', 'statistically', 'satisfactory', 'fit', 'breast', 'cancer', 'family', 'family', 'collection', 'multiple', 'family', 'datum', 'original', 'cash', 'cent', 'unselecte', 'case', 'case', 'family', 'breast', 'cancer', 'model', 'involve', 'rare', 'highly', 'penetrant', 'recognize', 'since', 'clone', 'patient', 'screen', 'dominant', 'gene', 'claus', 'et', 'know', 'gene', 'antoniou', 'et', 'model', 'combine', 'brcagene', 'account', 'less', 'quarter', 'assumption', 'single', 'recessive', 'observed', 'excess', 'risk', 'relative', 'ical', 'polygene', 'multiply', 'effect', 'dominant', 'gene', 'appear', 'fit', 'virtually', 'breast', 'cancer', 'patient', 'ponder', 'gene', 'include', 'well', 'polygenic', 'model', 'antoniou', 'et', 'yet', 'important', 'new', 'breast', 'cancer', 'gene', 'account', 'high', 'marginally', 'high', 'risk', 'discover', 'intervene', 'trance', 'see', 'brcacarrier', 'patient', 'sister', 'daughter', 'six', 'year', 'despite', 'extensive', 'linkage', 'family', 'identify', 'probably', 'reflect', 'share', 'nongenetic', 'candidate', 'gene', 'study', 'systematic', 'screening', 'unselected', 'case', 'tor', 'gene', 'might', 'also', 'interact', 'sequence', 'patient', 'control', 'analysis', 'also', 'support', 'suggestion', 'account', 'identify', 'candidate', 'breast', 'cancer', 'arise', 'high', 'penetrance', 'phism', 'may', 'confer', 'risk', 'resurrection', 'ratio', 'order', 'classical', 'polygenic', 'model', 'dun', 'et', 'timely', 'important', 'marginal', 'hunt', 'cal', 'significance', 'even', 'penetrant', 'gene', 'prove', 'combination', 'fruitless', 'time', 'make', 'substantial', 'rethink', 'strategy', 'tion', 'overall', 'familial', 'detail', 'likely', 'effect', 'ponder', 'biologically', 'league', 'write', 'nature', 'statement', 'validity', 'genetic', 'pharoah', 'et', 'result', 'depend', 'discuss', 'possibility', 'validity', 'segregation', 'may', 'analysis', 'detailed', 'critique', 'major', 'breast', 'cancer', 'gene', 'beyond', 'scope', 'still', 'discover', 'paper', 'gives', 'propose', 'polygenic', 'basis', 'lead', 'impression', 'wide', 'observed', 'variation', 'provide', 'familial', 'risk', 'whereby', 'able', 'evidence', 'underlie', 'individually', 'small', 'effect', 'suggestion', 'many', 'gene', 'combine', 'relative', 'risk', 'plicatively', 'produce', 'figure', 'model', 'breast', 'cancer', 'risk', 'patient', 'relative', 'also', 'normal', 'distribution', 'lifetime', 'distribution', 'lifetime', 'breast', 'cancer', 'risk', 'general', 'population', 'many', 'risk', 'general', 'population', 'woman', 'develop', 'breast', 'cancer', 'figure', 'base', 'pharoah', 'mon', 'cancer', 'et', 'show', 'blue', 'curve', 'tion', 'risk', 'likely', 'exhibit', 'figure', 'risk', 'vary', 'similar', 'variation', 'pharoah', 'et', 'less', 'also', 'woman', 'ceptible', 'minority', 'woman', 'peto', 'relative', 'risk', 'people', 'two', 'percentile', 'mack', 'half', 'breast', 'cancer', 'affect', 'relative', 'less', 'breast', 'genetic', 'distribution', 'predict', 'occur', 'cancer', 'cancer', 'risk', 'among', 'breast', 'cancer', 'patient', 'also', 'ceptible', 'population', 'dong', 'span', 'range', 'average', 'classical', 'polygenic', 'model', 'hemminki', 'suggest', 'risk', 'great', 'general', 'uniquely', 'define', 'relative', 'risk', 'small', 'proportion', 'case', 'occur', 'population', 'red', 'curve', 'gene', 'patient', 'predict', 'relative', 'highly', 'susceptible', 'individual', 'ferre', 'risk', 'number', 'risk', 'patient', 'identical', 'central', 'thesis', 'important', 'advance', 'gene', 'would', 'need', 'account', 'twins', 'square', 'observed', 'breast', 'cancer', 'genetic', 'depend', 'double', 'risk', 'observe', 'tive', 'risk', 'sister', 'discovery', 'large', 'number', 'gene', 'patient', 'relative', 'range', 'several', 'prediction', 'particularly', 'weak', 'effect', 'likely', 'correct', 'hundred', 'individual', 'frequency', 'tion', 'multiple', 'case', 'family', 'gene', 'hunter', 'ignore', 'dozen', 'therefore', 'provide', 'critical', 'test', 'peril', 'tion', 'frequency', 'ponder', 'model', 'practice', 'however', 'author', 'already', 'report', 'cancer', 'cell', 'june', 'r', 'e', 'v', 'e', 'w', 'fit', 'polygenic', 'model', 'ther', 'gene', 'probably', 'restrict', 'tern', 'clone', 'breast', 'cancer', 'family', 'antoniou', 'et', 'candidate', 'next', 'year', 'two', 'polygenic', 'model', 'extremely', 'article', 'concern', 'rapid', 'sequence', 'useful', 'conceptual', 'simplification', 'mainly', 'implication', 'genetic', 'become', 'available', 'however', 'genetic', 'interest', 'lie', 'complexity', 'test', 'might', 'future', 'identify', 'variant', 'frequency', 'vidual', 'high', 'risk', 'well', 'confer', 'risk', 'low', 'risk', 'would', 'want', 'detectable', 'approach', 'julian', 'peto', 'screen', 'eventual', 'recent', 'overview', 'risk', 'institute', 'cancer', 'research', 'tification', 'functional', 'characterization', 'patient', 'relative', 'base', 'sutton', 'surrey', 'large', 'number', 'gene', 'would', 'woman', 'breast', 'cancer', 'collaborative', 'london', 'school', 'hygiene', 'certainly', 'major', 'impact', 'many', 'group', 'hormonal', 'factor', 'breast', 'tropical', 'medicine', 'aspect', 'breast', 'cancer', 'prevention', 'cancer', 'provide', 'precise', 'london', 'treatment', 'immediate', 'publish', 'estimate', 'familial', 'united', 'kingdom', 'question', 'find', 'incidence', 'patient', 'relative', 'coincidentally', 'issue', 'increase', 'almost', 'another', 'relative', 'nature', 'geneticsinclude', 'report', 'also', 'affect', 'confirm', 'select', 'read', 'single', 'truncating', 'mutation', 'considerable', 'heterogeneity', 'underlie', 'find', 'general', 'population', 'incidence', 'among', 'woman', 'develop', 'antoniou', 'pharoah', 'mcmullan', 'unselecte', 'breast', 'breast', 'polygenic', 'model', 'day', 'stratton', 'peto', 'ponder', 'cancer', 'carry', 'patient', 'vide', 'plausible', 'explanation', 'easton', 'family', 'unlinked', 'tion', 'lifetime', 'explain', 'cancer', 'consortium', 'risk', 'patient', 'relative', 'age', 'cancer', 'consortium', 'old', 'index', 'case', 'age', 'claus', 'risch', 'thompson', 'tion', 'mutant', 'overall', 'breast', 'sis', 'independent', 'index', 'case', 'age', 'cancer', 'incidence', 'trivial', 'collaborative', 'group', 'hormonal', 'collaborative', 'group', 'hormonal', 'factor', 'demonstration', 'rare', 'factor', 'breast', 'cancer', 'breast', 'cancer', 'gene', 'find', 'simply', 'compare', 'contralateral', 'rate', 'roughly', 'constant', 'prevalence', 'patient', 'affect', 'high', 'rate', 'young', 'age', 'dong', 'hemminki', 'relative', 'control', 'important', 'relative', 'show', 'young', 'patient', 'methodological', 'advance', 'genetically', 'different', 'old', 'dunning', 'healey', 'pharoah', 'exhibit', 'hypothesize', 'interaction', 'patient', 'yet', 'relative', 'teare', 'ponder', 'easton', 'cancer', 'epidemiol', 'biomarker', 'probably', 'old', 'patient', 'eventually', 'suffer', 'virtually', 'lies', 'functional', 'pathway', 'identical', 'gene', 'may', 'almost', 'impossible', 'bination', 'gene', 'may', 'determine', 'peto', 'mack', 'detect', 'traditional', 'approach', 'woman', 'eventual', 'level', 'risk', 'age', 'ing', 'linkage', 'family', 'prevalence', 'risk', 'reach', 'peto', 'pharoah', 'antoniou', 'bobrow', 'unselecte', 'case', 'susceptibility', 'mack', 'speculative', 'zimmern', 'easton', 'ponder', 'gene', 'carry', 'common', 'hypothesis', 'test', 'mutant', 'haplotype', 'search', 'gene', 'underlie', 'surprising', 'ponder', 'cancer', 'cell', 'june']\n"
          ]
        }
      ]
    },
    {
      "cell_type": "markdown",
      "source": [
        "2.6 Metadata Extraction"
      ],
      "metadata": {
        "id": "s8zwPw8teGiE"
      }
    },
    {
      "cell_type": "code",
      "source": [
        "import PyPDF2\n",
        "\n",
        "# Function to extract metadata from a PDF\n",
        "def extract_metadata(pdf_path):\n",
        "    with open(pdf_path, 'rb') as file:\n",
        "        reader = PyPDF2.PdfReader(file)  # Use PdfReader instead of PdfFileReader\n",
        "        metadata = reader.metadata  # Access metadata directly\n",
        "        return metadata\n",
        "\n",
        "# Dictionary to store metadata for each PDF\n",
        "pdf_metadata = {}\n",
        "\n",
        "# Extract metadata from all uploaded PDFs\n",
        "for filename in uploaded.keys():\n",
        "    pdf_metadata[filename] = extract_metadata(filename)\n",
        "\n",
        "# Example: Print the metadata of the first file\n",
        "if pdf_metadata:  # Check if any metadata was extracted\n",
        "    first_file = list(pdf_metadata.keys())[0]  # Get the first file name\n",
        "    print(f\"Metadata for {first_file}:\")\n",
        "    print(pdf_metadata[first_file])\n",
        "else:\n",
        "    print(\"No metadata found.\")\n"
      ],
      "metadata": {
        "id": "S6NN-b1xwoAF",
        "outputId": "9772176f-656e-47ee-9762-5ccda8f341df",
        "colab": {
          "base_uri": "https://localhost:8080/"
        }
      },
      "execution_count": 27,
      "outputs": [
        {
          "output_type": "stream",
          "name": "stdout",
          "text": [
            "Metadata for Breast-cancer-susceptibility&#x2014;A-new-look-at- (1).pdf:\n",
            "{'/CreationDate': 'D:20020605163758', '/Producer': 'Acrobat Distiller 4.05 for Windows', '/Author': 'KThompso', '/Creator': 'ADOBEPS4.DRV Version 4.41', '/Title': 'PII: S1535-6108(02)00079-X', '/ModDate': \"D:20040310175832+05'30'\"}\n"
          ]
        }
      ]
    },
    {
      "cell_type": "code",
      "source": [
        "print(uploaded.keys())  # This should print the filenames of the uploaded files"
      ],
      "metadata": {
        "id": "EdK-np5duxEg",
        "outputId": "a9c5bd80-76e8-422a-d038-e2ea665e2e53",
        "colab": {
          "base_uri": "https://localhost:8080/"
        }
      },
      "execution_count": 25,
      "outputs": [
        {
          "output_type": "stream",
          "name": "stdout",
          "text": [
            "dict_keys(['Breast-cancer-susceptibility&#x2014;A-new-look-at- (1).pdf', 'Integrated-breast-cancer-genomics_ccell (1).pdf'])\n"
          ]
        }
      ]
    }
  ]
}