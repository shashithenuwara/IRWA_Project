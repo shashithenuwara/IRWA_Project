{
  "nbformat": 4,
  "nbformat_minor": 0,
  "metadata": {
    "colab": {
      "provenance": [],
      "authorship_tag": "ABX9TyNBXp/mvSyeFpcVXgufnQsC",
      "include_colab_link": true
    },
    "kernelspec": {
      "name": "python3",
      "display_name": "Python 3"
    },
    "language_info": {
      "name": "python"
    }
  },
  "cells": [
    {
      "cell_type": "markdown",
      "metadata": {
        "id": "view-in-github",
        "colab_type": "text"
      },
      "source": [
        "<a href=\"https://colab.research.google.com/github/shashithenuwara/IRWA_Project/blob/project/upload_from_pc.ipynb\" target=\"_parent\"><img src=\"https://colab.research.google.com/assets/colab-badge.svg\" alt=\"Open In Colab\"/></a>"
      ]
    },
    {
      "cell_type": "markdown",
      "source": [
        "**1.Data Collection**"
      ],
      "metadata": {
        "id": "Gwp94d6jYwQR"
      }
    },
    {
      "cell_type": "code",
      "execution_count": null,
      "metadata": {
        "id": "GAuMpAKRYa9g"
      },
      "outputs": [],
      "source": [
        "#From local device\n",
        "from google.colab import files\n",
        "\n",
        "# Uploading the PDFs from local device\n",
        "uploaded = files.upload()\n",
        "\n",
        "# Saving the names of uploaded files\n",
        "pdf_files = uploaded.keys()"
      ]
    },
    {
      "cell_type": "markdown",
      "source": [
        "**2. Data Preprocessing**"
      ],
      "metadata": {
        "id": "_5R4KcsuY_6F"
      }
    },
    {
      "cell_type": "markdown",
      "source": [
        "2.1 Text Extraction"
      ],
      "metadata": {
        "id": "cDS8WJmwZFvp"
      }
    },
    {
      "cell_type": "code",
      "source": [
        "#Installing required libraries for PDF text extraction, tokenization, normalization, and other NLP tasks\n",
        "!pip install PyPDF2 pdfplumber spacy nltk\n",
        "!python -m spacy download en_core_web_sm"
      ],
      "metadata": {
        "id": "LMf7SYu-0bZS"
      },
      "execution_count": null,
      "outputs": []
    },
    {
      "cell_type": "code",
      "source": [
        "import pdfplumber\n",
        "\n",
        "def extract_text_from_pdf(pdf_path):\n",
        "    text = \"\"\n",
        "    with pdfplumber.open(pdf_path) as pdf:\n",
        "        for page in pdf.pages:\n",
        "            text += page.extract_text()\n",
        "    return text\n",
        "\n",
        "# Loop through each uploaded PDF\n",
        "extracted_texts = {}\n",
        "for pdf_file in pdf_files:\n",
        "    # Save the extracted text for each PDF file\n",
        "    extracted_texts[pdf_file] = extract_text_from_pdf(pdf_file)\n",
        "\n",
        "# Display extracted text for the first file (or save it to a file)\n",
        "print(extracted_texts[pdf_files[0]])"
      ],
      "metadata": {
        "id": "jKJH49x6ZuIi"
      },
      "execution_count": null,
      "outputs": []
    },
    {
      "cell_type": "code",
      "source": [
        "for pdf_file, text in extracted_texts.items():\n",
        "    # Save the extracted text to a .txt file with the same name as the PDF\n",
        "    with open(pdf_file.replace('.pdf', '.txt'), 'w') as txt_file:\n",
        "        txt_file.write(text)"
      ],
      "metadata": {
        "id": "RfoO8sa0Zzlf"
      },
      "execution_count": null,
      "outputs": []
    }
  ]
}