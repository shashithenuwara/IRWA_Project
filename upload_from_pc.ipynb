{
  "nbformat": 4,
  "nbformat_minor": 0,
  "metadata": {
    "colab": {
      "provenance": [],
      "authorship_tag": "ABX9TyOw3KWx6hV7zPZ4Bolztp86",
      "include_colab_link": true
    },
    "kernelspec": {
      "name": "python3",
      "display_name": "Python 3"
    },
    "language_info": {
      "name": "python"
    }
  },
  "cells": [
    {
      "cell_type": "markdown",
      "metadata": {
        "id": "view-in-github",
        "colab_type": "text"
      },
      "source": [
        "<a href=\"https://colab.research.google.com/github/shashithenuwara/IRWA_Project/blob/project/upload_from_pc.ipynb\" target=\"_parent\"><img src=\"https://colab.research.google.com/assets/colab-badge.svg\" alt=\"Open In Colab\"/></a>"
      ]
    },
    {
      "cell_type": "markdown",
      "source": [
        "**1.Data Collection**"
      ],
      "metadata": {
        "id": "Gwp94d6jYwQR"
      }
    },
    {
      "cell_type": "code",
      "execution_count": null,
      "metadata": {
        "id": "GAuMpAKRYa9g"
      },
      "outputs": [],
      "source": [
        "#From local device\n",
        "from google.colab import files\n",
        "\n",
        "# Uploading the PDFs from local device\n",
        "uploaded = files.upload()\n",
        "\n",
        "# Saving the names of uploaded files\n",
        "pdf_files = uploaded.keys()"
      ]
    },
    {
      "cell_type": "markdown",
      "source": [
        "**2. Data Preprocessing**"
      ],
      "metadata": {
        "id": "_5R4KcsuY_6F"
      }
    },
    {
      "cell_type": "markdown",
      "source": [
        "2.1 Text Extraction"
      ],
      "metadata": {
        "id": "cDS8WJmwZFvp"
      }
    },
    {
      "cell_type": "code",
      "source": [
        "#Installing required libraries for PDF text extraction, tokenization, normalization, and other NLP tasks\n",
        "!pip install PyPDF2 pdfplumber spacy nltk\n",
        "!python -m spacy download en_core_web_sm"
      ],
      "metadata": {
        "id": "LMf7SYu-0bZS"
      },
      "execution_count": null,
      "outputs": []
    },
    {
      "cell_type": "code",
      "source": [
        "import pdfplumber\n",
        "\n",
        "def extract_text_from_pdf(pdf_path):\n",
        "    text = \"\"\n",
        "    with pdfplumber.open(pdf_path) as pdf:\n",
        "        for page in pdf.pages:\n",
        "            text += page.extract_text()\n",
        "    return text\n",
        "\n",
        "# Loop through each uploaded PDF\n",
        "extracted_texts = {}\n",
        "for pdf_file in pdf_files:\n",
        "    # Save the extracted text for each PDF file\n",
        "    extracted_texts[pdf_file] = extract_text_from_pdf(pdf_file)\n",
        "\n",
        "# Display extracted text for the first file (or save it to a file)\n",
        "print(extracted_texts[pdf_files[0]])"
      ],
      "metadata": {
        "id": "jKJH49x6ZuIi"
      },
      "execution_count": null,
      "outputs": []
    },
    {
      "cell_type": "code",
      "source": [
        "for pdf_file, text in extracted_texts.items():\n",
        "    # Save the extracted text to a .txt file with the same name as the PDF\n",
        "    with open(pdf_file.replace('.pdf', '.txt'), 'w') as txt_file:\n",
        "        txt_file.write(text)"
      ],
      "metadata": {
        "id": "RfoO8sa0Zzlf"
      },
      "execution_count": null,
      "outputs": []
    },
    {
      "cell_type": "markdown",
      "source": [
        "2.2 Data Cleaning"
      ],
      "metadata": {
        "id": "oBw9mqFi2GLP"
      }
    },
    {
      "cell_type": "code",
      "source": [
        "#To remove HTML tags\n",
        "!pip install beautifulsoup4"
      ],
      "metadata": {
        "id": "8qJkW2dM1r0x"
      },
      "execution_count": null,
      "outputs": []
    },
    {
      "cell_type": "code",
      "source": [
        "import re\n",
        "from bs4 import BeautifulSoup\n",
        "from google.colab import files\n",
        "import pdfplumber\n",
        "\n",
        "# Step 3: Cleaning function to process text\n",
        "def clean_text(text):\n",
        "    # Removing HTML tags\n",
        "    soup = BeautifulSoup(text, \"html.parser\")\n",
        "    text = soup.get_text()\n",
        "\n",
        "    # Removing special characters and punctuation (except basic punctuation)\n",
        "    text = re.sub(r\"[^a-zA-Z0-9\\s,.!?'-]\", '', text)\n",
        "\n",
        "    # Removing extra whitespaces\n",
        "    text = re.sub(r'\\s+', ' ', text).strip()\n",
        "\n",
        "    # Removing duplicate lines/sentences\n",
        "    sentences = text.split('. ')\n",
        "    unique_sentences = list(dict.fromkeys(sentences))\n",
        "    cleaned_text = '. '.join(unique_sentences)\n",
        "\n",
        "    return cleaned_text"
      ],
      "metadata": {
        "id": "vBj944dYbL92"
      },
      "execution_count": null,
      "outputs": []
    },
    {
      "cell_type": "code",
      "source": [
        "# Step 4: Apply the cleaning function to the extracted text\n",
        "cleaned_texts = {filename: clean_text(text) for filename, text in pdf_texts.items()}\n",
        "\n",
        "# Step 5: Print cleaned text from one file (e.g., the first uploaded file)\n",
        "first_file = list(cleaned_texts.keys())[0]  # Get the name of the first file\n",
        "print(cleaned_texts[first_file])"
      ],
      "metadata": {
        "id": "10a_a6TQbaC4"
      },
      "execution_count": null,
      "outputs": []
    },
    {
      "cell_type": "markdown",
      "source": [
        "2.3 Normalization"
      ],
      "metadata": {
        "id": "BzMTyL7B2pmo"
      }
    },
    {
      "cell_type": "code",
      "source": [
        "import nltk\n",
        "from nltk.tokenize import word_tokenize\n",
        "from nltk.corpus import stopwords\n",
        "import string\n",
        "\n",
        "# Download required NLTK packages\n",
        "nltk.download('punkt')\n",
        "nltk.download('stopwords')\n",
        "\n",
        "# Tokenization and normalization function\n",
        "def preprocess_text(text):\n",
        "    # Converting to lowercase and tokenizing\n",
        "    tokens = word_tokenize(text.lower())\n",
        "\n",
        "    # Removing punctuation marks and stop words\n",
        "    tokens = [word for word in tokens if word.isalpha()]  # Keep only alphabetic tokens\n",
        "    stop_words = set(stopwords.words('english'))  # Get English stop words\n",
        "    tokens = [word for word in tokens if word not in stop_words]  # Remove stop words\n",
        "\n",
        "    return tokens\n",
        "\n",
        "# Assuming `pdf_texts` is a dictionary from the earlier text extraction step\n",
        "# Preprocess each extracted text and store in a new dictionary\n",
        "preprocessed_texts = {filename: preprocess_text(text) for filename, text in pdf_texts.items()}\n",
        "\n",
        "# Print preprocessed tokens from the first file for verification\n",
        "first_file = list(preprocessed_texts.keys())[0]  # Get the name of the first file\n",
        "print(f\"Preprocessed tokens for {first_file}:\")\n",
        "print(preprocessed_texts[first_file])"
      ],
      "metadata": {
        "id": "pRLdw1lxb_T_"
      },
      "execution_count": null,
      "outputs": []
    },
    {
      "cell_type": "markdown",
      "source": [
        "2.4 Entity Recognition"
      ],
      "metadata": {
        "id": "YFVKexuD_jpt"
      }
    },
    {
      "cell_type": "code",
      "source": [
        "import spacy\n",
        "\n",
        "# Load spaCy's small English model\n",
        "nlp = spacy.load('en_core_web_sm')\n",
        "\n",
        "# Function for Named Entity Recognition (NER)\n",
        "def perform_ner(text):\n",
        "    doc = nlp(text)\n",
        "    entities = [(ent.text, ent.label_) for ent in doc.ents]\n",
        "    return entities\n",
        "\n",
        "# Perform NER on each preprocessed text\n",
        "# Here, we're joining the preprocessed tokens back into a single string\n",
        "entities_per_doc = {filename: perform_ner(\" \".join(tokens)) for filename, tokens in preprocessed_texts.items()}\n",
        "\n",
        "# Print the named entities from the first file as an example\n",
        "first_file = list(entities_per_doc.keys())[0]  # Get the name of the first file\n",
        "print(f\"Named entities for {first_file}:\")\n",
        "print(entities_per_doc[first_file])"
      ],
      "metadata": {
        "id": "IeCbcIGfcI_o"
      },
      "execution_count": null,
      "outputs": []
    },
    {
      "cell_type": "markdown",
      "source": [
        "2.5 Stemming/Lemmatization"
      ],
      "metadata": {
        "id": "WFhl1eEHA9-T"
      }
    },
    {
      "cell_type": "code",
      "source": [
        "# Using PorterStemmer for Stemming\n",
        "from nltk.stem import PorterStemmer\n",
        "import spacy\n",
        "\n",
        "# Initializing the PorterStemmer\n",
        "stemmer = PorterStemmer()\n",
        "\n",
        "# Function to stem tokens\n",
        "def stem_tokens(tokens):\n",
        "    return [stemmer.stem(token) for token in tokens]\n",
        "\n",
        "# Applying stemming to each document in preprocessed_texts\n",
        "# Storing the stemmed tokens in a dictionary with filenames as keys\n",
        "stemmed_texts = {filename: stem_tokens(tokens) for filename, tokens in preprocessed_texts.items()}\n",
        "\n",
        "# Example output for stemming\n",
        "first_file = list(preprocessed_texts.keys())[0]  # Get the first file name\n",
        "print(f\"Stemmed tokens for {first_file}:\")\n",
        "print(stemmed_texts[first_file])"
      ],
      "metadata": {
        "id": "TARf4jGccT3u"
      },
      "execution_count": null,
      "outputs": []
    },
    {
      "cell_type": "code",
      "source": [
        "# Importing spaCy for Lemmatization\n",
        "# Loading the spaCy model\n",
        "nlp = spacy.load('en_core_web_sm')\n",
        "\n",
        "# Function to lemmatize tokens\n",
        "def lemmatize_tokens(tokens):\n",
        "    return [token.lemma_ for token in nlp(\" \".join(tokens)) if token.is_alpha]\n",
        "\n",
        "# Applying lemmatization to each document in preprocessed_texts\n",
        "# Storing the lemmatized tokens in a dictionary with filenames as keys\n",
        "lemmatized_texts = {filename: lemmatize_tokens(tokens) for filename, tokens in preprocessed_texts.items()}\n",
        "\n",
        "# Example output for lemmatization\n",
        "print(f\"Lemmatized tokens for {first_file}:\")\n",
        "print(lemmatized_texts[first_file])"
      ],
      "metadata": {
        "id": "lSrj3BEccTyy"
      },
      "execution_count": null,
      "outputs": []
    }
  ]
}