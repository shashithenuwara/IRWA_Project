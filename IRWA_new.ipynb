{
  "cells": [
    {
      "cell_type": "markdown",
      "metadata": {
        "id": "view-in-github",
        "colab_type": "text"
      },
      "source": [
        "<a href=\"https://colab.research.google.com/github/shashithenuwara/IRWA_Project/blob/project/IRWA_new.ipynb\" target=\"_parent\"><img src=\"https://colab.research.google.com/assets/colab-badge.svg\" alt=\"Open In Colab\"/></a>"
      ]
    },
    {
      "cell_type": "code",
      "source": [
        "# Installing required libraries for PDF text extraction, tokenization, normalization, and other NLP tasks\n",
        "!pip install PyPDF2 pdfplumber spacy nltk whoosh transformers torch beautifulsoup4\n",
        "!python -m spacy download en_core_web_sm"
      ],
      "metadata": {
        "colab": {
          "base_uri": "https://localhost:8080/"
        },
        "id": "noEAdzJbVhCi",
        "outputId": "349a49a5-00b7-456b-8213-2051db39e9db"
      },
      "execution_count": 1,
      "outputs": [
        {
          "output_type": "stream",
          "name": "stdout",
          "text": [
            "Collecting PyPDF2\n",
            "  Downloading pypdf2-3.0.1-py3-none-any.whl.metadata (6.8 kB)\n",
            "Collecting pdfplumber\n",
            "  Downloading pdfplumber-0.11.4-py3-none-any.whl.metadata (41 kB)\n",
            "\u001b[2K     \u001b[90m━━━━━━━━━━━━━━━━━━━━━━━━━━━━━━━━━━━━━━━━\u001b[0m \u001b[32m42.0/42.0 kB\u001b[0m \u001b[31m1.3 MB/s\u001b[0m eta \u001b[36m0:00:00\u001b[0m\n",
            "\u001b[?25hRequirement already satisfied: spacy in /usr/local/lib/python3.10/dist-packages (3.7.6)\n",
            "Requirement already satisfied: nltk in /usr/local/lib/python3.10/dist-packages (3.8.1)\n",
            "Collecting whoosh\n",
            "  Downloading Whoosh-2.7.4-py2.py3-none-any.whl.metadata (3.1 kB)\n",
            "Requirement already satisfied: transformers in /usr/local/lib/python3.10/dist-packages (4.44.2)\n",
            "Requirement already satisfied: torch in /usr/local/lib/python3.10/dist-packages (2.4.1+cu121)\n",
            "Requirement already satisfied: beautifulsoup4 in /usr/local/lib/python3.10/dist-packages (4.12.3)\n",
            "Collecting pdfminer.six==20231228 (from pdfplumber)\n",
            "  Downloading pdfminer.six-20231228-py3-none-any.whl.metadata (4.2 kB)\n",
            "Requirement already satisfied: Pillow>=9.1 in /usr/local/lib/python3.10/dist-packages (from pdfplumber) (10.4.0)\n",
            "Collecting pypdfium2>=4.18.0 (from pdfplumber)\n",
            "  Downloading pypdfium2-4.30.0-py3-none-manylinux_2_17_x86_64.manylinux2014_x86_64.whl.metadata (48 kB)\n",
            "\u001b[2K     \u001b[90m━━━━━━━━━━━━━━━━━━━━━━━━━━━━━━━━━━━━━━━━\u001b[0m \u001b[32m48.5/48.5 kB\u001b[0m \u001b[31m811.2 kB/s\u001b[0m eta \u001b[36m0:00:00\u001b[0m\n",
            "\u001b[?25hRequirement already satisfied: charset-normalizer>=2.0.0 in /usr/local/lib/python3.10/dist-packages (from pdfminer.six==20231228->pdfplumber) (3.3.2)\n",
            "Requirement already satisfied: cryptography>=36.0.0 in /usr/local/lib/python3.10/dist-packages (from pdfminer.six==20231228->pdfplumber) (43.0.1)\n",
            "Requirement already satisfied: spacy-legacy<3.1.0,>=3.0.11 in /usr/local/lib/python3.10/dist-packages (from spacy) (3.0.12)\n",
            "Requirement already satisfied: spacy-loggers<2.0.0,>=1.0.0 in /usr/local/lib/python3.10/dist-packages (from spacy) (1.0.5)\n",
            "Requirement already satisfied: murmurhash<1.1.0,>=0.28.0 in /usr/local/lib/python3.10/dist-packages (from spacy) (1.0.10)\n",
            "Requirement already satisfied: cymem<2.1.0,>=2.0.2 in /usr/local/lib/python3.10/dist-packages (from spacy) (2.0.8)\n",
            "Requirement already satisfied: preshed<3.1.0,>=3.0.2 in /usr/local/lib/python3.10/dist-packages (from spacy) (3.0.9)\n",
            "Requirement already satisfied: thinc<8.3.0,>=8.2.2 in /usr/local/lib/python3.10/dist-packages (from spacy) (8.2.5)\n",
            "Requirement already satisfied: wasabi<1.2.0,>=0.9.1 in /usr/local/lib/python3.10/dist-packages (from spacy) (1.1.3)\n",
            "Requirement already satisfied: srsly<3.0.0,>=2.4.3 in /usr/local/lib/python3.10/dist-packages (from spacy) (2.4.8)\n",
            "Requirement already satisfied: catalogue<2.1.0,>=2.0.6 in /usr/local/lib/python3.10/dist-packages (from spacy) (2.0.10)\n",
            "Requirement already satisfied: weasel<0.5.0,>=0.1.0 in /usr/local/lib/python3.10/dist-packages (from spacy) (0.4.1)\n",
            "Requirement already satisfied: typer<1.0.0,>=0.3.0 in /usr/local/lib/python3.10/dist-packages (from spacy) (0.12.5)\n",
            "Requirement already satisfied: tqdm<5.0.0,>=4.38.0 in /usr/local/lib/python3.10/dist-packages (from spacy) (4.66.5)\n",
            "Requirement already satisfied: requests<3.0.0,>=2.13.0 in /usr/local/lib/python3.10/dist-packages (from spacy) (2.32.3)\n",
            "Requirement already satisfied: pydantic!=1.8,!=1.8.1,<3.0.0,>=1.7.4 in /usr/local/lib/python3.10/dist-packages (from spacy) (2.9.2)\n",
            "Requirement already satisfied: jinja2 in /usr/local/lib/python3.10/dist-packages (from spacy) (3.1.4)\n",
            "Requirement already satisfied: setuptools in /usr/local/lib/python3.10/dist-packages (from spacy) (71.0.4)\n",
            "Requirement already satisfied: packaging>=20.0 in /usr/local/lib/python3.10/dist-packages (from spacy) (24.1)\n",
            "Requirement already satisfied: langcodes<4.0.0,>=3.2.0 in /usr/local/lib/python3.10/dist-packages (from spacy) (3.4.0)\n",
            "Requirement already satisfied: numpy>=1.19.0 in /usr/local/lib/python3.10/dist-packages (from spacy) (1.26.4)\n",
            "Requirement already satisfied: click in /usr/local/lib/python3.10/dist-packages (from nltk) (8.1.7)\n",
            "Requirement already satisfied: joblib in /usr/local/lib/python3.10/dist-packages (from nltk) (1.4.2)\n",
            "Requirement already satisfied: regex>=2021.8.3 in /usr/local/lib/python3.10/dist-packages (from nltk) (2024.9.11)\n",
            "Requirement already satisfied: filelock in /usr/local/lib/python3.10/dist-packages (from transformers) (3.16.1)\n",
            "Requirement already satisfied: huggingface-hub<1.0,>=0.23.2 in /usr/local/lib/python3.10/dist-packages (from transformers) (0.24.7)\n",
            "Requirement already satisfied: pyyaml>=5.1 in /usr/local/lib/python3.10/dist-packages (from transformers) (6.0.2)\n",
            "Requirement already satisfied: safetensors>=0.4.1 in /usr/local/lib/python3.10/dist-packages (from transformers) (0.4.5)\n",
            "Requirement already satisfied: tokenizers<0.20,>=0.19 in /usr/local/lib/python3.10/dist-packages (from transformers) (0.19.1)\n",
            "Requirement already satisfied: typing-extensions>=4.8.0 in /usr/local/lib/python3.10/dist-packages (from torch) (4.12.2)\n",
            "Requirement already satisfied: sympy in /usr/local/lib/python3.10/dist-packages (from torch) (1.13.3)\n",
            "Requirement already satisfied: networkx in /usr/local/lib/python3.10/dist-packages (from torch) (3.3)\n",
            "Requirement already satisfied: fsspec in /usr/local/lib/python3.10/dist-packages (from torch) (2024.6.1)\n",
            "Requirement already satisfied: soupsieve>1.2 in /usr/local/lib/python3.10/dist-packages (from beautifulsoup4) (2.6)\n",
            "Requirement already satisfied: language-data>=1.2 in /usr/local/lib/python3.10/dist-packages (from langcodes<4.0.0,>=3.2.0->spacy) (1.2.0)\n",
            "Requirement already satisfied: annotated-types>=0.6.0 in /usr/local/lib/python3.10/dist-packages (from pydantic!=1.8,!=1.8.1,<3.0.0,>=1.7.4->spacy) (0.7.0)\n",
            "Requirement already satisfied: pydantic-core==2.23.4 in /usr/local/lib/python3.10/dist-packages (from pydantic!=1.8,!=1.8.1,<3.0.0,>=1.7.4->spacy) (2.23.4)\n",
            "Requirement already satisfied: idna<4,>=2.5 in /usr/local/lib/python3.10/dist-packages (from requests<3.0.0,>=2.13.0->spacy) (3.10)\n",
            "Requirement already satisfied: urllib3<3,>=1.21.1 in /usr/local/lib/python3.10/dist-packages (from requests<3.0.0,>=2.13.0->spacy) (2.2.3)\n",
            "Requirement already satisfied: certifi>=2017.4.17 in /usr/local/lib/python3.10/dist-packages (from requests<3.0.0,>=2.13.0->spacy) (2024.8.30)\n",
            "Requirement already satisfied: blis<0.8.0,>=0.7.8 in /usr/local/lib/python3.10/dist-packages (from thinc<8.3.0,>=8.2.2->spacy) (0.7.11)\n",
            "Requirement already satisfied: confection<1.0.0,>=0.0.1 in /usr/local/lib/python3.10/dist-packages (from thinc<8.3.0,>=8.2.2->spacy) (0.1.5)\n",
            "Requirement already satisfied: shellingham>=1.3.0 in /usr/local/lib/python3.10/dist-packages (from typer<1.0.0,>=0.3.0->spacy) (1.5.4)\n",
            "Requirement already satisfied: rich>=10.11.0 in /usr/local/lib/python3.10/dist-packages (from typer<1.0.0,>=0.3.0->spacy) (13.8.1)\n",
            "Requirement already satisfied: cloudpathlib<1.0.0,>=0.7.0 in /usr/local/lib/python3.10/dist-packages (from weasel<0.5.0,>=0.1.0->spacy) (0.19.0)\n",
            "Requirement already satisfied: smart-open<8.0.0,>=5.2.1 in /usr/local/lib/python3.10/dist-packages (from weasel<0.5.0,>=0.1.0->spacy) (7.0.4)\n",
            "Requirement already satisfied: MarkupSafe>=2.0 in /usr/local/lib/python3.10/dist-packages (from jinja2->spacy) (2.1.5)\n",
            "Requirement already satisfied: mpmath<1.4,>=1.1.0 in /usr/local/lib/python3.10/dist-packages (from sympy->torch) (1.3.0)\n",
            "Requirement already satisfied: cffi>=1.12 in /usr/local/lib/python3.10/dist-packages (from cryptography>=36.0.0->pdfminer.six==20231228->pdfplumber) (1.17.1)\n",
            "Requirement already satisfied: marisa-trie>=0.7.7 in /usr/local/lib/python3.10/dist-packages (from language-data>=1.2->langcodes<4.0.0,>=3.2.0->spacy) (1.2.0)\n",
            "Requirement already satisfied: markdown-it-py>=2.2.0 in /usr/local/lib/python3.10/dist-packages (from rich>=10.11.0->typer<1.0.0,>=0.3.0->spacy) (3.0.0)\n",
            "Requirement already satisfied: pygments<3.0.0,>=2.13.0 in /usr/local/lib/python3.10/dist-packages (from rich>=10.11.0->typer<1.0.0,>=0.3.0->spacy) (2.18.0)\n",
            "Requirement already satisfied: wrapt in /usr/local/lib/python3.10/dist-packages (from smart-open<8.0.0,>=5.2.1->weasel<0.5.0,>=0.1.0->spacy) (1.16.0)\n",
            "Requirement already satisfied: pycparser in /usr/local/lib/python3.10/dist-packages (from cffi>=1.12->cryptography>=36.0.0->pdfminer.six==20231228->pdfplumber) (2.22)\n",
            "Requirement already satisfied: mdurl~=0.1 in /usr/local/lib/python3.10/dist-packages (from markdown-it-py>=2.2.0->rich>=10.11.0->typer<1.0.0,>=0.3.0->spacy) (0.1.2)\n",
            "Downloading pypdf2-3.0.1-py3-none-any.whl (232 kB)\n",
            "\u001b[2K   \u001b[90m━━━━━━━━━━━━━━━━━━━━━━━━━━━━━━━━━━━━━━━━\u001b[0m \u001b[32m232.6/232.6 kB\u001b[0m \u001b[31m4.7 MB/s\u001b[0m eta \u001b[36m0:00:00\u001b[0m\n",
            "\u001b[?25hDownloading pdfplumber-0.11.4-py3-none-any.whl (59 kB)\n",
            "\u001b[2K   \u001b[90m━━━━━━━━━━━━━━━━━━━━━━━━━━━━━━━━━━━━━━━━\u001b[0m \u001b[32m59.2/59.2 kB\u001b[0m \u001b[31m3.8 MB/s\u001b[0m eta \u001b[36m0:00:00\u001b[0m\n",
            "\u001b[?25hDownloading pdfminer.six-20231228-py3-none-any.whl (5.6 MB)\n",
            "\u001b[2K   \u001b[90m━━━━━━━━━━━━━━━━━━━━━━━━━━━━━━━━━━━━━━━━\u001b[0m \u001b[32m5.6/5.6 MB\u001b[0m \u001b[31m31.3 MB/s\u001b[0m eta \u001b[36m0:00:00\u001b[0m\n",
            "\u001b[?25hDownloading Whoosh-2.7.4-py2.py3-none-any.whl (468 kB)\n",
            "\u001b[2K   \u001b[90m━━━━━━━━━━━━━━━━━━━━━━━━━━━━━━━━━━━━━━━━\u001b[0m \u001b[32m468.8/468.8 kB\u001b[0m \u001b[31m13.8 MB/s\u001b[0m eta \u001b[36m0:00:00\u001b[0m\n",
            "\u001b[?25hDownloading pypdfium2-4.30.0-py3-none-manylinux_2_17_x86_64.manylinux2014_x86_64.whl (2.8 MB)\n",
            "\u001b[2K   \u001b[90m━━━━━━━━━━━━━━━━━━━━━━━━━━━━━━━━━━━━━━━━\u001b[0m \u001b[32m2.8/2.8 MB\u001b[0m \u001b[31m50.0 MB/s\u001b[0m eta \u001b[36m0:00:00\u001b[0m\n",
            "\u001b[?25hInstalling collected packages: whoosh, pypdfium2, PyPDF2, pdfminer.six, pdfplumber\n",
            "Successfully installed PyPDF2-3.0.1 pdfminer.six-20231228 pdfplumber-0.11.4 pypdfium2-4.30.0 whoosh-2.7.4\n",
            "Collecting en-core-web-sm==3.7.1\n",
            "  Downloading https://github.com/explosion/spacy-models/releases/download/en_core_web_sm-3.7.1/en_core_web_sm-3.7.1-py3-none-any.whl (12.8 MB)\n",
            "\u001b[2K     \u001b[90m━━━━━━━━━━━━━━━━━━━━━━━━━━━━━━━━━━━━━━━━\u001b[0m \u001b[32m12.8/12.8 MB\u001b[0m \u001b[31m71.6 MB/s\u001b[0m eta \u001b[36m0:00:00\u001b[0m\n",
            "\u001b[?25hRequirement already satisfied: spacy<3.8.0,>=3.7.2 in /usr/local/lib/python3.10/dist-packages (from en-core-web-sm==3.7.1) (3.7.6)\n",
            "Requirement already satisfied: spacy-legacy<3.1.0,>=3.0.11 in /usr/local/lib/python3.10/dist-packages (from spacy<3.8.0,>=3.7.2->en-core-web-sm==3.7.1) (3.0.12)\n",
            "Requirement already satisfied: spacy-loggers<2.0.0,>=1.0.0 in /usr/local/lib/python3.10/dist-packages (from spacy<3.8.0,>=3.7.2->en-core-web-sm==3.7.1) (1.0.5)\n",
            "Requirement already satisfied: murmurhash<1.1.0,>=0.28.0 in /usr/local/lib/python3.10/dist-packages (from spacy<3.8.0,>=3.7.2->en-core-web-sm==3.7.1) (1.0.10)\n",
            "Requirement already satisfied: cymem<2.1.0,>=2.0.2 in /usr/local/lib/python3.10/dist-packages (from spacy<3.8.0,>=3.7.2->en-core-web-sm==3.7.1) (2.0.8)\n",
            "Requirement already satisfied: preshed<3.1.0,>=3.0.2 in /usr/local/lib/python3.10/dist-packages (from spacy<3.8.0,>=3.7.2->en-core-web-sm==3.7.1) (3.0.9)\n",
            "Requirement already satisfied: thinc<8.3.0,>=8.2.2 in /usr/local/lib/python3.10/dist-packages (from spacy<3.8.0,>=3.7.2->en-core-web-sm==3.7.1) (8.2.5)\n",
            "Requirement already satisfied: wasabi<1.2.0,>=0.9.1 in /usr/local/lib/python3.10/dist-packages (from spacy<3.8.0,>=3.7.2->en-core-web-sm==3.7.1) (1.1.3)\n",
            "Requirement already satisfied: srsly<3.0.0,>=2.4.3 in /usr/local/lib/python3.10/dist-packages (from spacy<3.8.0,>=3.7.2->en-core-web-sm==3.7.1) (2.4.8)\n",
            "Requirement already satisfied: catalogue<2.1.0,>=2.0.6 in /usr/local/lib/python3.10/dist-packages (from spacy<3.8.0,>=3.7.2->en-core-web-sm==3.7.1) (2.0.10)\n",
            "Requirement already satisfied: weasel<0.5.0,>=0.1.0 in /usr/local/lib/python3.10/dist-packages (from spacy<3.8.0,>=3.7.2->en-core-web-sm==3.7.1) (0.4.1)\n",
            "Requirement already satisfied: typer<1.0.0,>=0.3.0 in /usr/local/lib/python3.10/dist-packages (from spacy<3.8.0,>=3.7.2->en-core-web-sm==3.7.1) (0.12.5)\n",
            "Requirement already satisfied: tqdm<5.0.0,>=4.38.0 in /usr/local/lib/python3.10/dist-packages (from spacy<3.8.0,>=3.7.2->en-core-web-sm==3.7.1) (4.66.5)\n",
            "Requirement already satisfied: requests<3.0.0,>=2.13.0 in /usr/local/lib/python3.10/dist-packages (from spacy<3.8.0,>=3.7.2->en-core-web-sm==3.7.1) (2.32.3)\n",
            "Requirement already satisfied: pydantic!=1.8,!=1.8.1,<3.0.0,>=1.7.4 in /usr/local/lib/python3.10/dist-packages (from spacy<3.8.0,>=3.7.2->en-core-web-sm==3.7.1) (2.9.2)\n",
            "Requirement already satisfied: jinja2 in /usr/local/lib/python3.10/dist-packages (from spacy<3.8.0,>=3.7.2->en-core-web-sm==3.7.1) (3.1.4)\n",
            "Requirement already satisfied: setuptools in /usr/local/lib/python3.10/dist-packages (from spacy<3.8.0,>=3.7.2->en-core-web-sm==3.7.1) (71.0.4)\n",
            "Requirement already satisfied: packaging>=20.0 in /usr/local/lib/python3.10/dist-packages (from spacy<3.8.0,>=3.7.2->en-core-web-sm==3.7.1) (24.1)\n",
            "Requirement already satisfied: langcodes<4.0.0,>=3.2.0 in /usr/local/lib/python3.10/dist-packages (from spacy<3.8.0,>=3.7.2->en-core-web-sm==3.7.1) (3.4.0)\n",
            "Requirement already satisfied: numpy>=1.19.0 in /usr/local/lib/python3.10/dist-packages (from spacy<3.8.0,>=3.7.2->en-core-web-sm==3.7.1) (1.26.4)\n",
            "Requirement already satisfied: language-data>=1.2 in /usr/local/lib/python3.10/dist-packages (from langcodes<4.0.0,>=3.2.0->spacy<3.8.0,>=3.7.2->en-core-web-sm==3.7.1) (1.2.0)\n",
            "Requirement already satisfied: annotated-types>=0.6.0 in /usr/local/lib/python3.10/dist-packages (from pydantic!=1.8,!=1.8.1,<3.0.0,>=1.7.4->spacy<3.8.0,>=3.7.2->en-core-web-sm==3.7.1) (0.7.0)\n",
            "Requirement already satisfied: pydantic-core==2.23.4 in /usr/local/lib/python3.10/dist-packages (from pydantic!=1.8,!=1.8.1,<3.0.0,>=1.7.4->spacy<3.8.0,>=3.7.2->en-core-web-sm==3.7.1) (2.23.4)\n",
            "Requirement already satisfied: typing-extensions>=4.6.1 in /usr/local/lib/python3.10/dist-packages (from pydantic!=1.8,!=1.8.1,<3.0.0,>=1.7.4->spacy<3.8.0,>=3.7.2->en-core-web-sm==3.7.1) (4.12.2)\n",
            "Requirement already satisfied: charset-normalizer<4,>=2 in /usr/local/lib/python3.10/dist-packages (from requests<3.0.0,>=2.13.0->spacy<3.8.0,>=3.7.2->en-core-web-sm==3.7.1) (3.3.2)\n",
            "Requirement already satisfied: idna<4,>=2.5 in /usr/local/lib/python3.10/dist-packages (from requests<3.0.0,>=2.13.0->spacy<3.8.0,>=3.7.2->en-core-web-sm==3.7.1) (3.10)\n",
            "Requirement already satisfied: urllib3<3,>=1.21.1 in /usr/local/lib/python3.10/dist-packages (from requests<3.0.0,>=2.13.0->spacy<3.8.0,>=3.7.2->en-core-web-sm==3.7.1) (2.2.3)\n",
            "Requirement already satisfied: certifi>=2017.4.17 in /usr/local/lib/python3.10/dist-packages (from requests<3.0.0,>=2.13.0->spacy<3.8.0,>=3.7.2->en-core-web-sm==3.7.1) (2024.8.30)\n",
            "Requirement already satisfied: blis<0.8.0,>=0.7.8 in /usr/local/lib/python3.10/dist-packages (from thinc<8.3.0,>=8.2.2->spacy<3.8.0,>=3.7.2->en-core-web-sm==3.7.1) (0.7.11)\n",
            "Requirement already satisfied: confection<1.0.0,>=0.0.1 in /usr/local/lib/python3.10/dist-packages (from thinc<8.3.0,>=8.2.2->spacy<3.8.0,>=3.7.2->en-core-web-sm==3.7.1) (0.1.5)\n",
            "Requirement already satisfied: click>=8.0.0 in /usr/local/lib/python3.10/dist-packages (from typer<1.0.0,>=0.3.0->spacy<3.8.0,>=3.7.2->en-core-web-sm==3.7.1) (8.1.7)\n",
            "Requirement already satisfied: shellingham>=1.3.0 in /usr/local/lib/python3.10/dist-packages (from typer<1.0.0,>=0.3.0->spacy<3.8.0,>=3.7.2->en-core-web-sm==3.7.1) (1.5.4)\n",
            "Requirement already satisfied: rich>=10.11.0 in /usr/local/lib/python3.10/dist-packages (from typer<1.0.0,>=0.3.0->spacy<3.8.0,>=3.7.2->en-core-web-sm==3.7.1) (13.8.1)\n",
            "Requirement already satisfied: cloudpathlib<1.0.0,>=0.7.0 in /usr/local/lib/python3.10/dist-packages (from weasel<0.5.0,>=0.1.0->spacy<3.8.0,>=3.7.2->en-core-web-sm==3.7.1) (0.19.0)\n",
            "Requirement already satisfied: smart-open<8.0.0,>=5.2.1 in /usr/local/lib/python3.10/dist-packages (from weasel<0.5.0,>=0.1.0->spacy<3.8.0,>=3.7.2->en-core-web-sm==3.7.1) (7.0.4)\n",
            "Requirement already satisfied: MarkupSafe>=2.0 in /usr/local/lib/python3.10/dist-packages (from jinja2->spacy<3.8.0,>=3.7.2->en-core-web-sm==3.7.1) (2.1.5)\n",
            "Requirement already satisfied: marisa-trie>=0.7.7 in /usr/local/lib/python3.10/dist-packages (from language-data>=1.2->langcodes<4.0.0,>=3.2.0->spacy<3.8.0,>=3.7.2->en-core-web-sm==3.7.1) (1.2.0)\n",
            "Requirement already satisfied: markdown-it-py>=2.2.0 in /usr/local/lib/python3.10/dist-packages (from rich>=10.11.0->typer<1.0.0,>=0.3.0->spacy<3.8.0,>=3.7.2->en-core-web-sm==3.7.1) (3.0.0)\n",
            "Requirement already satisfied: pygments<3.0.0,>=2.13.0 in /usr/local/lib/python3.10/dist-packages (from rich>=10.11.0->typer<1.0.0,>=0.3.0->spacy<3.8.0,>=3.7.2->en-core-web-sm==3.7.1) (2.18.0)\n",
            "Requirement already satisfied: wrapt in /usr/local/lib/python3.10/dist-packages (from smart-open<8.0.0,>=5.2.1->weasel<0.5.0,>=0.1.0->spacy<3.8.0,>=3.7.2->en-core-web-sm==3.7.1) (1.16.0)\n",
            "Requirement already satisfied: mdurl~=0.1 in /usr/local/lib/python3.10/dist-packages (from markdown-it-py>=2.2.0->rich>=10.11.0->typer<1.0.0,>=0.3.0->spacy<3.8.0,>=3.7.2->en-core-web-sm==3.7.1) (0.1.2)\n",
            "\u001b[38;5;2m✔ Download and installation successful\u001b[0m\n",
            "You can now load the package via spacy.load('en_core_web_sm')\n",
            "\u001b[38;5;3m⚠ Restart to reload dependencies\u001b[0m\n",
            "If you are in a Jupyter or Colab notebook, you may need to restart Python in\n",
            "order to load all the package's dependencies. You can do this by selecting the\n",
            "'Restart kernel' or 'Restart runtime' option.\n"
          ]
        }
      ]
    },
    {
      "cell_type": "markdown",
      "source": [
        "**Data Collection**"
      ],
      "metadata": {
        "id": "F_0H_Q9CWHgR"
      }
    },
    {
      "cell_type": "code",
      "execution_count": 3,
      "metadata": {
        "colab": {
          "base_uri": "https://localhost:8080/"
        },
        "id": "KDaCxamN-UJa",
        "outputId": "628bc9a3-fb33-4478-93ac-2f4ef8980780"
      },
      "outputs": [
        {
          "output_type": "stream",
          "name": "stdout",
          "text": [
            "Mounted at /content/drive\n"
          ]
        },
        {
          "output_type": "stream",
          "name": "stderr",
          "text": [
            "[nltk_data] Downloading package punkt to /root/nltk_data...\n",
            "[nltk_data]   Unzipping tokenizers/punkt.zip.\n",
            "[nltk_data] Downloading package stopwords to /root/nltk_data...\n",
            "[nltk_data]   Unzipping corpora/stopwords.zip.\n",
            "[nltk_data] Downloading package wordnet to /root/nltk_data...\n"
          ]
        }
      ],
      "source": [
        "# @title\n",
        "import os\n",
        "import re\n",
        "import pdfplumber\n",
        "import spacy\n",
        "import nltk\n",
        "from nltk.tokenize import word_tokenize\n",
        "from nltk.corpus import stopwords\n",
        "from bs4 import BeautifulSoup\n",
        "from nltk.stem import PorterStemmer\n",
        "from whoosh.index import create_in, open_dir\n",
        "from whoosh.fields import Schema, TEXT\n",
        "from transformers import pipeline, BertTokenizer, BertModel\n",
        "\n",
        "from google.colab import drive\n",
        "drive.mount('/content/drive')\n",
        "\n",
        "# Download necessary NLTK resources\n",
        "nltk.download('punkt')\n",
        "nltk.download('stopwords')\n",
        "nltk.download('wordnet')\n",
        "\n",
        "# Load spaCy's English model for NER and lemmatization\n",
        "nlp = spacy.load('en_core_web_sm')\n",
        "stop_words = set(stopwords.words('english'))\n",
        "stemmer = PorterStemmer()\n"
      ]
    },
    {
      "cell_type": "code",
      "source": [
        "# Path to the dataset\n",
        "pdf_directory = '/content/drive/My Drive/Colab Notebooks/DataSets'"
      ],
      "metadata": {
        "id": "mBVmtXUKXLy5"
      },
      "execution_count": 7,
      "outputs": []
    },
    {
      "cell_type": "markdown",
      "source": [
        "**Data Preprocessing**"
      ],
      "metadata": {
        "id": "QshPdaXeWCAC"
      }
    },
    {
      "cell_type": "code",
      "execution_count": 8,
      "metadata": {
        "id": "7SklSFYq8D0D"
      },
      "outputs": [],
      "source": [
        "\n",
        "\n",
        "# Extracting text from PDFs\n",
        "def extract_text_from_pdf(pdf_path):\n",
        "    text = \"\"\n",
        "    with pdfplumber.open(pdf_path) as pdf:\n",
        "        for page in pdf.pages:\n",
        "            text += page.extract_text()\n",
        "    return text\n",
        "\n",
        "# Function to clean the text\n",
        "def clean_text(text):\n",
        "    soup = BeautifulSoup(text, \"html.parser\")\n",
        "    text = soup.get_text()\n",
        "    text = re.sub(r\"[^a-zA-Z0-9\\s,.!?'-]\", '', text)\n",
        "    text = re.sub(r'\\s+', ' ', text).strip()\n",
        "    return text\n",
        "\n",
        "# Function to preprocess text (tokenization, stopword removal, etc.)\n",
        "def preprocess_text(text):\n",
        "    tokens = word_tokenize(text.lower())\n",
        "    tokens = [word for word in tokens if word.isalpha() and word not in stop_words]\n",
        "    return tokens\n",
        "\n",
        "# Function to perform stemming\n",
        "def stem_tokens(tokens):\n",
        "    return [stemmer.stem(token) for token in tokens]\n",
        "\n",
        "# Function to perform lemmatization\n",
        "def lemmatize_tokens(tokens):\n",
        "    return [token.lemma_ for token in nlp(\" \".join(tokens)) if token.is_alpha]\n",
        "\n",
        "# Function to perform Named Entity Recognition (NER)\n",
        "def perform_ner(text):\n",
        "    doc = nlp(text)\n",
        "    entities = [(ent.text, ent.label_) for ent in doc.ents]\n",
        "    return entities\n",
        "\n",
        "# Extract, clean, and preprocess text for each PDF\n",
        "pdf_texts = {}\n",
        "cleaned_texts = {}\n",
        "preprocessed_texts = []\n",
        "stemmed_texts = []\n",
        "lemmatized_texts = []\n",
        "entities_per_doc = []\n",
        "\n"
      ]
    },
    {
      "cell_type": "code",
      "execution_count": 9,
      "metadata": {
        "colab": {
          "base_uri": "https://localhost:8080/"
        },
        "id": "80RlcosG-rjG",
        "outputId": "0bd5efa5-2c9c-4f40-e318-03e29b01abfb"
      },
      "outputs": [
        {
          "output_type": "stream",
          "name": "stdout",
          "text": [
            "Sample cleaned text: Cell Reports Resource A Comprehensive Nuclear Receptor Network for Breast Cancer Cells RalfKittler,1,9,8JieZhou,1,8SujunHua,1,8,10LijiaMa,1YuwenLiu,1ElishaPendleton,1ChaoCheng,2,3MarkGerstein,2,3,4 andKevinP.White1,5,6,7, 1InstituteofGenomicsandSystemsBiology,ArgonneNationalLaboratoryandTheUniversityofChicago,Chicago,IL60637,USA 2DepartmentofMolecularBiophysicsandBiochemistry 3PrograminComputationalBiologyandBioinformatics 4DepartmentofComputerScience YaleUniversity,NewHaven,CT06520,USA 5DepartmentofHumanGenetics 6DepartmentofEcologyandEvolution 7DepartmentofMedicine TheUniversityofChicago,Chicago,IL60637,USA 8Theseauthorscontributedequallytothiswork 9PresentaddressEugeneMcDermottCenterofHumanGrowthandDevelopment,TheUniversityofTexasSouthwesternMedicalCenter, Dallas,TX75235,USA 10PresentaddressTheUniversityofTexasMDAndersonCancerCenter,Houston,TX77030,USA Correspondencekpwhiteigsb.org httpdx.doi.org10.1016j.celrep.2013.01.004 SUMMARY poordrugtargets,withthenotableexceptionofnuclearrecep- torsNRs,whichcompriseasuperfamilyof48TFsinhumans In breast cancer, nuclear receptors NRs play a Evans, 2005 whose actions are typically dependent on small prominent role in governing gene expression, have lipophilicligandsforwhichagonistsandantagonistsareeither prognostic utility, and are therapeutic targets. We already available or could be developed Chen, 2008 Grone- builtaregulatorymapfor24NRs,sixchromatinstate meyer et al., 2004. This druggable potential, and the fact markers,and14breast-cancer-associatedtranscrip- thatNRsregulatemanycancer-relevantpathways,makethem important targets for cancer treatment. Additionally, misregu- tion factors TFs that are expressed in the breast latedNRsignalingplaysamajorroleinseveralcommoncancers, cancercelllineMCF-7.Theresultingnetworkreveals forwhichbreastcancerpresentsaprototypicalexampleCon- a highly interconnected regulatory matrix where ex- zen,2008. tensive crosstalk occurs among NRs and other Inbreastcancer,twoNRs,estrogenreceptoralphaERaand breast -cancer-associated TFs. We show that large progesterone receptor PR, have been shown to play a major numbersoffactorsarecoordinatelyboundtohighly roleincarcinogenesisandcancerprogression.Bothreceptors occupiedtargetregionsthroughoutthegenome,and drive proliferation and promote survival in about 6070 of these regions are associated with active chromatin breastcancerpatients,andarethereforeusedtoclassifybreast state and hormone-responsive gene expression. cancers and to predict response to specific therapies Harvey This network also provides a framework for strati- et al., 1999. ERa is one of the main targets in breast cancer fying and predicting patient outcomes, and we use therapythroughdrugsthatdirectlyinhibitERa,suchastamox- ifen,orthrougharomataseinhibitorsthatblocktheproduction ittoshowthattheperoxisomeproliferator-activated ofitsligandestrogen.AlthoughthestudyofNRfunctioninbreast receptordeltabindstoasetofgenesalsoregulated cancerhasbeenlimitedmainlytoERaandPR,recentstudiesre- bytheretinoicacidreceptorsandwhoseexpression vealedthepresenceandpotentialimportanceofseveraladdi- isassociatedwithpoorprognosisinbreastcancer. tional NRs that may provide novel diagnostic markers and, moreimportantly,noveltargetsfortherapyHuaetal.,2009Ni INTRODUCTION etal.,2011.However,theknowledgeofthespecificfunctions ofmostNRsinbreastcancercellsremainsfragmentary. Incancercells,deregulatedgeneexpressionchangesthenor- Previous workmapping ERabinding sitesgenome-wide es- mal balance between tumor-suppressive and oncogenic gene tablished the target genes for this critical NR Carroll et al., networks,alteringthedifferentiationstateofcellsandenabling 2006 Lin et al., 2007 Welboren et al., 2009. Subsequent them to proliferate, evade apoptosis, and metastasize. There- network analyses, including the binding site mapping of the fore, the inhibition of oncogenic transcription factors TFs, or c-Myc protein, led to the discovery of novel biomarkers that the activation of tumor-suppressive TFs, in principle presents respond tothe estrogen-induced transcriptional cascadeHua averyeffectivetherapeuticstrategyforcancertreatmentDar- etal.,2008.MappingoftheERacofactorFoxA1revealedthat nell, 2002 Grivas et al., 2011. However, TFs are notoriously ERa binding is dependent on this factor Carroll et al., 2005 538 CellReports3,538551,February21,20132013TheAuthorsLupien et al., 2008, and mapping of retinoic acid receptor Applying a p value cutoff of 1e-3, we identified between 705 RARNRsuncoveredawidespreadantagonisticinteractionof and 20,770 binding regions per factor Table S1. Previous ligandedRARswithERaintheregulationofbreastcancer-asso- genome-widemappingstudiesforNRsandcofactors suchas ciatedgenesHuaetal.,2009.Thislatterstudyhighlightedthe ERa,RARs,andFoxA1inMCF-7cellsaswellasGR,PPARg, potentialoftheintegratedanalysisofcis-regulatoryregionsfor andARindifferentcelltypeshaverevealedaprevalenceofdistal multipleNRs.Here,wesystematicallymapthegenomicbinding binding relative to transcription start sites TSSs of protein- sites of all NRs expressed in MCF-7 breast cancer cells. The codinggenesCarrolletal.,2006Huaetal.,2008,2009John resulting map provides a framework to uncover the genetic etal.,2011Lefterovaetal.,2008Lupienetal.,2008Nielsen programs governed by NRs and to reveal their potential for et al., 2008 Reddy et al., 2009 Wang et al., 2009. When we combinatorialaction. systematically analyzed the distance distribution of all NR cofactorbindingsitesrelativetotheTSS,weobservedawide RESULTS and continuous range of NR and other TF binding site distri- butions. For many factors, there was indeed a relatively low MappingoftheGenomicBindingRegionsofNRsand percentage50ofbindingregionsproximaltoTSSsFigures CooperatingTFs 1Aand1B.However,NRssuchasTR2L,TR2S,TR4,LXRa,and Wemappedthegenomicbindingsitesofatotalof33proteins THRa,aswellasseveralNR-cooperatingTFs,werefrequently whose corresponding genes are expressed at moderate to boundtositesproximaltoTSSs.MembersoftheNRsuperfamily high levels in MCF-7 cells Table S1. For completeness, we andcooperatingTFsexhibitmarkeddifferencesintheircis-regu- included selected previously published MCF-7 binding site latorybindingcharacteristicsrelativetotheTSSoftheirputative dataforERa,GATA3,FOXA1,RARA,andRARGinouranalysis targetgenes.Bothproximal-biasedanddistal-biasedNRswere Carrolletal.,2006Huaetal.,2009.ThetotalsetofTFsstudied observed.Theseresultsindicatethattheoriginalobservationsof hereincludes24NRs,comprisinghalfoftheNRsencodedinthe distal-biased binding are not a general property of NRs but humangenomesevenJUNFOSfamilymembersthatdimerize insteadafactor-specificproperty.Whenweexaminedtheevolu- to form AP-1 TFs, and that can act as DNA-tethering factors tionaryconservationofregionsboundbyNRsandcooperating for NRs CREB1, ATF-1, and ELK1, whose binding site motifs TFs among vertebrates, we found that the binding regions for areenrichedinthegenomicbindingregionsofERaandRARs allstudiedfactorsshowedrelativelyhighsequenceconservation inMCF-7cellsaswellasFOXA1,GATA3,XBP1-S,andSPDEF, as compared to genomic background, regardless of whether which are coexpressed with ERa in breast cancer. To assess aparticularfactorsbindingwasproximalordistalbiased.This genomic and gene-expression states, we also mapped five pervasive evolutionary conservation of the NR binding regions differentchromatin-associated marks,RNApolymeraseII,and supports their putative roles as functional cis-regulatory ele- performedgene-expression profilingexperiments underligand mentsFigure1C. treatment. A major obstacle to chromatin immunoprecipitation ChIP TranscriptionFactorMotifsinNRCofactorBinding studiesinvolvinglargenumbersofdifferentTFsistheavailability Sites ofantibodieswithhighspecificityandaffinityrequiredforimmu- Wesearchedthebindingregionsofeachfactorforenrichment noprecipitation of crosslinked chromatin-protein complexes. of knownTF motifs TableS2.This analysisidentified in most To circumvent this problem, we developed a tag-based ChIP cases i.e., when the specific motif was known the canonical approach using bacterial artificial chromosomes BACs trans- motif of a given factor. We identified putative binding motifs genesis to express epitope EGFP-tagged TFs Hua et al., fromseveralTFfamiliesthatmayaffectthebindingorcoregulate 2009 Poser et al., 2008. This approach offers several advan- transcriptional effects of these factors. Transcription factors tagesthetaggedTFsareexpressedunderthecontroloftheir such as FoxA1 have been proposed to act as pioneering TFs endogenous regulatory elements the same antibody can be that facilitate the binding of multiple NRs such as ERa and usedtoassaydifferentTFs,bypassingtheneedforTF-specific RARstoenhancers.Interestingly,wefoundthattheenrichment antibodies and allowing direct comparison of binding affinities ofForkheadmotifsappearstooccuronlyinsubsetofNRsERa, among different TFs and multiple BACs expressing different RARA,RARG,COUP-TFII,REV-ERBA,PPARD,PPARG,RORC, TFscanbegeneratedinseries.Thesefeaturesmakeitpossible RXRB, TR4, and VDR, which suggests that Forkhead factors toperformChIPanalysesonthescalenecessarytobuildcom- suchasFoxA1maynotbegeneralNRpioneerfactorsinagiven prehensive networks in mammalian cells for targeted sets of celllineageandadditionalTFsmayberequiredtofacilitatethe functionallyrelatedTFs. actionsofotherNRs. Using this approach, we generated MCF-7 cell lines that stably express TFs tagged with EGFP either at their C termini BindingofMultipleNRCofactorsDefinesActive or N termini, and immunoprecipitations were performed with ChromatinRegions an affinity-purified polyclonal antibody raised against EGFP. Intotal,weidentified200,140bindingregionsforall39factors,of Previous studies have shown that such tagged constructs are whichonly32areuniquei.e.,theydonotoverlapwithother expressed at levels comparable to endogenous proteins and binding regions. Thus, there appears to be a marked binding thatthetaggedproteinsyieldhighlysimilaroridenticalbinding redundancyforNRsandtheirputativecooperatingTFs.Previous profiles as endogenous proteins mapped with specific anti- studies have revealed the existence of highly occupied target bodiesHuaetal.,2009Negreetal.,2011Poseretal.,2008. binding regions in the genome HOT regions Dunham et al., CellReports3,538551,February21,20132013TheAuthors 539A B C Figure1. DistributionandEvolutionaryConservationofNRandAssociatedTFBindingSitesinMCF-7Cells AFrequenciesofbindingsitesforeachfactorresidingwithin2and10kbupstreamordownstreamtoannotatedTSSs. BDistributionofbindingsitesforeachfactorrelativetoTSSs.Densercolorindicateshigherfrequencyofbinding. CConservationprofileforthebindingsitesofeachfactor.PhastConsconservationscoresSiepeletal.,2005within3kbofthecenterofthebindingsiteswere averagedforallbindingsitesofeachgivenfactor.Thecontrolwasgeneratedusing3kbflankingsequenceof3,000randomlychosenbindingsites. SeealsoTablesS1andS2. 2012Gersteinetal.,2010,2012Moormanetal.,2006Negre factors nearby breast cancer-driving genes such as MYC and etal.,2011Royetal.,2010Whenwesystematicallyanalyzed CCND1Figure2Atheseregionswerealsoboundbymultiple the binding complexity of shared genomic regions Figure 2A TFs in the ER-expressing breast cancer cell line T-47D and in Table S3, we found that regions with a binding complexity of multiple other cell lines Figures S2A and S2B as identified in morethan8occurredmorefrequentlythanrandomlyexpected theENCODEdataDunhametal.,2012.Thefunctionalsignifi- Figure 2B. We did not find significant differences in the canceofsuchHOTregionsisunknown,althoughinDrosophila evolutionary conservation between binding regions of low and they have been shown to be associated with accessible or high complexity Figure S1A, but complexity appeared to be open chromatin Negre et al., 2011 Roy et al., 2010. We inversely correlated to the binding regions mean distance to wondered whether this property was conserved in the human TSSsFigureS1B.Highlycomplexregionsweresignificantlyen- genomeandwhetherHOTregionsmayplayaroleinthetran- riched near genes that play a role in cancer development and scriptional regulatory network governed by NRs in breast progression, including breast cancer biology Table S4 Fig- cancer. We therefore performed genome-wide analyses of ure S1C. For example, we observed the binding of multiple chromatinandtranscriptionalactivityinMCF-7cells.Weused 540 CellReports3,538551,February21,20132013TheAuthorsA B C Figure2. BindingofMultipleTFstoSharedBindingRegions AThedistributionofTFbindingdensitycomplexityforallbindingsites,andannotationsforeachcomplexitygroup.Complexitywascalculatedusingthe GaussiankerneldensityestimationmethodsNegreetal.,2011. BThedistributionofobservedandrandomlyexpectedbindingcomplexity.Therandomlyexpectedcomplexitywasobtainedfrompermutatingthebindingsites. CHOTregionsassociatedwiththeknownbreastcancer-drivinggenesMYCandCCND1.Thepositionofthebindingregionsintheirgenomiccontextare depictedasblackbars.Thegenesequencesaredepictedinbluethickbarsrepresentcodingexons,thinbarsrepresentuntranslatedexons,andbluelines representintrons.OchrebarsdepictHOTregions.Basepositionsontherespectivechromosomesandscalebarsareshownatthebottomofthepanel.Seealso FigureS2. SeealsoTablesS3,S4,andFigureS1. genome-wide formaldehyde-assisted isolation of regulatory active promoter regions Figure 3B, H3K4-monomethylation elements FAIRE to determine the chromatin accessibility of H3K4me1, marker for active promoter-distal elements or bindingregions.WefoundastrongcorrelationbetweentheTF enhancers Figure 3C, H2AZ-acetylation H2AZace, marker binding complexity and mean FAIRE scores Figure 3A. Addi- foractiveelementsFigure3D,andH3R17asymmetricdime- tional analyses revealed that HOT regions have relatively high thylation H3R17me2, marker for the activity of the NR coac- meanlevelsofhistonemodificationsthatarespecificforactive tivator CARM1 Figure 3E, whereas H3K27-trimethylation chromatin such as H3K4-trimethylation H3K4me3, marker for H3K27me3, marker for transcriptionally inactive chromatin is CellReports3,538551,February21,20132013TheAuthors 5415 10 15 20 5.1 0.1 5.0 0.0 FAIRE Complexity langiS PIhC naideM 5 10 15 20 5.1 0.1 5.0 0.0 H3K4me3 Complexity langiS PIhC naideM 5 10 15 20 5.1 0.1 5.0 0.0 H3K4me1 Complexity langiS PIhC naideM 5 10 15 20 5.1 0.1 5.0 0.0 H2AZace Complexity langiS PIhC naideM 5 10 15 20 5.1 0.1 5.0 0.0 H3R17me2 Complexity langiS PIhC naideM 5 10 15 20 5.1 0.1 5.0 0.0 H3K27me3 Complexity langiS PIhC naideM 5 10 15 20 5.1 0.1 5.0 0.0 PolII Complexity langiS PIhC naideM 5 10 15 20 61.0 21.0 80.0 40.0 Steady-state E2 response Complexity CFgolsba 5 10 15 20 5.6 0.6 5.5 Immediate E2 response Complexity sdaer qesorG gol A B C D E F G H I Figure3. CorrelationofChromatinandTranscriptionalActivityParameterswithTFBindingComplexity AFChromatinactivityandTFcomplexityinMCF-7cells.MedianChIPorFAIREsignalintensitiesinMCF-7cellswereplottedagainstcomplexityscores for FAIRE A, H3K4me3 B, H3K4me1 C, H2AZace D, H3R17me2 E, and H3K27me3 occupancies F. Signal intensities were calculated from three replicates. GIEstrogen-regulatedtranscriptionalactivityandTFcomplexityinMCF-7cells.MedianChIPsignalintensitieswereplottedagainstcomplexityscoresfor polymeraseIIoccupancyG.Signalintensitieswerecalculatedfromthreereplicates.Steady-stateexpressionchangescausedbyestrogentreatmentfor24hr obtainedfrommicroarrayanalysesastheabsolutevaluesoflog2-foldchangesofgeneswhoseTSSsarewithin50kbtoaHOTregionwithanERabindingsiteH. Immediategene-expressionchangescausedbyestrogeninMCF-7cellswerecalculatedasthemediannumberofreadsinthebindingregionafterpoolingthe tworeplicatesandnormalizedwiththetotalnumberofreadsfrompreviouslypublishedGRO-seqdataHahetal.,2011I. SeealsoFigureS3. 542 CellReports3,538551,February21,20132013TheAuthorsA TR4 B Rev-ErbA N142 N876 N22 Clique ATF1RORA A B AA B AA B SPDEF PGR Rev-ErbB C p0.001 C p0.001 C p0.012 NURR1 RXRB FosB XBP1-S FOS 28 COUP-TFI 68 RXRA 4 JunB Fos A FOSB 24 ACRXRB 68 A GR 3 GATA3 RORC 22 TR2S 51 11 COUP-TFII JunD FOXA129 FOS 178 B 8 BCJUNB 19 B FOSB 136 FOS 7 RARA C COUP-TFI RXRA 16 RORC 102 XBP1S5 AR RARGTHRA FosL1 PPARD TR2-L N251 FFL N68 Chain N38 FOXA1 AA B AA B AA B TR2-S Jun RXRA GR VDR C p0.018 C p0.023 C p0.032 RORC PPARA TR2L 46 PPARD31 SPDEF 7 A A A ELK1 NUR77 LXRA JUNB 26 PGR 24 CREB1 7 PPARG FOS 59 RORC 13 12 CREB1 B B B RORC 28 FOSL2 6 12 FosL2 FOSB 30 TR2L 15 TR2-S 9 C C C JUNB 22 VDR 9 TR2-L 5 Figure4. NuclearReceptorRegulatoryNetworkinBreastCancer ARegulatorynetworkofNRsandassociatedTFsinMCF-7cells.Thenetworkwasinferredforthreeclassesofedgesrepresentingthefollowingtypesof functionalinteractionbetweenNRstypeIbindingofoneTFwithin50kbrangeofthepromotoroftheotherTF,depictedingraytypeIIexpressionlevelofone factoraffectsexpressionofthetargetgeneofanotherfactor,depictedinredtypeIIIactivationofoneNRaffectstheexpressionofanotherfactor,depictedin green.ThecolorsofthenodesindicatethreeclassesofTFsNRwithknownligandsdepictedinblueOrphanNRdepictedinred.TFsassociatedwithNRs depictedinyellow.ThenetworkisorganizedusingunweightedspringembeddedmethodwithCytoscape. BSignificantlyenrichednetworkmotifs.TypeIIandIIIedgesaredepictedinred.Thefrequenciesofthemostcommonfactorsforeachnodeofeachenriched motifaredisplayedinthehistogramsseealsoFiguresS3CS3H. SeealsoTablesS5,S6,S7,andFigureS4. notcorrelatedwithhotnessFigure3F.WealsofoundRNApoly- multipleNRsandassociatedTFsrepresenthighlyactivechro- merase II Figure 3G, which binds to both promoter-proximal matinsites,whichmaybekeyregionsfortranscriptionalregula- andpromoter-distalelements,tobemarkedlyenrichedatHOT tioninbreastcancercells. regions. To determine if these chromatin associations were directly relevant to transcriptional state, we analyzed changes AnalysisofNRRegulatoryNetworks in transcript expression upon estrogen treatment. We found We next examined the network of regulatory relationships that TF binding complexity is strongly correlated with both between NRs and their associated TFs. We constructed a steady-statelevelsofestrogen-regulatedtranscriptsfromHOT networkwherenodesrepresentthemappedfactorsandedges regions in MCF-7 cells Figure 3H and with levels of nascent representthreedifferenttypesofregulatoryrelationshipstype estrogen-regulated RNAs associated with transcriptionally en- I, putative physical interaction of two factors, inferred from gaged RNA polymerases Figure 3I including enhancer RNAs bindingbetweenaTFandthegenomicregionofanotherTF-en- eRNAs Figure S3A as inferred from GRO-seq analyses of codinggenetypeII,putativefunctionalinteractioninferredfrom estrogen-regulated transcripts in MCF-7 cells Hah et al., aneffectoftheexpressionlevelofafactorontheexpressionof 2011. Further, we found an association of HOT regions with thetargetgenesofaNRandtypeIII,putativefunctionalinterac- anchorgenesi.e.,genesassociatedwithmultipleERbinding tioninferredfromachangeintheexpressionlevelofafactorafter regionsinteractingbyloopingFigureS3Baswellasapositive treatment with the ligand of a NR see Extended Experimental correlationofHOTregionswithloopinganchorsitesFigureS3C Proceduresfor details. We constructed a network Figure 4A whenweanalyzedtheER-boundhumanchromatininteractome that shows high connectivity with an average of 11 edges per Fullwoodetal.,2009.Finally,whenweanalyzedcopynumber node.Thisnetworkrevealsapotentialforrapidspreadofregu- variation in breast cancer using the Cancer Genome Atlas latory information, requiring no more than four connections to CGA data setof 886breast tumor samples Cancer Genome connect any pair of TFs in the network. When we separated AtlasNetwork,2012,wefoundthatthecomplexityofNRHOT theTFsintheregulatorynetworkintocentralandperipheral regionsispositivelycorrelatedwithgenomicamplificationFig- TFs based on their centrality in the network Figure S4A, we ureS3DandnegativelyassociatedwithdeletionsFigureS3E. found that the putative target genes of central TFs have a Thesefindingscollectivelyindicatethatgenomicregionsbinding muchhigher enrichment of gene sets that areassociated with CellReports3,538551,February21,20132013TheAuthors 543breastcancerthanthetargetgenesofperipheralTFsp0.008 observedsimilarlyhighlevelsofH3K4me3inTSS-distalbinding Table S5 Figure S4B. This finding establishes a key role of regionsforfactorsofthisgroup,whichmaybeduetopreviously centralTFsinbreastcancer-associatedgeneregulation.These unannotated promoters or may indicate that H3K4me3 marks factors include ERa, RARs, GR, GATA3, and FoxA1 that are can be associated with distal-enhancer elements bound by knowntoplaykeyrolesinbreastcancerbiology,butalsoseveral thesefactors.ThethirdgroupJun-Fosfamilycontainssixout NRswhoserolesinbreastcancerbiologyhavenotbeenheavily ofsevenJunFosfamilymembers,aswellasELK1,PR,PPARa, studiedinthiscontext,includingPPARd,VDR,andTHRa.Our AR, and NR4A1, suggesting a functional interaction between findingssuggestthatthesefactorsmighthaveimportantfunc- AP-1andtheseNRs.Interestingly,wefoundthatthepresence tions in NR-mediated gene regulation in breast cancer. We ofAP-1familymembersatbindingregionsofNRsinthisgroup exploreoneofthesefactors,PPARd,furtherbelow. correspondstoareductioninthelevelsofseveralmarkersfor We next searched for significantly overrepresented network chromatin activity Figure 5C. This observation contrasts with motifsthatarelikelytorepresentbuildingblocksofTFregulation AP-1associationswithgroup1andgroup2factors,whosecol- Figure 4B Figures S4CS4H. We found six significantly en- lectivebindingisassociatedwithincreasedchromatinactivity. riched network motifs in the regulatory network. The three Thus,thethreegroupsappeartobenotonlydistinctbyvirtue most common motifs 1, 2, and 4 correspond to coregulation ofbindingsiteclustering,butalsotodifferbasedonfunctionally or feed-forward loops where a TF is regulated by two other relevant chromatin features that mark enhancers, promoters, TFs.AmongthecoregulatedTFswefoundmostfrequentlyfor andchromatinactivitystates. these motifs were the paralogs FOS and FOSB, which have Wenotethatthereiscongruencybetweenthesegroupsand keyfunctionsascomponentsofAP-1inbothnormalandmalig- the regulatory network e.g., we found 9 out 11 of the factors nant mammary epithelial cells Eferl and Wagner, 2003 Mus- of the ERa-RAR related group and 8 out of 11 of the Jun-Fos groveandSutherland,2009,aswellastheRAR-relatedorphan family group as central TFs or peripheral TFs in the network, receptorgamma.Intwoothermotifs3and6,wefoundERaand respectively. Overall, both the inference of the regulatory net- RARsmostfrequentlyasreciprocallyregulatedTFs,indicating workandtheglobalanalysisofthefactorsbindingsimilarities that this type of regulation is common for these antagonistic providearesourcetodevelophypothesesforfunctionalinterac- regulators of breast cancer cell growth. This network analysis tionsbetweendifferentNRsandaccessoryTFs. indicatesdistinctregulatorypatternsfordifferentNRsandasso- ciated TFs. We therefore sought to determine whether these NRsasKeyRegulatorsofOncogenicProgramsinBreast regulatoryinteractionsmightalsobereflectedintheregulation Cancer of common target genes. To quantify coincident binding of WefurtherinvestigatedthefunctionalrelevanceofHOTregions TFs, we computed pairwise binding similarities for all factors byaskingwhetherbreastcancer-relevantgenesareenrichedfor Tables S6 and S7. To systematically group factors sharing HOTregions.Indeed,thereisamarkedandstatisticallysignifi- common binding regions in an unsupervised manner, we em- cant enrichment for breast cancer-relevant genes associated ployedmultidimensionalscalingMDSFigure5A.Weidentified with HOT regions Figure S1C and an association between threemajorgroupswhosemembersmayfunctioninacoordi- bindingcomplexityandcopynumbervariationinbreastcancer nated manner. The first group ERa-RAR related contained Figures2Dand2E.Thesefindingsindicatethatthesecis-regu- ERa, RARa, RARg, GR, PPARd, PPARg, VDR, RORa, RXRb, latoryregionsmayplayacriticalroleintheregulationoftheex- and the two factors FoxA1 and GATA3 that are coexpressed pressionofgenesdrivingbreastcancer.BecauseHOTregions withERaanddefinetheluminalAbreastcancersubtypeBer- containing multiple NRs are associated with genes important nardo et al., 2010 Eeckhoute et al., 2007 Kong et al., 2011 for breast cancer development or progression, combinatorial Kouros-Mehretal.,2006WilsonandGiguere,2008.Because targetingofinteractingNRsthatregulatethesegenesmaypro- ERa,RARs,GATA3,andFOXA1havebeenpreviouslyidentified videnewtherapeuticoptionsforbreastcancertreatment. asfunctionallyinteractingTFsintheregulationofbreastcancer ToidentifyNRsastherapeutictargets,weintegratedbinding cellgrowth,weproposethatthefactorsinthisgroupclusterplay site,expression,andclinicaloutcomedata.Wefirstcorrelated akeyroleinthetranscriptionalregulationofcellgrowthinbreast NR messenger RNA levels from published gene-expression cancer.Commontargetgenesofthisgroupshowedsignificant profilingstudieswithpatientsurvivaldatatoidentifyNRsasso- enrichment for cell-cycle and proliferation-related gene ontol- ciatedTFsimplicatedinbreastcancerprogression.Thisanalysis ogiesTableS8.Atotalof13.7ofthegenesthatareregulated verified known genes such as ERa, FOXA1, and GATA3 as by these NRs are among the BC1000 list of important breast predictors for good prognosis Figure S5A. Interestingly, we cancergenesWittetal.,2006.ThesecondgroupTSSproximal alsoidentifiedPPARdexpressionasastrongpredictorforpoor TFs contains NRs TR2LS, THRa, NURR1, RXRa COUP-TFI, clinical outcome in this analysis p 2.27e-5 Figure 6A i.e., and LXRa and associated TFs ATF1, CREB1, SPDEF, XBP- patients with breast tumors expressing high levels of PPARd 1S, and JUNB that bind near TSSs of their putative targets, had a markedly lower survival rate. This negative association leading to the hypothesis that genes adjacent to these pro- between PPARd expression and clinical outcome held up moter-proximal elements are globally coregulated by these p 0.027 whenwe analyzed tumor samples expressing high TFs. This hypothesis is supported by the increased levels of levels of ERa Figure 6B, indicating that PPARd expression is the histone mark H3K4me3 that is specific for actively tran- a prognostic marker that is independent of ERa status. Treat- scribed promoters in shared binding regions for these fac- ment of MCF-7 cells with the highly selective PPARd agonist tors proximal to TSSs of genes Figure 5B. Interestingly, we GW0742 increased cell proliferation by 60 p 3.18e-5 544 CellReports3,538551,February21,20132013TheAuthorsA B C Figure5. GroupingofNRsandAssociatedTFsBasedonTheirBindingSimilarity AMDSofTFtargetsimilarities.TheMDSplotwasgeneratedfrompair-wisebindingdistances.ThegroupsintheMDSplotwerearbitrarilyselectedbasedonTF functionandrelativeproximitiesintheMDSplot. BH3K4me3signalaroundthreeMDSgroupTFsbindingregions.TocalculateChIPsignal,wepickeduprepresentativeregionsforeachMDSgroup.Each representativeregionfitscriteria1nolessthanfiveTFsbindinginthatregion2morethan50ofTFsareinacertainMDSgroupER-RARrelated,TSS proximalTFs,orJun-Fosfamily.AccordingtotheirdistancetoallannotatedTSS,eachrepresentativeregionwasfurtherdividedintotwosubgroupsproximalto TSS10kb,redboxinfigureanddistaltoTSS10kb,bluebox.Fromthefigure,theChIPsignalsarehigherinTSSProximalTFsgroupregions,lowerin Jun-FosFamilyregionsandwithER-RARRelatedinthemedian.Also,itseemstheChIPsignalsonlyrelatedtotheTFsbindinginthesameregionsratherthan thedistancefromthebindingregiontoannotatedTSS. CJunandFosfamilymembercobindingeffectonchromatinChIPsignals.Regressionanalysiswasperformedtodetectthecobindingeffectonchromatin marksbetweenJun-FosfamilyrelatedNRbindingsitesandotherTFbindingsites,andthecoefficientandconfidenceintervalswereplottedseeExtended ExperimentalProceduresfordetails.Fiveoutofsixchromatinactivitymarksdisplayedsignificantdifferencesbetweenthetwogroups,suggestingfunctional interactionbetweenthesefiveNRsandJun-FosfamilymembersAP1. SeealsoTableS8. Figure6C,demonstratingaroleofPPARdasadriverofbreast GSK3787onMCF-7cellgrowthaloneandincombinationwith cancer growth in ER-positive breast cancer cells. Further, we theRARligandall-transretinoicacidATRA.Wefoundanaddi- tested the effects of two PPARd antagonists GSK0660 and tive growth-suppressive effect of PPARd antagonists and the CellReports3,538551,February21,20132013TheAuthors 545A B C D RARG 983 134 5907 514 1606 263 PPARD 3312 RARA E F G Figure6. AntagonisticActionsofPPARdandRARsinBreastCancer AandBPPARdexpressionasprognosticindicator.Kaplan-Meiercurvesofoverallsurvivalamongall295AChangetal.,2005patientsand226patientswith ERa-positivetumorsBclassifiedbyPPARDexpression.ThepatientsamplesaregroupedinthreecategoriesbasedonPPARdexpressionAlown92, mediumn91,andhighn112Blown85,mediumn75,andhighn112.Allpvalueswereobtainedfromlog-ranktests. legendcontinuedonnextpage 546 CellReports3,538551,February21,20132013TheAuthorsRARagonistFiguresS5BandS5C,whichsupportsourmodel outcomeforeach tumorsample dependent on theexpression of an antagonistic relationship of PPARd and RAR in breast ofputativedirecttargetsofPPARd.Forthisanalysis,wedefined cancer. foreachtumorsampleanPPARdtargetscore,whichmeasures Previous studies suggested a growth-promoting role for thecorrelationbetweenPPARdtargetgeneexpressionprofiles PPARdinER-positivecelllinesStephenetal.,2004andinthe inMCF-7cellsandthegene-expressionprofileinagiventumor MMTVneu mouse model that resembles human Her2ERcid1 sample.WeexaminedthecorrelationbetweenPPARdsignature breast cancer Schug et al., 2007 Schug et al., 2008. Also, scoresandclinicaloutcomesforacohortofexpressionprofiles PPARdmaybeactivatedbyretinoicacidtoinducetheexpres- from295breasttumorpatientsvandeVijveretal.,2002.We sionofprosurvivalgenesinbreastcancerSchugetal.,2007. previously showed for this cohort that elevated RAR target Retinoicacidtypicallymediatesinhibitionofcellgrowththrough scores were associated with positive clinical outcomes in this activatingitscanonicalreceptors,theRARs.Thepartitioningof dataset,indicatingthatactivationofRARtargetsisassociated retinoic acid between the two receptors was suggested to be with patient survival Hua et al., 2009. Using PPARd target regulatedbythelevelsoftwointracellularlipid-bindingproteins, scores, Kaplan-Meier survival analysis demonstrated a highly CRABP-II and FABP5 Schug et al., 2007. Thus, opposing significantcorrelationbetweenPPARdtargetscoresandoverall effectsofretinoicacidoncellgrowthmayresultfromalternate patientsurvivalfortheentirecohortp3.76e-4Figure6Fas actionsontwodifferentNRs.Interestingly,weidentifiedPPARd well as patients with ER-positive tumors only p 0.005 Fig- andRARsashighlyoverlappingintheirtargetgenesandbinding ure 6G. High and moderate PPARd target scores indicated profilesFigure6DTableS9.Atotalof27.3ofPPARdbinding poorprognosiswhilelowscoresstronglyindicatedpositiveclin- sites overlap with RAR binding sites, a number that is highly ical outcomes. Taken together, these findings substantiate an statistically significant Z score 28.5, p 1e-16. Also, both antagonistic functional interaction of PPARd and RARs and NRsbelongtothecentralgroupofTFsintheregulatorynetwork suggest that the combinatorial treatment with PPARd antago- that we constructed Figure 4A, and PPARd is the most nists and selective RAR agonists may be an effective strategy commonlyfactorfoundasthestartingpointinnetworkmotifV, forbreastcancertherapyforcertainsubsetsofpatients. whichcorrespondstoaregulatorychain.Theseresultssuggest thatPPARdandRARsmayregulateacommonsubsetofgenes DISCUSSION andmaybeinterregulatedinbreastcancer.Whenweanalyzed the expression of putative direct RAR and PPARd targets that Nuclearreceptorsareessentialtonormaldevelopment,homeo- werederivedfromourcell-lineexperimentsinbreasttumorcells stasis, and disease processes. The complete regulatory net- frompatient samples,weobservedthataclusterwithlowex- worksthattheymodulatehaveneverbeforebeendelineatedin pression in Luminal A and B types but high expression in the any single system. In the case of breast cancer, NRs are well aggressiveHER2ERcid1subtypescontainsahighproportionof known to play critical roles but only a handful of factors have RARtargetsaswellasPPARdtargetsFigure6E.Wealsofound beenexaminedindepth.TheMCF-7celllinehasbeenaparticu- two gene clusters, with low expression in the HER2cid1ERcid1 larly useful model to identify the global genomic targets of a subtype but high expression in Luminal A and B and Normal- handful of NRs Carroll et al., 2005, 2006 Hua et al., 2008, like types, which contain a large fraction of genes that are 2009Kongetal.,2011Linetal.,2007Lupienetal.,2008Wel- putative direct targets of RARs and PPARd. Because of the borenetal.,2009,andthusservedhereasanaturallaunchpoint opposite effects PPARd and RARs have on breast cancer cell tobuildthefirstcomprehensiveNRnetworkinhumancells. growth, we predicted that the two NRs may antagonistically Our results for the full set of NRs and several associated regulate the expression of common target genes. When we sequence-specific TFs revealed several key characteristics of testedtheeffectsofthePPARdagonistGW0742andtheRAR NR action. Importantly, the recruitment of multiple factors to agonist ATRA on gene expression by microarray analysis, we the same regions, described previously for a smaller set of observedoppositeeffectsontheexpressionlevelsofcommon TFs,appearstobeacommonthemeintranscriptionalregulation putativetargetgenesFiguresS5DandS5E. amongthesefactors.Themarkedcorrelationofthecomplexity OurobservationthatmanyPPARdtargetsarebreastcancer- of HOT regions with several markers for chromatin and tran- relevantgenesandarespecificallyexpressedindifferentbreast scriptional activityindicatesfunctionally relevantcis-regulatory cancer subtypes suggested that these genes might possess elements. These reflect active enhancers or promoters in this significantprognosticvalue.Wethereforeanalyzedtheclinical breast cancer cell-line genome. Currently, a major challenge CPPARdactivationincreasescellproliferation.MCF-7cellsweretreatedwith100nMofthePPARdagonistGW0742orvehiclefor24hr.Proliferationwas measuredwithaBrdUassay.ErrorbarsrepresentSDn5. DVenndiagramdisplayingsharedputativetargetgenesofPPARd,RARg,andRARaasdefinedbythepresenceofatleastonebindingregionwithin50kbto theTSSs. EHierarchicalclusteringof146breasttumorsetusingtheUNCIntrinsicgenesetHuetal.,2006.ThedensityprofilesforPPARd,RARa,andRARgputative targetswereplotted.ThedensitywascalculatedastheproportionofTFputativetargetsin50neighborsforeachgeneinthecluster. FandGPPARdtargetsasprognosticindicators.Kaplan-Meiercurvesofoverallsurvivalamongall295FChangetal.,2005patientsand226patientswith ERa-positivetumorsGclassifiedbyPPARdtargetscore.ThepatientsamplesaregroupedinthreecategoriesbasedonPPARdtargetscoreFlown67, mediumn82,andhighn146Glown66,mediumn68,andhighn92.Allpvalueswereobtainedfromlog-ranktests. SeealsoFigureS5andTableS9. CellReports3,538551,February21,20132013TheAuthors 547fortheinterpretationofTFbindingsitedataisthediscrepancy may synergistically inhibit breast cancer growth. We expect between the very large number of binding regions and the that the interplay of other druggable NRs will be uncovered markedly lower number of significant direct effects of a given from the analysis of their genomic target sites for which this TFtypicallyontheorderofonemagnitudeontranscriptexpres- studyprovidesacomprehensiveframework. sion.ThecomplexityofHOTregionsmayserveasanimportant indicator for functionally relevant binding regions of NRs in EXPERIMENTALPROCEDURES breast cancer. Thus, the binding site map of NRs presented here helps to pinpoint the identification of a set of several GenerationofBACTransgenicMCF-7CellLines TheBACsTableS10wereobtainedfromInvitrogen.Alocalizationandaffinity hundredHOTregions3,706withcomplexity8fromasetof purificationcassettewasinsertedasaC-terminalfusionusingETcloning,and tensofthousandsofuniquebindingregions.Thesemayreflect BAC DNA was extracted and transfected into MCF-7 breast cancer cells regulatoryregionsthathavethelargesteffectsongeneregula- ATCCHTB-22forthegenerationofstableBACtransgeniccelllinesasprevi- tion,basedonourobservationthattheseHOTregionsareasso- ouslydescribedPoseretal.,2008. ciated with highly responsive target genes when exposed to hormonessuchasestrogen.Itwillbeimportanttofunctionally ChIP-chipandFAIRE-chip characterize these selected regions, and we have begun to Cellsat80confluencycid353106cellsperFAIREorChIPculturedin10 fetalbovineserumFBSDulbeccosmodifiedEaglesmediumDMEMfor test a representative sample of these HOT regions 500 in orphan NRs and non-NR TFs or 10 charcoal-stripped FBS DMEM in reportergeneassays. thepresenceofaspecificNRagonistTableS10weresubjectedtoFAIRE Further, it is conceivable that germline variation or somatic Giresietal.,2007orChIPaspreviouslydescribedHuaetal.,2009with mutations in such regions may have a major impact on gene the following antibodies goat anti-GFP raised against His-tagged full- expression of breast cancer-related genes, thereby playing length EGFP and affinity-purified with GST-tagged full-length EGFP, anti- an important role in breast carcinogenesis. With the growing H3K4me1 ab8895 from Abcam, anti-H3K4me3 ab8580 from Abcam, anti-H2AZ-aceab18262fromAbcam,anti-H3R17me2ab8284fromAbcam, numberofsequencedbreastcancergenomes,weexpectthat anti-H3K27me317-622fromUpstate. ourmapofthecriticalcis-regulatoryelementswillbeanessential ChIPedDNA,DNAfromFAIRE,andinputDNAweresubjectedtolinker- resource to identify noncoding driver mutations or suscepti- mediated PCRamplification andfragmentation andwereend-labeledwith bility SNPs in breast cancer. This idea also warrants further biotinusingtheGeneChipWTDouble-StrandedDNATerminalLabelingKit testing, and with large-scale sequencing projects such as the Affymetrix as previously described. The resulting labeled samples were Cancer Genome Atlas underway for breast cancer http hybridizedtoAffymetrixGeneChipHumanTiling2.0RArraySetfollowingthe AffymetrixChromatinImmunoprecipitationAssayProtocol.Independentbio- cancergenome.nih.govcancersselectedbreastductal, the re- logical triplicates were performed for each TF, histone mark, or FAIRE as gulatorymappresentedherecanactasaguideforidentifying wellasthecontrolinputDNA. candidatefunctionallyrelevantvariants. AnotherkeyfindingfromthisstudyisthatspecificNRs,aswell MicroarrayGeneExpressionProfiling astheirassociatedTFs,appeartohaveapreferencetobere- MCF-7cellsculturedfor48hrinmediumwith10charcoal-strippedFBS cruited to specific categories of regulatory elements. Histori- were treated with the following NR ligands estradiolE2 ERa agonist, cally,thestudyofgeneregulationbyNRshadbeenrestricted AM580RARAagonist,CD437RARGagonist,GW0742PPARDagonist, R5020PGRagonist,anddexamethasoneGRNR3C1agonist.TotalRNA by the focus on binding to promoters or promoter-proximal sampleswerelabeledbydirectincorporationofcyanine3-labeledCTPusing gene regions. Recent studies suggested that the majority of theAgilentLowRNAInputLinearAmplificationKitPLUSOne-ColorAgilent bindingsitesforNRssuchasERa,AR,PPARg,RARs,GR,and TechnologiesandhybridizedtoAgilentHumanGenomeOligoMicroarrays VDRoccurdistallytoTSSs.Whileourstudyconfirmsthesefind- 4344KAgilentTechnologies.Hybridizedmicroarrayswerescannedusing ingsformanyfactors,wealsofoundasubsetofNRssuchas aGenePix4000BscannerMolecularDevicesat5mmresolution.Allexperi- TR2, COUP-TF1, and NURR1 that appear to be recruited at mentswereperformedintriplicate. higherfrequencytopromoter-proximalbindingregions.Interest- ChIP-chipDataAnalysis ingly,thepreferentialrecruitmentofthesetwosetsoffactorsto ChIP-chiptilingarraydatawerenormalizedandanalyzedwithAffymetrixTiling differentbindingregionscorrelateswithH3K4me3levelsandis AnalysisSoftwareTASaspreviouslydescribedHuaetal.,2009usinga independent of the proximity of these regions to annotated pvaluecut-offof1e-3.Thepreliminarybindingregionswerethensubjected TSSs. These findings define the existence of two distinct NR tofourstepsoffilteringtoremovefalse-positivebindingregions.Thegenomic groups. One group appears to preferentially associate with coordinatesoftheidentifiedbindingregionsforeachTFandgeneswithaTSS moredistalenhancerswhiletheotherassociateswithpromoters within50kbtoaspecificbindingregionareprovidedinTablesS11andS12, respectively. orproximalenhancers.Inthefuture,itwillbeimportanttodeter- minewhetherandhowthechromatinstatusaffectstherecruit- ConservationAnalysisforTFBindingRegions mentofthesefactorsorwhetherthepresenceofthesefactors TFbindingregionswerealignedattheircentersandwereextended3kbto affectsthechromatinstructure. each side. Base-by-base phastCons conservation scores Siepel et al., Finally,theidentificationoffactorswithsharedbindingregions 2005basedonthemultiplealignmentoffivevertebratespecieshuman,rat, inourdatasetenablespredictionsaboutfunctionalinteractions mouse, chicken, and Fugu were retrieved httpcompgen.bscb.cornell. ofNRsandotherTFsthatmaybethebasisfornoveltherapeutic educid3acsconservation,andthemeanofphastConsscoresateachposition wascalculatedandplottedinaheatmap. strategies in breast cancer. We demonstrate here a functional antagonistic interaction between RARs and PPARd inferred IdentificationofHOTRegions fromthesimilarityoftheirgenomicbindingpatterns,suggesting HOTregionswereidentifiedbyGaussiankerneldensityestimationacrossthe that the combination of RAR activation and PPARd inhibition genomewithabandwidthof300bp,usingthecentersofTFbindingregions. 548 CellReports3,538551,February21,20132013TheAuthorsThecomplexityoftheHOTregionwasdefinedasthesumofTFsthatcontrib- AnalysisofTFExpressionasClinicalOutcomePredictors utedatleast0.1toitsstrengthinkerneldensity.TheboundariesofeachHOT PreviouslypublishedgeneexpressionandclinicaloutcomedataChangetal., regionpeakwerederivedasthemaximumdistancefromtheHOTregionto 2005wasused.Two-pointoptimalcutpointanalysiswasperformedusingthe any contributing TF extended by 150 bp. Binding regions with TF binding X-TilepackageCampetal.,2004togrouppatientsampledataintothree complexitylargerthan8weredefinedasHOTregions. categoriesbasedonTFexpressionlevelslow,medium,high.Kaplan-Meier survival curves for patient overall survival were plotted and the Log-Rank AnalysisofChromatinSignalIntensityDataandHOTRegion testwasperformedwiththeRsurvivalpackage. Enrichment ChIP-chipandFAIRE-chipdataforchromatinactivitymarkswereprocessed ACCESSIONNUMBERS using the same TAS parameters as used for the TF ChIP-chip data. The PolII data were obtained from a previous study in MCF-7 cell line ChIP-chipdatareportedinthisstudyhavebeendepositedintheNCBIGene Carroll et al., 2006. Processed signal intensity data in HOT regions were ExpressionOmnibusGEOdatabasewiththeaccessionnumbersGSE41995 plottedforFAIRE,H2AZace,H3K27me3,H3K4me1,H3K4me3,H3R17me2, andGSE42617.Microarraygeneexpressiondatareportedinthisstudyhave andPolII. been deposited in the NCBI GEO database with the accession number GSE42619. AnalysisofMicroarrayGeneExpressionData AgilentFeatureExtractionsoftwareversion9.5.3,AgilentTechnologieswas SUPPLEMENTALINFORMATION usedforfeatureextraction.LIMMASmyth,2004wasusedforpreprocessing, logtransformation,andquantilenormalization,andtoidentifydifferentiallyex- SupplementalInformationincludesfivefigures,twelvetables,andExtended pressedgenesbetweenligandtreatmentandcontrolexperiments.Acutoffof ExperimentalProceduresandcanbefoundwiththisarticleonlineathttp 0.05forBenjamini-Hochbergcorrectedpvalueswasusedtocallsignificant dx.doi.org10.1016j.celrep.2013.01.004. changesoftranscriptlevels. LICENSINGINFORMATION AnalysisoftheNRRegulatoryNetworkandNetworkMotif Enrichment This is an open-access article distributed under the terms of the Creative EachnetworknoderepresentsaTF.Fortwonodese.g.,AandB,thereare CommonsAttributionLicense,whichpermitsunrestricteduse,distribution, threetypesofedges.TypeI,Abindswithin50kbtotheTSSofB.TypeII,after and reproduction in any medium, provided the original author and source treatmentwithAsligand,theexpressionofAstargetgenesaresignificantly arecredited. affectedbythebindingofBwithin50kbtotheTSSsofthesegenes.Type III,aftertreatmentwithAsligand,theexpressionofBchangessignificantly ACKNOWLEDGMENTS after24hr.ThenetworkwasimportedintoCytoscapev.2.8.1Smootetal., 2011,andorganizedusingunweightedforce-directedlayout. WethankallmembersoftheFunctionalGenomicsFacilityofTheUniversityof Networkmotifenrichmentanalysiswasperformedbyfirstcollapsingthe ChicagoandtheHigh-throughputGenomeAnalysisCoreoftheInstitutefor typeIIandtypeIIIedgesintoonecategory.Thenwegenerated1,000random GenomicsandSystemsBiologyfortechnicalassistance.Thisworkwassup- networks with the same degree distribution and number of edges. If the ported by grants 1R01HG004428 and P50GM081892 to K.P.W. from the numberofmotifoccurrencesintheoriginalnetworkwaslargerthanin95 National Institutes ofHealth,andbyagrantfromthe Searle Funds atthe oftherandomnetworks,wecalledthemotifasasignificantlyenrichednetwork Chicago Community Trust from the Chicago Biomedical Consortium to motif. K.P.W. R.K. was supported by a long-term fellowship of the International HumanFrontierScienceProgramOrganization. AnalysisofFunctionalModuleEnrichmentinHOTRegionTarget Genes ReceivedAugust30,2012 ThetargetgenesetofallHOTregionswastestedagainstall5,607genesets RevisedNovember26,2012 obtainedfromMSigDBRelease3.0Subramanianetal.,2005forenrichment AcceptedJanuary4,2013 analysesusingone-tailhypergeometrictest.Inaddition,theBC1000setWitt PublishedJanuary31,2013 et al., 2006, a manually curated breast cancer-related gene set was also includedinthisanalysis.Acutoffof0.05forBonferronicorrectedpvalues REFERENCES wasused.Also,genesetswithlessthan150geneswereremovedfromthe analysis. Bernardo,G.M.,Lozada,K.L.,Miedler,J.D.,Harburg,G.,Hewitt,S.C.,Mosley, J.D.,Godwin,A.K.,Korach,K.S.,Visvader,J.E.,Kaestner,K.H.,etal.2010. MDSAnalysisofPairwiseTFBinding FOXA1 is an essential determinant of ERalpha expression and mammary Wedetermined pair-wiseTF binding distances withthefollowing distance ductalmorphogenesis.Development137,20452054. metricbetweenthebindingregionsoftwofactorsdistanceoverlapAand Camp,R.L.,Dolled-Filhart,M.,andRimm,D.L.2004.X-tileanewbio-infor- BminA,B.TheMDSplotwasgeneratedfromallpairwisedistanceswith maticstoolforbiomarkerassessmentandoutcome-basedcut-pointoptimiza- thecmdscalefunctioninR. tion.Clin.CancerRes.10,72527259. CancerGenomeAtlasNetwork2012.Comprehensivemolecularportraitsof AnalysisofTargetGeneEnrichmentinBreastCancerExpression humanbreasttumours.Nature490,6170. Profiles Carroll, J.S., Liu, X.S., Brodsky, A.S., Li, W., Meyer, C.A., Szary, A.J., PPARdRAR common target genes were identified as genes with at least Eeckhoute,J.,Shao,W.,Hestermann,E.V.,Geistlinger,T.R.,etal.2005. asingleindividualorsharedbindingsiteforPPARdandRARswithin50kb Chromosome-widemappingofestrogenreceptorbindingrevealslong-range totheTSS.Geneexpressiondataforbreastcancersubtypeswereobtained regulationrequiringtheforkheadproteinFoxA1.Cell122,3343. from publically available data Hu et al., 2006. Clustering of genes and breastcancersampleswasperformedwithCluster3.0httpbonsai.hgc.jp Carroll,J.S.,Meyer,C.A.,Song,J.,Li,W.,Geistlinger,T.R.,Eeckhoute,J., cid3mdehoonsoftwareclustersoftware.htm. Centroid linkage clustering was Brodsky,A.S.,Keeton,E.K.,Fertuck,K.C.,Hall,G.F.,etal.2006.Genome- performedwithbothgenesandsamples.ThefrequencyofPPARdandRAR wideanalysisofestrogenreceptorbindingsites.Nat.Genet.38,12891297. bindingwithin50kbtothegenesTSSswascalculatedforaslidingwindow Chang,H.Y.,Nuyten,D.S.A.,Sneddon,J.B.,Hastie,T.,Tibshirani,R.,Srlie, of50neighboringgenes. T., Dai, H.Y., He, Y.D.D., vant Veer, L.J., Bartelink, H., et al. 2005. CellReports3,538551,February21,20132013TheAuthors 549Robustness,scalability,andintegrationofawound-responsegeneexpression Kouros-Mehr,H.,Slorach,E.M.,Sternlicht,M.D.,andWerb,Z.2006.GATA-3 signatureinpredictingbreastcancersurvival.Proc.Natl.Acad.Sci.USA102, maintainsthedifferentiationoftheluminalcellfateinthemammarygland.Cell 37383743. 127,10411055. Chen,T.2008.Nuclearreceptordrugdiscovery.Curr.Opin.Chem.Biol.12, Lefterova,M.I.,Zhang,Y.,Steger,D.J.,Schupp,M.,Schug,J.,Cristancho,A., 418426. Feng, D., Zhuo, D., Stoeckert, C.J., Jr., Liu, X.S., and Lazar, M.A. 2008. Conzen,S.D.2008.Minireviewnuclearreceptorsandbreastcancer.Mol. PPARgammaandCEBPfactorsorchestrateadipocytebiologyviaadjacent Endocrinol.22,22152228. bindingonagenome-widescale.GenesDev.22,29412952. Darnell,J.E.,Jr.2002.Transcriptionfactorsastargetsforcancertherapy. Lin,C.Y.,Vega,V.B.,Thomsen,J.S.,Zhang,T.,Kong,S.L.,Xie,M.,Chiu,K.P., Nat.Rev.Cancer2,740749. Lipovich,L.,Barnett,D.H.,Stossi,F.,etal.2007.Whole-genomecartography ofestrogenreceptoralphabindingsites.PLoSGenet.3,e87. Dunham,I.,Kundaje,A.,Aldred,S.F.,Collins,P.J.,Davis,C.A.,Doyle,F.,Ep- Lupien,M.,Eeckhoute,J.,Meyer,C.A.,Wang,Q.,Zhang,Y.,Li,W.,Carroll, stein,C.B.,Frietze,S.,Harrow,J.,Kaul,R.,etal.ENCODEProjectConsortium J.S.,Liu,X.S.,andBrown,M.2008.FoxA1translatesepigeneticsignatures 2012.AnintegratedencyclopediaofDNAelementsinthehumangenome. intoenhancer-drivenlineage-specifictranscription.Cell132,958970. Nature489,5774. Moorman,C.,Sun,L.V.,Wang,J.,deWit,E.,Talhout,W.,Ward,L.D.,Greil,F., Eeckhoute,J.,Keeton,E.K.,Lupien,M.,Krum,S.A.,Carroll,J.S.,andBrown, Lu,X.J.,White,K.P.,Bussemaker,H.J.,andvanSteensel,B.2006.Hotspots M.2007.Positivecross-regulatorylooptiesGATA-3toestrogenreceptor of transcription factor colocalization in the genome of Drosophila mela- alphaexpressioninbreastcancer.CancerRes.67,64776483. nogaster.Proc.Natl.Acad.Sci.USA103,1202712032. Eferl,R.,andWagner,E.F.2003.AP-1adouble-edgedswordintumorigen- Musgrove,E.A.,andSutherland,R.L.2009.Biologicaldeterminantsofendo- esis.Nat.Rev.Cancer3,859868. crineresistanceinbreastcancer.Nat.Rev.Cancer9,631643. Evans,R.M.2005.Thenuclearreceptorsuperfamilyarosettastoneforphys- Negre,N.,Brown,C.D.,Ma,L.,Bristow,C.A.,Miller,S.W.,Wagner,U.,Kher- iology.Mol.Endocrinol.19,14291438. adpour,P.,Eaton,M.L.,Loriaux,P.,Sealfon,R.,etal.2011.Acis-regulatory Fullwood,M.J.,Liu,M.H.,Pan,Y.F.,Liu,J.,Xu,H.,Mohamed,Y.B.,Orlov,Y.L., mapoftheDrosophilagenome.Nature471,527531. Velkov,S.,Ho,A.,Mei,P.H.,etal.2009.Anoestrogen-receptor-alpha-bound Ni,M.,Chen,Y.,Lim,E.,Wimberly,H.,Bailey,S.T.,Imai,Y.,Rimm,D.L.,Liu, humanchromatininteractome.Nature462,5864. X.S.,andBrown,M.2011.Targetingandrogenreceptorinestrogenreceptor- Gerstein,M.B.,Lu,Z.J.,VanNostrand,E.L.,Cheng,C.,Arshinoff,B.I.,Liu,T., negativebreastcancer.CancerCell20,119131. Yip, K.Y., Robilotto, R., Rechtsteiner, A.,Ikegami,K.,et al.modENCODE Nielsen,R.,Pedersen,T.A.,Hagenbeek,D.,Moulos,P.,Siersbaek,R.,Me- Consortium2010.IntegrativeanalysisoftheCaenorhabditiselegansgenome gens,E.,Denissov,S.,Brgesen,M.,Francoijs,K.J.,Mandrup,S.,andStun- bythemodENCODEproject.Science330,17751787. nenberg,H.G.2008.Genome-wideprofilingofPPARgammaRXRandRNA Gerstein,M.B.,Kundaje,A.,Hariharan,M.,Landt,S.G.,Yan,K.K.,Cheng,C., polymerase II occupancy reveals temporal activation of distinct metabolic Mu,X.J.,Khurana,E.,Rozowsky,J.,Alexander,R.,etal.2012.Architecture pathwaysandchangesinRXRdimercompositionduringadipogenesis.Genes ofthehumanregulatorynetworkderivedfromENCODEdata.Nature489, Dev.22,29532967. 91100. Poser,I.,Sarov,M.,Hutchins,J.R.,Heriche,J.K.,Toyoda,Y.,Pozniakovsky, Giresi,P.G.,Kim,J.,McDaniell,R.M.,Iyer,V.R.,andLieb,J.D.2007.FAIRE A.,Weigl,D.,Nitzsche,A.,Hegemann,B.,Bird,A.W.,etal.2008.BACTrans- Formaldehyde-Assisted Isolation of Regulatory Elements isolates active geneOmicsahigh-throughputmethodforexplorationofproteinfunctionin regulatoryelementsfromhumanchromatin.GenomeRes.17,877885. mammals.Nat.Methods5,409415. Grivas,P.D.,Kiaris,H.,andPapavassiliou,A.G.2011.Tacklingtranscription Reddy,T.E.,Pauli,F.,Sprouse,R.O.,Neff,N.F.,Newberry,K.M.,Garabedian, factorschallengesinantitumortherapy.TrendsMol.Med.17,537538. M.J.,andMyers,R.M.2009.Genomicdeterminationoftheglucocorticoid Gronemeyer,H.,Gustafsson,J.A.,andLaudet,V.2004.Principlesformodu- responserevealsunexpectedmechanismsofgeneregulation.GenomeRes. lationofthenuclearreceptorsuperfamily.Nat.Rev.DrugDiscov.3,950964. 19,21632171. Hah,N.,Danko,C.G.,Core,L.,Waterfall,J.J.,Siepel,A.,Lis,J.T.,andKraus, Roy,S.,Ernst,J.,Kharchenko,P.V.,Kheradpour,P.,Negre,N.,Eaton,M.L., W.L. 2011. A rapid, extensive, and transient transcriptional response to Landolin,J.M.,Bristow,C.A.,Ma,L.,Lin,M.F.,etal.modENCODEConsor- estrogensignalinginbreastcancercells.Cell145,622634. tium2010.Identification offunctionalelementsandregulatorycircuitsby Harvey,J.M.,Clark,G.M.,Osborne,C.K.,andAllred,D.C.1999.Estrogen DrosophilamodENCODE.Science330,17871797. receptor status by immunohistochemistry is superior to the ligand-binding Schug, T.T., Berry, D.C., Shaw, N.S., Travis, S.N., and Noy, N. 2007. assayforpredictingresponsetoadjuvantendocrinetherapyinbreastcancer. Opposingeffectsofretinoicacidoncellgrowthresultfromalternateactivation J.Clin.Oncol.17,14741481. oftwodifferentnuclearreceptors.Cell129,723733. Hu,Z.,Fan,C.,Oh,D.S.,Marron,J.S.,He,X.,Qaqish,B.F.,Livasy,C.,Carey, Schug,T.T.,Berry,D.C.,Toshkov,I.A.,Cheng,L.,Nikitin,A.Y.,andNoy,N. L.A.,Reynolds,E.,Dressler,L.,etal.2006.Themolecularportraitsofbreast 2008. Overcoming retinoic acid-resistance of mammary carcinomas by tumorsareconservedacrossmicroarrayplatforms.BMCGenomics7,96. divertingretinoicacidfromPPARbetadeltatoRAR.Proc.Natl.Acad.Sci. Hua,S.,Kallen,C.B.,Dhar,R.,Baquero,M.T.,Mason,C.E.,Russell,B.A., USA105,75467551. Shah,P.K.,Liu,J.,Khramtsov,A.,Tretiakova,M.S.,etal.2008.Genomic Siepel,A.,Bejerano,G.,Pedersen,J.S.,Hinrichs,A.S.,Hou,M.,Rosenbloom, analysisofestrogencascaderevealshistonevariantH2A.Zassociatedwith K.,Clawson,H.,Spieth,J.,Hillier,L.W.,Richards,S.,etal.2005.Evolution- breastcancerprogression.Mol.Syst.Biol.4,188. arilyconservedelements invertebrate,insect,worm, andyeast genomes. Hua,S.,Kittler,R.,andWhite,K.P.2009.Genomicantagonismbetweenret- GenomeRes.15,10341050. inoicacidandestrogensignalinginbreastcancer.Cell137,12591271. Smoot, M.E., Ono, K., Ruscheinski, J., Wang, P.L., and Ideker, T. 2011. John,S.,Sabo,P.J.,Thurman,R.E.,Sung,M.H.,Biddie,S.C.,Johnson,T.A., Cytoscape2.8newfeaturesfordataintegrationandnetworkvisualization. Hager,G.L.,andStamatoyannopoulos,J.A.2011.Chromatinaccessibility Bioinformatics27,431432. pre-determines glucocorticoid receptor binding patterns. Nat. Genet. 43, Smyth,G.K.2004.Linearmodelsandempiricalbayesmethodsforassessing 264268. differentialexpressioninmicroarrayexperiments.Stat.Appl.Genet.Mol.Biol. Kong,S.L.,Li,G.,Loh,S.L.,Sung,W.K.,andLiu,E.T.2011.Cellularreprog- 3,Article3. rammingbytheconjointactionofERa,FOXA1,andGATA3toaligand-induc- Stephen,R.L.,Gustafsson,M.C.,Jarvis,M.,Tatoud,R.,Marshall,B.R.,Knight, iblegrowthstate.Mol.Syst.Biol.7,526. D.,Ehrenborg,E.,Harris,A.L.,Wolf,C.R.,andPalmer,C.N.2004.Activation 550 CellReports3,538551,February21,20132013TheAuthorsofperoxisomeproliferator-activatedreceptordeltastimulatestheproliferation transcription program in androgen-independent prostate cancer. Cell 138, ofhumanbreastandprostatecancercelllines.CancerRes.64,31623170. 245256. Subramanian, A., Tamayo, P., Mootha, V.K., Mukherjee, S., Ebert, B.L., Welboren,W.J.,vanDriel,M.A.,Janssen-Megens,E.M.,vanHeeringen,S.J., Gillette,M.A.,Paulovich,A.,Pomeroy,S.L.,Golub,T.R.,Lander,E.S.,andMe- Sweep,F.C.,Span,P.N.,andStunnenberg,H.G.2009.ChIP-SeqofERalpha sirov,J.P.2005.Genesetenrichmentanalysisaknowledge-basedapproach and RNA polymerase II defines genes differentially responding to ligands. forinterpretinggenome-wideexpressionprofiles.Proc.Natl.Acad.Sci.USA EMBOJ.28,14181428. 102,1554515550. Wilson,B.J.,andGiguere,V.2008.Meta-analysisofhumancancermicroar- vandeVijver,M.J.,He,Y.D.,vantVeer,L.J.,Dai,H.,Hart,A.A.,Voskuil,D.W., raysrevealsGATA3isintegraltotheestrogenreceptoralphapathway.Mol. Schreiber,G.J.,Peterse,J.L.,Roberts,C.,Marton,M.J.,etal.2002.Agene- Cancer7,49. expressionsignatureasapredictorofsurvivalinbreastcancer.N.Engl.J. Witt,A.E.,Hines,L.M.,Collins,N.L.,Hu,Y.H.,Gunawardane,R.N.,Moreira,D., Med.347,19992009. Raphael,J.,Jepson,D.,Koundinya,M.,Rolfs,A.,etal.2006.Functionalpro- Wang,Q.,Li,W.,Zhang,Y.,Yuan,X.,Xu,K.,Yu,J.,Chen,Z.,Beroukhim,R., teomicsapproachtoinvestigatethebiologicalactivitiesofcDNAsimplicated Wang,H.,Lupien,M.,etal.2009.Androgenreceptorregulatesadistinct inbreastcancer.J.ProteomeRes.5,599610. CellReports3,538551,February21,20132013TheAuthors 551\n",
            "Sample tokenized text: ['cell', 'reports', 'resource', 'comprehensive', 'nuclear', 'receptor', 'network', 'breast', 'cancer', 'cells', 'argonnenationallaboratoryandtheuniversityofchicago', 'chicago', 'usa', 'yaleuniversity', 'newhaven', 'usa', 'theuniversityofchicago', 'chicago', 'usa', 'theuniversityoftexassouthwesternmedicalcenter', 'dallas', 'usa', 'houston', 'usa', 'summary', 'poordrugtargets', 'torsnrs', 'breast', 'cancer', 'nuclear', 'receptors', 'nrs', 'play', 'evans', 'whose', 'actions', 'typically', 'dependent', 'small', 'prominent', 'role', 'governing', 'gene', 'expression', 'lipophilicligandsforwhichagonistsandantagonistsareeither', 'prognostic', 'utility', 'therapeutic', 'targets', 'already', 'available', 'could', 'developed', 'chen', 'sixchromatinstate', 'meyer', 'et', 'druggable', 'potential', 'fact', 'markers', 'makethem', 'important', 'targets', 'cancer', 'treatment', 'additionally', 'tion', 'factors', 'tfs', 'expressed', 'breast', 'latednrsignalingplaysamajorroleinseveralcommoncancers', 'highly', 'interconnected', 'regulatory', 'matrix', 'tensive', 'crosstalk', 'occurs', 'among', 'nrs', 'inbreastcancer', 'twonrs', 'estrogenreceptoralphaeraand', 'breast', 'tfs', 'show', 'large', 'progesterone', 'receptor', 'pr', 'shown', 'play', 'major', 'numbersoffactorsarecoordinatelyboundtohighly', 'occupiedtargetregionsthroughoutthegenome', 'drive', 'proliferation', 'promote', 'survival', 'regions', 'associated', 'active', 'chromatin', 'breastcancerpatients', 'andarethereforeusedtoclassifybreast', 'state', 'gene', 'expression', 'cancers', 'predict', 'response', 'specific', 'therapies', 'harvey', 'network', 'also', 'provides', 'framework', 'et', 'era', 'one', 'main', 'targets', 'breast', 'cancer', 'fying', 'predicting', 'patient', 'outcomes', 'use', 'therapythroughdrugsthatdirectlyinhibitera', 'ifen', 'orthrougharomataseinhibitorsthatblocktheproduction', 'receptordeltabindstoasetofgenesalsoregulated', 'cancerhasbeenlimitedmainlytoeraandpr', 'bytheretinoicacidreceptorsandwhoseexpression', 'isassociatedwithpoorprognosisinbreastcancer', 'tional', 'nrs', 'may', 'provide', 'novel', 'diagnostic', 'markers', 'moreimportantly', 'introduction', 'theknowledgeofthespecificfunctions', 'ofmostnrsinbreastcancercellsremainsfragmentary', 'incancercells', 'previous', 'workmapping', 'erabinding', 'mal', 'balance', 'oncogenic', 'gene', 'tablished', 'target', 'genes', 'critical', 'nr', 'carroll', 'et', 'networks', 'alteringthedifferentiationstateofcellsandenabling', 'lin', 'et', 'welboren', 'et', 'subsequent', 'proliferate', 'evade', 'apoptosis', 'metastasize', 'network', 'analyses', 'including', 'binding', 'site', 'mapping', 'fore', 'inhibition', 'oncogenic', 'transcription', 'factors', 'tfs', 'protein', 'led', 'discovery', 'novel', 'biomarkers', 'activation', 'tfs', 'principle', 'presents', 'respond', 'tothe', 'transcriptional', 'cascadehua', 'nell', 'grivas', 'et', 'however', 'tfs', 'notoriously', 'era', 'binding', 'dependent', 'factor', 'carroll', 'et', 'et', 'mapping', 'retinoic', 'acid', 'receptor', 'applying', 'p', 'value', 'cutoff', 'identified', 'rarnrsuncoveredawidespreadantagonisticinteractionof', 'binding', 'regions', 'per', 'factor', 'table', 'previous', 'suchas', 'era', 'rars', 'pparg', 'andarindifferentcelltypeshaverevealedaprevalenceofdistal', 'wesystematicallymapthegenomicbinding', 'binding', 'relative', 'transcription', 'start', 'sites', 'tsss', 'sites', 'nrs', 'expressed', 'breast', 'cancer', 'cells', 'resulting', 'map', 'provides', 'framework', 'uncover', 'genetic', 'programs', 'governed', 'nrs', 'reveal', 'potential', 'et', 'reddy', 'et', 'wang', 'et', 'combinatorialaction', 'systematically', 'analyzed', 'distance', 'distribution', 'nr', 'cofactorbindingsitesrelativetothetss', 'weobservedawide', 'results', 'continuous', 'range', 'nr', 'tf', 'binding', 'site', 'butions', 'many', 'factors', 'indeed', 'relatively', 'low', 'mappingofthegenomicbindingregionsofnrsand', 'cooperatingtfs', 'lxra', 'thra', 'werefrequently', 'whose', 'corresponding', 'genes', 'expressed', 'moderate', 'high', 'levels', 'cells', 'table', 'completeness', 'included', 'selected', 'previously', 'published', 'binding', 'site', 'latorybindingcharacteristicsrelativetothetssoftheirputative', 'dataforera', 'rara', 'andrarginouranalysis', 'comprisinghalfofthenrsencodedinthe', 'binding', 'general', 'property', 'nrs', 'humangenomesevenjunfosfamilymembersthatdimerize', 'form', 'tfs', 'act', 'factors', 'tionaryconservationofregionsboundbynrsandcooperating', 'nrs', 'whose', 'binding', 'site', 'motifs', 'tfs', 'among', 'vertebrates', 'found', 'binding', 'regions', 'areenrichedinthegenomicbindingregionsoferaandrars', 'allstudiedfactorsshowedrelativelyhighsequenceconservation', 'andspdef', 'compared', 'genomic', 'background', 'regardless', 'whether', 'coexpressed', 'era', 'breast', 'cancer', 'assess', 'genomic', 'states', 'also', 'mapped', 'five', 'pervasive', 'evolutionary', 'conservation', 'nr', 'binding', 'regions', 'marks', 'rnapolymeraseii', 'supports', 'putative', 'roles', 'functional', 'profilingexperiments', 'underligand', 'treatment', 'major', 'obstacle', 'chromatin', 'immunoprecipitation', 'chip', 'transcriptionfactormotifsinnrcofactorbinding', 'studiesinvolvinglargenumbersofdifferenttfsistheavailability', 'sites', 'wesearchedthebindingregionsofeachfactorforenrichment', 'noprecipitation', 'crosslinked', 'complexes', 'knowntf', 'motifs', 'analysisidentified', 'circumvent', 'problem', 'developed', 'chip', 'cases', 'specific', 'motif', 'known', 'canonical', 'approach', 'using', 'bacterial', 'artificial', 'chromosomes', 'bacs', 'motif', 'given', 'factor', 'identified', 'putative', 'binding', 'motifs', 'genesis', 'express', 'epitope', 'tfs', 'hua', 'et', 'fromseveraltffamiliesthatmayaffectthebindingorcoregulate', 'poser', 'et', 'approach', 'offers', 'several', 'transcriptional', 'effects', 'factors', 'transcription', 'factors', 'tagesthetaggedtfsareexpressedunderthecontroloftheir', 'proposed', 'act', 'pioneering', 'tfs', 'endogenous', 'regulatory', 'elements', 'antibody', 'facilitate', 'binding', 'multiple', 'nrs', 'era', 'usedtoassaydifferenttfs', 'wefoundthattheenrichment', 'antibodies', 'allowing', 'direct', 'comparison', 'binding', 'affinities', 'offorkheadmotifsappearstooccuronlyinsubsetofnrsera', 'among', 'different', 'tfs', 'multiple', 'bacs', 'expressing', 'different', 'rara', 'rarg', 'ppard', 'pparg', 'rorc', 'rxrb', 'vdr', 'suggests', 'forkhead', 'factors', 'prehensive', 'networks', 'mammalian', 'cells', 'targeted', 'sets', 'celllineageandadditionaltfsmayberequiredtofacilitatethe', 'functionallyrelatedtfs', 'actionsofothernrs', 'using', 'approach', 'generated', 'cell', 'lines', 'stably', 'express', 'tfs', 'tagged', 'egfp', 'either', 'c', 'termini', 'bindingofmultiplenrcofactorsdefinesactive', 'n', 'termini', 'immunoprecipitations', 'performed', 'chromatinregions', 'polyclonal', 'antibody', 'raised', 'egfp', 'intotal', 'previous', 'studies', 'shown', 'tagged', 'constructs', 'theydonotoverlapwithother', 'expressed', 'levels', 'comparable', 'endogenous', 'proteins', 'binding', 'regions', 'thus', 'appears', 'marked', 'binding', 'thatthetaggedproteinsyieldhighlysimilaroridenticalbinding', 'profiles', 'endogenous', 'proteins', 'mapped', 'specific', 'studies', 'revealed', 'existence', 'highly', 'occupied', 'target', 'binding', 'regions', 'genome', 'hot', 'regions', 'dunham', 'et', 'b', 'c', 'factors', 'nearby', 'breast', 'genes', 'myc', 'binding', 'complexity', 'shared', 'genomic', 'regions', 'figure', 'tfs', 'breast', 'cancer', 'cell', 'line', 'table', 'found', 'regions', 'binding', 'complexity', 'multiple', 'cell', 'lines', 'figures', 'identified', 'figure', 'find', 'significant', 'differences', 'canceofsuchhotregionsisunknown', 'althoughindrosophila', 'evolutionary', 'conservation', 'binding', 'regions', 'low', 'shown', 'associated', 'accessible', 'high', 'complexity', 'figure', 'complexity', 'appeared', 'open', 'chromatin', 'negre', 'et', 'roy', 'et', 'inversely', 'correlated', 'binding', 'regions', 'mean', 'distance', 'wondered', 'whether', 'property', 'conserved', 'human', 'riched', 'near', 'genes', 'play', 'role', 'cancer', 'development', 'scriptional', 'regulatory', 'network', 'governed', 'nrs', 'breast', 'progression', 'including', 'breast', 'cancer', 'biology', 'table', 'cancer', 'therefore', 'performed', 'analyses', 'ure', 'example', 'observed', 'binding', 'multiple', 'b', 'c', 'bindingofmultipletfstosharedbindingregions', 'athedistributionoftfbindingdensitycomplexityforallbindingsites', 'thinbarsrepresentuntranslatedexons', 'andbluelines', 'isolation', 'regulatory', 'active', 'promoter', 'regions', 'figure', 'elements', 'faire', 'determine', 'chromatin', 'accessibility', 'marker', 'active', 'elements', 'enhancers', 'figure', 'marker', 'binding', 'complexity', 'mean', 'faire', 'scores', 'figure', 'tional', 'analyses', 'revealed', 'hot', 'regions', 'relatively', 'high', 'thylation', 'marker', 'activity', 'nr', 'meanlevelsofhistonemodificationsthatarespecificforactive', 'tivator', 'figure', 'whereas', 'chromatin', 'marker', 'marker', 'transcriptionally', 'inactive', 'chromatin', 'faire', 'complexity', 'langis', 'pihc', 'naidem', 'complexity', 'langis', 'pihc', 'naidem', 'complexity', 'langis', 'pihc', 'naidem', 'complexity', 'langis', 'pihc', 'naidem', 'complexity', 'langis', 'pihc', 'naidem', 'complexity', 'langis', 'pihc', 'naidem', 'polii', 'complexity', 'langis', 'pihc', 'naidem', 'response', 'complexity', 'cfgolsba', 'immediate', 'response', 'complexity', 'sdaer', 'qesorg', 'gol', 'b', 'c', 'e', 'f', 'g', 'h', 'correlationofchromatinandtranscriptionalactivityparameterswithtfbindingcomplexity', 'faire', 'b', 'c', 'e', 'occupancies', 'signal', 'intensities', 'calculated', 'three', 'replicates', 'b', 'clique', 'b', 'aa', 'b', 'aa', 'b', 'spdef', 'pgr', 'c', 'c', 'c', 'rxrb', 'fosb', 'fos', 'rxra', 'junb', 'fos', 'fosb', 'acrxrb', 'gr', 'rorc', 'jund', 'fos', 'b', 'bcjunb', 'b', 'fosb', 'fos', 'rara', 'c', 'rxra', 'rorc', 'ar', 'rargthra', 'ppard', 'ffl', 'chain', 'aa', 'b', 'aa', 'b', 'aa', 'b', 'jun', 'rxra', 'gr', 'vdr', 'c', 'c', 'c', 'rorc', 'ppara', 'spdef', 'lxra', 'junb', 'pgr', 'pparg', 'fos', 'rorc', 'b', 'b', 'b', 'rorc', 'fosb', 'c', 'c', 'c', 'junb', 'vdr', 'nuclearreceptorregulatorynetworkinbreastcancer', 'depictedingraytypeiiexpressionlevelofone', 'factoraffectsexpressionofthetargetgeneofanotherfactor', 'depictedinredtypeiiiactivationofonenraffectstheexpressionofanotherfactor', 'depictedin', 'merase', 'ii', 'figure', 'binds', 'matinsites', 'tobemarkedlyenrichedathot', 'tioninbreastcancercells', 'regions', 'determine', 'chromatin', 'associations', 'directly', 'relevant', 'transcriptional', 'state', 'analyzed', 'changes', 'analysisofnrregulatorynetworks', 'transcript', 'expression', 'upon', 'estrogen', 'treatment', 'found', 'next', 'examined', 'network', 'regulatory', 'relationships', 'tf', 'binding', 'complexity', 'strongly', 'correlated', 'nrs', 'associated', 'tfs', 'constructed', 'networkwherenodesrepresentthemappedfactorsandedges', 'regions', 'cells', 'figure', 'levels', 'nascent', 'representthreedifferenttypesofregulatoryrelationshipstype', 'rnas', 'associated', 'transcriptionally', 'putative', 'physical', 'interaction', 'two', 'factors', 'inferred', 'gaged', 'rna', 'polymerases', 'figure', 'including', 'enhancer', 'rnas', 'ernas', 'figure', 'inferred', 'analyses', 'codinggenetypeii', 'putativefunctionalinteractioninferredfrom', 'transcripts', 'cells', 'hah', 'et', 'aneffectoftheexpressionlevelofafactorontheexpressionof', 'found', 'association', 'hot', 'regions', 'thetargetgenesofanrandtypeiii', 'genesassociatedwithmultipleerbinding', 'tioninferredfromachangeintheexpressionlevelofafactorafter', 'treatment', 'ligand', 'nr', 'see', 'extended', 'experimental', 'proceduresfor', 'details', 'constructed', 'network', 'figure', 'shows', 'high', 'connectivity', 'average', 'edges', 'per', 'whenweanalyzedcopynumber', 'variation', 'breast', 'cancer', 'using', 'cancer', 'genome', 'atlas', 'latory', 'information', 'requiring', 'four', 'connections', 'cga', 'data', 'setof', 'tumor', 'samples', 'cancer', 'genome', 'connect', 'pair', 'tfs', 'network', 'separated', 'wefoundthatthecomplexityofnrhot', 'thetfsintheregulatorynetworkintocentralandperipheral', 'tfs', 'based', 'centrality', 'network', 'figure', 'found', 'putative', 'target', 'genes', 'central', 'tfs', 'thesefindingscollectivelyindicatethatgenomicregionsbinding', 'muchhigher', 'enrichment', 'gene', 'sets', 'areassociated', 'table', 'figure', 'finding', 'establishes', 'key', 'role', 'regionsforfactorsofthisgroup', 'whichmaybeduetopreviously', 'unannotated', 'promoters', 'may', 'indicate', 'marks', 'factors', 'include', 'era', 'rars', 'gr', 'associated', 'elements', 'bound', 'knowntoplaykeyrolesinbreastcancerbiology', 'butalsoseveral', 'nrswhoserolesinbreastcancerbiologyhavenotbeenheavily', 'ofsevenjunfosfamilymembers', 'pr', 'ppara', 'studiedinthiscontext', 'includingppard', 'vdr', 'ar', 'suggesting', 'functional', 'interaction', 'wefoundthatthepresence', 'tions', 'gene', 'regulation', 'breast', 'cancer', 'exploreoneofthesefactors', 'ppard', 'furtherbelow', 'correspondstoareductioninthelevelsofseveralmarkersfor', 'next', 'searched', 'significantly', 'overrepresented', 'network', 'chromatin', 'activity', 'figure', 'observation', 'contrasts', 'motifsthatarelikelytorepresentbuildingblocksoftfregulation', 'figure', 'figures', 'found', 'six', 'significantly', 'lectivebindingisassociatedwithincreasedchromatinactivity', 'riched', 'network', 'motifs', 'regulatory', 'network', 'three', 'thus', 'thethreegroupsappeartobenotonlydistinctbyvirtue', 'common', 'motifs', 'correspond', 'coregulation', 'ofbindingsiteclustering', 'butalsotodifferbasedonfunctionally', 'loops', 'tf', 'regulated', 'two', 'relevant', 'chromatin', 'features', 'mark', 'enhancers', 'promoters', 'andchromatinactivitystates', 'motifs', 'paralogs', 'fos', 'fosb', 'wenotethatthereiscongruencybetweenthesegroupsand', 'regulatory', 'network', 'found', 'factors', 'nant', 'mammary', 'epithelial', 'cells', 'eferl', 'wagner', 'related', 'group', 'family', 'group', 'central', 'tfs', 'peripheral', 'tfs', 'network', 'wefounderaand', 'respectively', 'overall', 'inference', 'regulatory', 'rarsmostfrequentlyasreciprocallyregulatedtfs', 'indicating', 'workandtheglobalanalysisofthefactorsbindingsimilarities', 'type', 'regulation', 'common', 'antagonistic', 'regulators', 'breast', 'cancer', 'cell', 'growth', 'network', 'analysis', 'tionsbetweendifferentnrsandaccessorytfs', 'ciated', 'tfs', 'therefore', 'sought', 'determine', 'whether', 'nrsaskeyregulatorsofoncogenicprogramsinbreast', 'regulatoryinteractionsmightalsobereflectedintheregulation', 'cancer', 'common', 'target', 'genes', 'quantify', 'coincident', 'binding', 'wefurtherinvestigatedthefunctionalrelevanceofhotregions', 'tfs', 'computed', 'pairwise', 'binding', 'similarities', 'factors', 'tables', 'systematically', 'group', 'factors', 'sharing', 'common', 'binding', 'regions', 'unsupervised', 'manner', 'cant', 'enrichment', 'breast', 'genes', 'associated', 'hot', 'regions', 'figure', 'association', 'bindingcomplexityandcopynumbervariationinbreastcancer', 'nated', 'manner', 'first', 'group', 'related', 'contained', 'era', 'rara', 'rarg', 'gr', 'ppard', 'pparg', 'vdr', 'rora', 'rxrb', 'two', 'factors', 'coexpressed', 'containing', 'multiple', 'nrs', 'associated', 'genes', 'important', 'nardo', 'et', 'eeckhoute', 'et', 'kong', 'et', 'breast', 'cancer', 'development', 'progression', 'combinatorial', 'era', 'rars', 'videnewtherapeuticoptionsforbreastcancertreatment', 'asfunctionallyinteractingtfsintheregulationofbreastcancer', 'toidentifynrsastherapeutictargets', 'weintegratedbinding', 'cellgrowth', 'weproposethatthefactorsinthisgroupclusterplay', 'site', 'expression', 'akeyroleinthetranscriptionalregulationofcellgrowthinbreast', 'nr', 'messenger', 'rna', 'levels', 'published', 'enrichment', 'gene', 'verified', 'known', 'genes', 'era', 'nrs', 'among', 'list', 'important', 'breast', 'predictors', 'good', 'prognosis', 'figure', 'interestingly', 'alsoidentifiedppardexpressionasastrongpredictorforpoor', 'tfs', 'contains', 'nrs', 'thra', 'rxra', 'clinical', 'outcome', 'analysis', 'p', 'figure', 'lxra', 'associated', 'tfs', 'spdef', 'patients', 'breast', 'tumors', 'expressing', 'high', 'levels', 'ppard', 'junb', 'bind', 'near', 'tsss', 'putative', 'targets', 'markedly', 'lower', 'survival', 'rate', 'negative', 'association', 'leading', 'hypothesis', 'genes', 'adjacent', 'ppard', 'expression', 'clinical', 'outcome', 'held', 'elements', 'globally', 'coregulated', 'p', 'whenwe', 'analyzed', 'tumor', 'samples', 'expressing', 'high', 'tfs', 'hypothesis', 'supported', 'increased', 'levels', 'levels', 'era', 'figure', 'indicating', 'ppard', 'expression', 'histone', 'mark', 'specific', 'actively', 'prognostic', 'marker', 'independent', 'era', 'status', 'scribed', 'promoters', 'shared', 'binding', 'regions', 'ment', 'cells', 'highly', 'selective', 'ppard', 'agonist', 'tors', 'proximal', 'tsss', 'genes', 'figure', 'interestingly', 'increased', 'cell', 'proliferation', 'p', 'b', 'c', 'groupingofnrsandassociatedtfsbasedontheirbindingsimilarity', 'functionandrelativeproximitiesinthemdsplot', 'tss', 'proximaltfs', 'eachrepresentativeregionwasfurtherdividedintotwosubgroupsproximalto', 'thechipsignalsarehigherintssproximaltfsgroupregions', 'lowerin', 'itseemsthechipsignalsonlyrelatedtothetfsbindinginthesameregionsratherthan', 'thedistancefromthebindingregiontoannotatedtss', 'andthecoefficientandconfidenceintervalswereplottedseeextended', 'suggestingfunctional', 'demonstratingaroleofppardasadriverofbreast', 'cancer', 'growth', 'breast', 'cancer', 'cells', 'tested', 'effects', 'two', 'ppard', 'antagonists', 'tive', 'effect', 'ppard', 'antagonists', 'b', 'c', 'rarg', 'ppard', 'rara', 'e', 'f', 'g', 'antagonisticactionsofppardandrarsinbreastcancer', 'legendcontinuedonnextpage', 'whichsupportsourmodel', 'outcomeforeach', 'tumorsample', 'dependent', 'theexpression', 'antagonistic', 'relationship', 'ppard', 'rar', 'breast', 'wedefined', 'cancer', 'foreachtumorsampleanppardtargetscore', 'whichmeasures', 'previous', 'studies', 'suggested', 'role', 'thecorrelationbetweenppardtargetgeneexpressionprofiles', 'mmtvneu', 'mouse', 'model', 'resembles', 'human', 'breast', 'cancer', 'schug', 'et', 'schug', 'et', 'also', 'scoresandclinicaloutcomesforacohortofexpressionprofiles', 'previously', 'showed', 'cohort', 'elevated', 'rar', 'target', 'retinoicacidtypicallymediatesinhibitionofcellgrowththrough', 'scores', 'associated', 'positive', 'clinical', 'outcomes', 'activatingitscanonicalreceptors', 'dataset', 'indicatingthatactivationofrartargetsisassociated', 'retinoic', 'acid', 'two', 'receptors', 'suggested', 'patient', 'survival', 'hua', 'et', 'using', 'ppard', 'target', 'scores', 'survival', 'analysis', 'demonstrated', 'highly', 'schug', 'et', 'thus', 'opposing', 'significantcorrelationbetweenppardtargetscoresandoverall', 'effectsofretinoicacidoncellgrowthmayresultfromalternate', 'weidentifiedppard', 'well', 'patients', 'tumors', 'p', 'andrarsashighlyoverlappingintheirtargetgenesandbinding', 'ure', 'high', 'moderate', 'ppard', 'target', 'scores', 'indicated', 'sites', 'overlap', 'rar', 'binding', 'sites', 'number', 'highly', 'ical', 'outcomes', 'taken', 'together', 'findings', 'substantiate', 'statistically', 'significant', 'z', 'score', 'p', 'also', 'antagonistic', 'functional', 'interaction', 'ppard', 'rars', 'nrsbelongtothecentralgroupoftfsintheregulatorynetwork', 'suggest', 'combinatorial', 'treatment', 'ppard', 'constructed', 'figure', 'ppard', 'nists', 'selective', 'rar', 'agonists', 'may', 'effective', 'strategy', 'commonlyfactorfoundasthestartingpointinnetworkmotifv', 'forbreastcancertherapyforcertainsubsetsofpatients', 'thatppardandrarsmayregulateacommonsubsetofgenes', 'discussion', 'expression', 'putative', 'direct', 'rar', 'ppard', 'targets', 'nuclearreceptorsareessentialtonormaldevelopment', 'stasis', 'disease', 'processes', 'complete', 'regulatory', 'frompatient', 'samples', 'worksthattheymodulatehaveneverbeforebeendelineatedin', 'pression', 'luminal', 'b', 'types', 'high', 'expression', 'single', 'system', 'case', 'breast', 'cancer', 'nrs', 'well', 'known', 'play', 'critical', 'roles', 'handful', 'factors', 'two', 'gene', 'clusters', 'low', 'expression', 'larly', 'useful', 'model', 'identify', 'global', 'genomic', 'targets', 'subtype', 'high', 'expression', 'luminal', 'b', 'handful', 'nrs', 'carroll', 'et', 'hua', 'et', 'like', 'types', 'contain', 'large', 'fraction', 'genes', 'putative', 'direct', 'targets', 'rars', 'ppard', 'andthusservedhereasanaturallaunchpoint', 'opposite', 'effects', 'ppard', 'rars', 'breast', 'cancer', 'cell', 'tobuildthefirstcomprehensivenrnetworkinhumancells', 'growth', 'predicted', 'two', 'nrs', 'may', 'antagonistically', 'results', 'full', 'set', 'nrs', 'several', 'associated', 'regulate', 'expression', 'common', 'target', 'genes', 'tfs', 'revealed', 'several', 'key', 'characteristics', 'nr', 'action', 'importantly', 'recruitment', 'multiple', 'factors', 'agonist', 'atra', 'gene', 'expression', 'microarray', 'analysis', 'regions', 'described', 'previously', 'smaller', 'set', 'observedoppositeeffectsontheexpressionlevelsofcommon', 'tfs', 'appearstobeacommonthemeintranscriptionalregulation', 'hot', 'regions', 'several', 'markers', 'chromatin', 'relevantgenesandarespecificallyexpressedindifferentbreast', 'scriptional', 'activityindicatesfunctionally', 'cancer', 'subtypes', 'suggested', 'genes', 'might', 'possess', 'elements', 'reflect', 'active', 'enhancers', 'promoters', 'breast', 'cancer', 'genome', 'currently', 'major', 'challenge', 'dvenndiagramdisplayingsharedputativetargetgenesofppard', 'rarg', 'thetsss', 'rara', 'andrargputative', 'may', 'synergistically', 'inhibit', 'breast', 'cancer', 'growth', 'expect', 'large', 'number', 'binding', 'regions', 'interplay', 'druggable', 'nrs', 'uncovered', 'markedly', 'lower', 'number', 'significant', 'direct', 'effects', 'given', 'analysis', 'genomic', 'target', 'sites', 'studyprovidesacomprehensiveframework', 'indicator', 'functionally', 'relevant', 'binding', 'regions', 'nrs', 'experimentalprocedures', 'breast', 'cancer', 'thus', 'binding', 'site', 'map', 'nrs', 'presented', 'helps', 'pinpoint', 'identification', 'set', 'several', 'bac', 'dna', 'extracted', 'transfected', 'breast', 'cancer', 'cells', 'tion', 'ciated', 'highly', 'responsive', 'target', 'genes', 'exposed', 'characterize', 'selected', 'regions', 'begun', 'fetalbovineserumfbsdulbeccosmodifiedeaglesmediumdmemfor', 'test', 'representative', 'sample', 'hot', 'regions', 'orphan', 'nrs', 'tfs', 'fbs', 'dmem', 'reportergeneassays', 'conceivable', 'germline', 'variation', 'somatic', 'mutations', 'regions', 'may', 'major', 'impact', 'gene', 'following', 'antibodies', 'goat', 'raised', 'expression', 'breast', 'genes', 'thereby', 'playing', 'length', 'egfp', 'egfp', 'important', 'role', 'breast', 'carcinogenesis', 'growing', 'abcam', 'abcam', 'numberofsequencedbreastcancergenomes', 'weexpectthat', 'chipeddna', 'dnafromfaire', 'resource', 'identify', 'noncoding', 'driver', 'mutations', 'mediated', 'pcramplification', 'andfragmentation', 'bility', 'snps', 'breast', 'cancer', 'idea', 'also', 'warrants', 'testing', 'sequencing', 'projects', 'affymetrix', 'previously', 'described', 'resulting', 'labeled', 'samples', 'cancer', 'genome', 'atlas', 'underway', 'breast', 'cancer', 'http', 'logical', 'triplicates', 'performed', 'tf', 'histone', 'mark', 'faire', 'gulatorymappresentedherecanactasaguideforidentifying', 'wellasthecontrolinputdna', 'candidatefunctionallyrelevantvariants', 'anotherkeyfindingfromthisstudyisthatspecificnrs', 'aswell', 'microarraygeneexpressionprofiling', 'astheirassociatedtfs', 'cruited', 'specific', 'categories', 'regulatory', 'elements', 'treated', 'following', 'nr', 'ligands', 'era', 'agonist', 'cally', 'thestudyofgeneregulationbynrshadbeenrestricted', 'focus', 'binding', 'promoters', 'gene', 'regions', 'recent', 'studies', 'suggested', 'majority', 'bindingsitesfornrssuchasera', 'ar', 'pparg', 'rars', 'gr', 'technologiesandhybridizedtoagilenthumangenomeoligomicroarrays', 'ingsformanyfactors', 'wealsofoundasubsetofnrssuchas', 'appear', 'recruited', 'mentswereperformedintriplicate', 'ingly', 'thepreferentialrecruitmentofthesetwosetsoffactorsto', 'independent', 'proximity', 'regions', 'annotated', 'tsss', 'findings', 'define', 'existence', 'two', 'distinct', 'nr', 'groups', 'one', 'group', 'appears', 'preferentially', 'associate', 'coordinatesoftheidentifiedbindingregionsforeachtfandgeneswithatss', 'moredistalenhancerswhiletheotherassociateswithpromoters', 'respectively', 'conservationanalysisfortfbindingregions', 'mentofthesefactorsorwhetherthepresenceofthesefactors', 'affectsthechromatinstructure', 'side', 'phastcons', 'conservation', 'scores', 'siepel', 'et', 'finally', 'theidentificationoffactorswithsharedbindingregions', 'rat', 'inourdatasetenablespredictionsaboutfunctionalinteractions', 'mouse', 'chicken', 'fugu', 'retrieved', 'ofnrsandothertfsthatmaybethebasisfornoveltherapeutic', 'andthemeanofphastconsscoresateachposition', 'wascalculatedandplottedinaheatmap', 'strategies', 'breast', 'cancer', 'demonstrate', 'functional', 'antagonistic', 'interaction', 'rars', 'ppard', 'inferred', 'identificationofhotregions', 'fromthesimilarityoftheirgenomicbindingpatterns', 'suggesting', 'hotregionswereidentifiedbygaussiankerneldensityestimationacrossthe', 'combination', 'rar', 'activation', 'ppard', 'inhibition', 'usingthecentersoftfbindingregions', 'analysisoftfexpressionasclinicaloutcomepredictors', 'regionpeakwerederivedasthemaximumdistancefromthehotregionto', 'contributing', 'tf', 'extended', 'bp', 'binding', 'regions', 'tf', 'binding', 'categoriesbasedontfexpressionlevelslow', 'medium', 'survival', 'curves', 'patient', 'overall', 'survival', 'plotted', 'analysisofchromatinsignalintensitydataandhotregion', 'testwasperformedwiththersurvivalpackage', 'enrichment', 'accessionnumbers', 'using', 'tas', 'parameters', 'used', 'tf', 'data', 'polii', 'data', 'obtained', 'previous', 'study', 'cell', 'line', 'carroll', 'et', 'processed', 'signal', 'intensity', 'data', 'hot', 'regions', 'plottedforfaire', 'andpolii', 'deposited', 'ncbi', 'geo', 'database', 'accession', 'number', 'analysisofmicroarraygeneexpressiondata', 'agilenttechnologieswas', 'supplementalinformation', 'logtransformation', 'andquantilenormalization', 'supplementalinformationincludesfivefigures', 'twelvetables', 'andextended', 'experimentalproceduresandcanbefoundwiththisarticleonlineathttp', 'changesoftranscriptlevels', 'licensinginformation', 'analysisofthenrregulatorynetworkandnetworkmotif', 'enrichment', 'article', 'distributed', 'terms', 'creative', 'aandb', 'thereare', 'commonsattributionlicense', 'whichpermitsunrestricteduse', 'distribution', 'reproduction', 'medium', 'provided', 'original', 'author', 'source', 'treatmentwithasligand', 'theexpressionofastargetgenesaresignificantly', 'arecredited', 'iii', 'aftertreatmentwithasligand', 'theexpressionofbchangessignificantly', 'acknowledgments', 'wethankallmembersofthefunctionalgenomicsfacilityoftheuniversityof', 'networkmotifenrichmentanalysiswasperformedbyfirstcollapsingthe', 'networks', 'degree', 'distribution', 'number', 'edges', 'ported', 'grants', 'national', 'institutes', 'ofhealth', 'andbyagrantfromthe', 'searle', 'funds', 'atthe', 'oftherandomnetworks', 'wecalledthemotifasasignificantlyenrichednetwork', 'chicago', 'community', 'trust', 'chicago', 'biomedical', 'consortium', 'motif', 'supported', 'fellowship', 'international', 'humanfrontierscienceprogramorganization', 'analysisoffunctionalmoduleenrichmentinhotregiontarget', 'genes', 'et', 'manually', 'curated', 'breast', 'gene', 'set', 'also', 'references', 'analysis', 'bernardo', 'lozada', 'miedler', 'harburg', 'hewitt', 'mosley', 'godwin', 'korach', 'visvader', 'kaestner', 'mdsanalysisofpairwisetfbinding', 'essential', 'determinant', 'eralpha', 'expression', 'mammary', 'wedetermined', 'binding', 'distances', 'withthefollowing', 'distance', 'metricbetweenthebindingregionsoftwofactorsdistanceoverlapaand', 'camp', 'andrimm', 'bmina', 'thecmdscalefunctioninr', 'analysisoftargetgeneenrichmentinbreastcancerexpression', 'profiles', 'carroll', 'liu', 'brodsky', 'li', 'meyer', 'szary', 'ppardrar', 'common', 'target', 'genes', 'identified', 'genes', 'least', 'eeckhoute', 'shao', 'hestermann', 'geistlinger', 'publically', 'available', 'data', 'hu', 'et', 'clustering', 'genes', 'carroll', 'meyer', 'song', 'li', 'geistlinger', 'eeckhoute', 'centroid', 'linkage', 'clustering', 'brodsky', 'keeton', 'fertuck', 'hall', 'chang', 'nuyten', 'sneddon', 'hastie', 'tibshirani', 'srlie', 'dai', 'vant', 'veer', 'bartelink', 'et', 'al', 'scalability', 'slorach', 'sternlicht', 'andwerb', 'chen', 'lefterova', 'zhang', 'steger', 'schupp', 'schug', 'cristancho', 'feng', 'zhuo', 'stoeckert', 'liu', 'lazar', 'conzen', 'ppargammaandcebpfactorsorchestrateadipocytebiologyviaadjacent', 'darnell', 'lin', 'vega', 'thomsen', 'zhang', 'kong', 'xie', 'chiu', 'lipovich', 'barnett', 'stossi', 'dunham', 'kundaje', 'aldred', 'collins', 'davis', 'doyle', 'lupien', 'eeckhoute', 'meyer', 'wang', 'zhang', 'li', 'carroll', 'stein', 'frietze', 'harrow', 'kaul', 'liu', 'andbrown', 'moorman', 'sun', 'wang', 'dewit', 'talhout', 'ward', 'greil', 'eeckhoute', 'keeton', 'lupien', 'krum', 'carroll', 'andbrown', 'lu', 'white', 'bussemaker', 'andvansteensel', 'transcription', 'factor', 'colocalization', 'genome', 'drosophila', 'eferl', 'andwagner', 'musgrove', 'andsutherland', 'evans', 'negre', 'brown', 'bristow', 'miller', 'wagner', 'adpour', 'eaton', 'loriaux', 'sealfon', 'fullwood', 'liu', 'pan', 'liu', 'xu', 'mohamed', 'orlov', 'velkov', 'ho', 'mei', 'ni', 'chen', 'lim', 'wimberly', 'bailey', 'imai', 'rimm', 'liu', 'andbrown', 'gerstein', 'lu', 'vannostrand', 'cheng', 'arshinoff', 'liu', 'yip', 'robilotto', 'rechtsteiner', 'ikegami', 'et', 'nielsen', 'pedersen', 'hagenbeek', 'moulos', 'siersbaek', 'gens', 'denissov', 'brgesen', 'francoijs', 'mandrup', 'nenberg', 'gerstein', 'kundaje', 'hariharan', 'landt', 'yan', 'cheng', 'polymerase', 'ii', 'occupancy', 'reveals', 'temporal', 'activation', 'distinct', 'metabolic', 'mu', 'khurana', 'rozowsky', 'alexander', 'poser', 'sarov', 'hutchins', 'heriche', 'toyoda', 'pozniakovsky', 'giresi', 'kim', 'mcdaniell', 'iyer', 'andlieb', 'weigl', 'nitzsche', 'hegemann', 'bird', 'isolation', 'regulatory', 'elements', 'isolates', 'active', 'grivas', 'kiaris', 'andpapavassiliou', 'reddy', 'pauli', 'sprouse', 'neff', 'newberry', 'garabedian', 'andmyers', 'gronemeyer', 'gustafsson', 'andlaudet', 'hah', 'danko', 'core', 'waterfall', 'siepel', 'lis', 'andkraus', 'roy', 'ernst', 'kharchenko', 'kheradpour', 'negre', 'eaton', 'rapid', 'extensive', 'transient', 'transcriptional', 'response', 'landolin', 'bristow', 'lin', 'offunctionalelementsandregulatorycircuitsby', 'harvey', 'clark', 'osborne', 'andallred', 'receptor', 'status', 'immunohistochemistry', 'superior', 'schug', 'berry', 'shaw', 'travis', 'noy', 'assayforpredictingresponsetoadjuvantendocrinetherapyinbreastcancer', 'opposingeffectsofretinoicacidoncellgrowthresultfromalternateactivation', 'hu', 'fan', 'oh', 'marron', 'qaqish', 'livasy', 'carey', 'schug', 'berry', 'toshkov', 'cheng', 'nikitin', 'andnoy', 'n', 'reynolds', 'dressler', 'overcoming', 'retinoic', 'mammary', 'carcinomas', 'hua', 'kallen', 'dhar', 'baquero', 'mason', 'russell', 'shah', 'liu', 'khramtsov', 'tretiakova', 'siepel', 'bejerano', 'pedersen', 'hinrichs', 'hou', 'rosenbloom', 'clawson', 'spieth', 'hillier', 'richards', 'arilyconservedelements', 'invertebrate', 'insect', 'worm', 'andyeast', 'genomes', 'hua', 'kittler', 'andwhite', 'smoot', 'ono', 'ruscheinski', 'wang', 'ideker', 'john', 'sabo', 'thurman', 'sung', 'biddie', 'johnson', 'hager', 'andstamatoyannopoulos', 'glucocorticoid', 'receptor', 'binding', 'patterns', 'nat', 'genet', 'smyth', 'kong', 'li', 'loh', 'sung', 'andliu', 'rammingbytheconjointactionofera', 'stephen', 'gustafsson', 'jarvis', 'tatoud', 'marshall', 'knight', 'ehrenborg', 'harris', 'wolf', 'andpalmer', 'transcription', 'program', 'prostate', 'cancer', 'cell', 'subramanian', 'tamayo', 'mootha', 'mukherjee', 'ebert', 'welboren', 'vandriel', 'vanheeringen', 'gillette', 'paulovich', 'pomeroy', 'golub', 'lander', 'sweep', 'span', 'andstunnenberg', 'sirov', 'rna', 'polymerase', 'ii', 'defines', 'genes', 'differentially', 'responding', 'ligands', 'wilson', 'andgiguere', 'vandevijver', 'vantveer', 'dai', 'hart', 'voskuil', 'schreiber', 'peterse', 'roberts', 'marton', 'witt', 'hines', 'collins', 'hu', 'gunawardane', 'moreira', 'raphael', 'jepson', 'koundinya', 'rolfs', 'wang', 'li', 'zhang', 'yuan', 'xu', 'yu', 'chen', 'beroukhim', 'teomicsapproachtoinvestigatethebiologicalactivitiesofcdnasimplicated', 'wang', 'lupien']\n",
            "Sample stemmed text: ['cell', 'report', 'resourc', 'comprehens', 'nuclear', 'receptor', 'network', 'breast', 'cancer', 'cell', 'argonnenationallaboratoryandtheuniversityofchicago', 'chicago', 'usa', 'yaleunivers', 'newhaven', 'usa', 'theuniversityofchicago', 'chicago', 'usa', 'theuniversityoftexassouthwesternmedicalcent', 'dalla', 'usa', 'houston', 'usa', 'summari', 'poordrugtarget', 'torsnr', 'breast', 'cancer', 'nuclear', 'receptor', 'nr', 'play', 'evan', 'whose', 'action', 'typic', 'depend', 'small', 'promin', 'role', 'govern', 'gene', 'express', 'lipophilicligandsforwhichagonistsandantagonistsareeith', 'prognost', 'util', 'therapeut', 'target', 'alreadi', 'avail', 'could', 'develop', 'chen', 'sixchromatinst', 'meyer', 'et', 'druggabl', 'potenti', 'fact', 'marker', 'makethem', 'import', 'target', 'cancer', 'treatment', 'addit', 'tion', 'factor', 'tf', 'express', 'breast', 'latednrsignalingplaysamajorroleinseveralcommoncanc', 'highli', 'interconnect', 'regulatori', 'matrix', 'tensiv', 'crosstalk', 'occur', 'among', 'nr', 'inbreastcanc', 'twonr', 'estrogenreceptoralphaeraand', 'breast', 'tf', 'show', 'larg', 'progesteron', 'receptor', 'pr', 'shown', 'play', 'major', 'numbersoffactorsarecoordinatelyboundtohighli', 'occupiedtargetregionsthroughoutthegenom', 'drive', 'prolifer', 'promot', 'surviv', 'region', 'associ', 'activ', 'chromatin', 'breastcancerpati', 'andarethereforeusedtoclassifybreast', 'state', 'gene', 'express', 'cancer', 'predict', 'respons', 'specif', 'therapi', 'harvey', 'network', 'also', 'provid', 'framework', 'et', 'era', 'one', 'main', 'target', 'breast', 'cancer', 'fy', 'predict', 'patient', 'outcom', 'use', 'therapythroughdrugsthatdirectlyinhibitera', 'ifen', 'orthrougharomataseinhibitorsthatblocktheproduct', 'receptordeltabindstoasetofgenesalsoregul', 'cancerhasbeenlimitedmainlytoeraandpr', 'bytheretinoicacidreceptorsandwhoseexpress', 'isassociatedwithpoorprognosisinbreastcanc', 'tional', 'nr', 'may', 'provid', 'novel', 'diagnost', 'marker', 'moreimportantli', 'introduct', 'theknowledgeofthespecificfunct', 'ofmostnrsinbreastcancercellsremainsfragmentari', 'incancercel', 'previou', 'workmap', 'erabind', 'mal', 'balanc', 'oncogen', 'gene', 'tablish', 'target', 'gene', 'critic', 'nr', 'carrol', 'et', 'network', 'alteringthedifferentiationstateofcellsanden', 'lin', 'et', 'welboren', 'et', 'subsequ', 'prolifer', 'evad', 'apoptosi', 'metastas', 'network', 'analys', 'includ', 'bind', 'site', 'map', 'fore', 'inhibit', 'oncogen', 'transcript', 'factor', 'tf', 'protein', 'led', 'discoveri', 'novel', 'biomark', 'activ', 'tf', 'principl', 'present', 'respond', 'toth', 'transcript', 'cascadehua', 'nell', 'griva', 'et', 'howev', 'tf', 'notori', 'era', 'bind', 'depend', 'factor', 'carrol', 'et', 'et', 'map', 'retino', 'acid', 'receptor', 'appli', 'p', 'valu', 'cutoff', 'identifi', 'rarnrsuncoveredawidespreadantagonisticinteractionof', 'bind', 'region', 'per', 'factor', 'tabl', 'previou', 'sucha', 'era', 'rar', 'pparg', 'andarindifferentcelltypeshaverevealedaprevalenceofdist', 'wesystematicallymapthegenomicbind', 'bind', 'rel', 'transcript', 'start', 'site', 'tsss', 'site', 'nr', 'express', 'breast', 'cancer', 'cell', 'result', 'map', 'provid', 'framework', 'uncov', 'genet', 'program', 'govern', 'nr', 'reveal', 'potenti', 'et', 'reddi', 'et', 'wang', 'et', 'combinatorialact', 'systemat', 'analyz', 'distanc', 'distribut', 'nr', 'cofactorbindingsitesrelativetothetss', 'weobservedawid', 'result', 'continu', 'rang', 'nr', 'tf', 'bind', 'site', 'bution', 'mani', 'factor', 'inde', 'rel', 'low', 'mappingofthegenomicbindingregionsofnrsand', 'cooperatingtf', 'lxra', 'thra', 'werefrequ', 'whose', 'correspond', 'gene', 'express', 'moder', 'high', 'level', 'cell', 'tabl', 'complet', 'includ', 'select', 'previous', 'publish', 'bind', 'site', 'latorybindingcharacteristicsrelativetothetssoftheirput', 'dataforera', 'rara', 'andrarginouranalysi', 'comprisinghalfofthenrsencodedinth', 'bind', 'gener', 'properti', 'nr', 'humangenomesevenjunfosfamilymembersthatdimer', 'form', 'tf', 'act', 'factor', 'tionaryconservationofregionsboundbynrsandcooper', 'nr', 'whose', 'bind', 'site', 'motif', 'tf', 'among', 'vertebr', 'found', 'bind', 'region', 'areenrichedinthegenomicbindingregionsoferaandrar', 'allstudiedfactorsshowedrelativelyhighsequenceconserv', 'andspdef', 'compar', 'genom', 'background', 'regardless', 'whether', 'coexpress', 'era', 'breast', 'cancer', 'assess', 'genom', 'state', 'also', 'map', 'five', 'pervas', 'evolutionari', 'conserv', 'nr', 'bind', 'region', 'mark', 'rnapolymeraseii', 'support', 'put', 'role', 'function', 'profilingexperi', 'underligand', 'treatment', 'major', 'obstacl', 'chromatin', 'immunoprecipit', 'chip', 'transcriptionfactormotifsinnrcofactorbind', 'studiesinvolvinglargenumbersofdifferenttfsistheavail', 'site', 'wesearchedthebindingregionsofeachfactorforenrich', 'noprecipit', 'crosslink', 'complex', 'knowntf', 'motif', 'analysisidentifi', 'circumv', 'problem', 'develop', 'chip', 'case', 'specif', 'motif', 'known', 'canon', 'approach', 'use', 'bacteri', 'artifici', 'chromosom', 'bac', 'motif', 'given', 'factor', 'identifi', 'put', 'bind', 'motif', 'genesi', 'express', 'epitop', 'tf', 'hua', 'et', 'fromseveraltffamiliesthatmayaffectthebindingorcoregul', 'poser', 'et', 'approach', 'offer', 'sever', 'transcript', 'effect', 'factor', 'transcript', 'factor', 'tagesthetaggedtfsareexpressedunderthecontroloftheir', 'propos', 'act', 'pioneer', 'tf', 'endogen', 'regulatori', 'element', 'antibodi', 'facilit', 'bind', 'multipl', 'nr', 'era', 'usedtoassaydifferenttf', 'wefoundthattheenrich', 'antibodi', 'allow', 'direct', 'comparison', 'bind', 'affin', 'offorkheadmotifsappearstooccuronlyinsubsetofnrsera', 'among', 'differ', 'tf', 'multipl', 'bac', 'express', 'differ', 'rara', 'rarg', 'ppard', 'pparg', 'rorc', 'rxrb', 'vdr', 'suggest', 'forkhead', 'factor', 'prehens', 'network', 'mammalian', 'cell', 'target', 'set', 'celllineageandadditionaltfsmayberequiredtofacilitateth', 'functionallyrelatedtf', 'actionsofothernr', 'use', 'approach', 'gener', 'cell', 'line', 'stabli', 'express', 'tf', 'tag', 'egfp', 'either', 'c', 'termini', 'bindingofmultiplenrcofactorsdefinesact', 'n', 'termini', 'immunoprecipit', 'perform', 'chromatinregion', 'polyclon', 'antibodi', 'rais', 'egfp', 'intot', 'previou', 'studi', 'shown', 'tag', 'construct', 'theydonotoverlapwithoth', 'express', 'level', 'compar', 'endogen', 'protein', 'bind', 'region', 'thu', 'appear', 'mark', 'bind', 'thatthetaggedproteinsyieldhighlysimilaroridenticalbind', 'profil', 'endogen', 'protein', 'map', 'specif', 'studi', 'reveal', 'exist', 'highli', 'occupi', 'target', 'bind', 'region', 'genom', 'hot', 'region', 'dunham', 'et', 'b', 'c', 'factor', 'nearbi', 'breast', 'gene', 'myc', 'bind', 'complex', 'share', 'genom', 'region', 'figur', 'tf', 'breast', 'cancer', 'cell', 'line', 'tabl', 'found', 'region', 'bind', 'complex', 'multipl', 'cell', 'line', 'figur', 'identifi', 'figur', 'find', 'signific', 'differ', 'canceofsuchhotregionsisunknown', 'althoughindrosophila', 'evolutionari', 'conserv', 'bind', 'region', 'low', 'shown', 'associ', 'access', 'high', 'complex', 'figur', 'complex', 'appear', 'open', 'chromatin', 'negr', 'et', 'roy', 'et', 'invers', 'correl', 'bind', 'region', 'mean', 'distanc', 'wonder', 'whether', 'properti', 'conserv', 'human', 'rich', 'near', 'gene', 'play', 'role', 'cancer', 'develop', 'scription', 'regulatori', 'network', 'govern', 'nr', 'breast', 'progress', 'includ', 'breast', 'cancer', 'biolog', 'tabl', 'cancer', 'therefor', 'perform', 'analys', 'ure', 'exampl', 'observ', 'bind', 'multipl', 'b', 'c', 'bindingofmultipletfstosharedbindingregion', 'athedistributionoftfbindingdensitycomplexityforallbindingsit', 'thinbarsrepresentuntranslatedexon', 'andbluelin', 'isol', 'regulatori', 'activ', 'promot', 'region', 'figur', 'element', 'fair', 'determin', 'chromatin', 'access', 'marker', 'activ', 'element', 'enhanc', 'figur', 'marker', 'bind', 'complex', 'mean', 'fair', 'score', 'figur', 'tional', 'analys', 'reveal', 'hot', 'region', 'rel', 'high', 'thylat', 'marker', 'activ', 'nr', 'meanlevelsofhistonemodificationsthatarespecificforact', 'tivat', 'figur', 'wherea', 'chromatin', 'marker', 'marker', 'transcript', 'inact', 'chromatin', 'fair', 'complex', 'langi', 'pihc', 'naidem', 'complex', 'langi', 'pihc', 'naidem', 'complex', 'langi', 'pihc', 'naidem', 'complex', 'langi', 'pihc', 'naidem', 'complex', 'langi', 'pihc', 'naidem', 'complex', 'langi', 'pihc', 'naidem', 'polii', 'complex', 'langi', 'pihc', 'naidem', 'respons', 'complex', 'cfgolsba', 'immedi', 'respons', 'complex', 'sdaer', 'qesorg', 'gol', 'b', 'c', 'e', 'f', 'g', 'h', 'correlationofchromatinandtranscriptionalactivityparameterswithtfbindingcomplex', 'fair', 'b', 'c', 'e', 'occup', 'signal', 'intens', 'calcul', 'three', 'replic', 'b', 'cliqu', 'b', 'aa', 'b', 'aa', 'b', 'spdef', 'pgr', 'c', 'c', 'c', 'rxrb', 'fosb', 'fo', 'rxra', 'junb', 'fo', 'fosb', 'acrxrb', 'gr', 'rorc', 'jund', 'fo', 'b', 'bcjunb', 'b', 'fosb', 'fo', 'rara', 'c', 'rxra', 'rorc', 'ar', 'rargthra', 'ppard', 'ffl', 'chain', 'aa', 'b', 'aa', 'b', 'aa', 'b', 'jun', 'rxra', 'gr', 'vdr', 'c', 'c', 'c', 'rorc', 'ppara', 'spdef', 'lxra', 'junb', 'pgr', 'pparg', 'fo', 'rorc', 'b', 'b', 'b', 'rorc', 'fosb', 'c', 'c', 'c', 'junb', 'vdr', 'nuclearreceptorregulatorynetworkinbreastcanc', 'depictedingraytypeiiexpressionlevelofon', 'factoraffectsexpressionofthetargetgeneofanotherfactor', 'depictedinredtypeiiiactivationofonenraffectstheexpressionofanotherfactor', 'depictedin', 'meras', 'ii', 'figur', 'bind', 'matinsit', 'tobemarkedlyenrichedathot', 'tioninbreastcancercel', 'region', 'determin', 'chromatin', 'associ', 'directli', 'relev', 'transcript', 'state', 'analyz', 'chang', 'analysisofnrregulatorynetwork', 'transcript', 'express', 'upon', 'estrogen', 'treatment', 'found', 'next', 'examin', 'network', 'regulatori', 'relationship', 'tf', 'bind', 'complex', 'strongli', 'correl', 'nr', 'associ', 'tf', 'construct', 'networkwherenodesrepresentthemappedfactorsandedg', 'region', 'cell', 'figur', 'level', 'nascent', 'representthreedifferenttypesofregulatoryrelationshipstyp', 'rna', 'associ', 'transcript', 'put', 'physic', 'interact', 'two', 'factor', 'infer', 'gage', 'rna', 'polymeras', 'figur', 'includ', 'enhanc', 'rna', 'erna', 'figur', 'infer', 'analys', 'codinggenetypeii', 'putativefunctionalinteractioninferredfrom', 'transcript', 'cell', 'hah', 'et', 'aneffectoftheexpressionlevelofafactorontheexpressionof', 'found', 'associ', 'hot', 'region', 'thetargetgenesofanrandtypeiii', 'genesassociatedwithmultipleerbind', 'tioninferredfromachangeintheexpressionlevelofafactoraft', 'treatment', 'ligand', 'nr', 'see', 'extend', 'experiment', 'proceduresfor', 'detail', 'construct', 'network', 'figur', 'show', 'high', 'connect', 'averag', 'edg', 'per', 'whenweanalyzedcopynumb', 'variat', 'breast', 'cancer', 'use', 'cancer', 'genom', 'atla', 'latori', 'inform', 'requir', 'four', 'connect', 'cga', 'data', 'setof', 'tumor', 'sampl', 'cancer', 'genom', 'connect', 'pair', 'tf', 'network', 'separ', 'wefoundthatthecomplexityofnrhot', 'thetfsintheregulatorynetworkintocentralandperipher', 'tf', 'base', 'central', 'network', 'figur', 'found', 'put', 'target', 'gene', 'central', 'tf', 'thesefindingscollectivelyindicatethatgenomicregionsbind', 'muchhigh', 'enrich', 'gene', 'set', 'areassoci', 'tabl', 'figur', 'find', 'establish', 'key', 'role', 'regionsforfactorsofthisgroup', 'whichmaybeduetoprevi', 'unannot', 'promot', 'may', 'indic', 'mark', 'factor', 'includ', 'era', 'rar', 'gr', 'associ', 'element', 'bound', 'knowntoplaykeyrolesinbreastcancerbiolog', 'butalsosever', 'nrswhoserolesinbreastcancerbiologyhavenotbeenheavili', 'ofsevenjunfosfamilymemb', 'pr', 'ppara', 'studiedinthiscontext', 'includingppard', 'vdr', 'ar', 'suggest', 'function', 'interact', 'wefoundthatthepres', 'tion', 'gene', 'regul', 'breast', 'cancer', 'exploreoneofthesefactor', 'ppard', 'furtherbelow', 'correspondstoareductioninthelevelsofseveralmarkersfor', 'next', 'search', 'significantli', 'overrepres', 'network', 'chromatin', 'activ', 'figur', 'observ', 'contrast', 'motifsthatarelikelytorepresentbuildingblocksoftfregul', 'figur', 'figur', 'found', 'six', 'significantli', 'lectivebindingisassociatedwithincreasedchromatinact', 'rich', 'network', 'motif', 'regulatori', 'network', 'three', 'thu', 'thethreegroupsappeartobenotonlydistinctbyvirtu', 'common', 'motif', 'correspond', 'coregul', 'ofbindingsiteclust', 'butalsotodifferbasedonfunct', 'loop', 'tf', 'regul', 'two', 'relev', 'chromatin', 'featur', 'mark', 'enhanc', 'promot', 'andchromatinactivityst', 'motif', 'paralog', 'fo', 'fosb', 'wenotethatthereiscongruencybetweenthesegroupsand', 'regulatori', 'network', 'found', 'factor', 'nant', 'mammari', 'epitheli', 'cell', 'eferl', 'wagner', 'relat', 'group', 'famili', 'group', 'central', 'tf', 'peripher', 'tf', 'network', 'wefounderaand', 'respect', 'overal', 'infer', 'regulatori', 'rarsmostfrequentlyasreciprocallyregulatedtf', 'indic', 'workandtheglobalanalysisofthefactorsbindingsimilar', 'type', 'regul', 'common', 'antagonist', 'regul', 'breast', 'cancer', 'cell', 'growth', 'network', 'analysi', 'tionsbetweendifferentnrsandaccessorytf', 'ciat', 'tf', 'therefor', 'sought', 'determin', 'whether', 'nrsaskeyregulatorsofoncogenicprogramsinbreast', 'regulatoryinteractionsmightalsobereflectedintheregul', 'cancer', 'common', 'target', 'gene', 'quantifi', 'coincid', 'bind', 'wefurtherinvestigatedthefunctionalrelevanceofhotregion', 'tf', 'comput', 'pairwis', 'bind', 'similar', 'factor', 'tabl', 'systemat', 'group', 'factor', 'share', 'common', 'bind', 'region', 'unsupervis', 'manner', 'cant', 'enrich', 'breast', 'gene', 'associ', 'hot', 'region', 'figur', 'associ', 'bindingcomplexityandcopynumbervariationinbreastcanc', 'nate', 'manner', 'first', 'group', 'relat', 'contain', 'era', 'rara', 'rarg', 'gr', 'ppard', 'pparg', 'vdr', 'rora', 'rxrb', 'two', 'factor', 'coexpress', 'contain', 'multipl', 'nr', 'associ', 'gene', 'import', 'nardo', 'et', 'eeckhout', 'et', 'kong', 'et', 'breast', 'cancer', 'develop', 'progress', 'combinatori', 'era', 'rar', 'videnewtherapeuticoptionsforbreastcancertreat', 'asfunctionallyinteractingtfsintheregulationofbreastcanc', 'toidentifynrsastherapeutictarget', 'weintegratedbind', 'cellgrowth', 'weproposethatthefactorsinthisgroupclusterplay', 'site', 'express', 'akeyroleinthetranscriptionalregulationofcellgrowthinbreast', 'nr', 'messeng', 'rna', 'level', 'publish', 'enrich', 'gene', 'verifi', 'known', 'gene', 'era', 'nr', 'among', 'list', 'import', 'breast', 'predictor', 'good', 'prognosi', 'figur', 'interestingli', 'alsoidentifiedppardexpressionasastrongpredictorforpoor', 'tf', 'contain', 'nr', 'thra', 'rxra', 'clinic', 'outcom', 'analysi', 'p', 'figur', 'lxra', 'associ', 'tf', 'spdef', 'patient', 'breast', 'tumor', 'express', 'high', 'level', 'ppard', 'junb', 'bind', 'near', 'tsss', 'put', 'target', 'markedli', 'lower', 'surviv', 'rate', 'neg', 'associ', 'lead', 'hypothesi', 'gene', 'adjac', 'ppard', 'express', 'clinic', 'outcom', 'held', 'element', 'global', 'coregul', 'p', 'whenw', 'analyz', 'tumor', 'sampl', 'express', 'high', 'tf', 'hypothesi', 'support', 'increas', 'level', 'level', 'era', 'figur', 'indic', 'ppard', 'express', 'histon', 'mark', 'specif', 'activ', 'prognost', 'marker', 'independ', 'era', 'statu', 'scribe', 'promot', 'share', 'bind', 'region', 'ment', 'cell', 'highli', 'select', 'ppard', 'agonist', 'tor', 'proxim', 'tsss', 'gene', 'figur', 'interestingli', 'increas', 'cell', 'prolifer', 'p', 'b', 'c', 'groupingofnrsandassociatedtfsbasedontheirbindingsimilar', 'functionandrelativeproximitiesinthemdsplot', 'tss', 'proximaltf', 'eachrepresentativeregionwasfurtherdividedintotwosubgroupsproximalto', 'thechipsignalsarehigherintssproximaltfsgroupregion', 'lowerin', 'itseemsthechipsignalsonlyrelatedtothetfsbindinginthesameregionsratherthan', 'thedistancefromthebindingregiontoannotatedtss', 'andthecoefficientandconfidenceintervalswereplottedseeextend', 'suggestingfunct', 'demonstratingaroleofppardasadriverofbreast', 'cancer', 'growth', 'breast', 'cancer', 'cell', 'test', 'effect', 'two', 'ppard', 'antagonist', 'tive', 'effect', 'ppard', 'antagonist', 'b', 'c', 'rarg', 'ppard', 'rara', 'e', 'f', 'g', 'antagonisticactionsofppardandrarsinbreastcanc', 'legendcontinuedonnextpag', 'whichsupportsourmodel', 'outcomeforeach', 'tumorsampl', 'depend', 'theexpress', 'antagonist', 'relationship', 'ppard', 'rar', 'breast', 'wedefin', 'cancer', 'foreachtumorsampleanppardtargetscor', 'whichmeasur', 'previou', 'studi', 'suggest', 'role', 'thecorrelationbetweenppardtargetgeneexpressionprofil', 'mmtvneu', 'mous', 'model', 'resembl', 'human', 'breast', 'cancer', 'schug', 'et', 'schug', 'et', 'also', 'scoresandclinicaloutcomesforacohortofexpressionprofil', 'previous', 'show', 'cohort', 'elev', 'rar', 'target', 'retinoicacidtypicallymediatesinhibitionofcellgrowththrough', 'score', 'associ', 'posit', 'clinic', 'outcom', 'activatingitscanonicalreceptor', 'dataset', 'indicatingthatactivationofrartargetsisassoci', 'retino', 'acid', 'two', 'receptor', 'suggest', 'patient', 'surviv', 'hua', 'et', 'use', 'ppard', 'target', 'score', 'surviv', 'analysi', 'demonstr', 'highli', 'schug', 'et', 'thu', 'oppos', 'significantcorrelationbetweenppardtargetscoresandoveral', 'effectsofretinoicacidoncellgrowthmayresultfromaltern', 'weidentifiedppard', 'well', 'patient', 'tumor', 'p', 'andrarsashighlyoverlappingintheirtargetgenesandbind', 'ure', 'high', 'moder', 'ppard', 'target', 'score', 'indic', 'site', 'overlap', 'rar', 'bind', 'site', 'number', 'highli', 'ical', 'outcom', 'taken', 'togeth', 'find', 'substanti', 'statist', 'signific', 'z', 'score', 'p', 'also', 'antagonist', 'function', 'interact', 'ppard', 'rar', 'nrsbelongtothecentralgroupoftfsintheregulatorynetwork', 'suggest', 'combinatori', 'treatment', 'ppard', 'construct', 'figur', 'ppard', 'nist', 'select', 'rar', 'agonist', 'may', 'effect', 'strategi', 'commonlyfactorfoundasthestartingpointinnetworkmotifv', 'forbreastcancertherapyforcertainsubsetsofpati', 'thatppardandrarsmayregulateacommonsubsetofgen', 'discuss', 'express', 'put', 'direct', 'rar', 'ppard', 'target', 'nuclearreceptorsareessentialtonormaldevelop', 'stasi', 'diseas', 'process', 'complet', 'regulatori', 'frompati', 'sampl', 'worksthattheymodulatehaveneverbeforebeendelineatedin', 'pression', 'lumin', 'b', 'type', 'high', 'express', 'singl', 'system', 'case', 'breast', 'cancer', 'nr', 'well', 'known', 'play', 'critic', 'role', 'hand', 'factor', 'two', 'gene', 'cluster', 'low', 'express', 'larli', 'use', 'model', 'identifi', 'global', 'genom', 'target', 'subtyp', 'high', 'express', 'lumin', 'b', 'hand', 'nr', 'carrol', 'et', 'hua', 'et', 'like', 'type', 'contain', 'larg', 'fraction', 'gene', 'put', 'direct', 'target', 'rar', 'ppard', 'andthusservedhereasanaturallaunchpoint', 'opposit', 'effect', 'ppard', 'rar', 'breast', 'cancer', 'cell', 'tobuildthefirstcomprehensivenrnetworkinhumancel', 'growth', 'predict', 'two', 'nr', 'may', 'antagonist', 'result', 'full', 'set', 'nr', 'sever', 'associ', 'regul', 'express', 'common', 'target', 'gene', 'tf', 'reveal', 'sever', 'key', 'characterist', 'nr', 'action', 'importantli', 'recruit', 'multipl', 'factor', 'agonist', 'atra', 'gene', 'express', 'microarray', 'analysi', 'region', 'describ', 'previous', 'smaller', 'set', 'observedoppositeeffectsontheexpressionlevelsofcommon', 'tf', 'appearstobeacommonthemeintranscriptionalregul', 'hot', 'region', 'sever', 'marker', 'chromatin', 'relevantgenesandarespecificallyexpressedindifferentbreast', 'scription', 'activityindicatesfunct', 'cancer', 'subtyp', 'suggest', 'gene', 'might', 'possess', 'element', 'reflect', 'activ', 'enhanc', 'promot', 'breast', 'cancer', 'genom', 'current', 'major', 'challeng', 'dvenndiagramdisplayingsharedputativetargetgenesofppard', 'rarg', 'thetsss', 'rara', 'andrargput', 'may', 'synergist', 'inhibit', 'breast', 'cancer', 'growth', 'expect', 'larg', 'number', 'bind', 'region', 'interplay', 'druggabl', 'nr', 'uncov', 'markedli', 'lower', 'number', 'signific', 'direct', 'effect', 'given', 'analysi', 'genom', 'target', 'site', 'studyprovidesacomprehensiveframework', 'indic', 'function', 'relev', 'bind', 'region', 'nr', 'experimentalprocedur', 'breast', 'cancer', 'thu', 'bind', 'site', 'map', 'nr', 'present', 'help', 'pinpoint', 'identif', 'set', 'sever', 'bac', 'dna', 'extract', 'transfect', 'breast', 'cancer', 'cell', 'tion', 'ciat', 'highli', 'respons', 'target', 'gene', 'expos', 'character', 'select', 'region', 'begun', 'fetalbovineserumfbsdulbeccosmodifiedeaglesmediumdmemfor', 'test', 'repres', 'sampl', 'hot', 'region', 'orphan', 'nr', 'tf', 'fb', 'dmem', 'reportergeneassay', 'conceiv', 'germlin', 'variat', 'somat', 'mutat', 'region', 'may', 'major', 'impact', 'gene', 'follow', 'antibodi', 'goat', 'rais', 'express', 'breast', 'gene', 'therebi', 'play', 'length', 'egfp', 'egfp', 'import', 'role', 'breast', 'carcinogenesi', 'grow', 'abcam', 'abcam', 'numberofsequencedbreastcancergenom', 'weexpectthat', 'chipeddna', 'dnafromfair', 'resourc', 'identifi', 'noncod', 'driver', 'mutat', 'mediat', 'pcramplif', 'andfragment', 'biliti', 'snp', 'breast', 'cancer', 'idea', 'also', 'warrant', 'test', 'sequenc', 'project', 'affymetrix', 'previous', 'describ', 'result', 'label', 'sampl', 'cancer', 'genom', 'atla', 'underway', 'breast', 'cancer', 'http', 'logic', 'triplic', 'perform', 'tf', 'histon', 'mark', 'fair', 'gulatorymappresentedherecanactasaguideforidentifi', 'wellasthecontrolinputdna', 'candidatefunctionallyrelevantvari', 'anotherkeyfindingfromthisstudyisthatspecificnr', 'aswel', 'microarraygeneexpressionprofil', 'astheirassociatedtf', 'cruit', 'specif', 'categori', 'regulatori', 'element', 'treat', 'follow', 'nr', 'ligand', 'era', 'agonist', 'calli', 'thestudyofgeneregulationbynrshadbeenrestrict', 'focu', 'bind', 'promot', 'gene', 'region', 'recent', 'studi', 'suggest', 'major', 'bindingsitesfornrssuchasera', 'ar', 'pparg', 'rar', 'gr', 'technologiesandhybridizedtoagilenthumangenomeoligomicroarray', 'ingsformanyfactor', 'wealsofoundasubsetofnrssucha', 'appear', 'recruit', 'mentswereperformedintripl', 'ingli', 'thepreferentialrecruitmentofthesetwosetsoffactorsto', 'independ', 'proxim', 'region', 'annot', 'tsss', 'find', 'defin', 'exist', 'two', 'distinct', 'nr', 'group', 'one', 'group', 'appear', 'preferenti', 'associ', 'coordinatesoftheidentifiedbindingregionsforeachtfandgeneswithatss', 'moredistalenhancerswhiletheotherassociateswithpromot', 'respect', 'conservationanalysisfortfbindingregion', 'mentofthesefactorsorwhetherthepresenceofthesefactor', 'affectsthechromatinstructur', 'side', 'phastcon', 'conserv', 'score', 'siepel', 'et', 'final', 'theidentificationoffactorswithsharedbindingregion', 'rat', 'inourdatasetenablespredictionsaboutfunctionalinteract', 'mous', 'chicken', 'fugu', 'retriev', 'ofnrsandothertfsthatmaybethebasisfornoveltherapeut', 'andthemeanofphastconsscoresateachposit', 'wascalculatedandplottedinaheatmap', 'strategi', 'breast', 'cancer', 'demonstr', 'function', 'antagonist', 'interact', 'rar', 'ppard', 'infer', 'identificationofhotregion', 'fromthesimilarityoftheirgenomicbindingpattern', 'suggest', 'hotregionswereidentifiedbygaussiankerneldensityestimationacrossth', 'combin', 'rar', 'activ', 'ppard', 'inhibit', 'usingthecentersoftfbindingregion', 'analysisoftfexpressionasclinicaloutcomepredictor', 'regionpeakwerederivedasthemaximumdistancefromthehotregionto', 'contribut', 'tf', 'extend', 'bp', 'bind', 'region', 'tf', 'bind', 'categoriesbasedontfexpressionlevelslow', 'medium', 'surviv', 'curv', 'patient', 'overal', 'surviv', 'plot', 'analysisofchromatinsignalintensitydataandhotregion', 'testwasperformedwiththersurvivalpackag', 'enrich', 'accessionnumb', 'use', 'ta', 'paramet', 'use', 'tf', 'data', 'polii', 'data', 'obtain', 'previou', 'studi', 'cell', 'line', 'carrol', 'et', 'process', 'signal', 'intens', 'data', 'hot', 'region', 'plottedforfair', 'andpolii', 'deposit', 'ncbi', 'geo', 'databas', 'access', 'number', 'analysisofmicroarraygeneexpressiondata', 'agilenttechnologieswa', 'supplementalinform', 'logtransform', 'andquantilenorm', 'supplementalinformationincludesfivefigur', 'twelvet', 'andextend', 'experimentalproceduresandcanbefoundwiththisarticleonlineathttp', 'changesoftranscriptlevel', 'licensinginform', 'analysisofthenrregulatorynetworkandnetworkmotif', 'enrich', 'articl', 'distribut', 'term', 'creativ', 'aandb', 'therear', 'commonsattributionlicens', 'whichpermitsunrestrictedus', 'distribut', 'reproduct', 'medium', 'provid', 'origin', 'author', 'sourc', 'treatmentwithasligand', 'theexpressionofastargetgenesaresignificantli', 'arecredit', 'iii', 'aftertreatmentwithasligand', 'theexpressionofbchangessignificantli', 'acknowledg', 'wethankallmembersofthefunctionalgenomicsfacilityoftheuniversityof', 'networkmotifenrichmentanalysiswasperformedbyfirstcollapsingth', 'network', 'degre', 'distribut', 'number', 'edg', 'port', 'grant', 'nation', 'institut', 'ofhealth', 'andbyagrantfromth', 'searl', 'fund', 'atth', 'oftherandomnetwork', 'wecalledthemotifasasignificantlyenrichednetwork', 'chicago', 'commun', 'trust', 'chicago', 'biomed', 'consortium', 'motif', 'support', 'fellowship', 'intern', 'humanfrontierscienceprogramorgan', 'analysisoffunctionalmoduleenrichmentinhotregiontarget', 'gene', 'et', 'manual', 'curat', 'breast', 'gene', 'set', 'also', 'refer', 'analysi', 'bernardo', 'lozada', 'miedler', 'harburg', 'hewitt', 'mosley', 'godwin', 'korach', 'visvad', 'kaestner', 'mdsanalysisofpairwisetfbind', 'essenti', 'determin', 'eralpha', 'express', 'mammari', 'wedetermin', 'bind', 'distanc', 'withthefollow', 'distanc', 'metricbetweenthebindingregionsoftwofactorsdistanceoverlapaand', 'camp', 'andrimm', 'bmina', 'thecmdscalefunctioninr', 'analysisoftargetgeneenrichmentinbreastcancerexpress', 'profil', 'carrol', 'liu', 'brodski', 'li', 'meyer', 'szari', 'ppardrar', 'common', 'target', 'gene', 'identifi', 'gene', 'least', 'eeckhout', 'shao', 'hestermann', 'geistling', 'public', 'avail', 'data', 'hu', 'et', 'cluster', 'gene', 'carrol', 'meyer', 'song', 'li', 'geistling', 'eeckhout', 'centroid', 'linkag', 'cluster', 'brodski', 'keeton', 'fertuck', 'hall', 'chang', 'nuyten', 'sneddon', 'hasti', 'tibshirani', 'srlie', 'dai', 'vant', 'veer', 'bartelink', 'et', 'al', 'scalabl', 'slorach', 'sternlicht', 'andwerb', 'chen', 'lefterova', 'zhang', 'steger', 'schupp', 'schug', 'cristancho', 'feng', 'zhuo', 'stoeckert', 'liu', 'lazar', 'conzen', 'ppargammaandcebpfactorsorchestrateadipocytebiologyviaadjac', 'darnel', 'lin', 'vega', 'thomsen', 'zhang', 'kong', 'xie', 'chiu', 'lipovich', 'barnett', 'stossi', 'dunham', 'kundaj', 'aldr', 'collin', 'davi', 'doyl', 'lupien', 'eeckhout', 'meyer', 'wang', 'zhang', 'li', 'carrol', 'stein', 'frietz', 'harrow', 'kaul', 'liu', 'andbrown', 'moorman', 'sun', 'wang', 'dewit', 'talhout', 'ward', 'greil', 'eeckhout', 'keeton', 'lupien', 'krum', 'carrol', 'andbrown', 'lu', 'white', 'bussemak', 'andvansteensel', 'transcript', 'factor', 'coloc', 'genom', 'drosophila', 'eferl', 'andwagn', 'musgrov', 'andsutherland', 'evan', 'negr', 'brown', 'bristow', 'miller', 'wagner', 'adpour', 'eaton', 'loriaux', 'sealfon', 'fullwood', 'liu', 'pan', 'liu', 'xu', 'moham', 'orlov', 'velkov', 'ho', 'mei', 'ni', 'chen', 'lim', 'wimberli', 'bailey', 'imai', 'rimm', 'liu', 'andbrown', 'gerstein', 'lu', 'vannostrand', 'cheng', 'arshinoff', 'liu', 'yip', 'robilotto', 'rechtstein', 'ikegami', 'et', 'nielsen', 'pedersen', 'hagenbeek', 'moulo', 'siersbaek', 'gen', 'denissov', 'brgesen', 'francoij', 'mandrup', 'nenberg', 'gerstein', 'kundaj', 'hariharan', 'landt', 'yan', 'cheng', 'polymeras', 'ii', 'occup', 'reveal', 'tempor', 'activ', 'distinct', 'metabol', 'mu', 'khurana', 'rozowski', 'alexand', 'poser', 'sarov', 'hutchin', 'herich', 'toyoda', 'pozniakovski', 'giresi', 'kim', 'mcdaniel', 'iyer', 'andlieb', 'weigl', 'nitzsch', 'hegemann', 'bird', 'isol', 'regulatori', 'element', 'isol', 'activ', 'griva', 'kiari', 'andpapavassili', 'reddi', 'pauli', 'sprous', 'neff', 'newberri', 'garabedian', 'andmyer', 'gronemey', 'gustafsson', 'andlaudet', 'hah', 'danko', 'core', 'waterfal', 'siepel', 'li', 'andkrau', 'roy', 'ernst', 'kharchenko', 'kheradpour', 'negr', 'eaton', 'rapid', 'extens', 'transient', 'transcript', 'respons', 'landolin', 'bristow', 'lin', 'offunctionalelementsandregulatorycircuitsbi', 'harvey', 'clark', 'osborn', 'andallr', 'receptor', 'statu', 'immunohistochemistri', 'superior', 'schug', 'berri', 'shaw', 'travi', 'noy', 'assayforpredictingresponsetoadjuvantendocrinetherapyinbreastcanc', 'opposingeffectsofretinoicacidoncellgrowthresultfromalternateactiv', 'hu', 'fan', 'oh', 'marron', 'qaqish', 'livasi', 'carey', 'schug', 'berri', 'toshkov', 'cheng', 'nikitin', 'andnoy', 'n', 'reynold', 'dressler', 'overcom', 'retino', 'mammari', 'carcinoma', 'hua', 'kallen', 'dhar', 'baquero', 'mason', 'russel', 'shah', 'liu', 'khramtsov', 'tretiakova', 'siepel', 'bejerano', 'pedersen', 'hinrich', 'hou', 'rosenbloom', 'clawson', 'spieth', 'hillier', 'richard', 'arilyconservedel', 'invertebr', 'insect', 'worm', 'andyeast', 'genom', 'hua', 'kittler', 'andwhit', 'smoot', 'ono', 'ruscheinski', 'wang', 'idek', 'john', 'sabo', 'thurman', 'sung', 'biddi', 'johnson', 'hager', 'andstamatoyannopoulo', 'glucocorticoid', 'receptor', 'bind', 'pattern', 'nat', 'genet', 'smyth', 'kong', 'li', 'loh', 'sung', 'andliu', 'rammingbytheconjointactionofera', 'stephen', 'gustafsson', 'jarvi', 'tatoud', 'marshal', 'knight', 'ehrenborg', 'harri', 'wolf', 'andpalm', 'transcript', 'program', 'prostat', 'cancer', 'cell', 'subramanian', 'tamayo', 'mootha', 'mukherje', 'ebert', 'welboren', 'vandriel', 'vanheeringen', 'gillett', 'paulovich', 'pomeroy', 'golub', 'lander', 'sweep', 'span', 'andstunnenberg', 'sirov', 'rna', 'polymeras', 'ii', 'defin', 'gene', 'differenti', 'respond', 'ligand', 'wilson', 'andgiguer', 'vandevijv', 'vantveer', 'dai', 'hart', 'voskuil', 'schreiber', 'peters', 'robert', 'marton', 'witt', 'hine', 'collin', 'hu', 'gunawardan', 'moreira', 'raphael', 'jepson', 'koundinya', 'rolf', 'wang', 'li', 'zhang', 'yuan', 'xu', 'yu', 'chen', 'beroukhim', 'teomicsapproachtoinvestigatethebiologicalactivitiesofcdnasimpl', 'wang', 'lupien']\n",
            "Sample lemmatized text: ['cell', 'report', 'resource', 'comprehensive', 'nuclear', 'receptor', 'network', 'breast', 'cancer', 'cell', 'argonnenationallaboratoryandtheuniversityofchicago', 'chicago', 'usa', 'yaleuniversity', 'newhaven', 'usa', 'theuniversityofchicago', 'chicago', 'usa', 'theuniversityoftexassouthwesternmedicalcenter', 'dallas', 'usa', 'houston', 'usa', 'summary', 'poordrugtarget', 'torsnrs', 'breast', 'cancer', 'nuclear', 'receptor', 'nrs', 'play', 'evans', 'whose', 'action', 'typically', 'dependent', 'small', 'prominent', 'role', 'govern', 'gene', 'expression', 'lipophilicligandsforwhichagonistsandantagonistsareeither', 'prognostic', 'utility', 'therapeutic', 'target', 'already', 'available', 'could', 'develop', 'chen', 'sixchromatinstate', 'meyer', 'et', 'druggable', 'potential', 'fact', 'marker', 'makethem', 'important', 'target', 'cancer', 'treatment', 'additionally', 'tion', 'factor', 'tfs', 'express', 'breast', 'latednrsignalingplaysamajorroleinseveralcommoncancer', 'highly', 'interconnect', 'regulatory', 'matrix', 'tensive', 'crosstalk', 'occur', 'among', 'nrs', 'inbreastcancer', 'twonrs', 'estrogenreceptoralphaeraand', 'breast', 'tfs', 'show', 'large', 'progesterone', 'receptor', 'pr', 'show', 'play', 'major', 'numbersoffactorsarecoordinatelyboundtohighly', 'occupiedtargetregionsthroughoutthegenome', 'drive', 'proliferation', 'promote', 'survival', 'region', 'associate', 'active', 'chromatin', 'breastcancerpatient', 'andarethereforeusedtoclassifybreast', 'state', 'gene', 'expression', 'cancer', 'predict', 'response', 'specific', 'therapy', 'harvey', 'network', 'also', 'provide', 'framework', 'et', 'era', 'one', 'main', 'target', 'breast', 'cancer', 'fye', 'predict', 'patient', 'outcome', 'use', 'therapythroughdrugsthatdirectlyinhibitera', 'ifen', 'orthrougharomataseinhibitorsthatblocktheproduction', 'receptordeltabindstoasetofgenesalsoregulate', 'cancerhasbeenlimitedmainlytoeraandpr', 'bytheretinoicacidreceptorsandwhoseexpression', 'isassociatedwithpoorprognosisinbreastcancer', 'tional', 'nrs', 'may', 'provide', 'novel', 'diagnostic', 'marker', 'moreimportantly', 'introduction', 'theknowledgeofthespecificfunction', 'ofmostnrsinbreastcancercellsremainsfragmentary', 'incancercell', 'previous', 'workmapping', 'erabinde', 'mal', 'balance', 'oncogenic', 'gene', 'tablishe', 'target', 'gene', 'critical', 'nr', 'carroll', 'et', 'network', 'alteringthedifferentiationstateofcellsandenable', 'lin', 'et', 'welboren', 'et', 'subsequent', 'proliferate', 'evade', 'apoptosis', 'metastasize', 'network', 'analysis', 'include', 'bind', 'site', 'mapping', 'fore', 'inhibition', 'oncogenic', 'transcription', 'factor', 'tfs', 'protein', 'lead', 'discovery', 'novel', 'biomarker', 'activation', 'tfs', 'principle', 'present', 'respond', 'tothe', 'transcriptional', 'cascadehua', 'nell', 'grivas', 'et', 'however', 'tfs', 'notoriously', 'era', 'bind', 'dependent', 'factor', 'carroll', 'et', 'et', 'mapping', 'retinoic', 'acid', 'receptor', 'apply', 'p', 'value', 'cutoff', 'identify', 'rarnrsuncoveredawidespreadantagonisticinteractionof', 'bind', 'region', 'per', 'factor', 'table', 'previous', 'suchas', 'era', 'rar', 'pparg', 'andarindifferentcelltypeshaverevealedaprevalenceofdistal', 'wesystematicallymapthegenomicbinde', 'bind', 'relative', 'transcription', 'start', 'site', 'tsss', 'site', 'nrs', 'express', 'breast', 'cancer', 'cell', 'result', 'map', 'provide', 'framework', 'uncover', 'genetic', 'program', 'govern', 'nrs', 'reveal', 'potential', 'et', 'reddy', 'et', 'wang', 'et', 'combinatorialaction', 'systematically', 'analyze', 'distance', 'distribution', 'nr', 'cofactorbindingsitesrelativetothetss', 'weobservedawide', 'result', 'continuous', 'range', 'nr', 'tf', 'bind', 'site', 'bution', 'many', 'factor', 'indeed', 'relatively', 'low', 'mappingofthegenomicbindingregionsofnrsand', 'cooperatingtfs', 'lxra', 'thra', 'werefrequently', 'whose', 'corresponding', 'gene', 'express', 'moderate', 'high', 'level', 'cell', 'table', 'completeness', 'include', 'select', 'previously', 'publish', 'bind', 'site', 'latorybindingcharacteristicsrelativetothetssoftheirputative', 'dataforera', 'rara', 'andrarginouranalysis', 'comprisinghalfofthenrsencodedinthe', 'bind', 'general', 'property', 'nrs', 'humangenomesevenjunfosfamilymembersthatdimerize', 'form', 'tfs', 'act', 'factor', 'tionaryconservationofregionsboundbynrsandcooperate', 'nrs', 'whose', 'bind', 'site', 'motifs', 'tfs', 'among', 'vertebrate', 'find', 'bind', 'region', 'areenrichedinthegenomicbindingregionsoferaandrar', 'allstudiedfactorsshowedrelativelyhighsequenceconservation', 'andspdef', 'compare', 'genomic', 'background', 'regardless', 'whether', 'coexpresse', 'era', 'breast', 'cancer', 'assess', 'genomic', 'state', 'also', 'map', 'five', 'pervasive', 'evolutionary', 'conservation', 'nr', 'bind', 'region', 'mark', 'rnapolymeraseii', 'support', 'putative', 'role', 'functional', 'profilingexperiment', 'underligand', 'treatment', 'major', 'obstacle', 'chromatin', 'immunoprecipitation', 'chip', 'transcriptionfactormotifsinnrcofactorbinde', 'studiesinvolvinglargenumbersofdifferenttfsistheavailability', 'site', 'wesearchedthebindingregionsofeachfactorforenrichment', 'noprecipitation', 'crosslinke', 'complex', 'knowntf', 'motif', 'analysisidentifie', 'circumvent', 'problem', 'develop', 'chip', 'case', 'specific', 'motif', 'know', 'canonical', 'approach', 'use', 'bacterial', 'artificial', 'chromosome', 'bac', 'motif', 'give', 'factor', 'identify', 'putative', 'bind', 'motifs', 'genesis', 'express', 'epitope', 'tfs', 'hua', 'et', 'fromseveraltffamiliesthatmayaffectthebindingorcoregulate', 'poser', 'et', 'approach', 'offer', 'several', 'transcriptional', 'effect', 'factor', 'transcription', 'factor', 'tagesthetaggedtfsareexpressedunderthecontroloftheir', 'propose', 'act', 'pioneer', 'tfs', 'endogenous', 'regulatory', 'element', 'antibody', 'facilitate', 'bind', 'multiple', 'nrs', 'era', 'usedtoassaydifferenttfs', 'wefoundthattheenrichment', 'antibodie', 'allow', 'direct', 'comparison', 'bind', 'affinity', 'offorkheadmotifsappearstooccuronlyinsubsetofnrsera', 'among', 'different', 'tfs', 'multiple', 'bac', 'express', 'different', 'rara', 'rarg', 'ppard', 'pparg', 'rorc', 'rxrb', 'vdr', 'suggest', 'forkhead', 'factor', 'prehensive', 'network', 'mammalian', 'cell', 'target', 'set', 'celllineageandadditionaltfsmayberequiredtofacilitatethe', 'functionallyrelatedtfs', 'actionsofothernrs', 'use', 'approach', 'generate', 'cell', 'line', 'stably', 'express', 'tfs', 'tag', 'egfp', 'either', 'c', 'termini', 'bindingofmultiplenrcofactorsdefinesactive', 'n', 'termini', 'immunoprecipitation', 'perform', 'chromatinregion', 'polyclonal', 'antibody', 'raise', 'egfp', 'intotal', 'previous', 'study', 'show', 'tag', 'construct', 'theydonotoverlapwithother', 'express', 'level', 'comparable', 'endogenous', 'protein', 'bind', 'region', 'thus', 'appear', 'mark', 'bind', 'thatthetaggedproteinsyieldhighlysimilaroridenticalbinde', 'profile', 'endogenous', 'protein', 'map', 'specific', 'study', 'reveal', 'existence', 'highly', 'occupy', 'target', 'bind', 'region', 'genome', 'hot', 'region', 'dunham', 'et', 'b', 'c', 'factor', 'nearby', 'breast', 'gene', 'myc', 'bind', 'complexity', 'share', 'genomic', 'region', 'figure', 'tfs', 'breast', 'cancer', 'cell', 'line', 'table', 'find', 'region', 'bind', 'complexity', 'multiple', 'cell', 'line', 'figure', 'identify', 'figure', 'find', 'significant', 'difference', 'canceofsuchhotregionsisunknown', 'althoughindrosophila', 'evolutionary', 'conservation', 'bind', 'region', 'low', 'show', 'associate', 'accessible', 'high', 'complexity', 'figure', 'complexity', 'appear', 'open', 'chromatin', 'negre', 'et', 'roy', 'et', 'inversely', 'correlate', 'bind', 'region', 'mean', 'distance', 'wonder', 'whether', 'property', 'conserve', 'human', 'riche', 'near', 'gene', 'play', 'role', 'cancer', 'development', 'scriptional', 'regulatory', 'network', 'govern', 'nrs', 'breast', 'progression', 'include', 'breast', 'cancer', 'biology', 'table', 'cancer', 'therefore', 'perform', 'analysis', 'ure', 'example', 'observe', 'bind', 'multiple', 'b', 'c', 'bindingofmultipletfstosharedbindingregion', 'athedistributionoftfbindingdensitycomplexityforallbindingsite', 'thinbarsrepresentuntranslatedexon', 'andblueline', 'isolation', 'regulatory', 'active', 'promoter', 'region', 'figure', 'element', 'faire', 'determine', 'chromatin', 'accessibility', 'marker', 'active', 'element', 'enhancer', 'figure', 'marker', 'bind', 'complexity', 'mean', 'faire', 'score', 'figure', 'tional', 'analysis', 'reveal', 'hot', 'region', 'relatively', 'high', 'thylation', 'marker', 'activity', 'nr', 'meanlevelsofhistonemodificationsthatarespecificforactive', 'tivator', 'figure', 'whereas', 'chromatin', 'marker', 'marker', 'transcriptionally', 'inactive', 'chromatin', 'faire', 'complexity', 'langis', 'pihc', 'naidem', 'complexity', 'langi', 'pihc', 'naidem', 'complexity', 'langi', 'pihc', 'naidem', 'complexity', 'langi', 'pihc', 'naidem', 'complexity', 'langi', 'pihc', 'naidem', 'complexity', 'langi', 'pihc', 'naidem', 'polii', 'complexity', 'langis', 'pihc', 'naidem', 'response', 'complexity', 'cfgolsba', 'immediate', 'response', 'complexity', 'sdaer', 'qesorg', 'gol', 'b', 'c', 'e', 'f', 'g', 'h', 'correlationofchromatinandtranscriptionalactivityparameterswithtfbindingcomplexity', 'faire', 'b', 'c', 'e', 'occupancy', 'signal', 'intensity', 'calculate', 'three', 'replicate', 'b', 'clique', 'b', 'aa', 'b', 'aa', 'b', 'spdef', 'pgr', 'c', 'c', 'c', 'rxrb', 'fosb', 'fos', 'rxra', 'junb', 'fos', 'fosb', 'acrxrb', 'gr', 'rorc', 'jund', 'fos', 'b', 'bcjunb', 'b', 'fosb', 'fos', 'rara', 'c', 'rxra', 'rorc', 'ar', 'rargthra', 'ppard', 'ffl', 'chain', 'aa', 'b', 'aa', 'b', 'aa', 'b', 'jun', 'rxra', 'gr', 'vdr', 'c', 'c', 'c', 'rorc', 'ppara', 'spdef', 'lxra', 'junb', 'pgr', 'pparg', 'fos', 'rorc', 'b', 'b', 'b', 'rorc', 'fosb', 'c', 'c', 'c', 'junb', 'vdr', 'nuclearreceptorregulatorynetworkinbreastcancer', 'depictedingraytypeiiexpressionlevelofone', 'factoraffectsexpressionofthetargetgeneofanotherfactor', 'depictedinredtypeiiiactivationofonenraffectstheexpressionofanotherfactor', 'depictedin', 'merase', 'ii', 'figure', 'bind', 'matinsite', 'tobemarkedlyenrichedathot', 'tioninbreastcancercell', 'region', 'determine', 'chromatin', 'association', 'directly', 'relevant', 'transcriptional', 'state', 'analyze', 'change', 'analysisofnrregulatorynetwork', 'transcript', 'expression', 'upon', 'estrogen', 'treatment', 'find', 'next', 'examined', 'network', 'regulatory', 'relationship', 'tf', 'bind', 'complexity', 'strongly', 'correlate', 'nrs', 'associated', 'tfs', 'construct', 'networkwherenodesrepresentthemappedfactorsandedge', 'region', 'cell', 'figure', 'level', 'nascent', 'representthreedifferenttypesofregulatoryrelationshipstype', 'rnas', 'associate', 'transcriptionally', 'putative', 'physical', 'interaction', 'two', 'factor', 'infer', 'gage', 'rna', 'polymerase', 'figure', 'include', 'enhancer', 'rnas', 'ernas', 'figure', 'infer', 'analysis', 'codinggenetypeii', 'putativefunctionalinteractioninferredfrom', 'transcript', 'cell', 'hah', 'et', 'aneffectoftheexpressionlevelofafactorontheexpressionof', 'find', 'association', 'hot', 'region', 'thetargetgenesofanrandtypeiii', 'genesassociatedwithmultipleerbinding', 'tioninferredfromachangeintheexpressionlevelofafactorafter', 'treatment', 'ligand', 'nr', 'see', 'extend', 'experimental', 'proceduresfor', 'detail', 'construct', 'network', 'figure', 'show', 'high', 'connectivity', 'average', 'edge', 'per', 'whenweanalyzedcopynumber', 'variation', 'breast', 'cancer', 'use', 'cancer', 'genome', 'atlas', 'latory', 'information', 'require', 'four', 'connection', 'cga', 'data', 'setof', 'tumor', 'sample', 'cancer', 'genome', 'connect', 'pair', 'tfs', 'network', 'separate', 'wefoundthatthecomplexityofnrhot', 'thetfsintheregulatorynetworkintocentralandperipheral', 'tfs', 'base', 'centrality', 'network', 'figure', 'find', 'putative', 'target', 'gene', 'central', 'tfs', 'thesefindingscollectivelyindicatethatgenomicregionsbinde', 'muchhigh', 'enrichment', 'gene', 'set', 'areassociate', 'table', 'figure', 'find', 'establish', 'key', 'role', 'regionsforfactorsofthisgroup', 'whichmaybeduetopreviously', 'unannotated', 'promoter', 'may', 'indicate', 'mark', 'factor', 'include', 'era', 'rar', 'gr', 'associate', 'element', 'bind', 'knowntoplaykeyrolesinbreastcancerbiology', 'butalsoseveral', 'nrswhoserolesinbreastcancerbiologyhavenotbeenheavily', 'ofsevenjunfosfamilymember', 'pr', 'ppara', 'studiedinthiscontext', 'includingppard', 'vdr', 'ar', 'suggest', 'functional', 'interaction', 'wefoundthatthepresence', 'tion', 'gene', 'regulation', 'breast', 'cancer', 'exploreoneofthesefactor', 'ppard', 'furtherbelow', 'correspondstoareductioninthelevelsofseveralmarkersfor', 'next', 'search', 'significantly', 'overrepresented', 'network', 'chromatin', 'activity', 'figure', 'observation', 'contrast', 'motifsthatarelikelytorepresentbuildingblocksoftfregulation', 'figure', 'figure', 'find', 'six', 'significantly', 'lectivebindingisassociatedwithincreasedchromatinactivity', 'riche', 'network', 'motif', 'regulatory', 'network', 'three', 'thus', 'thethreegroupsappeartobenotonlydistinctbyvirtue', 'common', 'motif', 'correspond', 'coregulation', 'ofbindingsiteclustere', 'butalsotodifferbasedonfunctionally', 'loops', 'tf', 'regulate', 'two', 'relevant', 'chromatin', 'feature', 'mark', 'enhancer', 'promoter', 'andchromatinactivitystate', 'motif', 'paralogs', 'fos', 'fosb', 'wenotethatthereiscongruencybetweenthesegroupsand', 'regulatory', 'network', 'find', 'factor', 'nant', 'mammary', 'epithelial', 'cell', 'eferl', 'wagner', 'relate', 'group', 'family', 'group', 'central', 'tfs', 'peripheral', 'tfs', 'network', 'wefounderaand', 'respectively', 'overall', 'inference', 'regulatory', 'rarsmostfrequentlyasreciprocallyregulatedtfs', 'indicate', 'workandtheglobalanalysisofthefactorsbindingsimilaritie', 'type', 'regulation', 'common', 'antagonistic', 'regulator', 'breast', 'cancer', 'cell', 'growth', 'network', 'analysis', 'tionsbetweendifferentnrsandaccessorytfs', 'ciate', 'tfs', 'therefore', 'seek', 'determine', 'whether', 'nrsaskeyregulatorsofoncogenicprogramsinbreast', 'regulatoryinteractionsmightalsobereflectedintheregulation', 'cancer', 'common', 'target', 'gene', 'quantify', 'coincident', 'bind', 'wefurtherinvestigatedthefunctionalrelevanceofhotregion', 'tfs', 'compute', 'pairwise', 'bind', 'similarity', 'factor', 'table', 'systematically', 'group', 'factor', 'share', 'common', 'bind', 'region', 'unsupervise', 'manner', 'can', 'not', 'enrichment', 'breast', 'gene', 'associate', 'hot', 'region', 'figure', 'association', 'bindingcomplexityandcopynumbervariationinbreastcancer', 'nate', 'manner', 'first', 'group', 'relate', 'contain', 'era', 'rara', 'rarg', 'gr', 'ppard', 'pparg', 'vdr', 'rora', 'rxrb', 'two', 'factor', 'coexpresse', 'contain', 'multiple', 'nrs', 'associated', 'gene', 'important', 'nardo', 'et', 'eeckhoute', 'et', 'kong', 'et', 'breast', 'cancer', 'development', 'progression', 'combinatorial', 'era', 'rar', 'videnewtherapeuticoptionsforbreastcancertreatment', 'asfunctionallyinteractingtfsintheregulationofbreastcancer', 'toidentifynrsastherapeutictarget', 'weintegratedbinde', 'cellgrowth', 'weproposethatthefactorsinthisgroupclusterplay', 'site', 'expression', 'akeyroleinthetranscriptionalregulationofcellgrowthinbreast', 'nr', 'messenger', 'rna', 'level', 'publish', 'enrichment', 'gene', 'verify', 'know', 'gene', 'era', 'nrs', 'among', 'list', 'important', 'breast', 'predictor', 'good', 'prognosis', 'figure', 'interestingly', 'alsoidentifiedppardexpressionasastrongpredictorforpoor', 'tfs', 'contain', 'nrs', 'thra', 'rxra', 'clinical', 'outcome', 'analysis', 'p', 'figure', 'lxra', 'associate', 'tfs', 'spdef', 'patient', 'breast', 'tumor', 'express', 'high', 'level', 'ppard', 'junb', 'bind', 'near', 'tsss', 'putative', 'target', 'markedly', 'low', 'survival', 'rate', 'negative', 'association', 'lead', 'hypothesis', 'gene', 'adjacent', 'ppard', 'expression', 'clinical', 'outcome', 'hold', 'element', 'globally', 'coregulate', 'p', 'whenwe', 'analyze', 'tumor', 'sample', 'express', 'high', 'tfs', 'hypothesis', 'support', 'increase', 'level', 'level', 'era', 'figure', 'indicate', 'ppard', 'expression', 'histone', 'mark', 'specific', 'actively', 'prognostic', 'marker', 'independent', 'era', 'status', 'scribe', 'promoter', 'share', 'bind', 'region', 'ment', 'cell', 'highly', 'selective', 'ppard', 'agonist', 'tor', 'proximal', 'tsss', 'gene', 'figure', 'interestingly', 'increase', 'cell', 'proliferation', 'p', 'b', 'c', 'groupingofnrsandassociatedtfsbasedontheirbindingsimilarity', 'functionandrelativeproximitiesinthemdsplot', 'tss', 'proximaltfs', 'eachrepresentativeregionwasfurtherdividedintotwosubgroupsproximalto', 'thechipsignalsarehigherintssproximaltfsgroupregions', 'lowerin', 'itseemsthechipsignalsonlyrelatedtothetfsbindinginthesameregionsratherthan', 'thedistancefromthebindingregiontoannotatedtss', 'andthecoefficientandconfidenceintervalswereplottedseeextende', 'suggestingfunctional', 'demonstratingaroleofppardasadriverofbreast', 'cancer', 'growth', 'breast', 'cancer', 'cell', 'test', 'effect', 'two', 'ppard', 'antagonist', 'tive', 'effect', 'ppard', 'antagonist', 'b', 'c', 'rarg', 'ppard', 'rara', 'e', 'f', 'g', 'antagonisticactionsofppardandrarsinbreastcancer', 'legendcontinuedonnextpage', 'whichsupportsourmodel', 'outcomeforeach', 'tumorsample', 'dependent', 'theexpression', 'antagonistic', 'relationship', 'ppard', 'rar', 'breast', 'wedefine', 'cancer', 'foreachtumorsampleanppardtargetscore', 'whichmeasure', 'previous', 'study', 'suggest', 'role', 'thecorrelationbetweenppardtargetgeneexpressionprofiles', 'mmtvneu', 'mouse', 'model', 'resemble', 'human', 'breast', 'cancer', 'schug', 'et', 'schug', 'et', 'also', 'scoresandclinicaloutcomesforacohortofexpressionprofile', 'previously', 'show', 'cohort', 'elevated', 'rar', 'target', 'retinoicacidtypicallymediatesinhibitionofcellgrowththrough', 'score', 'associate', 'positive', 'clinical', 'outcome', 'activatingitscanonicalreceptor', 'dataset', 'indicatingthatactivationofrartargetsisassociate', 'retinoic', 'acid', 'two', 'receptor', 'suggest', 'patient', 'survival', 'hua', 'et', 'use', 'ppard', 'target', 'score', 'survival', 'analysis', 'demonstrate', 'highly', 'schug', 'et', 'thus', 'oppose', 'significantcorrelationbetweenppardtargetscoresandoverall', 'effectsofretinoicacidoncellgrowthmayresultfromalternate', 'weidentifiedppard', 'well', 'patient', 'tumor', 'p', 'andrarsashighlyoverlappingintheirtargetgenesandbinde', 'ure', 'high', 'moderate', 'ppard', 'target', 'score', 'indicate', 'site', 'overlap', 'rar', 'bind', 'site', 'number', 'highly', 'ical', 'outcome', 'take', 'together', 'finding', 'substantiate', 'statistically', 'significant', 'z', 'score', 'p', 'also', 'antagonistic', 'functional', 'interaction', 'ppard', 'rars', 'nrsbelongtothecentralgroupoftfsintheregulatorynetwork', 'suggest', 'combinatorial', 'treatment', 'ppard', 'construct', 'figure', 'ppard', 'nist', 'selective', 'rar', 'agonist', 'may', 'effective', 'strategy', 'commonlyfactorfoundasthestartingpointinnetworkmotifv', 'forbreastcancertherapyforcertainsubsetsofpatient', 'thatppardandrarsmayregulateacommonsubsetofgene', 'discussion', 'expression', 'putative', 'direct', 'rar', 'ppard', 'target', 'nuclearreceptorsareessentialtonormaldevelopment', 'stasis', 'disease', 'process', 'complete', 'regulatory', 'frompatient', 'sample', 'worksthattheymodulatehaveneverbeforebeendelineatedin', 'pression', 'luminal', 'b', 'type', 'high', 'expression', 'single', 'system', 'case', 'breast', 'cancer', 'nrs', 'well', 'know', 'play', 'critical', 'role', 'handful', 'factor', 'two', 'gene', 'cluster', 'low', 'expression', 'larly', 'useful', 'model', 'identify', 'global', 'genomic', 'target', 'subtype', 'high', 'expression', 'luminal', 'b', 'handful', 'nrs', 'carroll', 'et', 'hua', 'et', 'like', 'type', 'contain', 'large', 'fraction', 'gene', 'putative', 'direct', 'target', 'rar', 'ppard', 'andthusservedhereasanaturallaunchpoint', 'opposite', 'effect', 'ppard', 'rar', 'breast', 'cancer', 'cell', 'tobuildthefirstcomprehensivenrnetworkinhumancell', 'growth', 'predict', 'two', 'nrs', 'may', 'antagonistically', 'result', 'full', 'set', 'nrs', 'several', 'associated', 'regulate', 'expression', 'common', 'target', 'gene', 'tfs', 'reveal', 'several', 'key', 'characteristic', 'nr', 'action', 'importantly', 'recruitment', 'multiple', 'factor', 'agonist', 'atra', 'gene', 'expression', 'microarray', 'analysis', 'region', 'describe', 'previously', 'small', 'set', 'observedoppositeeffectsontheexpressionlevelsofcommon', 'tfs', 'appearstobeacommonthemeintranscriptionalregulation', 'hot', 'region', 'several', 'marker', 'chromatin', 'relevantgenesandarespecificallyexpressedindifferentbreast', 'scriptional', 'activityindicatesfunctionally', 'cancer', 'subtype', 'suggest', 'gene', 'might', 'possess', 'element', 'reflect', 'active', 'enhancer', 'promoter', 'breast', 'cancer', 'genome', 'currently', 'major', 'challenge', 'dvenndiagramdisplayingsharedputativetargetgenesofppard', 'rarg', 'thetsss', 'rara', 'andrargputative', 'may', 'synergistically', 'inhibit', 'breast', 'cancer', 'growth', 'expect', 'large', 'number', 'bind', 'region', 'interplay', 'druggable', 'nrs', 'uncover', 'markedly', 'low', 'number', 'significant', 'direct', 'effect', 'give', 'analysis', 'genomic', 'target', 'site', 'studyprovidesacomprehensiveframework', 'indicator', 'functionally', 'relevant', 'bind', 'region', 'nrs', 'experimentalprocedure', 'breast', 'cancer', 'thus', 'bind', 'site', 'map', 'nrs', 'present', 'help', 'pinpoint', 'identification', 'set', 'several', 'bac', 'dna', 'extract', 'transfecte', 'breast', 'cancer', 'cell', 'tion', 'ciate', 'highly', 'responsive', 'target', 'gene', 'expose', 'characterize', 'select', 'region', 'begin', 'fetalbovineserumfbsdulbeccosmodifiedeaglesmediumdmemfor', 'test', 'representative', 'sample', 'hot', 'region', 'orphan', 'nrs', 'tfs', 'fbs', 'dmem', 'reportergeneassay', 'conceivable', 'germline', 'variation', 'somatic', 'mutation', 'region', 'may', 'major', 'impact', 'gene', 'follow', 'antibodies', 'goat', 'raise', 'expression', 'breast', 'gene', 'thereby', 'play', 'length', 'egfp', 'egfp', 'important', 'role', 'breast', 'carcinogenesis', 'grow', 'abcam', 'abcam', 'numberofsequencedbreastcancergenome', 'weexpectthat', 'chipeddna', 'dnafromfaire', 'resource', 'identify', 'noncoding', 'driver', 'mutation', 'mediate', 'pcramplification', 'andfragmentation', 'bility', 'snps', 'breast', 'cancer', 'idea', 'also', 'warrant', 'test', 'sequence', 'project', 'affymetrix', 'previously', 'describe', 'result', 'label', 'sample', 'cancer', 'genome', 'atlas', 'underway', 'breast', 'cancer', 'http', 'logical', 'triplicate', 'perform', 'tf', 'histone', 'mark', 'faire', 'gulatorymappresentedherecanactasaguideforidentifying', 'wellasthecontrolinputdna', 'candidatefunctionallyrelevantvariant', 'anotherkeyfindingfromthisstudyisthatspecificnrs', 'aswell', 'microarraygeneexpressionprofile', 'astheirassociatedtfs', 'cruite', 'specific', 'category', 'regulatory', 'element', 'treat', 'follow', 'nr', 'ligands', 'era', 'agonist', 'cally', 'thestudyofgeneregulationbynrshadbeenrestricte', 'focus', 'bind', 'promoter', 'gene', 'region', 'recent', 'study', 'suggest', 'majority', 'bindingsitesfornrssuchasera', 'ar', 'pparg', 'rar', 'gr', 'technologiesandhybridizedtoagilenthumangenomeoligomicroarray', 'ingsformanyfactor', 'wealsofoundasubsetofnrssuchas', 'appear', 'recruit', 'mentswereperformedintriplicate', 'ingly', 'thepreferentialrecruitmentofthesetwosetsoffactorsto', 'independent', 'proximity', 'region', 'annotate', 'tsss', 'finding', 'define', 'existence', 'two', 'distinct', 'nr', 'group', 'one', 'group', 'appear', 'preferentially', 'associate', 'coordinatesoftheidentifiedbindingregionsforeachtfandgeneswithatss', 'moredistalenhancerswhiletheotherassociateswithpromoter', 'respectively', 'conservationanalysisfortfbindingregion', 'mentofthesefactorsorwhetherthepresenceofthesefactor', 'affectsthechromatinstructure', 'side', 'phastcon', 'conservation', 'score', 'siepel', 'et', 'finally', 'theidentificationoffactorswithsharedbindingregion', 'rat', 'inourdatasetenablespredictionsaboutfunctionalinteractions', 'mouse', 'chicken', 'fugu', 'retrieve', 'ofnrsandothertfsthatmaybethebasisfornoveltherapeutic', 'andthemeanofphastconsscoresateachposition', 'wascalculatedandplottedinaheatmap', 'strategy', 'breast', 'cancer', 'demonstrate', 'functional', 'antagonistic', 'interaction', 'rar', 'ppard', 'infer', 'identificationofhotregion', 'fromthesimilarityoftheirgenomicbindingpattern', 'suggest', 'hotregionswereidentifiedbygaussiankerneldensityestimationacrossthe', 'combination', 'rar', 'activation', 'ppard', 'inhibition', 'usingthecentersoftfbindingregion', 'analysisoftfexpressionasclinicaloutcomepredictor', 'regionpeakwerederivedasthemaximumdistancefromthehotregionto', 'contribute', 'tf', 'extended', 'bp', 'bind', 'region', 'tf', 'bind', 'categoriesbasedontfexpressionlevelslow', 'medium', 'survival', 'curve', 'patient', 'overall', 'survival', 'plot', 'analysisofchromatinsignalintensitydataandhotregion', 'testwasperformedwiththersurvivalpackage', 'enrichment', 'accessionnumber', 'use', 'ta', 'parameter', 'use', 'tf', 'datum', 'polii', 'datum', 'obtain', 'previous', 'study', 'cell', 'line', 'carroll', 'et', 'process', 'signal', 'intensity', 'datum', 'hot', 'region', 'plottedforfaire', 'andpolii', 'deposit', 'ncbi', 'geo', 'database', 'accession', 'number', 'analysisofmicroarraygeneexpressiondata', 'agilenttechnologieswas', 'supplementalinformation', 'logtransformation', 'andquantilenormalization', 'supplementalinformationincludesfivefigure', 'twelvetable', 'andextende', 'experimentalproceduresandcanbefoundwiththisarticleonlineathttp', 'changesoftranscriptlevel', 'licensinginformation', 'analysisofthenrregulatorynetworkandnetworkmotif', 'enrichment', 'article', 'distribute', 'term', 'creative', 'aandb', 'thereare', 'commonsattributionlicense', 'whichpermitsunrestricteduse', 'distribution', 'reproduction', 'medium', 'provide', 'original', 'author', 'source', 'treatmentwithasligand', 'theexpressionofastargetgenesaresignificantly', 'arecredite', 'iii', 'aftertreatmentwithasligand', 'theexpressionofbchangessignificantly', 'acknowledgment', 'wethankallmembersofthefunctionalgenomicsfacilityoftheuniversityof', 'networkmotifenrichmentanalysiswasperformedbyfirstcollapsingthe', 'network', 'degree', 'distribution', 'number', 'edge', 'port', 'grant', 'national', 'institutes', 'ofhealth', 'andbyagrantfromthe', 'searle', 'fund', 'atthe', 'oftherandomnetworks', 'wecalledthemotifasasignificantlyenrichednetwork', 'chicago', 'community', 'trust', 'chicago', 'biomedical', 'consortium', 'motif', 'support', 'fellowship', 'international', 'humanfrontierscienceprogramorganization', 'analysisoffunctionalmoduleenrichmentinhotregiontarget', 'gene', 'et', 'manually', 'curate', 'breast', 'gene', 'set', 'also', 'reference', 'analysis', 'bernardo', 'lozada', 'miedler', 'harburg', 'hewitt', 'mosley', 'godwin', 'korach', 'visvader', 'kaestner', 'mdsanalysisofpairwisetfbinde', 'essential', 'determinant', 'eralpha', 'expression', 'mammary', 'wedetermine', 'bind', 'distance', 'withthefollowe', 'distance', 'metricbetweenthebindingregionsoftwofactorsdistanceoverlapaand', 'camp', 'andrimm', 'bmina', 'thecmdscalefunctioninr', 'analysisoftargetgeneenrichmentinbreastcancerexpression', 'profile', 'carroll', 'liu', 'brodsky', 'li', 'meyer', 'szary', 'ppardrar', 'common', 'target', 'gene', 'identify', 'gene', 'least', 'eeckhoute', 'shao', 'hestermann', 'geistlinger', 'publically', 'available', 'datum', 'hu', 'et', 'cluster', 'gene', 'carroll', 'meyer', 'song', 'li', 'geistlinger', 'eeckhoute', 'centroid', 'linkage', 'cluster', 'brodsky', 'keeton', 'fertuck', 'hall', 'chang', 'nuyten', 'sneddon', 'hastie', 'tibshirani', 'srlie', 'dai', 'vant', 'veer', 'bartelink', 'et', 'al', 'scalability', 'slorach', 'sternlicht', 'andwerb', 'chen', 'lefterova', 'zhang', 'steger', 'schupp', 'schug', 'cristancho', 'feng', 'zhuo', 'stoeckert', 'liu', 'lazar', 'conzen', 'ppargammaandcebpfactorsorchestrateadipocytebiologyviaadjacent', 'darnell', 'lin', 'vega', 'thomsen', 'zhang', 'kong', 'xie', 'chiu', 'lipovich', 'barnett', 'stossi', 'dunham', 'kundaje', 'aldre', 'collins', 'davis', 'doyle', 'lupien', 'eeckhoute', 'meyer', 'wang', 'zhang', 'li', 'carroll', 'stein', 'frietze', 'harrow', 'kaul', 'liu', 'andbrown', 'moorman', 'sun', 'wang', 'dewit', 'talhout', 'ward', 'greil', 'eeckhoute', 'keeton', 'lupien', 'krum', 'carroll', 'andbrown', 'lu', 'white', 'bussemaker', 'andvansteensel', 'transcription', 'factor', 'colocalization', 'genome', 'drosophila', 'eferl', 'andwagner', 'musgrove', 'andsutherland', 'evans', 'negre', 'brown', 'bristow', 'miller', 'wagner', 'adpour', 'eaton', 'loriaux', 'sealfon', 'fullwood', 'liu', 'pan', 'liu', 'xu', 'mohame', 'orlov', 'velkov', 'ho', 'mei', 'ni', 'chen', 'lim', 'wimberly', 'bailey', 'imai', 'rimm', 'liu', 'andbrown', 'gerstein', 'lu', 'vannostrand', 'cheng', 'arshinoff', 'liu', 'yip', 'robilotto', 'rechtsteiner', 'ikegami', 'et', 'nielsen', 'pedersen', 'hagenbeek', 'moulos', 'siersbaek', 'gen', 'denissov', 'brgesen', 'francoijs', 'mandrup', 'nenberg', 'gerstein', 'kundaje', 'hariharan', 'landt', 'yan', 'cheng', 'polymerase', 'ii', 'occupancy', 'reveal', 'temporal', 'activation', 'distinct', 'metabolic', 'mu', 'khurana', 'rozowsky', 'alexander', 'poser', 'sarov', 'hutchins', 'heriche', 'toyoda', 'pozniakovsky', 'giresi', 'kim', 'mcdaniell', 'iyer', 'andlieb', 'weigl', 'nitzsche', 'hegemann', 'bird', 'isolation', 'regulatory', 'element', 'isolate', 'active', 'grivas', 'kiaris', 'andpapavassiliou', 'reddy', 'pauli', 'sprouse', 'neff', 'newberry', 'garabedian', 'andmyers', 'gronemeyer', 'gustafsson', 'andlaudet', 'hah', 'danko', 'core', 'waterfall', 'siepel', 'lis', 'andkraus', 'roy', 'ernst', 'kharchenko', 'kheradpour', 'negre', 'eaton', 'rapid', 'extensive', 'transient', 'transcriptional', 'response', 'landolin', 'bristow', 'lin', 'offunctionalelementsandregulatorycircuitsby', 'harvey', 'clark', 'osborne', 'andallre', 'receptor', 'status', 'immunohistochemistry', 'superior', 'schug', 'berry', 'shaw', 'travis', 'noy', 'assayforpredictingresponsetoadjuvantendocrinetherapyinbreastcancer', 'opposingeffectsofretinoicacidoncellgrowthresultfromalternateactivation', 'hu', 'fan', 'oh', 'marron', 'qaqish', 'livasy', 'carey', 'schug', 'berry', 'toshkov', 'cheng', 'nikitin', 'andnoy', 'n', 'reynolds', 'dressler', 'overcome', 'retinoic', 'mammary', 'carcinomas', 'hua', 'kallen', 'dhar', 'baquero', 'mason', 'russell', 'shah', 'liu', 'khramtsov', 'tretiakova', 'siepel', 'bejerano', 'pedersen', 'hinrichs', 'hou', 'rosenbloom', 'clawson', 'spieth', 'hillier', 'richard', 'arilyconservedelements', 'invertebrate', 'insect', 'worm', 'andyeast', 'genome', 'hua', 'kittler', 'andwhite', 'smoot', 'ono', 'ruscheinski', 'wang', 'ideker', 'john', 'sabo', 'thurman', 'sung', 'biddie', 'johnson', 'hager', 'andstamatoyannopoulos', 'glucocorticoid', 'receptor', 'bind', 'pattern', 'nat', 'genet', 'smyth', 'kong', 'li', 'loh', 'sung', 'andliu', 'rammingbytheconjointactionofera', 'stephen', 'gustafsson', 'jarvis', 'tatoud', 'marshall', 'knight', 'ehrenborg', 'harris', 'wolf', 'andpalmer', 'transcription', 'program', 'prostate', 'cancer', 'cell', 'subramanian', 'tamayo', 'mootha', 'mukherjee', 'ebert', 'welboren', 'vandriel', 'vanheeringen', 'gillette', 'paulovich', 'pomeroy', 'golub', 'lander', 'sweep', 'span', 'andstunnenberg', 'sirov', 'rna', 'polymerase', 'ii', 'define', 'gene', 'differentially', 'respond', 'ligand', 'wilson', 'andgiguere', 'vandevijver', 'vantveer', 'dai', 'hart', 'voskuil', 'schreiber', 'peterse', 'roberts', 'marton', 'witt', 'hines', 'collins', 'hu', 'gunawardane', 'moreira', 'raphael', 'jepson', 'koundinya', 'rolfs', 'wang', 'li', 'zhang', 'yuan', 'xu', 'yu', 'chen', 'beroukhim', 'teomicsapproachtoinvestigatethebiologicalactivitiesofcdnasimplicate', 'wang', 'lupien']\n",
            "Sample NER: [('Cell Reports Resource A Comprehensive Nuclear Receptor Network', 'ORG'), ('1InstituteofGenomicsandSystemsBiology,ArgonneNationalLaboratoryandTheUniversityofChicago', 'ORG'), ('Chicago', 'GPE'), ('4DepartmentofComputerScience YaleUniversity', 'GPE'), ('NewHaven', 'ORG'), ('5DepartmentofHumanGenetics', 'CARDINAL'), ('7DepartmentofMedicine TheUniversityofChicago', 'PERSON'), ('Chicago', 'GPE'), ('Dallas', 'GPE'), ('Houston', 'GPE'), ('Correspondencekpwhiteigsb.org', 'ORG'), ('whichcompriseasuperfamilyof48TFsinhumans', 'NORP'), ('Evans', 'GPE'), ('2005', 'DATE'), ('Chen', 'PERSON'), ('2008', 'DATE'), ('al.', 'GPE'), ('2004', 'DATE'), ('Inbreastcancer', 'ORG'), ('about 6070', 'CARDINAL'), ('Harvey This network', 'PERSON'), ('al.', 'GPE'), ('1999', 'DATE'), ('one', 'CARDINAL'), ('al.', 'GPE'), ('2006', 'DATE'), ('Lin et al.', 'PERSON'), ('2007', 'DATE'), ('Welboren et al.', 'PERSON'), ('2009', 'DATE'), ('transcription', 'CARDINAL'), ('estrogen', 'ORDINAL'), ('cascadeHua', 'PERSON'), ('2002', 'DATE'), ('Grivas', 'PERSON'), ('al.', 'GPE'), ('2011', 'DATE'), ('Carroll', 'NORP'), ('al.', 'GPE'), ('2005', 'DATE'), ('538', 'CARDINAL'), ('al.', 'GPE'), ('2008', 'DATE'), ('1e-3', 'PERSON'), ('705', 'CARDINAL'), ('RARNRsuncoveredawidespreadantagonisticinteractionof', 'NORP'), ('20,770', 'CARDINAL'), ('Table S1', 'ORG'), ('potentialoftheintegratedanalysisofcis', 'NORP'), ('transcription', 'CARDINAL'), ('MCF-7', 'CARDINAL'), ('codinggenesCarrolletal', 'LOC'), ('al.', 'GPE'), ('2008', 'DATE'), ('al.', 'GPE'), ('2009', 'DATE'), ('Wang', 'PERSON'), ('al.', 'GPE'), ('2009', 'DATE'), ('NR', 'ORG'), ('RESULTS', 'ORG'), ('NR', 'ORG'), ('TF', 'ORG'), ('1Aand1B.However', 'CARDINAL'), ('NRssuchasTR2L', 'ORG'), ('TR2S', 'ORG'), ('boundtositesproximaltoTSSs', 'ORG'), ('MCF-7', 'CARDINAL'), ('Table S1', 'FAC'), ('MCF-7', 'CARDINAL'), ('latorybindingcharacteristicsrelativetotheTSSoftheirputative', 'WORK_OF_ART'), ('GATA3,FOXA1,RARA', 'GPE'), ('AP-1', 'PRODUCT'), ('CREB1', 'ORG'), ('ATF-1', 'PERSON'), ('ELK1', 'PRODUCT'), ('motifs', 'PERSON'), ('inMCF-7cellsaswellasFOXA1,GATA3,XBP1-S', 'PERSON'), ('five', 'CARDINAL'), ('NR', 'ORG'), ('differentchromatin', 'NORP'), ('RNApolymeraseII', 'ORG'), ('ChIP', 'ORG'), ('Hua', 'NORP'), ('2009', 'DATE'), ('2008', 'DATE'), ('RARstoenhancers', 'ORG'), ('RARA', 'ORG'), ('RARG', 'ORG'), ('COUP-TFII', 'PERSON'), ('REV', 'ORG'), ('PPARD', 'ORG'), ('PPARG', 'ORG'), ('RORC', 'ORG'), ('TFscanbegeneratedinseries', 'ORG'), ('VDR', 'ORG'), ('MCF-7', 'CARDINAL'), ('EGFP', 'ORG'), ('ChromatinRegions', 'ORG'), ('EGFP', 'ORG'), ('HOT', 'ORG'), ('Dunham', 'GPE'), ('al.', 'GPE'), ('AFrequenciesofbindingsitesforeachfactorresidingwithin2and10kbupstreamordownstreamtoannotatedTSSs', 'NORP'), ('CConservationprofileforthebindingsitesofeachfactor', 'ORG'), ('MYC', 'ORG'), ('ER', 'GPE'), ('Table S3', 'LOC'), ('canceofsuchHOTregionsisunknown', 'WORK_OF_ART'), ('Negre', 'ORG'), ('al.', 'GPE'), ('2011', 'CARDINAL'), ('Roy', 'PERSON'), ('al.', 'GPE'), ('2010', 'DATE'), ('Table S4', 'PRODUCT'), ('540', 'CARDINAL'), ('FAIRE', 'ORG'), ('H3K4me1', 'GPE'), ('FAIRE', 'ORG'), ('andH3R17asymmetricdime- tional', 'ORG'), ('NR', 'ORG'), ('CARM1 Figure 3E', 'PERSON'), ('H3K27', 'PERSON'), ('H3K4me3', 'ORG'), ('5415', 'MONEY'), ('5.1', 'CARDINAL'), ('5.0', 'CARDINAL'), ('0.0 FAIRE Complexity langiS PIhC', 'ORG'), ('5.1', 'CARDINAL'), ('Complexity langiS', 'ORG'), ('5.1', 'CARDINAL'), ('0.0', 'DATE'), ('5.1', 'CARDINAL'), ('5.0', 'CARDINAL'), ('Complexity langiS', 'ORG'), ('5.1', 'CARDINAL'), ('Complexity langiS', 'ORG'), ('5.1', 'CARDINAL'), ('0.0 H3K27me3', 'MONEY'), ('Complexity langiS', 'ORG'), ('5.1', 'CARDINAL'), ('40.0', 'CARDINAL'), ('E2', 'PRODUCT'), ('5.5', 'CARDINAL'), ('Immediate E2', 'ORG'), ('FAIRE A', 'ORG'), ('H3K4me1 C', 'ORG'), ('F. Signal', 'ORG'), ('three', 'CARDINAL'), ('GIEstrogen', 'ORG'), ('SeealsoFigureS3', 'GPE'), ('542', 'CARDINAL'), ('N142', 'PRODUCT'), ('28', 'CARDINAL'), ('COUP-TFI', 'ORG'), ('68', 'CARDINAL'), ('4', 'CARDINAL'), ('JunB Fos A FOSB', 'ORG'), ('24', 'CARDINAL'), ('68', 'CARDINAL'), ('3', 'CARDINAL'), ('22', 'CARDINAL'), ('FOS', 'ORG'), ('178', 'CARDINAL'), ('19', 'CARDINAL'), ('136', 'CARDINAL'), ('16', 'CARDINAL'), ('VDR C p0.018', 'ORG'), ('46', 'CARDINAL'), ('26', 'CARDINAL'), ('PGR', 'ORG'), ('59', 'CARDINAL'), ('13', 'CARDINAL'), ('12', 'CARDINAL'), ('6 12', 'CARDINAL'), ('FOSB', 'ORG'), ('30', 'CARDINAL'), ('15', 'CARDINAL'), ('22 VDR 9 TR2-L 5', 'TIME'), ('TFsassociatedwithNRs depictedinyellow', 'PERSON'), ('ThenetworkisorganizedusingunweightedspringembeddedmethodwithCytoscape', 'ORG'), ('BSignificantlyenrichednetworkmotifs', 'PERSON'), ('Thefrequenciesofthemostcommonfactorsforeachnodeofeachenriched motifaredisplayedinthehistogramsseealsoFiguresS3CS3H.', 'PERSON'), ('multipleNRsandassociatedTFsrepresenthighlyactivechro- merase II', 'ORG'), ('3', 'CARDINAL'), ('TF', 'ORG'), ('MCF-7', 'CARDINAL'), ('two', 'CARDINAL'), ('RNA', 'ORG'), ('GRO', 'ORG'), ('codinggenetypeII', 'ORG'), ('estrogen', 'ORDINAL'), ('MCF-7', 'CARDINAL'), ('2011', 'DATE'), ('anchorgenesi.e', 'PERSON'), ('NR', 'ORG'), ('Extended Experimental correlationofHOTregionswithloopinganchorsitesFigureS3C', 'ORG'), ('4A', 'CARDINAL'), ('11', 'CARDINAL'), ('Fullwoodetal', 'ORG'), ('the Cancer Genome Atlas', 'ORG'), ('no more than four', 'PERCENT'), ('CGA', 'ORG'), ('886breast', 'CARDINAL'), ('Cancer Genome', 'ORG'), ('regionsispositivelycorrelatedwithgenomicamplificationFig-', 'ORG'), ('Thesefindingscollectivelyindicatethatgenomicregionsbinding', 'GPE'), ('543breastcancerthanthetargetgenesofperipheralTFsp0.008', 'CARDINAL'), ('Table S5', 'FAC'), ('GR,', 'ORG'), ('GATA3', 'PERSON'), ('ThethirdgroupJun-Fosfamilycontainssixout NRswhoserolesinbreastcancerbiologyhavenotbeenheavily ofsevenJunFosfamilymembers', 'ORG'), ('PPARa', 'ORG'), ('includingPPARd', 'GPE'), ('VDR', 'ORG'), ('AP-1andtheseNRs', 'NORP'), ('NR', 'ORG'), ('six', 'CARDINAL'), ('three', 'CARDINAL'), ('1', 'CARDINAL'), ('2', 'CARDINAL'), ('4', 'CARDINAL'), ('TF', 'GPE'), ('two', 'CARDINAL'), ('FOS', 'ORG'), ('FOSB', 'ORG'), ('Wenotethatthereiscongruencybetweenthesegroupsand keyfunctionsascomponentsofAP-1inbothnormalandmalig-', 'LOC'), ('9', 'CARDINAL'), ('11', 'CARDINAL'), ('Eferl', 'PERSON'), ('Wagner', 'ORG'), ('2003', 'DATE'), ('8', 'CARDINAL'), ('11', 'CARDINAL'), ('the Jun-Fos groveandSutherland,2009,aswellastheRAR-relatedorphan', 'ORG'), ('Intwoothermotifs3and6,wefoundERaand', 'ORG'), ('Tables S6', 'ORG'), ('S7', 'CARDINAL'), ('HOTregions', 'ORG'), ('first', 'ORDINAL'), ('Figures2Dand2E.Thesefindingsindicatethatthesecis-regu- ERa', 'DATE'), ('VDR', 'ORG'), ('two', 'CARDINAL'), ('FoxA1', 'ORG'), ('GATA3', 'PERSON'), ('nardo et', 'PERSON'), ('al.', 'GPE'), ('2010', 'DATE'), ('al.', 'GPE'), ('2007', 'DATE'), ('Kong', 'GPE'), ('al.', 'GPE'), ('2011', 'DATE'), ('Kouros-Mehretal', 'ORG'), ('targetingofinteractingNRsthatregulatethesegenesmaypro- ERa', 'PERSON'), ('NR', 'ORG'), ('RNA', 'ORG'), ('FOXA1', 'ORG'), ('GATA3', 'PERSON'), ('BC1000', 'PRODUCT'), ('Figure S5A. Interestingly', 'WORK_OF_ART'), ('NURR1', 'ORG'), ('COUP-TFI', 'ORG'), ('TFs ATF1', 'PERSON'), ('CREB1', 'ORG'), ('SPDEF', 'ORG'), ('1S', 'CARDINAL'), ('JUNB', 'ORG'), ('0.027', 'CARDINAL'), ('MCF-7', 'CARDINAL'), ('GW0742', 'PRODUCT'), ('60', 'CARDINAL'), ('544', 'CARDINAL'), ('functionandrelativeproximitiesintheMDSplot', 'ORG'), ('representativeregionfitscriteria1nolessthanfiveTFsbindinginthatregion2morethan50ofTFsareinacertainMDSgroupER', 'ORG'), ('RARrelated', 'ORG'), ('TSS', 'ORG'), ('eachrepresentativeregionwasfurtherdividedintotwosubgroupsproximalto TSS10kb', 'PERSON'), ('Jun-FosFamilyregionsandwithER-RARRelatedinthemedian', 'PERSON'), ('itseemstheChIPsignalsonlyrelatedtotheTFsbindinginthesameregionsratherthan thedistancefromthebindingregiontoannotatedTSS', 'PERSON'), ('Regressionanalysiswasperformedtodetectthecobindingeffectonchromatin marksbetweenJun-FosfamilyrelatedNRbindingsitesandotherTFbindingsites', 'PERSON'), ('Fiveoutofsixchromatinactivitymarksdisplayedsignificantdifferencesbetweenthetwogroups', 'ORG'), ('Figure6C', 'PERSON'), ('ER', 'GPE'), ('two', 'CARDINAL'), ('GSK0660', 'ORG'), ('983', 'CARDINAL'), ('5907', 'CARDINAL'), ('514', 'CARDINAL'), ('1606 263 PPARD 3312', 'DATE'), ('Kaplan-Meiercurvesofoverallsurvivalamongall295AChangetal', 'ORG'), ('546', 'CARDINAL'), ('CellReports3,538551,February21,20132013TheAuthorsRARagonistFiguresS5BandS5C', 'ORG'), ('RAR', 'ORG'), ('Schug', 'PERSON'), ('al.', 'GPE'), ('2007', 'DATE'), ('al.', 'GPE'), ('2008', 'DATE'), ('PPARdmaybeactivatedbyretinoicacidtoinducetheexpres-', 'ORG'), ('Retinoicacidtypicallymediatesinhibitionofcellgrowththrough', 'ORG'), ('Thepartitioningof', 'PERSON'), ('indicatingthatactivationofRARtargetsisassociated', 'ORG'), ('two', 'CARDINAL'), ('Hua et al.', 'PERSON'), ('2009', 'DATE'), ('Kaplan-Meier', 'ORG'), ('CRABP-II', 'ORG'), ('FABP5 Schug', 'PERSON'), ('al.', 'GPE'), ('2007', 'DATE'), ('ER', 'ORG'), ('RAR', 'ORG'), ('28.5', 'CARDINAL'), ('4A', 'CARDINAL'), ('RAR', 'ORG'), ('RAR', 'ORG'), ('Nuclearreceptorsareessentialtonormaldevelopment', 'GPE'), ('Luminal A', 'ORG'), ('two', 'CARDINAL'), ('Luminal A', 'ORG'), ('Normal-', 'ORG'), ('Carroll', 'NORP'), ('al.', 'GPE'), ('2005', 'DATE'), ('2006', 'DATE'), ('al.', 'GPE'), ('2008', 'DATE'), ('2009Kongetal', 'DATE'), ('two', 'CARDINAL'), ('NR', 'ORG'), ('ATRA', 'PERSON'), ('scriptional', 'ORG'), ('CPPARdactivationincreasescellproliferation', 'PRODUCT'), ('andRARaasdefinedbythepresenceofatleastonebindingregionwithin50kbto theTSSs', 'PERSON'), ('EHierarchicalclusteringof146breasttumorsetusingtheUNCIntrinsicgenesetHuetal', 'PERSON'), ('Kaplan-Meiercurvesofoverallsurvivalamongall295FChangetal', 'ORG'), ('547fortheinterpretationofTFbindingsitedataisthediscrepancy', 'CARDINAL'), ('TFtypicallyontheorderofonemagnitudeontranscriptexpres-', 'PERSON'), ('EXPERIMENTALPROCEDURES', 'ORG'), ('GenerationofBACTransgenicMCF-7CellLines TheBACsTableS10wereobtainedfromInvitrogen', 'PERSON'), ('Thesemayreflect BAC', 'PERSON'), ('MCF-7', 'CARDINAL'), ('Cellsat80confluencycid353106cellsperFAIREorChIPculturedin10', 'ORG'), ('HOT', 'ORG'), ('500', 'CARDINAL'), ('non-NR', 'ORG'), ('10', 'CARDINAL'), ('anti-GFP', 'NORP'), ('H3K4me1', 'NORP'), ('Abcam', 'PERSON'), ('Abcam', 'PERSON'), ('anti-H3R17me2ab8284fromAbcam', 'PERSON'), ('PCRamplification', 'ORG'), ('Affymetrix', 'ORG'), ('Cancer Genome Atlas', 'ORG'), ('cancergenome.nih.govcancersselectedbreastductal', 'ORG'), ('FAIRE', 'GPE'), ('aswell MicroarrayGeneExpressionProfiling astheirassociatedTFs', 'ORG'), ('NR', 'ORG'), ('estradiolE2', 'PERSON'), ('AM580RARAagonist', 'PERSON'), ('CD437RARGagonist', 'ORG'), ('R5020PGRagonist', 'PERSON'), ('sampleswerelabeledbydirectincorporationofcyanine3', 'PERSON'), ('AR', 'ORG'), ('VDRoccurdistallytoTSSs', 'GPE'), ('COUP-TF1', 'FAC'), ('NURR1', 'ORG'), ('ChIP', 'GPE'), ('two', 'CARDINAL'), ('NR', 'ORG'), ('One', 'CARDINAL'), ('Siepel', 'ORG'), ('al.', 'GPE'), ('RAR', 'ORG'), ('548', 'CARDINAL'), ('PreviouslypublishedgeneexpressionandclinicaloutcomedataChangetal', 'ORG'), ('Two', 'CARDINAL'), ('TF', 'ORG'), ('150', 'CARDINAL'), ('X-TilepackageCampetal', 'ORG'), ('Kaplan-Meier', 'PERSON'), ('the Log-Rank', 'ORG'), ('TAS', 'ORG'), ('TF ChIP', 'FAC'), ('MCF-7', 'CARDINAL'), ('al.', 'GPE'), ('2006', 'DATE'), ('HOT', 'ORG'), ('NCBI GEO', 'LAW'), ('SUPPLEMENTALINFORMATION', 'GPE'), ('SupplementalInformationincludesfivefigures', 'ORG'), ('changesoftranscriptlevels', 'ORG'), ('LICENSINGINFORMATION', 'ORG'), ('the Creative EachnetworknoderepresentsaTF.Fortwonodese.g.', 'WORK_OF_ART'), ('Abindswithin50kbtotheTSSofB.TypeII', 'ORG'), ('2011,andorganizedusingunweightedforce', 'CARDINAL'), ('ChicagoandtheHigh', 'PRODUCT'), ('typeIIandtypeIIIedgesintoonecategory', 'NORP'), ('1R01HG004428', 'DATE'), ('P50GM081892', 'PERSON'), ('K.P.W.', 'ORG'), ('the numberofmotifoccurrencesintheoriginalnetworkwaslargerthanin95 National Institutes', 'ORG'), ('Searle', 'ORG'), ('Chicago Community Trust', 'ORG'), ('the Chicago Biomedical Consortium', 'ORG'), ('K.P.W.', 'ORG'), ('R.K.', 'GPE'), ('2006', 'DATE'), ('Bernardo', 'PERSON'), ('G.M.,Lozada', 'GPE'), ('K.L.,Miedler', 'GPE'), ('J.D.,Harburg', 'GPE'), ('G.,Hewitt', 'GPE'), ('J.D.,Godwin', 'PERSON'), ('A.K.,Korach', 'PERSON'), ('K.S.,Visvader', 'ORG'), ('J.E.,Kaestner', 'PERSON'), ('K.H.,etal.2010', 'PERSON'), ('FOXA1', 'ORG'), ('ERalpha', 'ORG'), ('Camp', 'ORG'), ('R.L.,Dolled-Filhart', 'ORG'), ('M.,andRimm', 'ORG'), ('Clin', 'ORG'), ('Nature490,6170', 'ORG'), ('Profiles Carroll', 'PERSON'), ('J.S.', 'GPE'), ('Liu', 'GPE'), ('X.S.', 'GPE'), ('Brodsky', 'GPE'), ('A.S.', 'GPE'), ('Li', 'GPE'), ('W., Meyer', 'PERSON'), ('C.A.', 'GPE'), ('Szary', 'ORG'), ('A.J.', 'GPE'), ('J.,Shao', 'GPE'), ('W.,Hestermann', 'PERSON'), ('E.V.,Geistlinger', 'PERSON'), ('T.R.,etal.2005', 'PERSON'), ('Chromosome', 'ORG'), ('Hu et al.', 'PERSON'), ('2006', 'DATE'), ('J.S.,Meyer', 'PERSON'), ('J.,Li', 'PERSON'), ('J.', 'ORG'), ('Centroid', 'ORG'), ('Brodsky', 'PERSON'), ('A.S.,Keeton', 'GPE'), ('E.K.,Fertuck', 'GPE'), ('Genet.38,12891297', 'ORG'), ('Chang', 'PERSON'), ('H.Y.,Nuyten', 'GPE'), ('J.B.,Hastie,T.,Tibshirani', 'PERSON'), ('R.,Srlie', 'GPE'), ('Dai', 'PERSON'), ('H.Y.', 'GPE'), ('Veer', 'GPE'), ('L.J.', 'GPE'), ('549Robustness', 'CARDINAL'), ('Kouros-Mehr', 'ORG'), ('H.,Slorach', 'GPE'), ('E.M.,Sternlicht', 'PERSON'), ('M.D.,andWerb', 'ORG'), ('Sci', 'PERSON'), ('37383743', 'DATE'), ('Chen', 'PERSON'), ('Lefterova', 'ORG'), ('M.I.,Zhang', 'PERSON'), ('Y.,Steger,D.J.,Schupp,M.,Schug', 'GPE'), ('418426', 'DATE'), ('Feng', 'PERSON'), ('D.', 'NORP'), ('Zhuo', 'PERSON'), ('D.', 'NORP'), ('Stoeckert', 'PERSON'), ('C.J.', 'GPE'), ('Liu', 'PERSON'), ('X.S.', 'GPE'), ('Lazar', 'GPE'), ('Conzen', 'PERSON'), ('Mol', 'PERSON'), ('Endocrinol.22,22152228', 'PERSON'), ('Lin', 'PERSON'), ('V.B.,Thomsen', 'PERSON'), ('J.S.,Zhang', 'GPE'), ('T.,Kong', 'GPE'), ('M.,Chiu', 'PERSON'), ('K.P., Nat', 'ORG'), ('Lipovich', 'PERSON'), ('L.,Barnett', 'GPE'), ('D.H.,Stossi', 'PERSON'), ('F.,etal.2007.Whole', 'LAW'), ('Dunham', 'GPE'), ('I.,Kundaje', 'GPE'), ('S.F.,Collins', 'PERSON'), ('P.J.,Davis', 'PERSON'), ('C.A.,Doyle', 'PERSON'), ('Lupien', 'PERSON'), ('M.,Eeckhoute', 'ORG'), ('J.,Meyer', 'PERSON'), ('Q.,Zhang', 'PERSON'), ('Y.,Li', 'GPE'), ('W.,Carroll', 'GPE'), ('C.B.,Frietze', 'ORG'), ('S.,Harrow', 'GPE'), ('J.,Kaul', 'PERSON'), ('R.,etal', 'ORG'), ('X.S.,andBrown', 'GPE'), ('Cell132,958970', 'GPE'), ('Nature489,5774', 'PERSON'), ('L.V.,Wang', 'GPE'), ('L.D.,Greil', 'ORG'), ('F., Eeckhoute', 'ORG'), ('J.,Keeton', 'GPE'), ('E.K.,Lupien', 'PERSON'), ('Lu', 'PERSON'), ('X.J.,White', 'GPE'), ('K.P.,Bussemaker', 'GPE'), ('B.2006.Hotspots M.2007.Positivecross-regulatorylooptiesGATA-3toestrogenreceptor', 'PERSON'), ('transcription', 'CARDINAL'), ('Drosophila', 'ORG'), ('CancerRes.67,64776483', 'PERSON'), ('Sci', 'PERSON'), ('R.,andWagner', 'PERSON'), ('Nat', 'PERSON'), ('Nat', 'PERSON'), ('Evans', 'PERSON'), ('R.M.2005.Thenuclearreceptorsuperfamilyarosettastoneforphys- Negre', 'ORG'), ('N.,Brown', 'GPE'), ('C.D.,Ma', 'GPE'), ('C.A.,Miller', 'ORG'), ('S.W.,Wagner', 'ORG'), ('adpour', 'PERSON'), ('P.,Eaton', 'GPE'), ('M.L.,Loriaux', 'GPE'), ('Fullwood', 'PRODUCT'), ('M.J.,Liu', 'PERSON'), ('M.H.,Pan', 'PERSON'), ('Y.F.,Liu', 'ORG'), ('Y.B.,Orlov', 'GPE'), ('Y.L.', 'GPE'), ('Nature471,527531', 'PERSON'), ('Velkov', 'PERSON'), ('E.,Wimberly', 'GPE'), ('H.,Bailey', 'ORG'), ('Y.,Rimm', 'ORG'), ('Nature462,5864', 'ORG'), ('X.S.,andBrown', 'PERSON'), ('Gerstein', 'PERSON'), ('E.L.,Cheng', 'PERSON'), ('C.,Arshinoff', 'GPE'), ('B.I.,Liu', 'ORG'), ('T.', 'ORG'), ('CancerCell20,119131', 'PERSON'), ('K.Y.', 'PERSON'), ('Robilotto', 'PERSON'), ('R.', 'NORP'), ('Rechtsteiner', 'PERSON'), ('A.,Ikegami', 'GPE'), ('Nielsen', 'GPE'), ('R.,Pedersen', 'DATE'), ('T.A.,Hagenbeek', 'PERSON'), ('D.,Moulos', 'GPE'), ('P.,Siersbaek', 'GPE'), ('R.,Me-', 'PERSON'), ('E.,Denissov,S.,Brgesen,M.,Francoijs', 'GPE'), ('K.J.,Mandrup', 'PERSON'), ('nenberg', 'PERSON'), ('H.G.2008.Genome-wideprofilingofPPARgammaRXRandRNA Gerstein', 'ORG'), ('M.B.,Kundaje', 'ORG'), ('A.,Hariharan', 'GPE'), ('M.,Landt', 'NORP'), ('K.K.,Cheng', 'PERSON'), ('C.', 'GPE'), ('II', 'PERSON'), ('Mu', 'ORG'), ('X.J.,Khurana', 'ORG'), ('E.,Rozowsky', 'ORG'), ('J.,Alexander,R.,etal.2012.Architecture pathwaysandchangesinRXRdimercompositionduringadipogenesis', 'ORG'), ('91100', 'CARDINAL'), ('I.,Sarov,M.,Hutchins', 'ORG'), ('J.R.,Heriche', 'GPE'), ('J.K.,Toyoda', 'GPE'), ('Y.,Pozniakovsky', 'GPE'), ('Giresi', 'GPE'), ('J.,McDaniell', 'CARDINAL'), ('V.R.,andLieb', 'ORG'), ('J.D.2007.FAIRE A.,Weigl', 'PERSON'), ('D.,Nitzsche', 'GPE'), ('A.,Hegemann', 'GPE'), ('B.,Bird', 'GPE'), ('A.W.,etal.2008.BACTrans- Formaldehyde-Assisted Isolation of Regulatory Elements', 'ORG'), ('Grivas', 'PERSON'), ('P.D.,Kiaris', 'PERSON'), ('T.E.,Pauli', 'GPE'), ('F.,Sprouse', 'ORG'), ('N.F.,Newberry', 'PERSON'), ('K.M.,Garabedian', 'NORP'), ('TrendsMol', 'ORG'), ('R.M.2009.Genomicdeterminationoftheglucocorticoid Gronemeyer,H.,Gustafsson', 'PERSON'), ('GenomeRes', 'ORG'), ('Nat', 'PERSON'), ('DrugDiscov.3,950964', 'PERSON'), ('N.,Danko', 'PERSON'), ('L.,Waterfall', 'PERSON'), ('J.T.,andKraus', 'GPE'), ('Roy', 'PERSON'), ('S.,Ernst', 'GPE'), ('J.,Kharchenko', 'GPE'), ('P.V.,Kheradpour', 'GPE'), ('P.,Negre', 'GPE'), ('N.,Eaton', 'GPE'), ('M.L.', 'GPE'), ('W.L. 2011', 'ORG'), ('Landolin', 'GPE'), ('C.A.,Ma', 'PERSON'), ('Harvey,J.M.,Clark,G.M.,Osborne', 'ORG'), ('D.C.1999.Estrogen DrosophilamodENCODE.Science330,17871797', 'PERSON'), ('Schug', 'PERSON'), ('T.T.', 'GPE'), ('Berry, D.C.,', 'GPE'), ('Shaw', 'PERSON'), ('N.S.', 'GPE'), ('Travis', 'GPE'), ('S.N.', 'ORG'), ('Noy', 'GPE'), ('2007', 'DATE'), ('Opposingeffectsofretinoicacidoncellgrowthresultfromalternateactivation J.Clin', 'PERSON'), ('Oncol.17,14741481', 'PERSON'), ('Hu', 'PERSON'), ('Z.,Fan', 'PERSON'), ('C.,Oh', 'PERSON'), ('D.S.,Marron', 'PERSON'), ('J.S.,He', 'PERSON'), ('X.,Qaqish', 'NORP'), ('B.F.,Livasy', 'PERSON'), ('C.,Carey', 'GPE'), ('Schug', 'PERSON'), ('T.T.,Berry', 'PERSON'), ('D.C.,Toshkov', 'PERSON'), ('I.A.,Cheng,L.,Nikitin', 'PERSON'), ('A.Y.,andNoy', 'CARDINAL'), ('N. L.A.,Reynolds', 'PERSON'), ('E.,Dressler', 'GPE'), ('L.,etal.2006.Themolecularportraitsofbreast 2008', 'DATE'), ('Hua', 'PERSON'), ('S.,Kallen', 'GPE'), ('R.,Baquero', 'PERSON'), ('M.T.,Mason', 'PERSON'), ('C.E.,Russell', 'GPE'), ('B.A.', 'GPE'), ('J.,Khramtsov', 'GPE'), ('A.,Tretiakova', 'GPE'), ('Siepel', 'ORG'), ('A.,Bejerano', 'PERSON'), ('G.,Pedersen', 'PERSON'), ('J.S.,Hinrichs', 'PERSON'), ('M.,Rosenbloom', 'ORG'), ('analysisofestrogencascaderevealshistonevariantH2A.Zassociatedwith K.,Clawson', 'PERSON'), ('H.,Spieth', 'GPE'), ('Biol.4,188', 'PERSON'), ('Hua', 'PERSON'), ('M.E.', 'GPE'), ('Ono, K.', 'GPE'), ('Ruscheinski', 'PERSON'), ('J.', 'ORG'), ('Wang', 'GPE'), ('P.L.', 'GPE'), ('Ideker', 'ORG'), ('John', 'PERSON'), ('M.H.,Biddie', 'ORG'), ('S.C.,Johnson', 'ORG'), ('T.A.', 'ORG'), ('Nat', 'PERSON'), ('264268', 'DATE'), ('S.L.,Li', 'PERSON'), ('W.K.,andLiu', 'PERSON'), ('E.T.2011.Cellularreprog- 3,Article3', 'DATE'), ('Stephen,R.L.,Gustafsson', 'GPE'), ('M.,Tatoud', 'PERSON'), ('R.,Marshall', 'PERSON'), ('D.,Ehrenborg,E.,Harris', 'ORG'), ('A.L.,Wolf', 'ORG'), ('550', 'CARDINAL'), ('transcription', 'CARDINAL'), ('138', 'CARDINAL'), ('245256', 'DATE'), ('Subramanian', 'NORP'), ('Tamayo', 'PERSON'), ('Mootha', 'GPE'), ('V.K.', 'GPE'), ('Mukherjee', 'GPE'), ('Ebert', 'PERSON'), ('B.L.', 'GPE'), ('Welboren', 'GPE'), ('M.A.,Janssen-Megens', 'PERSON'), ('S.J.', 'ORG'), ('Gillette', 'ORG'), ('M.A.,Paulovich', 'PERSON'), ('A.,Pomeroy', 'GPE'), ('Sweep', 'PRODUCT'), ('F.C.,Span', 'GPE'), ('P.N.,andStunnenberg', 'ORG'), ('J.P.2005.Genesetenrichmentanalysisaknowledge', 'NORP'), ('RNA', 'ORG'), ('II', 'CARDINAL'), ('102,1554515550', 'CARDINAL'), ('Wilson', 'ORG'), ('M.J.,He', 'PERSON'), ('Y.D.,vantVeer', 'GPE'), ('L.J.,Dai', 'PERSON'), ('H.,Hart', 'ORG'), ('A.A.,Voskuil', 'PERSON'), ('D.W.', 'GPE'), ('G.J.,Peterse,J.L.,Roberts', 'ORG'), ('C.,Marton', 'ORG'), ('J. Witt', 'PERSON'), ('N.L.,Hu', 'PERSON'), ('Y.H.,Gunawardane', 'GPE'), ('R.N.,Moreira', 'GPE'), ('D.', 'NORP'), ('Raphael', 'PERSON'), ('J.,Jepson,D.,Koundinya', 'GPE'), ('M.,Rolfs', 'GPE'), ('A.,etal.2006.Functionalpro- Wang', 'PERSON'), ('Q.,Li', 'PERSON'), ('X.,Xu', 'NORP'), ('J.,Chen', 'GPE'), ('Z.,Beroukhim', 'GPE'), ('R.', 'NORP'), ('Wang', 'GPE'), ('H.,Lupien', 'GPE'), ('551', 'CARDINAL')]\n"
          ]
        }
      ],
      "source": [
        "# Process each PDF and apply preprocessing\n",
        "for filename in os.listdir(pdf_directory):\n",
        "    if filename.endswith(\".pdf\"):\n",
        "        pdf_path = os.path.join(pdf_directory, filename)\n",
        "\n",
        "        # Extract and clean text\n",
        "        text = extract_text_from_pdf(pdf_path)\n",
        "        cleaned = clean_text(text)\n",
        "        tokens = preprocess_text(cleaned)\n",
        "\n",
        "        # Apply stemming, lemmatization, and NER\n",
        "        stemmed = stem_tokens(tokens)\n",
        "        lemmatized = lemmatize_tokens(tokens)\n",
        "        entities = perform_ner(cleaned)\n",
        "\n",
        "        # Store results\n",
        "        pdf_texts[filename] = text\n",
        "        cleaned_texts[filename] = cleaned\n",
        "        preprocessed_texts.append(tokens)\n",
        "        stemmed_texts.append(stemmed)\n",
        "        lemmatized_texts.append(lemmatized)\n",
        "        entities_per_doc.append(entities)\n",
        "\n",
        "# Print sample outputs for validation\n",
        "print(\"Sample cleaned text:\", list(cleaned_texts.values())[0])\n",
        "print(\"Sample tokenized text:\", preprocessed_texts[0])\n",
        "print(\"Sample stemmed text:\", stemmed_texts[0])\n",
        "print(\"Sample lemmatized text:\", lemmatized_texts[0])\n",
        "print(\"Sample NER:\", entities_per_doc[0])\n"
      ]
    },
    {
      "cell_type": "code",
      "execution_count": 10,
      "metadata": {
        "colab": {
          "base_uri": "https://localhost:8080/"
        },
        "id": "DbKTZnml9e1Z",
        "outputId": "ebff69bd-41b8-4df8-f9e2-3c1d41750047"
      },
      "outputs": [
        {
          "output_type": "stream",
          "name": "stdout",
          "text": [
            "Files in the directory: ['A-Comprehensive-Nuclear-Receptor-Network-for-Breas.pdf', 'Artificial-intelligence-in-breast-cancer-diagnosti.pdf', 'Aurora-kinase-A-regulates-cancer-associated-RNA-ab.pdf', 'Autophagy-Suppresses-Breast-Cancer-Metastasis_devc.pdf', 'BikDD-Eliminates-Breast-Cancer-Initiating-Cells-an.pdf', 'Biological-differences-between-normal-and-cancer-a.pdf', 'Breast-Cancer-Polygenic-Risk-Score-and-Contralater.pdf', 'Breast-Cancer-Src-Activity--Bad-to-the-Bone_ccell.pdf', 'Breast-Cancer-Stem-Cells--Eradication-by-Different.pdf', 'Causal-relationship-between-dietary-factors-and-br.pdf', 'CDK7-Dependent-Transcriptional-Addiction-in-Triple.pdf', 'CHEK2-1100delC-and-Susceptibility-to-Breast-Cancer.pdf', 'Common-Breast-Cancer-Predisposition-Alleles-Are-As.pdf', 'Cordycepin-enhances-anti-tumor-immunity-in-breast-.pdf', 'Deciphering-breast-cancer--from-biology-to-the-cli.pdf', 'Direct-Transcriptional-Consequences-of-Somatic-Mut.pdf', '-em-Comprehensive-Analysis-of-the-Expressionand-Pr.pdf', '-em-JARID1B--em--Is-a-Luminal-Lineage-Driving-Onco.pdf', 'eQTL-Colocalization-Analyses-Identify--em-NTN4--em.pdf', 'Estrogens-and-the-risk-of-breast-cancer--A-narrati.pdf', 'Expression-of--em-NORAD--em--correlates-with-breas.pdf', 'Fine-Scale-Mapping-of-the-5q11.2-Breast-Cancer-Loc.pdf', 'Focus-on-breast-cancer_ccell.pdf', 'Genetically-Engineered-Cell-Derived-Nanoparticles-.pdf', 'Genetic-Heterogeneity-and-Penetrance-Analysis-of-t.pdf', 'Genomic-Evolution-of-Breast-Cancer-Metastasis-and-.pdf', 'Higher-dietary-soy-intake-appears-inversely-relate.pdf', 'High-Expression-of-Pseudogene-PTTG3P-Indicates-a-P.pdf', 'Hypoxia-induced-CTCF-promotes-EMT-in-breast-cancer.pdf', 'Identification-of-new-subtypes-of-breast-cancer-ba.pdf', 'Increasing-the-effect-of-annonacin-using-nanodiamo.pdf', 'Integrated-breast-cancer-genomics_ccell.pdf', 'Integrating-metabolic-reprogramming-and-metabolic-.pdf', 'Integrative-Genomic-Approaches-Identify--em-IKBKE-.pdf', 'Lactylation-related-gene-signature-for-prognostic-.pdf', 'Mechanisms-of-drug-resistance-in-breast-cancer-liv.pdf', 'Melatonin-Regulates-Breast-Cancer-Progression-by-t.pdf', 'Membrane-Macrophage-Colony-Stimulating-Factor-on-M.pdf', 'Mesenchymal-Stem-Stromal-Cell-Engulfment-Reveals-M.pdf', 'Molecular-analysis-of-TCGA-breast-cancer-histologi.pdf', 'Molecular-Features-of-Subtype-Specific-Progression.pdf', 'Molecular-profiling-of-nucleocytoplasmic-transport.pdf', 'Molecular-subtype-identification-and-prognosis-str.pdf', 'More-reliable-breast-cancer-risk-assessment-for-ev.pdf', 'Olfactory-receptor-5B21-drives-breast-cancer-metas.pdf', 'Overcoming-Endocrine-Resistance-in-Breast-Cancer_c.pdf', 'Par(&#x2212;4)oxysm-in-Breast-Cancer_ccell.pdf', 'PDK1-Dependent-Metabolic-Reprogramming-Dictates-Me.pdf', 'PI3K-AKT-Signaling-Regulates-H3K4-Methylation-in-B.pdf', 'Polygenic-Risk-Scores-for-Prediction-of-Breast-Can.pdf', 'Predictive-gene-expression-profile-for-adjuvant-ta.pdf', 'PRMT5-regulates-RNA-m6A-demethylation-for-doxorubi.pdf', 'Rare,-Evolutionarily-Unlikely-Missense-Substitutio.pdf', 'Rare-Mutations-in--em-XRCC2--em--Increase-the-Risk.pdf', 'Reduction-of-breast-cancer-extravasation-via-vibra.pdf', 'Regulation-of-Breast-Cancer-Induced-Osteoclastogen.pdf', 'Requirement-for-CDK4-kinase-function-in-breast-can.pdf', 'Review--Predictive-approaches-to-breast-cancer-ris.pdf', 'Role-of-hypoxia-inducible-factor-1&#x3b1;-and-surv.pdf', 'SGK3-Mediates-INPP4B-Dependent-PI3K-Signaling-in-B.pdf', 'SNHG5-Promotes-Breast-Cancer-Proliferation-by-Spon.pdf', 'Targeting-Androgen-Receptor-in-Estrogen-Receptor-N.pdf', 'Ten-Genes-for-Inherited-Breast-Cancer_ccell.pdf', 'The-Genomic-and-Immune-Landscapes-of-Lethal-Metast.pdf', 'The-Proteomic-Landscape-of-Triple-Negative-Breast-.pdf', 'Therapeutic-Implications-of-Cellular-Heterogeneity.pdf', 'Translational-adaptation-in-breast-cancer-metastas.pdf', 'Unfavorable-Drug-Interactions-in-Targeted-Breast-C.pdf', 'Unwanted-passengers--Microbes-hitchiking-in-breast.pdf', 'Up-regulation-of--em-FOXN3-AS1--em--in-invasive-du.pdf', 'Variants-in--em-CHEK2--em--Other-than-1100delC-Do-.pdf', 'A-bioinformatic-analysis-found-low-expression-and-.pdf', '27-Hydroxycholesterol-Promotes-Cell-Autonomous,-ER.pdf', 'Acetyl-CoA-Carboxylase-1-Dependent-Protein-Acetyla.pdf', 'Assessment-of-the-albumin-bilirubin-score-in-breas.pdf', 'Comparing-blood-versus-tissue-based-biomarkers-exp.pdf', 'Clinical-perspective--Antibody-drug-conjugates-for.pdf', 'Breast-cancer-susceptibility&#x2014;A-new-look-at-.pdf', 'A-novel-oncogenic-enhancer-of-estrogen-receptor-po.pdf', 'A-Pin1-Mutant-p53-Axis-Promotes-Aggressiveness-in&.pdf', 'Breast-Cancer-Classification-Based-on-Proteotypes-.pdf', 'Acyl-CoA-synthetase-4-modulates-mitochondrial-func.pdf', 'A-prognostic-nomogram-for-predicting-breast-cancer.pdf', 'Asiaticoside-inhibits-breast-cancer-progression-an.pdf', 'Collective-Invasion-in-Breast-Cancer-Requires-a-Co.pdf', 'Breast-Cancer-Bone-Metastases--It&#x2019;s-All-abo.pdf', 'A-new-key-in-breast-cancer-metastasis_ccell.pdf', 'Breast-Cancer-Derived-Lung-Metastases-Show-Increas.pdf', 'Annexin-2-protein-expression-is-associated-with-br.pdf', 'Bufalin-reverses-ABCB1-mediated-resistance-to-doce.pdf', 'A-joint-transcriptome-wide-association-study-acros.pdf', 'A-multigenic-program-mediating-breast-cancer-metas.pdf', 'circHMCU-Promotes-Proliferation-and-Metastasis-of-.pdf', 'CCL18-from-Tumor-Associated-Macrophages-Promotes-B.pdf', 'Determining-Carrier-Probabilities-for-Breast-Cance.pdf', 'Comprehensive-Molecular-Portraits-of-Invasive-Lobu.pdf', 'Deciphering-the-signaling-network-of-breast-cancer.pdf', 'Cross-platform-gene-expression-profiling-of-breast.pdf', 'Creatine-mediated-crosstalk-between-adipocytes-and.pdf', 'EV-miRNAs-from-breast-cancer-patients-of-plasma-as.pdf', 'Evolution-of-chromosome-arm-aberrations-in-breast-.pdf', 'Copy-number-alterations--a-catastrophic-orchestrat.pdf', 'Endophytic-fungi--A-future-prospect-for-breast-can.pdf', 'Differential-Functions-of-Splicing-Factors-in-Mamm.pdf', 'Context-dependent-roles-for-ubiquitous-mitochondri.pdf', 'Correlation-between-breast-cancer-and-human-papill.pdf', '-em-ATM--em--Heterozygous-Germline-Mutations-Contr.pdf', 'Exosome-Transfer-from-Stromal-to-Breast-Cancer-Cel.pdf', 'CXCR4-Antagonist-AMD3100-Reverses-the-Resistance-t.pdf', 'Emerging-treatments-in-HER2-positive-advanced-brea.pdf', 'Emotional-Intelligence-and-Breast-Cancer--A-System.pdf', 'Exploring-the-impact-of-breast-cancer-on-colonizat.pdf', 'Dissecting-the-emerging-role-of-cancer-associated-.pdf', 'Exosomal-microRNAs-synergistically-trigger-stromal.pdf', 'IL6-STAT3-Signaling-Hijacks-Estrogen-Receptor-&#x3.pdf', 'Functional-Genomic-Landscape-of-Human-Breast-Cance.pdf', 'HIF-1&#x3b1;-Knockdown-Suppresses-Breast-Cancer-Me.pdf', 'Heterochromatin-Encoded-Satellite-RNAs-Induce-Brea.pdf', 'Histone-Demethylase-RBP2-Is-Critical-for-Breast-Ca.pdf', 'Generalizability-of-PGS-sub-313--sub--for-breast-c.pdf', 'Integrative-eQTL-Based-Analyses-Reveal-the-Biology.pdf', 'Oncolytic-Reovirus-Effectively-Targets-Breast-Canc.pdf', 'Opposing-Functions-of-BRD4-Isoforms-in-Breast-Canc.pdf', 'New-Views-into-the-Genetic-Landscape-of-Metastatic.pdf', 'Periostin-binding-DNA-Aptamer-Inhibits-Breast-Canc.pdf', 'Performance-of--em-survivin--em--mRNA-as-a-biomark.pdf', 'Magnetic-layered-double-hydroxides-with-carbamazep.pdf', 'Novel-miR-5088-5p-promotes-malignancy-of-breast-ca.pdf', 'ncRNAs-mediated-overexpression-of--em-TET3--em--pr.pdf', 'LncRNA-TYMSOS-facilitates-breast-cancer-metastasis.pdf', 'LINC01189-miR-586-ZEB1-feedback-loop-regulates-bre.pdf', 'Neurofibromin-Is-an-Estrogen-Receptor-&#x3b1;-Tran.pdf', 'Liver-Type-Glutaminase-GLS2-Is-a-Druggable-Metabol.pdf', 'Integrin-Mediated-Macrophage-Adhesion-Promotes-Lym.pdf', 'Latent-Bone-Metastasis-in-Breast-Cancer-Tied-to-Sr.pdf', 'miR-301-regulates-the-SIRT1-SOX2-pathway-via-CPEB1.pdf', 'lncRNA-and-breast-cancer--Progress-from-identifyin.pdf', 'Mesenchymal-Stem-Cell-Induced-DDR2-Mediates-Stroma.pdf', 'Oncolytic-Adenoviruses-Kill-Breast-Cancer-Initiati.pdf', 'Metabolic-Profiling-Reveals-PAFAH1B3-as-a-Critical.pdf', 'The-lung-fibroblast-as-&#x201c;soil-fertilizer&#x2.pdf', 'Podoplanin-Expressing-Macrophages-Promote-Lymphang.pdf', 'Prognostic-model-construction-and-target-identific.pdf', 'Proteogenomic-Landscape-of-Breast-Cancer-Tumorigen.pdf', 'SOX2-Promotes-Brain-Metastasis-of-Breast-Cancer-by.pdf', 'SnapShot--Breast-Cancer_ccell.pdf', 'Response-based-molecular-subtyping&#x2014;emergenc.pdf', 'Terminal-Differentiation-of-Human-Breast-Cancer-th.pdf', 'The-impact-of-coding-germline-variants-on-contrala.pdf', 'SMC1A-regulated-by-KIAA1429-in-m6A-independent-man.pdf', 'PGC-1&#x3b1;-Promotes-Breast-Cancer-Metastasis-and.pdf', 'Regulatory-T-Cells-Exhibit-Distinct-Features-in-Hu.pdf', 'The-Expression-of-ZNF268-and-Its-Role-in-The-Cispl.pdf', 'Radiogenomic-analysis-reveals-tumor-heterogeneity-.pdf', 'Pregnancy-and-Breast-Cancer--Pathways-to&#xa0;Unde.pdf', 'Targeting-the-circBMPR2-miR-553-USP4-Axis-as-a-Pot.pdf', 'Recruitment-of-Circulating-Breast-Cancer-Cells-Is-.pdf', 'Tumor-suppressor-KEAP1-promotes-HSPA9-degradation,.pdf', 'TRPS1-Is-a-Lineage-Specific-Transcriptional-Depend.pdf', 'The-UPR-Transducer-IRE1-Promotes-Breast-Cancer-Mal.pdf', 'ZEB1-Mediated-Transcriptional-Upregulation-of-circ.pdf', 'ZNF281-miR-543-Feedback-Loop-Regulates-Transformin.pdf', 'Radiomics-in-breast-cancer--Current-advances-and-f.pdf', 'ALYREF-enhances-breast-cancer-progression-by-regul.pdf', 'CARMA--CARM1-Methylation-of-SWI-SNF-in-Breast-Canc.pdf', 'Bioinformatics-and-network-biology-approach-to-ide.pdf', 'A-collection-of-breast-cancer-cell-lines-for-the-s.pdf', 'A-bibliometric-study-of-the-intellectual-base-and-.pdf', 'APOBEC3B-Mediated-Cytidine-Deamination-Is-Required.pdf', 'A-comparison-between-clinical-decision-support-sys.pdf', 'Antibody-activation-of-connexin-hemichannels-in-bo.pdf', 'CDK-4-6-Inhibitors-Sensitize--em-PIK3CA--em--Mutan.pdf', 'Awareness,-attitudes-and-practices-of-women-in-rel.pdf', 'Catalytic-Double-Cyclization-Process-for-Antitumor.pdf', 'Cathepsin-C-promotes-breast-cancer-lung-metastasis.pdf', 'CD133-mRNA-transfected-dendritic-cells-induce-coor.pdf', 'Conserved-role-of-FOXC1-in-TNBC-is-parallel-to-FOX.pdf', 'Chemoresistance-Evolution-in-Triple-Negative-Breas.pdf', 'Chemotherapy-Induced-Ca-sup-2+--sup--Release-Stimu.pdf', 'Combating-breast-cancer-progression-through-combin.pdf', 'Downregulation-of-miRNA-200c-Links-Breast-Cancer-S.pdf', 'Datopotamab-deruxtecan--A-novel-antibody-drug-conj.pdf', 'Chronically-Alternating-Light-Cycles-Increase-Brea.pdf', 'Detection-of-breast-cancer-cells-by-a-near-infrare.pdf', 'CDYL2-Epigenetically-Regulates--em-MIR124--em--to-.pdf', 'CDK14-inhibition-reduces-mammary-stem-cell-activit.pdf', 'Cytokines-and-cell-adhesion-molecules-exhibit-dist.pdf', 'Dual-Mechanisms-of-LYN-Kinase-Dysregulation-Drive-.pdf', 'DAB2IP-suppresses-invadopodia-formation-through-de.pdf', 'Characterization-of-the-tumor-microenvironment-in-.pdf', 'circ-NOL10-regulated-by-MTDH-CASC3-inhibits-breast.pdf', 'Expression-of-immune-checkpoints-(PD-L1-and-IDO)-a.pdf', '-em-AKTIP--em--loss-is-enriched-in-ER&#x3b1;-posit.pdf', 'ESR1-and-p53-interactome-alteration-defines-mechan.pdf', 'Ferroptosis-heterogeneity-in-triple-negative-breas.pdf', 'Enhanced-Gene-Expression-in-Breast-Cancer-Cells--e.pdf', 'Genomic-Antagonism-between-Retinoic-Acid-and-Estro.pdf', 'E-selectin-Targeting-PEGylated-thioaptamer-Prevent.pdf', 'Endogenous-tRNA-Derived-Fragments-Suppress-Breast-.pdf', 'GABA-baclofen-stabilizes-PD-L1-and-enhances-immuno.pdf', 'FER-regulates-endosomal-recycling-and-is-a-predict.pdf', '-em-N--em--acetylcysteine-overcomes--em-NF1--em--l.pdf', 'Genome-wide-Linkage-Scan-Reveals-Three-Putative-Br.pdf', 'FOXK2-Elicits-Massive-Transcription-Repression-and.pdf', 'Evaluation-PD-L1,-CD8-and-CD20-as-early-predictor-.pdf', 'Fibroblast-Heterogeneity-and-Immunosuppressive-Env.pdf', 'Functional-Annotation-of--em-ESR1--em--Gene-Fusion.pdf', 'Expanding-the-Role-for-Immunotherapy-in-Triple-Neg.pdf', 'Genetic-Predisposition-Directs-Breast-Cancer-Pheno.pdf', 'GLS-and-GOT2-as-prognostic-biomarkers-associated-w.pdf', 'Epigenetic-Reprogramming-of-Cancer-Associated-Fibr.pdf', '-em-NEAT1--em--is-essential-for-metabolic-changes-.pdf', 'FOXM1-Deubiquitination-by-USP21-Regulates-Cell-Cyc.pdf', 'Inhibition-of-YTHDF2-triggers-proteotoxic-cell-dea.pdf', 'Heterogeneity-and-transcriptional-drivers-of-tripl.pdf', 'Integrated-Pharmacodynamic-Analysis-Identifies-Two.pdf', 'Long-Non-coding-RNA-LOXL1-AS1-Drives-Breast-Cancer.pdf', 'Identification-of-actionable-targets-for-breast-ca.pdf', 'Metabolic-Imaging-Detects-Resistance-to-PI3K&#x3b1.pdf', 'Hypoxia-stimulates-CTC-platelet-cluster-formation-.pdf', 'lncRNA-LCPAT1&#xa0;Upregulation-Promotes-Breast-Ca.pdf', 'Iodine-131-labeled-genistein-as-a-potential-radiot.pdf', 'Immature-Low-Density-Neutrophils-Exhibit-Metabolic.pdf', 'Impacts-of-designed-vanillic-acid-polymer-magnetic.pdf', 'LncRNA-LINC00963-Promotes-Tumorigenesis-and-Radior.pdf', 'MiR-338&#x2013;5p,-a-novel-metastasis-related-miRN.pdf', 'Mitotic-Spindle-Assembly-and-Genomic-Stability-in-.pdf', 'gp78-regulated-KAP1-phosphorylation-induces-radior.pdf', 'Structural-analysis-of-genomic-and-proteomic-signa.pdf', 'Targeted-Expression-of-miR-34a-Using-the-T-VISA-Sy.pdf', 'SRSF1-Regulated-Alternative-Splicing-in-Breast-Can.pdf', 'Paracrine-Induction-of-HIF-by-Glutamate-in-Breast-.pdf', 'Parthenolide-Covalently-Targets-and-Inhibits-Focal.pdf', 'The-Inositol-Polyphosphate-5-Phosphatase-PIPP-Regu.pdf', 'Single-Cell-Transcriptome-Analysis-Reveals-Estroge.pdf', 'Therapy-induced-normal-tissue-damage-promotes-brea.pdf', 'Modeling-breast-cancer-proliferation,-drug-synergi.pdf', 'Systemically-Injected-Exosomes-Targeted-to-EGFR-De.pdf', 'Survival-analysis-of-recurrent-breast-cancer-patie.pdf', 'Par-4-Downregulation-Promotes-Breast-Cancer-Recurr.pdf', 'Pregnancy-and-breast-cancer--The-other-side-of-the.pdf', 'Targeting-the-mRNA-endonuclease-CPSF73-inhibits-br.pdf', 'The-migration-of-metastatic-breast-cancer-cells-is.pdf', 'MSC-Regulated-MicroRNAs-Converge-on-the-Transcript.pdf', 'Photo-sono-activated-BNT@MoS-sub-2--sub--composite.pdf', 'The-bone-microenvironment-increases-phenotypic-pla.pdf', 'Toward-defining-the-clinically-actionable-genome-o.pdf', 'Transcriptional-Factor-Yin-Yang-1-Promotes-the-Ste.pdf', 'Transcriptional-Signature-Derived-from-Murine-Tumo.pdf', 'Timeless-Stimulated-miR-5188-FOXO1-&#x3b2;-Catenin.pdf', 'The-role-of-nutrition-based-index-in-predicting-su.pdf', 'UXT,-a-novel-DNMT3b-binding-protein,-promotes-brea.pdf', 'Variants-in--em-ATRIP--em--are-associated-with-bre.pdf']\n"
          ]
        }
      ],
      "source": [
        "print(\"Files in the directory:\", os.listdir(pdf_directory))"
      ]
    },
    {
      "cell_type": "markdown",
      "source": [
        "Indexing with Search features (using Whoosh)"
      ],
      "metadata": {
        "id": "CpEGpEqTWTV5"
      }
    },
    {
      "cell_type": "code",
      "execution_count": 11,
      "metadata": {
        "id": "GrZ-hldF8TcM",
        "colab": {
          "base_uri": "https://localhost:8080/"
        },
        "outputId": "0f8a2a8d-4476-41c5-d8ea-87c9c8744404"
      },
      "outputs": [
        {
          "output_type": "stream",
          "name": "stdout",
          "text": [
            "Indexing completed!\n"
          ]
        }
      ],
      "source": [
        "from whoosh.index import create_in\n",
        "from whoosh.fields import Schema, TEXT, ID\n",
        "import os\n",
        "\n",
        "# Define schema for Whoosh indexing\n",
        "schema = Schema(\n",
        "    title=TEXT(stored=True),  # Store document title\n",
        "    content=TEXT(stored=True),  # Store the original content\n",
        "    stemmed_text=TEXT(stored=True),  # Store stemmed text\n",
        "    lemmatized_text=TEXT(stored=True),  # Store lemmatized text\n",
        "    entities=TEXT(stored=True)  # Store named entities\n",
        ")\n",
        "\n",
        "# Create the index directory if it doesn't exist\n",
        "if not os.path.exists(\"whoosh_index\"):\n",
        "    os.mkdir(\"whoosh_index\")\n",
        "\n",
        "# Create the index\n",
        "index = create_in(\"whoosh_index\", schema)\n",
        "\n",
        "# Index the documents\n",
        "writer = index.writer()\n",
        "\n",
        "for filename, original_text, stemmed, lemmatized, entities in zip(\n",
        "    pdf_texts.keys(), pdf_texts.values(), stemmed_texts, lemmatized_texts, entities_per_doc):\n",
        "\n",
        "    # Add each document to the index\n",
        "    writer.add_document(\n",
        "        title=filename,\n",
        "        content=original_text,\n",
        "        stemmed_text=\" \".join(stemmed),\n",
        "        lemmatized_text=\" \".join(lemmatized),\n",
        "        entities=\" \".join([ent[0] for ent in entities])\n",
        "    )\n",
        "\n",
        "# Commit the changes\n",
        "writer.commit()\n",
        "print(\"Indexing completed!\")\n"
      ]
    },
    {
      "cell_type": "code",
      "execution_count": 12,
      "metadata": {
        "id": "FoF-dazF8WbF",
        "colab": {
          "base_uri": "https://localhost:8080/"
        },
        "outputId": "b64e7f9f-ee1d-4447-d725-27ffeef9cd59"
      },
      "outputs": [
        {
          "output_type": "stream",
          "name": "stdout",
          "text": [
            "Title: Asiaticoside-inhibits-breast-cancer-progression-an.pdf\n",
            "Title: Cordycepin-enhances-anti-tumor-immunity-in-breast-.pdf\n",
            "Title: GABA-baclofen-stabilizes-PD-L1-and-enhances-immuno.pdf\n",
            "Title: Datopotamab-deruxtecan--A-novel-antibody-drug-conj.pdf\n",
            "Title: A-comparison-between-clinical-decision-support-sys.pdf\n",
            "Title: BikDD-Eliminates-Breast-Cancer-Initiating-Cells-an.pdf\n",
            "Title: Impacts-of-designed-vanillic-acid-polymer-magnetic.pdf\n",
            "Title: A-bibliometric-study-of-the-intellectual-base-and-.pdf\n",
            "Title: The-Expression-of-ZNF268-and-Its-Role-in-The-Cispl.pdf\n",
            "Title: Endophytic-fungi--A-future-prospect-for-breast-can.pdf\n"
          ]
        }
      ],
      "source": [
        "from whoosh.qparser import QueryParser\n",
        "\n",
        "# Open the index for searching\n",
        "index = open_dir(\"whoosh_index\")\n",
        "\n",
        "# Basic content search\n",
        "with index.searcher() as searcher:\n",
        "    query = QueryParser(\"content\", index.schema).parse(\"cancer treatment\")\n",
        "    results = searcher.search(query)\n",
        "\n",
        "    for result in results:\n",
        "        print(f\"Title: {result['title']}\")\n"
      ]
    },
    {
      "cell_type": "markdown",
      "source": [
        "**NLP Techniques**"
      ],
      "metadata": {
        "id": "Eor2NQISWaBS"
      }
    },
    {
      "cell_type": "markdown",
      "source": [
        "Fuzzy Search"
      ],
      "metadata": {
        "id": "R2-nQ4B1Wd14"
      }
    },
    {
      "cell_type": "code",
      "execution_count": 13,
      "metadata": {
        "id": "DDdv-2Ub8Zqa"
      },
      "outputs": [],
      "source": [
        "# Fuzzy search with edit distance\n",
        "with index.searcher() as searcher:\n",
        "    query = QueryParser(\"content\", index.schema).parse(\"cancr~1\")  # Fuzzy search for 'cancer'\n",
        "    results = searcher.search(query)\n",
        "\n",
        "    for result in results:\n",
        "        print(f\"Title: {result['title']}\")\n"
      ]
    },
    {
      "cell_type": "markdown",
      "source": [
        "Entity Recognition"
      ],
      "metadata": {
        "id": "iZ3MrGD1W8pO"
      }
    },
    {
      "cell_type": "code",
      "execution_count": 14,
      "metadata": {
        "id": "SWSSFc8T8cL7",
        "colab": {
          "base_uri": "https://localhost:8080/"
        },
        "outputId": "3fef9136-e52a-41d6-9f36-97d6ada9fb66"
      },
      "outputs": [
        {
          "output_type": "stream",
          "name": "stdout",
          "text": [
            "Title: Asiaticoside-inhibits-breast-cancer-progression-an.pdf\n",
            "Title: Cordycepin-enhances-anti-tumor-immunity-in-breast-.pdf\n",
            "Title: BikDD-Eliminates-Breast-Cancer-Initiating-Cells-an.pdf\n",
            "Title: GABA-baclofen-stabilizes-PD-L1-and-enhances-immuno.pdf\n",
            "Title: Datopotamab-deruxtecan--A-novel-antibody-drug-conj.pdf\n",
            "Title: The-Expression-of-ZNF268-and-Its-Role-in-The-Cispl.pdf\n",
            "Title: A-comparison-between-clinical-decision-support-sys.pdf\n",
            "Title: Emerging-treatments-in-HER2-positive-advanced-brea.pdf\n",
            "Title: Metabolic-Imaging-Detects-Resistance-to-PI3K&#x3b1.pdf\n",
            "Title: A-bibliometric-study-of-the-intellectual-base-and-.pdf\n",
            "Title: Exploring-the-impact-of-breast-cancer-on-colonizat.pdf\n",
            "Title: Estrogens-and-the-risk-of-breast-cancer--A-narrati.pdf\n",
            "Title: Oncolytic-Adenoviruses-Kill-Breast-Cancer-Initiati.pdf\n",
            "Title: Biological-differences-between-normal-and-cancer-a.pdf\n",
            "Title: Breast-cancer-susceptibility&#x2014;A-new-look-at-.pdf\n",
            "Title: GLS-and-GOT2-as-prognostic-biomarkers-associated-w.pdf\n",
            "Title: Rare-Mutations-in--em-XRCC2--em--Increase-the-Risk.pdf\n",
            "Title: EV-miRNAs-from-breast-cancer-patients-of-plasma-as.pdf\n",
            "Title: Common-Breast-Cancer-Predisposition-Alleles-Are-As.pdf\n",
            "Title: More-reliable-breast-cancer-risk-assessment-for-ev.pdf\n"
          ]
        }
      ],
      "source": [
        "# Search in lemmatized text\n",
        "with index.searcher() as searcher:\n",
        "    query = QueryParser(\"lemmatized_text\", index.schema).parse(\"cancer treatment\")\n",
        "    results = searcher.search(query)\n",
        "\n",
        "    for result in results:\n",
        "        print(f\"Title: {result['title']}\")\n",
        "\n",
        "# Search in entities field\n",
        "with index.searcher() as searcher:\n",
        "    query = QueryParser(\"entities\", index.schema).parse(\"cancer\")\n",
        "    results = searcher.search(query)\n",
        "\n",
        "    for result in results:\n",
        "        print(f\"Title: {result['title']}\")\n"
      ]
    },
    {
      "cell_type": "markdown",
      "source": [
        "Query Expansion"
      ],
      "metadata": {
        "id": "SxjqKvnUWp5C"
      }
    },
    {
      "cell_type": "code",
      "execution_count": 15,
      "metadata": {
        "id": "iFlUNwVI8f_H",
        "colab": {
          "base_uri": "https://localhost:8080/"
        },
        "outputId": "29252a88-d288-47b2-a7be-bfcf5a41f1e1"
      },
      "outputs": [
        {
          "output_type": "stream",
          "name": "stdout",
          "text": [
            "Title: Estrogens-and-the-risk-of-breast-cancer--A-narrati.pdf\n",
            "Title: Causal-relationship-between-dietary-factors-and-br.pdf\n",
            "Title: Characterization-of-the-tumor-microenvironment-in-.pdf\n",
            "Title: Review--Predictive-approaches-to-breast-cancer-ris.pdf\n",
            "Title: Exploring-the-impact-of-breast-cancer-on-colonizat.pdf\n",
            "Title: MiR-338&#x2013;5p,-a-novel-metastasis-related-miRN.pdf\n",
            "Title: A-bioinformatic-analysis-found-low-expression-and-.pdf\n",
            "Title: Cytokines-and-cell-adhesion-molecules-exhibit-dist.pdf\n",
            "Title: Molecular-subtype-identification-and-prognosis-str.pdf\n",
            "Title: ncRNAs-mediated-overexpression-of--em-TET3--em--pr.pdf\n"
          ]
        }
      ],
      "source": [
        "from nltk.corpus import wordnet\n",
        "\n",
        "# Query expansion using WordNet\n",
        "def expand_query(query):\n",
        "    synonyms = set()\n",
        "    for syn in wordnet.synsets(query):\n",
        "        for lemma in syn.lemmas():\n",
        "            synonyms.add(lemma.name())\n",
        "    return \" OR \".join(synonyms)\n",
        "\n",
        "# Expanded query for 'cancer'\n",
        "expanded_query = expand_query(\"cancer\")\n",
        "\n",
        "# Search using the expanded query\n",
        "with index.searcher() as searcher:\n",
        "    query = QueryParser(\"content\", index.schema).parse(expanded_query)\n",
        "    results = searcher.search(query)\n",
        "\n",
        "    for result in results:\n",
        "        print(f\"Title: {result['title']}\")\n"
      ]
    },
    {
      "cell_type": "code",
      "source": [
        "# Install the necessary libraries\n",
        "!pip install transformers torch scikit-learn"
      ],
      "metadata": {
        "colab": {
          "base_uri": "https://localhost:8080/"
        },
        "id": "riHfgNFDP2P4",
        "outputId": "1c54bee2-11ce-4369-9310-74f1e567e600"
      },
      "execution_count": 16,
      "outputs": [
        {
          "output_type": "stream",
          "name": "stdout",
          "text": [
            "Requirement already satisfied: transformers in /usr/local/lib/python3.10/dist-packages (4.44.2)\n",
            "Requirement already satisfied: torch in /usr/local/lib/python3.10/dist-packages (2.4.1+cu121)\n",
            "Requirement already satisfied: scikit-learn in /usr/local/lib/python3.10/dist-packages (1.5.2)\n",
            "Requirement already satisfied: filelock in /usr/local/lib/python3.10/dist-packages (from transformers) (3.16.1)\n",
            "Requirement already satisfied: huggingface-hub<1.0,>=0.23.2 in /usr/local/lib/python3.10/dist-packages (from transformers) (0.24.7)\n",
            "Requirement already satisfied: numpy>=1.17 in /usr/local/lib/python3.10/dist-packages (from transformers) (1.26.4)\n",
            "Requirement already satisfied: packaging>=20.0 in /usr/local/lib/python3.10/dist-packages (from transformers) (24.1)\n",
            "Requirement already satisfied: pyyaml>=5.1 in /usr/local/lib/python3.10/dist-packages (from transformers) (6.0.2)\n",
            "Requirement already satisfied: regex!=2019.12.17 in /usr/local/lib/python3.10/dist-packages (from transformers) (2024.9.11)\n",
            "Requirement already satisfied: requests in /usr/local/lib/python3.10/dist-packages (from transformers) (2.32.3)\n",
            "Requirement already satisfied: safetensors>=0.4.1 in /usr/local/lib/python3.10/dist-packages (from transformers) (0.4.5)\n",
            "Requirement already satisfied: tokenizers<0.20,>=0.19 in /usr/local/lib/python3.10/dist-packages (from transformers) (0.19.1)\n",
            "Requirement already satisfied: tqdm>=4.27 in /usr/local/lib/python3.10/dist-packages (from transformers) (4.66.5)\n",
            "Requirement already satisfied: typing-extensions>=4.8.0 in /usr/local/lib/python3.10/dist-packages (from torch) (4.12.2)\n",
            "Requirement already satisfied: sympy in /usr/local/lib/python3.10/dist-packages (from torch) (1.13.3)\n",
            "Requirement already satisfied: networkx in /usr/local/lib/python3.10/dist-packages (from torch) (3.3)\n",
            "Requirement already satisfied: jinja2 in /usr/local/lib/python3.10/dist-packages (from torch) (3.1.4)\n",
            "Requirement already satisfied: fsspec in /usr/local/lib/python3.10/dist-packages (from torch) (2024.6.1)\n",
            "Requirement already satisfied: scipy>=1.6.0 in /usr/local/lib/python3.10/dist-packages (from scikit-learn) (1.13.1)\n",
            "Requirement already satisfied: joblib>=1.2.0 in /usr/local/lib/python3.10/dist-packages (from scikit-learn) (1.4.2)\n",
            "Requirement already satisfied: threadpoolctl>=3.1.0 in /usr/local/lib/python3.10/dist-packages (from scikit-learn) (3.5.0)\n",
            "Requirement already satisfied: MarkupSafe>=2.0 in /usr/local/lib/python3.10/dist-packages (from jinja2->torch) (2.1.5)\n",
            "Requirement already satisfied: charset-normalizer<4,>=2 in /usr/local/lib/python3.10/dist-packages (from requests->transformers) (3.3.2)\n",
            "Requirement already satisfied: idna<4,>=2.5 in /usr/local/lib/python3.10/dist-packages (from requests->transformers) (3.10)\n",
            "Requirement already satisfied: urllib3<3,>=1.21.1 in /usr/local/lib/python3.10/dist-packages (from requests->transformers) (2.2.3)\n",
            "Requirement already satisfied: certifi>=2017.4.17 in /usr/local/lib/python3.10/dist-packages (from requests->transformers) (2024.8.30)\n",
            "Requirement already satisfied: mpmath<1.4,>=1.1.0 in /usr/local/lib/python3.10/dist-packages (from sympy->torch) (1.3.0)\n"
          ]
        }
      ]
    },
    {
      "cell_type": "markdown",
      "source": [
        "Semantic Search"
      ],
      "metadata": {
        "id": "6YEWWtLBWtPi"
      }
    },
    {
      "source": [
        "from transformers import BertTokenizer, BertModel\n",
        "import torch\n",
        "from sklearn.metrics.pairwise import cosine_similarity\n",
        "\n",
        "# Load pre-trained BioBERT model and tokenizer\n",
        "tokenizer = BertTokenizer.from_pretrained(\"dmis-lab/biobert-v1.1\")\n",
        "model = BertModel.from_pretrained(\"dmis-lab/biobert-v1.1\")\n",
        "\n",
        "# Function to get the BERT embedding for a given text\n",
        "def get_embedding(text):\n",
        "    inputs = tokenizer(text, return_tensors='pt', truncation=True, padding=True, max_length=512)\n",
        "    with torch.no_grad():  # Disable gradient computation for speed\n",
        "        outputs = model(**inputs)\n",
        "    # Return the mean of the token embeddings (average pooling)\n",
        "    return outputs.last_hidden_state.mean(dim=1).squeeze().numpy() # Squeeze to remove extra dimension\n",
        "\n",
        "# Example query for semantic search\n",
        "query = \"cancer treatment\"\n",
        "query_embedding = get_embedding(query)\n",
        "\n",
        "# Assuming 'pdf_texts' is a dictionary where keys are document filenames and values are their extracted content.\n",
        "# Compute embeddings for each document in the corpus\n",
        "document_embeddings = [get_embedding(text) for text in pdf_texts.values()]\n",
        "\n",
        "# Calculate cosine similarity between the query embedding and each document embedding\n",
        "similarities = cosine_similarity([query_embedding], document_embeddings)[0]\n",
        "\n",
        "# Rank the documents by similarity (highest similarity first)\n",
        "top_indices = similarities.argsort()[-5:][::-1]  # Top 5 most relevant documents\n",
        "\n",
        "# Print the filenames of the top documents based on similarity\n",
        "print(\"Top 5 relevant documents based on semantic search:\")\n",
        "for idx in top_indices:\n",
        "    print(f\"Document: {list(pdf_texts.keys())[idx]} - Similarity Score: {similarities[idx]}\")"
      ],
      "cell_type": "code",
      "metadata": {
        "colab": {
          "base_uri": "https://localhost:8080/",
          "height": 450,
          "referenced_widgets": [
            "7f202b8423a0477e8e377c64733d1941",
            "b3f6a5b608c94ed482e557ae9dd08952",
            "242cbafa84814cf4b46dee847b733519",
            "d38b5ddb9af947aa864838bd18710e6d",
            "650623e0571043ef8800d48da7bc53d3",
            "a470b0f24c374ac19e0ba50351292bb3",
            "c692a9f1c86f4d5fbaec8607a493dbee",
            "ed706f8f3e144d3f9536c829a2ee624a",
            "2c270cd923024db380387648713fae15",
            "5b121e9bf82e467d8edc1c5f1841da66",
            "47f4fc270f3e4fd89c171647a9a9cb20",
            "befd83902526411aa285b9732005c43e",
            "874d29a677024747997d14d740a49ba8",
            "94347d11df57486fb5b9c654ddda0aac",
            "ecefcb2fae914529b06e6d9ba2ee0a48",
            "5497b6f325a24b6cae7a53a164bc6c4e",
            "874340c6002c464092eb3b06078299a7",
            "19f6dceda3e94a84ae935cbfc7e7943d",
            "f6efb049c37b4be1bb7233788bf143bb",
            "bcf5b29e340c490a8a08ef3a36a6e1c4",
            "41131f73354e415aa24c55c8a29c0b19",
            "7ffc3ae6f08b446a80eb7ff5a113d788",
            "5f0a334e4ed345d18b3d867195af9698",
            "8c44e11c73fa4217b610f66ce7f51741",
            "61fa4359b43c4242b9d399a5c9474fff",
            "f7113f5bc7454cb2b136d11a16c6e64c",
            "a084fc6dc9c14d3c819e39f05f3042e8",
            "1f828d1fdfbc483385344b95f82a2cc7",
            "419dd6b90b074d52b2d1144a132261a5",
            "050950d1ccc045bfbc1341e52a924af8",
            "fbd3b05ddfd4460095cc8bc8b02c554a",
            "893bede2cbde434f8289914868fd230f",
            "a7d435df0fda4d7f8bd8213c9d9f187b",
            "65007215bc7c4f24ac568ce4fd015dae",
            "abd013f850a643e39c5c5d993cf65f82",
            "981c38e3d96d492690d89709f0beb026",
            "9d2fe9e7a15148edaf5aad7df66e3486",
            "a78d8426b5a54e4a88c82551b3c4ba98",
            "c7ec87002ac54a45a4643e5203cf5c20",
            "76b3b95ff18e43baa55e5818cbc6715c",
            "01156410a552434695811dd725a805f6",
            "21de495b1b504a8daf8a7902a445233e",
            "b6890653e8f34414b6c6c2bbdd3d4280",
            "c63b074d32b64f7aa132bb9588c70fec",
            "599ff67a66c046ea80926a9f897daa2b",
            "4f1648d7dedf4c88a5312fb907d4eb20",
            "aae388937f7b46b496f8ad746cb3a82c",
            "6fd2eb4972e14e6791d2b8bb547d7028",
            "6b8cc561e71444fe8eb185128df5232c",
            "d8ab9baef80b473db36e51476747ba2b",
            "2e8ad80cee064a13b6ee9432879da9fc",
            "38d83d9d465e46ceb5cfe08e4aa19190",
            "85abfbf229cc40f4a3f6cdd1611f6013",
            "e223e108258744a5927eef51fc3a3a8f",
            "59fd07040dc44bbe8c30526423efc538"
          ]
        },
        "id": "wc0FN_WUSRlZ",
        "outputId": "ad3476cd-a65b-429b-e03a-3eaa1388639a"
      },
      "execution_count": 17,
      "outputs": [
        {
          "output_type": "stream",
          "name": "stderr",
          "text": [
            "/usr/local/lib/python3.10/dist-packages/huggingface_hub/utils/_token.py:89: UserWarning: \n",
            "The secret `HF_TOKEN` does not exist in your Colab secrets.\n",
            "To authenticate with the Hugging Face Hub, create a token in your settings tab (https://huggingface.co/settings/tokens), set it as secret in your Google Colab and restart your session.\n",
            "You will be able to reuse this secret in all of your notebooks.\n",
            "Please note that authentication is recommended but still optional to access public models or datasets.\n",
            "  warnings.warn(\n"
          ]
        },
        {
          "output_type": "display_data",
          "data": {
            "text/plain": [
              "tokenizer_config.json:   0%|          | 0.00/49.0 [00:00<?, ?B/s]"
            ],
            "application/vnd.jupyter.widget-view+json": {
              "version_major": 2,
              "version_minor": 0,
              "model_id": "7f202b8423a0477e8e377c64733d1941"
            }
          },
          "metadata": {}
        },
        {
          "output_type": "display_data",
          "data": {
            "text/plain": [
              "vocab.txt:   0%|          | 0.00/213k [00:00<?, ?B/s]"
            ],
            "application/vnd.jupyter.widget-view+json": {
              "version_major": 2,
              "version_minor": 0,
              "model_id": "befd83902526411aa285b9732005c43e"
            }
          },
          "metadata": {}
        },
        {
          "output_type": "display_data",
          "data": {
            "text/plain": [
              "special_tokens_map.json:   0%|          | 0.00/112 [00:00<?, ?B/s]"
            ],
            "application/vnd.jupyter.widget-view+json": {
              "version_major": 2,
              "version_minor": 0,
              "model_id": "5f0a334e4ed345d18b3d867195af9698"
            }
          },
          "metadata": {}
        },
        {
          "output_type": "display_data",
          "data": {
            "text/plain": [
              "config.json:   0%|          | 0.00/462 [00:00<?, ?B/s]"
            ],
            "application/vnd.jupyter.widget-view+json": {
              "version_major": 2,
              "version_minor": 0,
              "model_id": "65007215bc7c4f24ac568ce4fd015dae"
            }
          },
          "metadata": {}
        },
        {
          "output_type": "stream",
          "name": "stderr",
          "text": [
            "/usr/local/lib/python3.10/dist-packages/transformers/tokenization_utils_base.py:1601: FutureWarning: `clean_up_tokenization_spaces` was not set. It will be set to `True` by default. This behavior will be depracted in transformers v4.45, and will be then set to `False` by default. For more details check this issue: https://github.com/huggingface/transformers/issues/31884\n",
            "  warnings.warn(\n"
          ]
        },
        {
          "output_type": "display_data",
          "data": {
            "text/plain": [
              "pytorch_model.bin:   0%|          | 0.00/433M [00:00<?, ?B/s]"
            ],
            "application/vnd.jupyter.widget-view+json": {
              "version_major": 2,
              "version_minor": 0,
              "model_id": "599ff67a66c046ea80926a9f897daa2b"
            }
          },
          "metadata": {}
        },
        {
          "output_type": "stream",
          "name": "stdout",
          "text": [
            "Top 5 relevant documents based on semantic search:\n",
            "Document: Pregnancy-and-breast-cancer--The-other-side-of-the.pdf - Similarity Score: 0.6887888312339783\n",
            "Document: Focus-on-breast-cancer_ccell.pdf - Similarity Score: 0.6822837591171265\n",
            "Document: A-new-key-in-breast-cancer-metastasis_ccell.pdf - Similarity Score: 0.6794993877410889\n",
            "Document: Periostin-binding-DNA-Aptamer-Inhibits-Breast-Canc.pdf - Similarity Score: 0.6724396347999573\n",
            "Document: Photo-sono-activated-BNT@MoS-sub-2--sub--composite.pdf - Similarity Score: 0.6704385280609131\n"
          ]
        }
      ]
    },
    {
      "cell_type": "code",
      "source": [
        "!pip install flask flask_sqlalchemy\n"
      ],
      "metadata": {
        "id": "iQh9itu_SVTp",
        "colab": {
          "base_uri": "https://localhost:8080/"
        },
        "outputId": "d3ba7d2f-1aa5-44e8-f476-01a8e800a27c"
      },
      "execution_count": 18,
      "outputs": [
        {
          "output_type": "stream",
          "name": "stdout",
          "text": [
            "Requirement already satisfied: flask in /usr/local/lib/python3.10/dist-packages (2.2.5)\n",
            "Collecting flask_sqlalchemy\n",
            "  Downloading flask_sqlalchemy-3.1.1-py3-none-any.whl.metadata (3.4 kB)\n",
            "Requirement already satisfied: Werkzeug>=2.2.2 in /usr/local/lib/python3.10/dist-packages (from flask) (3.0.4)\n",
            "Requirement already satisfied: Jinja2>=3.0 in /usr/local/lib/python3.10/dist-packages (from flask) (3.1.4)\n",
            "Requirement already satisfied: itsdangerous>=2.0 in /usr/local/lib/python3.10/dist-packages (from flask) (2.2.0)\n",
            "Requirement already satisfied: click>=8.0 in /usr/local/lib/python3.10/dist-packages (from flask) (8.1.7)\n",
            "Requirement already satisfied: sqlalchemy>=2.0.16 in /usr/local/lib/python3.10/dist-packages (from flask_sqlalchemy) (2.0.35)\n",
            "Requirement already satisfied: MarkupSafe>=2.0 in /usr/local/lib/python3.10/dist-packages (from Jinja2>=3.0->flask) (2.1.5)\n",
            "Requirement already satisfied: typing-extensions>=4.6.0 in /usr/local/lib/python3.10/dist-packages (from sqlalchemy>=2.0.16->flask_sqlalchemy) (4.12.2)\n",
            "Requirement already satisfied: greenlet!=0.4.17 in /usr/local/lib/python3.10/dist-packages (from sqlalchemy>=2.0.16->flask_sqlalchemy) (3.1.1)\n",
            "Downloading flask_sqlalchemy-3.1.1-py3-none-any.whl (25 kB)\n",
            "Installing collected packages: flask_sqlalchemy\n",
            "Successfully installed flask_sqlalchemy-3.1.1\n"
          ]
        }
      ]
    },
    {
      "cell_type": "code",
      "source": [
        "import flask\n",
        "import flask_sqlalchemy\n"
      ],
      "metadata": {
        "id": "nHeo_Ge0xprY"
      },
      "execution_count": 19,
      "outputs": []
    },
    {
      "cell_type": "code",
      "source": [
        "from flask import Flask, jsonify\n",
        "\n",
        "app = Flask(__name__)\n",
        "\n",
        "@app.route('/')\n",
        "def home():\n",
        "    return jsonify({'message': 'Hello, World!'}), 200\n"
      ],
      "metadata": {
        "id": "YrqBj0Ytx3lH"
      },
      "execution_count": 20,
      "outputs": []
    },
    {
      "cell_type": "code",
      "source": [
        "!pip install pyngrok # use to host flask as colab doesn't allow direct hosting\n"
      ],
      "metadata": {
        "colab": {
          "base_uri": "https://localhost:8080/"
        },
        "id": "P9SkQdsRx81U",
        "outputId": "f4fd7a62-86b0-4e82-acb5-e81276766cf4"
      },
      "execution_count": 22,
      "outputs": [
        {
          "output_type": "stream",
          "name": "stdout",
          "text": [
            "Requirement already satisfied: pyngrok in /usr/local/lib/python3.10/dist-packages (7.2.0)\n",
            "Requirement already satisfied: PyYAML>=5.1 in /usr/local/lib/python3.10/dist-packages (from pyngrok) (6.0.2)\n"
          ]
        }
      ]
    },
    {
      "cell_type": "code",
      "source": [
        "!ngrok config add-authtoken 2mbYowCbzDDA47omhyfn7mfDSnU_7RKJtcLWCysu7WCAV5Whj # removed the <> around the token as this is not required and may be causing the issue\n",
        "from pyngrok import ngrok\n",
        "\n",
        "# Create a tunnel for the Flask app\n",
        "public_url = ngrok.connect(5000)\n",
        "print(f\"Public URL: {public_url}\")\n",
        "\n",
        "# Run the Flask app (make sure you have defined the Flask app 'app' in a previous cell)\n",
        "app.run(port=5000)"
      ],
      "metadata": {
        "id": "QFMgGsWt36Xh",
        "outputId": "6335d87d-3c48-425d-e2f5-1b38ba51ea04",
        "colab": {
          "base_uri": "https://localhost:8080/"
        }
      },
      "execution_count": null,
      "outputs": [
        {
          "output_type": "stream",
          "name": "stdout",
          "text": [
            "Authtoken saved to configuration file: /root/.config/ngrok/ngrok.yml\n",
            "Public URL: NgrokTunnel: \"https://27dd-34-23-225-66.ngrok-free.app\" -> \"http://localhost:5000\"\n",
            " * Serving Flask app '__main__'\n",
            " * Debug mode: off\n"
          ]
        },
        {
          "output_type": "stream",
          "name": "stderr",
          "text": [
            "INFO:werkzeug:\u001b[31m\u001b[1mWARNING: This is a development server. Do not use it in a production deployment. Use a production WSGI server instead.\u001b[0m\n",
            " * Running on http://127.0.0.1:5000\n",
            "INFO:werkzeug:\u001b[33mPress CTRL+C to quit\u001b[0m\n"
          ]
        }
      ]
    },
    {
      "cell_type": "code",
      "source": [],
      "metadata": {
        "id": "o4nYEhHy6fn4"
      },
      "execution_count": null,
      "outputs": []
    }
  ],
  "metadata": {
    "colab": {
      "provenance": [],
      "include_colab_link": true
    },
    "kernelspec": {
      "display_name": "Python 3",
      "name": "python3"
    },
    "language_info": {
      "name": "python"
    },
    "widgets": {
      "application/vnd.jupyter.widget-state+json": {
        "7f202b8423a0477e8e377c64733d1941": {
          "model_module": "@jupyter-widgets/controls",
          "model_name": "HBoxModel",
          "model_module_version": "1.5.0",
          "state": {
            "_dom_classes": [],
            "_model_module": "@jupyter-widgets/controls",
            "_model_module_version": "1.5.0",
            "_model_name": "HBoxModel",
            "_view_count": null,
            "_view_module": "@jupyter-widgets/controls",
            "_view_module_version": "1.5.0",
            "_view_name": "HBoxView",
            "box_style": "",
            "children": [
              "IPY_MODEL_b3f6a5b608c94ed482e557ae9dd08952",
              "IPY_MODEL_242cbafa84814cf4b46dee847b733519",
              "IPY_MODEL_d38b5ddb9af947aa864838bd18710e6d"
            ],
            "layout": "IPY_MODEL_650623e0571043ef8800d48da7bc53d3"
          }
        },
        "b3f6a5b608c94ed482e557ae9dd08952": {
          "model_module": "@jupyter-widgets/controls",
          "model_name": "HTMLModel",
          "model_module_version": "1.5.0",
          "state": {
            "_dom_classes": [],
            "_model_module": "@jupyter-widgets/controls",
            "_model_module_version": "1.5.0",
            "_model_name": "HTMLModel",
            "_view_count": null,
            "_view_module": "@jupyter-widgets/controls",
            "_view_module_version": "1.5.0",
            "_view_name": "HTMLView",
            "description": "",
            "description_tooltip": null,
            "layout": "IPY_MODEL_a470b0f24c374ac19e0ba50351292bb3",
            "placeholder": "​",
            "style": "IPY_MODEL_c692a9f1c86f4d5fbaec8607a493dbee",
            "value": "tokenizer_config.json: 100%"
          }
        },
        "242cbafa84814cf4b46dee847b733519": {
          "model_module": "@jupyter-widgets/controls",
          "model_name": "FloatProgressModel",
          "model_module_version": "1.5.0",
          "state": {
            "_dom_classes": [],
            "_model_module": "@jupyter-widgets/controls",
            "_model_module_version": "1.5.0",
            "_model_name": "FloatProgressModel",
            "_view_count": null,
            "_view_module": "@jupyter-widgets/controls",
            "_view_module_version": "1.5.0",
            "_view_name": "ProgressView",
            "bar_style": "success",
            "description": "",
            "description_tooltip": null,
            "layout": "IPY_MODEL_ed706f8f3e144d3f9536c829a2ee624a",
            "max": 49,
            "min": 0,
            "orientation": "horizontal",
            "style": "IPY_MODEL_2c270cd923024db380387648713fae15",
            "value": 49
          }
        },
        "d38b5ddb9af947aa864838bd18710e6d": {
          "model_module": "@jupyter-widgets/controls",
          "model_name": "HTMLModel",
          "model_module_version": "1.5.0",
          "state": {
            "_dom_classes": [],
            "_model_module": "@jupyter-widgets/controls",
            "_model_module_version": "1.5.0",
            "_model_name": "HTMLModel",
            "_view_count": null,
            "_view_module": "@jupyter-widgets/controls",
            "_view_module_version": "1.5.0",
            "_view_name": "HTMLView",
            "description": "",
            "description_tooltip": null,
            "layout": "IPY_MODEL_5b121e9bf82e467d8edc1c5f1841da66",
            "placeholder": "​",
            "style": "IPY_MODEL_47f4fc270f3e4fd89c171647a9a9cb20",
            "value": " 49.0/49.0 [00:00&lt;00:00, 485B/s]"
          }
        },
        "650623e0571043ef8800d48da7bc53d3": {
          "model_module": "@jupyter-widgets/base",
          "model_name": "LayoutModel",
          "model_module_version": "1.2.0",
          "state": {
            "_model_module": "@jupyter-widgets/base",
            "_model_module_version": "1.2.0",
            "_model_name": "LayoutModel",
            "_view_count": null,
            "_view_module": "@jupyter-widgets/base",
            "_view_module_version": "1.2.0",
            "_view_name": "LayoutView",
            "align_content": null,
            "align_items": null,
            "align_self": null,
            "border": null,
            "bottom": null,
            "display": null,
            "flex": null,
            "flex_flow": null,
            "grid_area": null,
            "grid_auto_columns": null,
            "grid_auto_flow": null,
            "grid_auto_rows": null,
            "grid_column": null,
            "grid_gap": null,
            "grid_row": null,
            "grid_template_areas": null,
            "grid_template_columns": null,
            "grid_template_rows": null,
            "height": null,
            "justify_content": null,
            "justify_items": null,
            "left": null,
            "margin": null,
            "max_height": null,
            "max_width": null,
            "min_height": null,
            "min_width": null,
            "object_fit": null,
            "object_position": null,
            "order": null,
            "overflow": null,
            "overflow_x": null,
            "overflow_y": null,
            "padding": null,
            "right": null,
            "top": null,
            "visibility": null,
            "width": null
          }
        },
        "a470b0f24c374ac19e0ba50351292bb3": {
          "model_module": "@jupyter-widgets/base",
          "model_name": "LayoutModel",
          "model_module_version": "1.2.0",
          "state": {
            "_model_module": "@jupyter-widgets/base",
            "_model_module_version": "1.2.0",
            "_model_name": "LayoutModel",
            "_view_count": null,
            "_view_module": "@jupyter-widgets/base",
            "_view_module_version": "1.2.0",
            "_view_name": "LayoutView",
            "align_content": null,
            "align_items": null,
            "align_self": null,
            "border": null,
            "bottom": null,
            "display": null,
            "flex": null,
            "flex_flow": null,
            "grid_area": null,
            "grid_auto_columns": null,
            "grid_auto_flow": null,
            "grid_auto_rows": null,
            "grid_column": null,
            "grid_gap": null,
            "grid_row": null,
            "grid_template_areas": null,
            "grid_template_columns": null,
            "grid_template_rows": null,
            "height": null,
            "justify_content": null,
            "justify_items": null,
            "left": null,
            "margin": null,
            "max_height": null,
            "max_width": null,
            "min_height": null,
            "min_width": null,
            "object_fit": null,
            "object_position": null,
            "order": null,
            "overflow": null,
            "overflow_x": null,
            "overflow_y": null,
            "padding": null,
            "right": null,
            "top": null,
            "visibility": null,
            "width": null
          }
        },
        "c692a9f1c86f4d5fbaec8607a493dbee": {
          "model_module": "@jupyter-widgets/controls",
          "model_name": "DescriptionStyleModel",
          "model_module_version": "1.5.0",
          "state": {
            "_model_module": "@jupyter-widgets/controls",
            "_model_module_version": "1.5.0",
            "_model_name": "DescriptionStyleModel",
            "_view_count": null,
            "_view_module": "@jupyter-widgets/base",
            "_view_module_version": "1.2.0",
            "_view_name": "StyleView",
            "description_width": ""
          }
        },
        "ed706f8f3e144d3f9536c829a2ee624a": {
          "model_module": "@jupyter-widgets/base",
          "model_name": "LayoutModel",
          "model_module_version": "1.2.0",
          "state": {
            "_model_module": "@jupyter-widgets/base",
            "_model_module_version": "1.2.0",
            "_model_name": "LayoutModel",
            "_view_count": null,
            "_view_module": "@jupyter-widgets/base",
            "_view_module_version": "1.2.0",
            "_view_name": "LayoutView",
            "align_content": null,
            "align_items": null,
            "align_self": null,
            "border": null,
            "bottom": null,
            "display": null,
            "flex": null,
            "flex_flow": null,
            "grid_area": null,
            "grid_auto_columns": null,
            "grid_auto_flow": null,
            "grid_auto_rows": null,
            "grid_column": null,
            "grid_gap": null,
            "grid_row": null,
            "grid_template_areas": null,
            "grid_template_columns": null,
            "grid_template_rows": null,
            "height": null,
            "justify_content": null,
            "justify_items": null,
            "left": null,
            "margin": null,
            "max_height": null,
            "max_width": null,
            "min_height": null,
            "min_width": null,
            "object_fit": null,
            "object_position": null,
            "order": null,
            "overflow": null,
            "overflow_x": null,
            "overflow_y": null,
            "padding": null,
            "right": null,
            "top": null,
            "visibility": null,
            "width": null
          }
        },
        "2c270cd923024db380387648713fae15": {
          "model_module": "@jupyter-widgets/controls",
          "model_name": "ProgressStyleModel",
          "model_module_version": "1.5.0",
          "state": {
            "_model_module": "@jupyter-widgets/controls",
            "_model_module_version": "1.5.0",
            "_model_name": "ProgressStyleModel",
            "_view_count": null,
            "_view_module": "@jupyter-widgets/base",
            "_view_module_version": "1.2.0",
            "_view_name": "StyleView",
            "bar_color": null,
            "description_width": ""
          }
        },
        "5b121e9bf82e467d8edc1c5f1841da66": {
          "model_module": "@jupyter-widgets/base",
          "model_name": "LayoutModel",
          "model_module_version": "1.2.0",
          "state": {
            "_model_module": "@jupyter-widgets/base",
            "_model_module_version": "1.2.0",
            "_model_name": "LayoutModel",
            "_view_count": null,
            "_view_module": "@jupyter-widgets/base",
            "_view_module_version": "1.2.0",
            "_view_name": "LayoutView",
            "align_content": null,
            "align_items": null,
            "align_self": null,
            "border": null,
            "bottom": null,
            "display": null,
            "flex": null,
            "flex_flow": null,
            "grid_area": null,
            "grid_auto_columns": null,
            "grid_auto_flow": null,
            "grid_auto_rows": null,
            "grid_column": null,
            "grid_gap": null,
            "grid_row": null,
            "grid_template_areas": null,
            "grid_template_columns": null,
            "grid_template_rows": null,
            "height": null,
            "justify_content": null,
            "justify_items": null,
            "left": null,
            "margin": null,
            "max_height": null,
            "max_width": null,
            "min_height": null,
            "min_width": null,
            "object_fit": null,
            "object_position": null,
            "order": null,
            "overflow": null,
            "overflow_x": null,
            "overflow_y": null,
            "padding": null,
            "right": null,
            "top": null,
            "visibility": null,
            "width": null
          }
        },
        "47f4fc270f3e4fd89c171647a9a9cb20": {
          "model_module": "@jupyter-widgets/controls",
          "model_name": "DescriptionStyleModel",
          "model_module_version": "1.5.0",
          "state": {
            "_model_module": "@jupyter-widgets/controls",
            "_model_module_version": "1.5.0",
            "_model_name": "DescriptionStyleModel",
            "_view_count": null,
            "_view_module": "@jupyter-widgets/base",
            "_view_module_version": "1.2.0",
            "_view_name": "StyleView",
            "description_width": ""
          }
        },
        "befd83902526411aa285b9732005c43e": {
          "model_module": "@jupyter-widgets/controls",
          "model_name": "HBoxModel",
          "model_module_version": "1.5.0",
          "state": {
            "_dom_classes": [],
            "_model_module": "@jupyter-widgets/controls",
            "_model_module_version": "1.5.0",
            "_model_name": "HBoxModel",
            "_view_count": null,
            "_view_module": "@jupyter-widgets/controls",
            "_view_module_version": "1.5.0",
            "_view_name": "HBoxView",
            "box_style": "",
            "children": [
              "IPY_MODEL_874d29a677024747997d14d740a49ba8",
              "IPY_MODEL_94347d11df57486fb5b9c654ddda0aac",
              "IPY_MODEL_ecefcb2fae914529b06e6d9ba2ee0a48"
            ],
            "layout": "IPY_MODEL_5497b6f325a24b6cae7a53a164bc6c4e"
          }
        },
        "874d29a677024747997d14d740a49ba8": {
          "model_module": "@jupyter-widgets/controls",
          "model_name": "HTMLModel",
          "model_module_version": "1.5.0",
          "state": {
            "_dom_classes": [],
            "_model_module": "@jupyter-widgets/controls",
            "_model_module_version": "1.5.0",
            "_model_name": "HTMLModel",
            "_view_count": null,
            "_view_module": "@jupyter-widgets/controls",
            "_view_module_version": "1.5.0",
            "_view_name": "HTMLView",
            "description": "",
            "description_tooltip": null,
            "layout": "IPY_MODEL_874340c6002c464092eb3b06078299a7",
            "placeholder": "​",
            "style": "IPY_MODEL_19f6dceda3e94a84ae935cbfc7e7943d",
            "value": "vocab.txt: 100%"
          }
        },
        "94347d11df57486fb5b9c654ddda0aac": {
          "model_module": "@jupyter-widgets/controls",
          "model_name": "FloatProgressModel",
          "model_module_version": "1.5.0",
          "state": {
            "_dom_classes": [],
            "_model_module": "@jupyter-widgets/controls",
            "_model_module_version": "1.5.0",
            "_model_name": "FloatProgressModel",
            "_view_count": null,
            "_view_module": "@jupyter-widgets/controls",
            "_view_module_version": "1.5.0",
            "_view_name": "ProgressView",
            "bar_style": "success",
            "description": "",
            "description_tooltip": null,
            "layout": "IPY_MODEL_f6efb049c37b4be1bb7233788bf143bb",
            "max": 213450,
            "min": 0,
            "orientation": "horizontal",
            "style": "IPY_MODEL_bcf5b29e340c490a8a08ef3a36a6e1c4",
            "value": 213450
          }
        },
        "ecefcb2fae914529b06e6d9ba2ee0a48": {
          "model_module": "@jupyter-widgets/controls",
          "model_name": "HTMLModel",
          "model_module_version": "1.5.0",
          "state": {
            "_dom_classes": [],
            "_model_module": "@jupyter-widgets/controls",
            "_model_module_version": "1.5.0",
            "_model_name": "HTMLModel",
            "_view_count": null,
            "_view_module": "@jupyter-widgets/controls",
            "_view_module_version": "1.5.0",
            "_view_name": "HTMLView",
            "description": "",
            "description_tooltip": null,
            "layout": "IPY_MODEL_41131f73354e415aa24c55c8a29c0b19",
            "placeholder": "​",
            "style": "IPY_MODEL_7ffc3ae6f08b446a80eb7ff5a113d788",
            "value": " 213k/213k [00:00&lt;00:00, 1.63MB/s]"
          }
        },
        "5497b6f325a24b6cae7a53a164bc6c4e": {
          "model_module": "@jupyter-widgets/base",
          "model_name": "LayoutModel",
          "model_module_version": "1.2.0",
          "state": {
            "_model_module": "@jupyter-widgets/base",
            "_model_module_version": "1.2.0",
            "_model_name": "LayoutModel",
            "_view_count": null,
            "_view_module": "@jupyter-widgets/base",
            "_view_module_version": "1.2.0",
            "_view_name": "LayoutView",
            "align_content": null,
            "align_items": null,
            "align_self": null,
            "border": null,
            "bottom": null,
            "display": null,
            "flex": null,
            "flex_flow": null,
            "grid_area": null,
            "grid_auto_columns": null,
            "grid_auto_flow": null,
            "grid_auto_rows": null,
            "grid_column": null,
            "grid_gap": null,
            "grid_row": null,
            "grid_template_areas": null,
            "grid_template_columns": null,
            "grid_template_rows": null,
            "height": null,
            "justify_content": null,
            "justify_items": null,
            "left": null,
            "margin": null,
            "max_height": null,
            "max_width": null,
            "min_height": null,
            "min_width": null,
            "object_fit": null,
            "object_position": null,
            "order": null,
            "overflow": null,
            "overflow_x": null,
            "overflow_y": null,
            "padding": null,
            "right": null,
            "top": null,
            "visibility": null,
            "width": null
          }
        },
        "874340c6002c464092eb3b06078299a7": {
          "model_module": "@jupyter-widgets/base",
          "model_name": "LayoutModel",
          "model_module_version": "1.2.0",
          "state": {
            "_model_module": "@jupyter-widgets/base",
            "_model_module_version": "1.2.0",
            "_model_name": "LayoutModel",
            "_view_count": null,
            "_view_module": "@jupyter-widgets/base",
            "_view_module_version": "1.2.0",
            "_view_name": "LayoutView",
            "align_content": null,
            "align_items": null,
            "align_self": null,
            "border": null,
            "bottom": null,
            "display": null,
            "flex": null,
            "flex_flow": null,
            "grid_area": null,
            "grid_auto_columns": null,
            "grid_auto_flow": null,
            "grid_auto_rows": null,
            "grid_column": null,
            "grid_gap": null,
            "grid_row": null,
            "grid_template_areas": null,
            "grid_template_columns": null,
            "grid_template_rows": null,
            "height": null,
            "justify_content": null,
            "justify_items": null,
            "left": null,
            "margin": null,
            "max_height": null,
            "max_width": null,
            "min_height": null,
            "min_width": null,
            "object_fit": null,
            "object_position": null,
            "order": null,
            "overflow": null,
            "overflow_x": null,
            "overflow_y": null,
            "padding": null,
            "right": null,
            "top": null,
            "visibility": null,
            "width": null
          }
        },
        "19f6dceda3e94a84ae935cbfc7e7943d": {
          "model_module": "@jupyter-widgets/controls",
          "model_name": "DescriptionStyleModel",
          "model_module_version": "1.5.0",
          "state": {
            "_model_module": "@jupyter-widgets/controls",
            "_model_module_version": "1.5.0",
            "_model_name": "DescriptionStyleModel",
            "_view_count": null,
            "_view_module": "@jupyter-widgets/base",
            "_view_module_version": "1.2.0",
            "_view_name": "StyleView",
            "description_width": ""
          }
        },
        "f6efb049c37b4be1bb7233788bf143bb": {
          "model_module": "@jupyter-widgets/base",
          "model_name": "LayoutModel",
          "model_module_version": "1.2.0",
          "state": {
            "_model_module": "@jupyter-widgets/base",
            "_model_module_version": "1.2.0",
            "_model_name": "LayoutModel",
            "_view_count": null,
            "_view_module": "@jupyter-widgets/base",
            "_view_module_version": "1.2.0",
            "_view_name": "LayoutView",
            "align_content": null,
            "align_items": null,
            "align_self": null,
            "border": null,
            "bottom": null,
            "display": null,
            "flex": null,
            "flex_flow": null,
            "grid_area": null,
            "grid_auto_columns": null,
            "grid_auto_flow": null,
            "grid_auto_rows": null,
            "grid_column": null,
            "grid_gap": null,
            "grid_row": null,
            "grid_template_areas": null,
            "grid_template_columns": null,
            "grid_template_rows": null,
            "height": null,
            "justify_content": null,
            "justify_items": null,
            "left": null,
            "margin": null,
            "max_height": null,
            "max_width": null,
            "min_height": null,
            "min_width": null,
            "object_fit": null,
            "object_position": null,
            "order": null,
            "overflow": null,
            "overflow_x": null,
            "overflow_y": null,
            "padding": null,
            "right": null,
            "top": null,
            "visibility": null,
            "width": null
          }
        },
        "bcf5b29e340c490a8a08ef3a36a6e1c4": {
          "model_module": "@jupyter-widgets/controls",
          "model_name": "ProgressStyleModel",
          "model_module_version": "1.5.0",
          "state": {
            "_model_module": "@jupyter-widgets/controls",
            "_model_module_version": "1.5.0",
            "_model_name": "ProgressStyleModel",
            "_view_count": null,
            "_view_module": "@jupyter-widgets/base",
            "_view_module_version": "1.2.0",
            "_view_name": "StyleView",
            "bar_color": null,
            "description_width": ""
          }
        },
        "41131f73354e415aa24c55c8a29c0b19": {
          "model_module": "@jupyter-widgets/base",
          "model_name": "LayoutModel",
          "model_module_version": "1.2.0",
          "state": {
            "_model_module": "@jupyter-widgets/base",
            "_model_module_version": "1.2.0",
            "_model_name": "LayoutModel",
            "_view_count": null,
            "_view_module": "@jupyter-widgets/base",
            "_view_module_version": "1.2.0",
            "_view_name": "LayoutView",
            "align_content": null,
            "align_items": null,
            "align_self": null,
            "border": null,
            "bottom": null,
            "display": null,
            "flex": null,
            "flex_flow": null,
            "grid_area": null,
            "grid_auto_columns": null,
            "grid_auto_flow": null,
            "grid_auto_rows": null,
            "grid_column": null,
            "grid_gap": null,
            "grid_row": null,
            "grid_template_areas": null,
            "grid_template_columns": null,
            "grid_template_rows": null,
            "height": null,
            "justify_content": null,
            "justify_items": null,
            "left": null,
            "margin": null,
            "max_height": null,
            "max_width": null,
            "min_height": null,
            "min_width": null,
            "object_fit": null,
            "object_position": null,
            "order": null,
            "overflow": null,
            "overflow_x": null,
            "overflow_y": null,
            "padding": null,
            "right": null,
            "top": null,
            "visibility": null,
            "width": null
          }
        },
        "7ffc3ae6f08b446a80eb7ff5a113d788": {
          "model_module": "@jupyter-widgets/controls",
          "model_name": "DescriptionStyleModel",
          "model_module_version": "1.5.0",
          "state": {
            "_model_module": "@jupyter-widgets/controls",
            "_model_module_version": "1.5.0",
            "_model_name": "DescriptionStyleModel",
            "_view_count": null,
            "_view_module": "@jupyter-widgets/base",
            "_view_module_version": "1.2.0",
            "_view_name": "StyleView",
            "description_width": ""
          }
        },
        "5f0a334e4ed345d18b3d867195af9698": {
          "model_module": "@jupyter-widgets/controls",
          "model_name": "HBoxModel",
          "model_module_version": "1.5.0",
          "state": {
            "_dom_classes": [],
            "_model_module": "@jupyter-widgets/controls",
            "_model_module_version": "1.5.0",
            "_model_name": "HBoxModel",
            "_view_count": null,
            "_view_module": "@jupyter-widgets/controls",
            "_view_module_version": "1.5.0",
            "_view_name": "HBoxView",
            "box_style": "",
            "children": [
              "IPY_MODEL_8c44e11c73fa4217b610f66ce7f51741",
              "IPY_MODEL_61fa4359b43c4242b9d399a5c9474fff",
              "IPY_MODEL_f7113f5bc7454cb2b136d11a16c6e64c"
            ],
            "layout": "IPY_MODEL_a084fc6dc9c14d3c819e39f05f3042e8"
          }
        },
        "8c44e11c73fa4217b610f66ce7f51741": {
          "model_module": "@jupyter-widgets/controls",
          "model_name": "HTMLModel",
          "model_module_version": "1.5.0",
          "state": {
            "_dom_classes": [],
            "_model_module": "@jupyter-widgets/controls",
            "_model_module_version": "1.5.0",
            "_model_name": "HTMLModel",
            "_view_count": null,
            "_view_module": "@jupyter-widgets/controls",
            "_view_module_version": "1.5.0",
            "_view_name": "HTMLView",
            "description": "",
            "description_tooltip": null,
            "layout": "IPY_MODEL_1f828d1fdfbc483385344b95f82a2cc7",
            "placeholder": "​",
            "style": "IPY_MODEL_419dd6b90b074d52b2d1144a132261a5",
            "value": "special_tokens_map.json: 100%"
          }
        },
        "61fa4359b43c4242b9d399a5c9474fff": {
          "model_module": "@jupyter-widgets/controls",
          "model_name": "FloatProgressModel",
          "model_module_version": "1.5.0",
          "state": {
            "_dom_classes": [],
            "_model_module": "@jupyter-widgets/controls",
            "_model_module_version": "1.5.0",
            "_model_name": "FloatProgressModel",
            "_view_count": null,
            "_view_module": "@jupyter-widgets/controls",
            "_view_module_version": "1.5.0",
            "_view_name": "ProgressView",
            "bar_style": "success",
            "description": "",
            "description_tooltip": null,
            "layout": "IPY_MODEL_050950d1ccc045bfbc1341e52a924af8",
            "max": 112,
            "min": 0,
            "orientation": "horizontal",
            "style": "IPY_MODEL_fbd3b05ddfd4460095cc8bc8b02c554a",
            "value": 112
          }
        },
        "f7113f5bc7454cb2b136d11a16c6e64c": {
          "model_module": "@jupyter-widgets/controls",
          "model_name": "HTMLModel",
          "model_module_version": "1.5.0",
          "state": {
            "_dom_classes": [],
            "_model_module": "@jupyter-widgets/controls",
            "_model_module_version": "1.5.0",
            "_model_name": "HTMLModel",
            "_view_count": null,
            "_view_module": "@jupyter-widgets/controls",
            "_view_module_version": "1.5.0",
            "_view_name": "HTMLView",
            "description": "",
            "description_tooltip": null,
            "layout": "IPY_MODEL_893bede2cbde434f8289914868fd230f",
            "placeholder": "​",
            "style": "IPY_MODEL_a7d435df0fda4d7f8bd8213c9d9f187b",
            "value": " 112/112 [00:00&lt;00:00, 4.54kB/s]"
          }
        },
        "a084fc6dc9c14d3c819e39f05f3042e8": {
          "model_module": "@jupyter-widgets/base",
          "model_name": "LayoutModel",
          "model_module_version": "1.2.0",
          "state": {
            "_model_module": "@jupyter-widgets/base",
            "_model_module_version": "1.2.0",
            "_model_name": "LayoutModel",
            "_view_count": null,
            "_view_module": "@jupyter-widgets/base",
            "_view_module_version": "1.2.0",
            "_view_name": "LayoutView",
            "align_content": null,
            "align_items": null,
            "align_self": null,
            "border": null,
            "bottom": null,
            "display": null,
            "flex": null,
            "flex_flow": null,
            "grid_area": null,
            "grid_auto_columns": null,
            "grid_auto_flow": null,
            "grid_auto_rows": null,
            "grid_column": null,
            "grid_gap": null,
            "grid_row": null,
            "grid_template_areas": null,
            "grid_template_columns": null,
            "grid_template_rows": null,
            "height": null,
            "justify_content": null,
            "justify_items": null,
            "left": null,
            "margin": null,
            "max_height": null,
            "max_width": null,
            "min_height": null,
            "min_width": null,
            "object_fit": null,
            "object_position": null,
            "order": null,
            "overflow": null,
            "overflow_x": null,
            "overflow_y": null,
            "padding": null,
            "right": null,
            "top": null,
            "visibility": null,
            "width": null
          }
        },
        "1f828d1fdfbc483385344b95f82a2cc7": {
          "model_module": "@jupyter-widgets/base",
          "model_name": "LayoutModel",
          "model_module_version": "1.2.0",
          "state": {
            "_model_module": "@jupyter-widgets/base",
            "_model_module_version": "1.2.0",
            "_model_name": "LayoutModel",
            "_view_count": null,
            "_view_module": "@jupyter-widgets/base",
            "_view_module_version": "1.2.0",
            "_view_name": "LayoutView",
            "align_content": null,
            "align_items": null,
            "align_self": null,
            "border": null,
            "bottom": null,
            "display": null,
            "flex": null,
            "flex_flow": null,
            "grid_area": null,
            "grid_auto_columns": null,
            "grid_auto_flow": null,
            "grid_auto_rows": null,
            "grid_column": null,
            "grid_gap": null,
            "grid_row": null,
            "grid_template_areas": null,
            "grid_template_columns": null,
            "grid_template_rows": null,
            "height": null,
            "justify_content": null,
            "justify_items": null,
            "left": null,
            "margin": null,
            "max_height": null,
            "max_width": null,
            "min_height": null,
            "min_width": null,
            "object_fit": null,
            "object_position": null,
            "order": null,
            "overflow": null,
            "overflow_x": null,
            "overflow_y": null,
            "padding": null,
            "right": null,
            "top": null,
            "visibility": null,
            "width": null
          }
        },
        "419dd6b90b074d52b2d1144a132261a5": {
          "model_module": "@jupyter-widgets/controls",
          "model_name": "DescriptionStyleModel",
          "model_module_version": "1.5.0",
          "state": {
            "_model_module": "@jupyter-widgets/controls",
            "_model_module_version": "1.5.0",
            "_model_name": "DescriptionStyleModel",
            "_view_count": null,
            "_view_module": "@jupyter-widgets/base",
            "_view_module_version": "1.2.0",
            "_view_name": "StyleView",
            "description_width": ""
          }
        },
        "050950d1ccc045bfbc1341e52a924af8": {
          "model_module": "@jupyter-widgets/base",
          "model_name": "LayoutModel",
          "model_module_version": "1.2.0",
          "state": {
            "_model_module": "@jupyter-widgets/base",
            "_model_module_version": "1.2.0",
            "_model_name": "LayoutModel",
            "_view_count": null,
            "_view_module": "@jupyter-widgets/base",
            "_view_module_version": "1.2.0",
            "_view_name": "LayoutView",
            "align_content": null,
            "align_items": null,
            "align_self": null,
            "border": null,
            "bottom": null,
            "display": null,
            "flex": null,
            "flex_flow": null,
            "grid_area": null,
            "grid_auto_columns": null,
            "grid_auto_flow": null,
            "grid_auto_rows": null,
            "grid_column": null,
            "grid_gap": null,
            "grid_row": null,
            "grid_template_areas": null,
            "grid_template_columns": null,
            "grid_template_rows": null,
            "height": null,
            "justify_content": null,
            "justify_items": null,
            "left": null,
            "margin": null,
            "max_height": null,
            "max_width": null,
            "min_height": null,
            "min_width": null,
            "object_fit": null,
            "object_position": null,
            "order": null,
            "overflow": null,
            "overflow_x": null,
            "overflow_y": null,
            "padding": null,
            "right": null,
            "top": null,
            "visibility": null,
            "width": null
          }
        },
        "fbd3b05ddfd4460095cc8bc8b02c554a": {
          "model_module": "@jupyter-widgets/controls",
          "model_name": "ProgressStyleModel",
          "model_module_version": "1.5.0",
          "state": {
            "_model_module": "@jupyter-widgets/controls",
            "_model_module_version": "1.5.0",
            "_model_name": "ProgressStyleModel",
            "_view_count": null,
            "_view_module": "@jupyter-widgets/base",
            "_view_module_version": "1.2.0",
            "_view_name": "StyleView",
            "bar_color": null,
            "description_width": ""
          }
        },
        "893bede2cbde434f8289914868fd230f": {
          "model_module": "@jupyter-widgets/base",
          "model_name": "LayoutModel",
          "model_module_version": "1.2.0",
          "state": {
            "_model_module": "@jupyter-widgets/base",
            "_model_module_version": "1.2.0",
            "_model_name": "LayoutModel",
            "_view_count": null,
            "_view_module": "@jupyter-widgets/base",
            "_view_module_version": "1.2.0",
            "_view_name": "LayoutView",
            "align_content": null,
            "align_items": null,
            "align_self": null,
            "border": null,
            "bottom": null,
            "display": null,
            "flex": null,
            "flex_flow": null,
            "grid_area": null,
            "grid_auto_columns": null,
            "grid_auto_flow": null,
            "grid_auto_rows": null,
            "grid_column": null,
            "grid_gap": null,
            "grid_row": null,
            "grid_template_areas": null,
            "grid_template_columns": null,
            "grid_template_rows": null,
            "height": null,
            "justify_content": null,
            "justify_items": null,
            "left": null,
            "margin": null,
            "max_height": null,
            "max_width": null,
            "min_height": null,
            "min_width": null,
            "object_fit": null,
            "object_position": null,
            "order": null,
            "overflow": null,
            "overflow_x": null,
            "overflow_y": null,
            "padding": null,
            "right": null,
            "top": null,
            "visibility": null,
            "width": null
          }
        },
        "a7d435df0fda4d7f8bd8213c9d9f187b": {
          "model_module": "@jupyter-widgets/controls",
          "model_name": "DescriptionStyleModel",
          "model_module_version": "1.5.0",
          "state": {
            "_model_module": "@jupyter-widgets/controls",
            "_model_module_version": "1.5.0",
            "_model_name": "DescriptionStyleModel",
            "_view_count": null,
            "_view_module": "@jupyter-widgets/base",
            "_view_module_version": "1.2.0",
            "_view_name": "StyleView",
            "description_width": ""
          }
        },
        "65007215bc7c4f24ac568ce4fd015dae": {
          "model_module": "@jupyter-widgets/controls",
          "model_name": "HBoxModel",
          "model_module_version": "1.5.0",
          "state": {
            "_dom_classes": [],
            "_model_module": "@jupyter-widgets/controls",
            "_model_module_version": "1.5.0",
            "_model_name": "HBoxModel",
            "_view_count": null,
            "_view_module": "@jupyter-widgets/controls",
            "_view_module_version": "1.5.0",
            "_view_name": "HBoxView",
            "box_style": "",
            "children": [
              "IPY_MODEL_abd013f850a643e39c5c5d993cf65f82",
              "IPY_MODEL_981c38e3d96d492690d89709f0beb026",
              "IPY_MODEL_9d2fe9e7a15148edaf5aad7df66e3486"
            ],
            "layout": "IPY_MODEL_a78d8426b5a54e4a88c82551b3c4ba98"
          }
        },
        "abd013f850a643e39c5c5d993cf65f82": {
          "model_module": "@jupyter-widgets/controls",
          "model_name": "HTMLModel",
          "model_module_version": "1.5.0",
          "state": {
            "_dom_classes": [],
            "_model_module": "@jupyter-widgets/controls",
            "_model_module_version": "1.5.0",
            "_model_name": "HTMLModel",
            "_view_count": null,
            "_view_module": "@jupyter-widgets/controls",
            "_view_module_version": "1.5.0",
            "_view_name": "HTMLView",
            "description": "",
            "description_tooltip": null,
            "layout": "IPY_MODEL_c7ec87002ac54a45a4643e5203cf5c20",
            "placeholder": "​",
            "style": "IPY_MODEL_76b3b95ff18e43baa55e5818cbc6715c",
            "value": "config.json: 100%"
          }
        },
        "981c38e3d96d492690d89709f0beb026": {
          "model_module": "@jupyter-widgets/controls",
          "model_name": "FloatProgressModel",
          "model_module_version": "1.5.0",
          "state": {
            "_dom_classes": [],
            "_model_module": "@jupyter-widgets/controls",
            "_model_module_version": "1.5.0",
            "_model_name": "FloatProgressModel",
            "_view_count": null,
            "_view_module": "@jupyter-widgets/controls",
            "_view_module_version": "1.5.0",
            "_view_name": "ProgressView",
            "bar_style": "success",
            "description": "",
            "description_tooltip": null,
            "layout": "IPY_MODEL_01156410a552434695811dd725a805f6",
            "max": 462,
            "min": 0,
            "orientation": "horizontal",
            "style": "IPY_MODEL_21de495b1b504a8daf8a7902a445233e",
            "value": 462
          }
        },
        "9d2fe9e7a15148edaf5aad7df66e3486": {
          "model_module": "@jupyter-widgets/controls",
          "model_name": "HTMLModel",
          "model_module_version": "1.5.0",
          "state": {
            "_dom_classes": [],
            "_model_module": "@jupyter-widgets/controls",
            "_model_module_version": "1.5.0",
            "_model_name": "HTMLModel",
            "_view_count": null,
            "_view_module": "@jupyter-widgets/controls",
            "_view_module_version": "1.5.0",
            "_view_name": "HTMLView",
            "description": "",
            "description_tooltip": null,
            "layout": "IPY_MODEL_b6890653e8f34414b6c6c2bbdd3d4280",
            "placeholder": "​",
            "style": "IPY_MODEL_c63b074d32b64f7aa132bb9588c70fec",
            "value": " 462/462 [00:00&lt;00:00, 5.97kB/s]"
          }
        },
        "a78d8426b5a54e4a88c82551b3c4ba98": {
          "model_module": "@jupyter-widgets/base",
          "model_name": "LayoutModel",
          "model_module_version": "1.2.0",
          "state": {
            "_model_module": "@jupyter-widgets/base",
            "_model_module_version": "1.2.0",
            "_model_name": "LayoutModel",
            "_view_count": null,
            "_view_module": "@jupyter-widgets/base",
            "_view_module_version": "1.2.0",
            "_view_name": "LayoutView",
            "align_content": null,
            "align_items": null,
            "align_self": null,
            "border": null,
            "bottom": null,
            "display": null,
            "flex": null,
            "flex_flow": null,
            "grid_area": null,
            "grid_auto_columns": null,
            "grid_auto_flow": null,
            "grid_auto_rows": null,
            "grid_column": null,
            "grid_gap": null,
            "grid_row": null,
            "grid_template_areas": null,
            "grid_template_columns": null,
            "grid_template_rows": null,
            "height": null,
            "justify_content": null,
            "justify_items": null,
            "left": null,
            "margin": null,
            "max_height": null,
            "max_width": null,
            "min_height": null,
            "min_width": null,
            "object_fit": null,
            "object_position": null,
            "order": null,
            "overflow": null,
            "overflow_x": null,
            "overflow_y": null,
            "padding": null,
            "right": null,
            "top": null,
            "visibility": null,
            "width": null
          }
        },
        "c7ec87002ac54a45a4643e5203cf5c20": {
          "model_module": "@jupyter-widgets/base",
          "model_name": "LayoutModel",
          "model_module_version": "1.2.0",
          "state": {
            "_model_module": "@jupyter-widgets/base",
            "_model_module_version": "1.2.0",
            "_model_name": "LayoutModel",
            "_view_count": null,
            "_view_module": "@jupyter-widgets/base",
            "_view_module_version": "1.2.0",
            "_view_name": "LayoutView",
            "align_content": null,
            "align_items": null,
            "align_self": null,
            "border": null,
            "bottom": null,
            "display": null,
            "flex": null,
            "flex_flow": null,
            "grid_area": null,
            "grid_auto_columns": null,
            "grid_auto_flow": null,
            "grid_auto_rows": null,
            "grid_column": null,
            "grid_gap": null,
            "grid_row": null,
            "grid_template_areas": null,
            "grid_template_columns": null,
            "grid_template_rows": null,
            "height": null,
            "justify_content": null,
            "justify_items": null,
            "left": null,
            "margin": null,
            "max_height": null,
            "max_width": null,
            "min_height": null,
            "min_width": null,
            "object_fit": null,
            "object_position": null,
            "order": null,
            "overflow": null,
            "overflow_x": null,
            "overflow_y": null,
            "padding": null,
            "right": null,
            "top": null,
            "visibility": null,
            "width": null
          }
        },
        "76b3b95ff18e43baa55e5818cbc6715c": {
          "model_module": "@jupyter-widgets/controls",
          "model_name": "DescriptionStyleModel",
          "model_module_version": "1.5.0",
          "state": {
            "_model_module": "@jupyter-widgets/controls",
            "_model_module_version": "1.5.0",
            "_model_name": "DescriptionStyleModel",
            "_view_count": null,
            "_view_module": "@jupyter-widgets/base",
            "_view_module_version": "1.2.0",
            "_view_name": "StyleView",
            "description_width": ""
          }
        },
        "01156410a552434695811dd725a805f6": {
          "model_module": "@jupyter-widgets/base",
          "model_name": "LayoutModel",
          "model_module_version": "1.2.0",
          "state": {
            "_model_module": "@jupyter-widgets/base",
            "_model_module_version": "1.2.0",
            "_model_name": "LayoutModel",
            "_view_count": null,
            "_view_module": "@jupyter-widgets/base",
            "_view_module_version": "1.2.0",
            "_view_name": "LayoutView",
            "align_content": null,
            "align_items": null,
            "align_self": null,
            "border": null,
            "bottom": null,
            "display": null,
            "flex": null,
            "flex_flow": null,
            "grid_area": null,
            "grid_auto_columns": null,
            "grid_auto_flow": null,
            "grid_auto_rows": null,
            "grid_column": null,
            "grid_gap": null,
            "grid_row": null,
            "grid_template_areas": null,
            "grid_template_columns": null,
            "grid_template_rows": null,
            "height": null,
            "justify_content": null,
            "justify_items": null,
            "left": null,
            "margin": null,
            "max_height": null,
            "max_width": null,
            "min_height": null,
            "min_width": null,
            "object_fit": null,
            "object_position": null,
            "order": null,
            "overflow": null,
            "overflow_x": null,
            "overflow_y": null,
            "padding": null,
            "right": null,
            "top": null,
            "visibility": null,
            "width": null
          }
        },
        "21de495b1b504a8daf8a7902a445233e": {
          "model_module": "@jupyter-widgets/controls",
          "model_name": "ProgressStyleModel",
          "model_module_version": "1.5.0",
          "state": {
            "_model_module": "@jupyter-widgets/controls",
            "_model_module_version": "1.5.0",
            "_model_name": "ProgressStyleModel",
            "_view_count": null,
            "_view_module": "@jupyter-widgets/base",
            "_view_module_version": "1.2.0",
            "_view_name": "StyleView",
            "bar_color": null,
            "description_width": ""
          }
        },
        "b6890653e8f34414b6c6c2bbdd3d4280": {
          "model_module": "@jupyter-widgets/base",
          "model_name": "LayoutModel",
          "model_module_version": "1.2.0",
          "state": {
            "_model_module": "@jupyter-widgets/base",
            "_model_module_version": "1.2.0",
            "_model_name": "LayoutModel",
            "_view_count": null,
            "_view_module": "@jupyter-widgets/base",
            "_view_module_version": "1.2.0",
            "_view_name": "LayoutView",
            "align_content": null,
            "align_items": null,
            "align_self": null,
            "border": null,
            "bottom": null,
            "display": null,
            "flex": null,
            "flex_flow": null,
            "grid_area": null,
            "grid_auto_columns": null,
            "grid_auto_flow": null,
            "grid_auto_rows": null,
            "grid_column": null,
            "grid_gap": null,
            "grid_row": null,
            "grid_template_areas": null,
            "grid_template_columns": null,
            "grid_template_rows": null,
            "height": null,
            "justify_content": null,
            "justify_items": null,
            "left": null,
            "margin": null,
            "max_height": null,
            "max_width": null,
            "min_height": null,
            "min_width": null,
            "object_fit": null,
            "object_position": null,
            "order": null,
            "overflow": null,
            "overflow_x": null,
            "overflow_y": null,
            "padding": null,
            "right": null,
            "top": null,
            "visibility": null,
            "width": null
          }
        },
        "c63b074d32b64f7aa132bb9588c70fec": {
          "model_module": "@jupyter-widgets/controls",
          "model_name": "DescriptionStyleModel",
          "model_module_version": "1.5.0",
          "state": {
            "_model_module": "@jupyter-widgets/controls",
            "_model_module_version": "1.5.0",
            "_model_name": "DescriptionStyleModel",
            "_view_count": null,
            "_view_module": "@jupyter-widgets/base",
            "_view_module_version": "1.2.0",
            "_view_name": "StyleView",
            "description_width": ""
          }
        },
        "599ff67a66c046ea80926a9f897daa2b": {
          "model_module": "@jupyter-widgets/controls",
          "model_name": "HBoxModel",
          "model_module_version": "1.5.0",
          "state": {
            "_dom_classes": [],
            "_model_module": "@jupyter-widgets/controls",
            "_model_module_version": "1.5.0",
            "_model_name": "HBoxModel",
            "_view_count": null,
            "_view_module": "@jupyter-widgets/controls",
            "_view_module_version": "1.5.0",
            "_view_name": "HBoxView",
            "box_style": "",
            "children": [
              "IPY_MODEL_4f1648d7dedf4c88a5312fb907d4eb20",
              "IPY_MODEL_aae388937f7b46b496f8ad746cb3a82c",
              "IPY_MODEL_6fd2eb4972e14e6791d2b8bb547d7028"
            ],
            "layout": "IPY_MODEL_6b8cc561e71444fe8eb185128df5232c"
          }
        },
        "4f1648d7dedf4c88a5312fb907d4eb20": {
          "model_module": "@jupyter-widgets/controls",
          "model_name": "HTMLModel",
          "model_module_version": "1.5.0",
          "state": {
            "_dom_classes": [],
            "_model_module": "@jupyter-widgets/controls",
            "_model_module_version": "1.5.0",
            "_model_name": "HTMLModel",
            "_view_count": null,
            "_view_module": "@jupyter-widgets/controls",
            "_view_module_version": "1.5.0",
            "_view_name": "HTMLView",
            "description": "",
            "description_tooltip": null,
            "layout": "IPY_MODEL_d8ab9baef80b473db36e51476747ba2b",
            "placeholder": "​",
            "style": "IPY_MODEL_2e8ad80cee064a13b6ee9432879da9fc",
            "value": "pytorch_model.bin: 100%"
          }
        },
        "aae388937f7b46b496f8ad746cb3a82c": {
          "model_module": "@jupyter-widgets/controls",
          "model_name": "FloatProgressModel",
          "model_module_version": "1.5.0",
          "state": {
            "_dom_classes": [],
            "_model_module": "@jupyter-widgets/controls",
            "_model_module_version": "1.5.0",
            "_model_name": "FloatProgressModel",
            "_view_count": null,
            "_view_module": "@jupyter-widgets/controls",
            "_view_module_version": "1.5.0",
            "_view_name": "ProgressView",
            "bar_style": "success",
            "description": "",
            "description_tooltip": null,
            "layout": "IPY_MODEL_38d83d9d465e46ceb5cfe08e4aa19190",
            "max": 433286112,
            "min": 0,
            "orientation": "horizontal",
            "style": "IPY_MODEL_85abfbf229cc40f4a3f6cdd1611f6013",
            "value": 433286112
          }
        },
        "6fd2eb4972e14e6791d2b8bb547d7028": {
          "model_module": "@jupyter-widgets/controls",
          "model_name": "HTMLModel",
          "model_module_version": "1.5.0",
          "state": {
            "_dom_classes": [],
            "_model_module": "@jupyter-widgets/controls",
            "_model_module_version": "1.5.0",
            "_model_name": "HTMLModel",
            "_view_count": null,
            "_view_module": "@jupyter-widgets/controls",
            "_view_module_version": "1.5.0",
            "_view_name": "HTMLView",
            "description": "",
            "description_tooltip": null,
            "layout": "IPY_MODEL_e223e108258744a5927eef51fc3a3a8f",
            "placeholder": "​",
            "style": "IPY_MODEL_59fd07040dc44bbe8c30526423efc538",
            "value": " 433M/433M [00:19&lt;00:00, 21.5MB/s]"
          }
        },
        "6b8cc561e71444fe8eb185128df5232c": {
          "model_module": "@jupyter-widgets/base",
          "model_name": "LayoutModel",
          "model_module_version": "1.2.0",
          "state": {
            "_model_module": "@jupyter-widgets/base",
            "_model_module_version": "1.2.0",
            "_model_name": "LayoutModel",
            "_view_count": null,
            "_view_module": "@jupyter-widgets/base",
            "_view_module_version": "1.2.0",
            "_view_name": "LayoutView",
            "align_content": null,
            "align_items": null,
            "align_self": null,
            "border": null,
            "bottom": null,
            "display": null,
            "flex": null,
            "flex_flow": null,
            "grid_area": null,
            "grid_auto_columns": null,
            "grid_auto_flow": null,
            "grid_auto_rows": null,
            "grid_column": null,
            "grid_gap": null,
            "grid_row": null,
            "grid_template_areas": null,
            "grid_template_columns": null,
            "grid_template_rows": null,
            "height": null,
            "justify_content": null,
            "justify_items": null,
            "left": null,
            "margin": null,
            "max_height": null,
            "max_width": null,
            "min_height": null,
            "min_width": null,
            "object_fit": null,
            "object_position": null,
            "order": null,
            "overflow": null,
            "overflow_x": null,
            "overflow_y": null,
            "padding": null,
            "right": null,
            "top": null,
            "visibility": null,
            "width": null
          }
        },
        "d8ab9baef80b473db36e51476747ba2b": {
          "model_module": "@jupyter-widgets/base",
          "model_name": "LayoutModel",
          "model_module_version": "1.2.0",
          "state": {
            "_model_module": "@jupyter-widgets/base",
            "_model_module_version": "1.2.0",
            "_model_name": "LayoutModel",
            "_view_count": null,
            "_view_module": "@jupyter-widgets/base",
            "_view_module_version": "1.2.0",
            "_view_name": "LayoutView",
            "align_content": null,
            "align_items": null,
            "align_self": null,
            "border": null,
            "bottom": null,
            "display": null,
            "flex": null,
            "flex_flow": null,
            "grid_area": null,
            "grid_auto_columns": null,
            "grid_auto_flow": null,
            "grid_auto_rows": null,
            "grid_column": null,
            "grid_gap": null,
            "grid_row": null,
            "grid_template_areas": null,
            "grid_template_columns": null,
            "grid_template_rows": null,
            "height": null,
            "justify_content": null,
            "justify_items": null,
            "left": null,
            "margin": null,
            "max_height": null,
            "max_width": null,
            "min_height": null,
            "min_width": null,
            "object_fit": null,
            "object_position": null,
            "order": null,
            "overflow": null,
            "overflow_x": null,
            "overflow_y": null,
            "padding": null,
            "right": null,
            "top": null,
            "visibility": null,
            "width": null
          }
        },
        "2e8ad80cee064a13b6ee9432879da9fc": {
          "model_module": "@jupyter-widgets/controls",
          "model_name": "DescriptionStyleModel",
          "model_module_version": "1.5.0",
          "state": {
            "_model_module": "@jupyter-widgets/controls",
            "_model_module_version": "1.5.0",
            "_model_name": "DescriptionStyleModel",
            "_view_count": null,
            "_view_module": "@jupyter-widgets/base",
            "_view_module_version": "1.2.0",
            "_view_name": "StyleView",
            "description_width": ""
          }
        },
        "38d83d9d465e46ceb5cfe08e4aa19190": {
          "model_module": "@jupyter-widgets/base",
          "model_name": "LayoutModel",
          "model_module_version": "1.2.0",
          "state": {
            "_model_module": "@jupyter-widgets/base",
            "_model_module_version": "1.2.0",
            "_model_name": "LayoutModel",
            "_view_count": null,
            "_view_module": "@jupyter-widgets/base",
            "_view_module_version": "1.2.0",
            "_view_name": "LayoutView",
            "align_content": null,
            "align_items": null,
            "align_self": null,
            "border": null,
            "bottom": null,
            "display": null,
            "flex": null,
            "flex_flow": null,
            "grid_area": null,
            "grid_auto_columns": null,
            "grid_auto_flow": null,
            "grid_auto_rows": null,
            "grid_column": null,
            "grid_gap": null,
            "grid_row": null,
            "grid_template_areas": null,
            "grid_template_columns": null,
            "grid_template_rows": null,
            "height": null,
            "justify_content": null,
            "justify_items": null,
            "left": null,
            "margin": null,
            "max_height": null,
            "max_width": null,
            "min_height": null,
            "min_width": null,
            "object_fit": null,
            "object_position": null,
            "order": null,
            "overflow": null,
            "overflow_x": null,
            "overflow_y": null,
            "padding": null,
            "right": null,
            "top": null,
            "visibility": null,
            "width": null
          }
        },
        "85abfbf229cc40f4a3f6cdd1611f6013": {
          "model_module": "@jupyter-widgets/controls",
          "model_name": "ProgressStyleModel",
          "model_module_version": "1.5.0",
          "state": {
            "_model_module": "@jupyter-widgets/controls",
            "_model_module_version": "1.5.0",
            "_model_name": "ProgressStyleModel",
            "_view_count": null,
            "_view_module": "@jupyter-widgets/base",
            "_view_module_version": "1.2.0",
            "_view_name": "StyleView",
            "bar_color": null,
            "description_width": ""
          }
        },
        "e223e108258744a5927eef51fc3a3a8f": {
          "model_module": "@jupyter-widgets/base",
          "model_name": "LayoutModel",
          "model_module_version": "1.2.0",
          "state": {
            "_model_module": "@jupyter-widgets/base",
            "_model_module_version": "1.2.0",
            "_model_name": "LayoutModel",
            "_view_count": null,
            "_view_module": "@jupyter-widgets/base",
            "_view_module_version": "1.2.0",
            "_view_name": "LayoutView",
            "align_content": null,
            "align_items": null,
            "align_self": null,
            "border": null,
            "bottom": null,
            "display": null,
            "flex": null,
            "flex_flow": null,
            "grid_area": null,
            "grid_auto_columns": null,
            "grid_auto_flow": null,
            "grid_auto_rows": null,
            "grid_column": null,
            "grid_gap": null,
            "grid_row": null,
            "grid_template_areas": null,
            "grid_template_columns": null,
            "grid_template_rows": null,
            "height": null,
            "justify_content": null,
            "justify_items": null,
            "left": null,
            "margin": null,
            "max_height": null,
            "max_width": null,
            "min_height": null,
            "min_width": null,
            "object_fit": null,
            "object_position": null,
            "order": null,
            "overflow": null,
            "overflow_x": null,
            "overflow_y": null,
            "padding": null,
            "right": null,
            "top": null,
            "visibility": null,
            "width": null
          }
        },
        "59fd07040dc44bbe8c30526423efc538": {
          "model_module": "@jupyter-widgets/controls",
          "model_name": "DescriptionStyleModel",
          "model_module_version": "1.5.0",
          "state": {
            "_model_module": "@jupyter-widgets/controls",
            "_model_module_version": "1.5.0",
            "_model_name": "DescriptionStyleModel",
            "_view_count": null,
            "_view_module": "@jupyter-widgets/base",
            "_view_module_version": "1.2.0",
            "_view_name": "StyleView",
            "description_width": ""
          }
        }
      }
    }
  },
  "nbformat": 4,
  "nbformat_minor": 0
}